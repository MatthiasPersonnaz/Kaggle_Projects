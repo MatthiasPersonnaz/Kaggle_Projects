{
 "cells": [
  {
   "cell_type": "markdown",
   "id": "3e2f0976",
   "metadata": {},
   "source": [
    "# Importer les données"
   ]
  },
  {
   "cell_type": "code",
   "execution_count": null,
   "id": "7418a9f7",
   "metadata": {},
   "outputs": [
    {
     "name": "stdout",
     "output_type": "stream",
     "text": [
      "Downloading digit-recognizer.zip to C:\\Users\\matth\\MNIST Digits\n",
      "\n"
     ]
    },
    {
     "name": "stderr",
     "output_type": "stream",
     "text": [
      "\n",
      "  0%|          | 0.00/15.3M [00:00<?, ?B/s]\n",
      " 13%|#3        | 2.00M/15.3M [00:00<00:01, 10.8MB/s]\n",
      " 33%|###2      | 5.00M/15.3M [00:00<00:00, 16.4MB/s]\n",
      " 46%|####5     | 7.00M/15.3M [00:00<00:00, 14.3MB/s]\n",
      " 59%|#####8    | 9.00M/15.3M [00:00<00:00, 13.4MB/s]\n",
      " 72%|#######1  | 11.0M/15.3M [00:00<00:00, 12.9MB/s]\n",
      " 85%|########4 | 13.0M/15.3M [00:01<00:00, 12.6MB/s]\n",
      " 98%|#########7| 15.0M/15.3M [00:01<00:00, 11.6MB/s]\n",
      "100%|##########| 15.3M/15.3M [00:01<00:00, 12.7MB/s]\n"
     ]
    }
   ],
   "source": [
    "!kaggle competitions download -c digit-recognizer"
   ]
  },
  {
   "cell_type": "code",
   "execution_count": 3,
   "id": "508f8572-2fd3-4632-8f87-fcbd889c27f9",
   "metadata": {},
   "outputs": [],
   "source": [
    "!tar  -xf digit-recognizer.zip"
   ]
  }
 ],
 "metadata": {
  "kernelspec": {
   "display_name": "Python 3",
   "language": "python",
   "name": "python3"
  },
  "language_info": {
   "codemirror_mode": {
    "name": "ipython",
    "version": 3
   },
   "file_extension": ".py",
   "mimetype": "text/x-python",
   "name": "python",
   "nbconvert_exporter": "python",
   "pygments_lexer": "ipython3",
   "version": "3.9.15"
  }
 },
 "nbformat": 4,
 "nbformat_minor": 5
}
