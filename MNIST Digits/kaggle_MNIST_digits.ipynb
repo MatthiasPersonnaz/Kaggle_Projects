{
 "cells": [
  {
   "attachments": {},
   "cell_type": "markdown",
   "id": "3e2f0976",
   "metadata": {},
   "source": [
    "# Reconnaissance des chiffres de MNIST en suivant le tutoriel du site de Tensorflow"
   ]
  },
  {
   "cell_type": "code",
   "execution_count": 1,
   "id": "b0fcbe4b-65d0-45da-9fda-7cba237305bc",
   "metadata": {},
   "outputs": [
    {
     "name": "stderr",
     "output_type": "stream",
     "text": [
      "2023-05-14 11:49:15.001673: I tensorflow/stream_executor/platform/default/dso_loader.cc:49] Successfully opened dynamic library libcudart.so.10.1\n"
     ]
    },
    {
     "name": "stdout",
     "output_type": "stream",
     "text": [
      "TensorFlow version: 2.4.1\n",
      "# GPUs Available:  1\n"
     ]
    },
    {
     "name": "stderr",
     "output_type": "stream",
     "text": [
      "2023-05-14 11:49:16.114711: I tensorflow/compiler/jit/xla_cpu_device.cc:41] Not creating XLA devices, tf_xla_enable_xla_devices not set\n",
      "2023-05-14 11:49:16.115300: I tensorflow/stream_executor/platform/default/dso_loader.cc:49] Successfully opened dynamic library libcuda.so.1\n",
      "2023-05-14 11:49:16.128692: I tensorflow/stream_executor/cuda/cuda_gpu_executor.cc:941] successful NUMA node read from SysFS had negative value (-1), but there must be at least one NUMA node, so returning NUMA node zero\n",
      "2023-05-14 11:49:16.128966: I tensorflow/core/common_runtime/gpu/gpu_device.cc:1720] Found device 0 with properties: \n",
      "pciBusID: 0000:01:00.0 name: NVIDIA GeForce GTX 1650 with Max-Q Design computeCapability: 7.5\n",
      "coreClock: 1.155GHz coreCount: 14 deviceMemorySize: 3.81GiB deviceMemoryBandwidth: 149.04GiB/s\n",
      "2023-05-14 11:49:16.128992: I tensorflow/stream_executor/platform/default/dso_loader.cc:49] Successfully opened dynamic library libcudart.so.10.1\n",
      "2023-05-14 11:49:16.130612: I tensorflow/stream_executor/platform/default/dso_loader.cc:49] Successfully opened dynamic library libcublas.so.10\n",
      "2023-05-14 11:49:16.130665: I tensorflow/stream_executor/platform/default/dso_loader.cc:49] Successfully opened dynamic library libcublasLt.so.10\n",
      "2023-05-14 11:49:16.132546: I tensorflow/stream_executor/platform/default/dso_loader.cc:49] Successfully opened dynamic library libcufft.so.10\n",
      "2023-05-14 11:49:16.132794: I tensorflow/stream_executor/platform/default/dso_loader.cc:49] Successfully opened dynamic library libcurand.so.10\n",
      "2023-05-14 11:49:16.134331: I tensorflow/stream_executor/platform/default/dso_loader.cc:49] Successfully opened dynamic library libcusolver.so.10\n",
      "2023-05-14 11:49:16.135012: I tensorflow/stream_executor/platform/default/dso_loader.cc:49] Successfully opened dynamic library libcusparse.so.10\n",
      "2023-05-14 11:49:16.139726: I tensorflow/stream_executor/platform/default/dso_loader.cc:49] Successfully opened dynamic library libcudnn.so.7\n",
      "2023-05-14 11:49:16.140059: I tensorflow/stream_executor/cuda/cuda_gpu_executor.cc:941] successful NUMA node read from SysFS had negative value (-1), but there must be at least one NUMA node, so returning NUMA node zero\n",
      "2023-05-14 11:49:16.140446: I tensorflow/stream_executor/cuda/cuda_gpu_executor.cc:941] successful NUMA node read from SysFS had negative value (-1), but there must be at least one NUMA node, so returning NUMA node zero\n",
      "2023-05-14 11:49:16.140546: I tensorflow/core/common_runtime/gpu/gpu_device.cc:1862] Adding visible gpu devices: 0\n"
     ]
    }
   ],
   "source": [
    "import tensorflow as tf\n",
    "import numpy as np\n",
    "print(\"TensorFlow version:\", tf.__version__)\n",
    "physical_devices = tf.config.experimental.list_physical_devices('GPU')\n",
    "print(\"# GPUs Available: \", len(physical_devices))\n",
    "if len(physical_devices) > 0:\n",
    "   tf.config.experimental.set_memory_growth(physical_devices[0], True)"
   ]
  },
  {
   "cell_type": "code",
   "execution_count": 6,
   "id": "7418a9f7",
   "metadata": {},
   "outputs": [
    {
     "name": "stdout",
     "output_type": "stream",
     "text": [
      "Downloading digit-recognizer.zip to /home/matthias/Documents/GitHub/Kaggle_Projects/MNIST Digits\n",
      " 78%|█████████████████████████████▊        | 12.0M/15.3M [00:00<00:00, 42.5MB/s]\n",
      "100%|██████████████████████████████████████| 15.3M/15.3M [00:00<00:00, 37.9MB/s]\n"
     ]
    }
   ],
   "source": [
    "!kaggle competitions download -c digit-recognizer"
   ]
  },
  {
   "cell_type": "code",
   "execution_count": 3,
   "id": "508f8572-2fd3-4632-8f87-fcbd889c27f9",
   "metadata": {},
   "outputs": [],
   "source": [
    "!tar  -xf digit-recognizer.zip"
   ]
  },
  {
   "attachments": {},
   "cell_type": "markdown",
   "id": "154aa204",
   "metadata": {},
   "source": [
    "Importer avec les fichiers du site de Yann Le Cun directement (fonction de ChatGPT)"
   ]
  },
  {
   "cell_type": "code",
   "execution_count": 2,
   "id": "6e1e4df6",
   "metadata": {},
   "outputs": [],
   "source": [
    "import gzip\n",
    "\n",
    "def read_idx(filename):\n",
    "    with gzip.open(filename, 'rb') as f:\n",
    "        magic_number = int.from_bytes(f.read(4), byteorder='big')\n",
    "        data_type = ''\n",
    "        if magic_number == 2051:\n",
    "            data_type = 'images'\n",
    "        elif magic_number == 2049:\n",
    "            data_type = 'labels'\n",
    "        else:\n",
    "            print(\"Invalid magic number!\")\n",
    "            return None\n",
    "        num_items = int.from_bytes(f.read(4), byteorder='big')\n",
    "        if data_type == 'images':\n",
    "            num_rows = int.from_bytes(f.read(4), byteorder='big')\n",
    "            num_cols = int.from_bytes(f.read(4), byteorder='big')\n",
    "            data = np.frombuffer(f.read(), dtype=np.uint8)\n",
    "            data = data.reshape((num_items, num_rows * num_cols))\n",
    "        else:\n",
    "            data = np.frombuffer(f.read(), dtype=np.uint8)\n",
    "        return data\n",
    "\n",
    "# Read the MNIST training data\n",
    "x_train = read_idx('train-images-idx3-ubyte.gz')\n",
    "y_train = read_idx('train-labels-idx1-ubyte.gz')\n",
    "x_test = read_idx('t10k-images-idx3-ubyte.gz')\n",
    "y_test = read_idx('t10k-labels-idx1-ubyte.gz')\n",
    "\n",
    "# Convert to numpy arrays\n",
    "x_train = np.array(x_train, dtype=np.float32) \n",
    "y_train = np.array(y_train, dtype=np.int64)\n",
    "\n",
    "x_test = np.array(x_test, dtype=np.float32)\n",
    "y_test = np.array(y_test, dtype=np.int64)\n",
    "\n",
    "\n",
    "# reshape and rescale\n",
    "x_train = x_train.reshape((-1, 28, 28)) / 255.0\n",
    "x_test  = x_test.reshape((-1, 28, 28))  / 255.0"
   ]
  },
  {
   "attachments": {},
   "cell_type": "markdown",
   "id": "22cec77f",
   "metadata": {},
   "source": [
    "Ou bien importer avec l'API de Keras"
   ]
  },
  {
   "cell_type": "code",
   "execution_count": 7,
   "id": "f0e22895-c052-4f7f-9943-bab79c58553b",
   "metadata": {},
   "outputs": [],
   "source": [
    "(x_train, y_train), (x_test, y_test) = tf.keras.datasets.mnist.load_data()\n",
    "assert x_train.shape == (60000, 28, 28)\n",
    "assert x_test.shape == (10000, 28, 28)\n",
    "assert y_train.shape == (60000,)\n",
    "assert y_test.shape == (10000,)\n",
    "\n",
    "x_train = x_train / 255.0\n",
    "x_test = x_test / 255.0"
   ]
  },
  {
   "cell_type": "code",
   "execution_count": 8,
   "id": "a5bddee2",
   "metadata": {},
   "outputs": [
    {
     "name": "stdout",
     "output_type": "stream",
     "text": [
      "Number of original training examples: 60000\n",
      "Number of original test examples: 10000\n"
     ]
    }
   ],
   "source": [
    "print(\"Number of original training examples:\", len(x_train))\n",
    "print(\"Number of original test examples:\", len(x_test))"
   ]
  },
  {
   "cell_type": "code",
   "execution_count": 9,
   "id": "5b947237",
   "metadata": {},
   "outputs": [],
   "source": [
    "import tensorflow as tf\n",
    "physical_devices = tf.config.list_physical_devices('GPU') \n",
    "    \n",
    "    \n",
    "from keras.models import Sequential\n",
    "from keras.layers import Dense, Activation, Dropout\n",
    "from keras.utils import to_categorical, plot_model"
   ]
  },
  {
   "cell_type": "code",
   "execution_count": 10,
   "id": "12295db1",
   "metadata": {},
   "outputs": [
    {
     "data": {
      "text/plain": [
       "<matplotlib.image.AxesImage at 0x7f0a66ec62e0>"
      ]
     },
     "execution_count": 10,
     "metadata": {},
     "output_type": "execute_result"
    },
    {
     "data": {
      "image/png": "[encoded data removed]",
      "text/plain": [
       "<Figure size 640x480 with 1 Axes>"
      ]
     },
     "metadata": {},
     "output_type": "display_data"
    }
   ],
   "source": [
    "import matplotlib.pyplot as plt\n",
    "\n",
    "plt.imshow(x_train[0], cmap='Greys_r')"
   ]
  },
  {
   "cell_type": "code",
   "execution_count": 11,
   "id": "67c683cb",
   "metadata": {},
   "outputs": [],
   "source": [
    "model = tf.keras.models.Sequential([\n",
    "  tf.keras.layers.Flatten(input_shape=(28, 28)),\n",
    "  tf.keras.layers.Dense(128, activation='relu'),\n",
    "  tf.keras.layers.Dropout(0.1),\n",
    "  tf.keras.layers.Dense(10)\n",
    "])"
   ]
  },
  {
   "cell_type": "code",
   "execution_count": 12,
   "id": "8319cb2e",
   "metadata": {},
   "outputs": [
    {
     "data": {
      "image/png": "[encoded data removed]",
      "text/plain": [
       "<IPython.core.display.Image object>"
      ]
     },
     "execution_count": 12,
     "metadata": {},
     "output_type": "execute_result"
    }
   ],
   "source": [
    "plot_model(model, show_shapes=True)"
   ]
  },
  {
   "cell_type": "code",
   "execution_count": 13,
   "id": "78efbf58",
   "metadata": {},
   "outputs": [],
   "source": [
    "model.compile(\n",
    "    optimizer=tf.keras.optimizers.Adam(0.001), # 'adam'\n",
    "    loss=tf.keras.losses.SparseCategoricalCrossentropy(from_logits=True),\n",
    "    metrics=[tf.keras.metrics.SparseCategoricalAccuracy()], # 'accuracy'\n",
    ")"
   ]
  },
  {
   "cell_type": "code",
   "execution_count": 14,
   "id": "2ce6fed1",
   "metadata": {},
   "outputs": [],
   "source": [
    "predictions = model.predict(x_train[:1])"
   ]
  },
  {
   "cell_type": "code",
   "execution_count": 15,
   "id": "3bd83d46",
   "metadata": {},
   "outputs": [
    {
     "data": {
      "text/plain": [
       "array([[0.06434415, 0.0735589 , 0.14943978, 0.09052154, 0.11391475,\n",
       "        0.08349895, 0.04870129, 0.1497138 , 0.11184924, 0.11445753]],\n",
       "      dtype=float32)"
      ]
     },
     "execution_count": 15,
     "metadata": {},
     "output_type": "execute_result"
    }
   ],
   "source": [
    "tf.nn.softmax(predictions).numpy()"
   ]
  },
  {
   "cell_type": "code",
   "execution_count": 16,
   "id": "3431c6cc",
   "metadata": {},
   "outputs": [
    {
     "name": "stdout",
     "output_type": "stream",
     "text": [
      "Epoch 1/6\n",
      "1875/1875 [==============================] - 2s 935us/step - loss: 0.4548 - sparse_categorical_accuracy: 0.8688\n",
      "Epoch 2/6\n",
      "1875/1875 [==============================] - 2s 915us/step - loss: 0.1385 - sparse_categorical_accuracy: 0.9589\n",
      "Epoch 3/6\n",
      "1875/1875 [==============================] - 2s 943us/step - loss: 0.0964 - sparse_categorical_accuracy: 0.9713\n",
      "Epoch 4/6\n",
      "1875/1875 [==============================] - 2s 932us/step - loss: 0.0715 - sparse_categorical_accuracy: 0.9776\n",
      "Epoch 5/6\n",
      "1875/1875 [==============================] - 2s 955us/step - loss: 0.0582 - sparse_categorical_accuracy: 0.9817\n",
      "Epoch 6/6\n",
      "1875/1875 [==============================] - 2s 940us/step - loss: 0.0476 - sparse_categorical_accuracy: 0.9848\n"
     ]
    },
    {
     "data": {
      "text/plain": [
       "<tensorflow.python.keras.callbacks.History at 0x7f0a6659a8e0>"
      ]
     },
     "execution_count": 16,
     "metadata": {},
     "output_type": "execute_result"
    }
   ],
   "source": [
    "model.fit(x_train, y_train, epochs=6)"
   ]
  },
  {
   "cell_type": "code",
   "execution_count": 9,
   "id": "e9c27cf5",
   "metadata": {},
   "outputs": [
    {
     "name": "stdout",
     "output_type": "stream",
     "text": [
      "313/313 - 0s - loss: 0.0794 - sparse_categorical_accuracy: 0.9759\n"
     ]
    },
    {
     "data": {
      "text/plain": [
       "[0.0794185921549797, 0.9758999943733215]"
      ]
     },
     "execution_count": 9,
     "metadata": {},
     "output_type": "execute_result"
    }
   ],
   "source": [
    "model.evaluate(x_test,  y_test, verbose=2)"
   ]
  },
  {
   "attachments": {},
   "cell_type": "markdown",
   "id": "68d868b2",
   "metadata": {},
   "source": [
    "## Avec un réseau de convolution"
   ]
  },
  {
   "cell_type": "code",
   "execution_count": 2,
   "id": "352b0d1f",
   "metadata": {},
   "outputs": [
    {
     "name": "stdout",
     "output_type": "stream",
     "text": [
      "x_train shape: (60000, 28, 28, 1)\n",
      "60000 train samples\n",
      "10000 test samples\n"
     ]
    }
   ],
   "source": [
    "# Model / data parameters\n",
    "num_classes = 10\n",
    "input_shape = (28, 28, 1)\n",
    "\n",
    "# Load the data and split it between train and test sets\n",
    "(x_train, y_train), (x_test, y_test) = tf.keras.datasets.mnist.load_data()\n",
    "\n",
    "# Scale images to the [0, 1] range\n",
    "x_train = x_train.astype(\"float32\") / 255\n",
    "x_test = x_test.astype(\"float32\") / 255\n",
    "# Make sure images have shape (28, 28, 1)\n",
    "x_train = np.expand_dims(x_train, -1)\n",
    "x_test = np.expand_dims(x_test, -1)\n",
    "print(\"x_train shape:\", x_train.shape)\n",
    "print(x_train.shape[0], \"train samples\")\n",
    "print(x_test.shape[0], \"test samples\")\n",
    "\n",
    "\n",
    "# convert class vectors to binary class matrices\n",
    "y_train = tf.keras.utils.to_categorical(y_train, num_classes)\n",
    "y_test = tf.keras.utils.to_categorical(y_test, num_classes)\n"
   ]
  },
  {
   "cell_type": "code",
   "execution_count": 3,
   "id": "b9b9a7d6",
   "metadata": {},
   "outputs": [
    {
     "name": "stdout",
     "output_type": "stream",
     "text": [
      "Model: \"sequential\"\n",
      "_________________________________________________________________\n",
      "Layer (type)                 Output Shape              Param #   \n",
      "=================================================================\n",
      "conv2d (Conv2D)              (None, 26, 26, 32)        320       \n",
      "_________________________________________________________________\n",
      "max_pooling2d (MaxPooling2D) (None, 13, 13, 32)        0         \n",
      "_________________________________________________________________\n",
      "conv2d_1 (Conv2D)            (None, 11, 11, 64)        18496     \n",
      "_________________________________________________________________\n",
      "max_pooling2d_1 (MaxPooling2 (None, 5, 5, 64)          0         \n",
      "_________________________________________________________________\n",
      "flatten (Flatten)            (None, 1600)              0         \n",
      "_________________________________________________________________\n",
      "dropout (Dropout)            (None, 1600)              0         \n",
      "_________________________________________________________________\n",
      "dense (Dense)                (None, 10)                16010     \n",
      "=================================================================\n",
      "Total params: 34,826\n",
      "Trainable params: 34,826\n",
      "Non-trainable params: 0\n",
      "_________________________________________________________________\n"
     ]
    },
    {
     "name": "stderr",
     "output_type": "stream",
     "text": [
      "2023-05-14 11:49:22.428220: I tensorflow/core/platform/cpu_feature_guard.cc:142] This TensorFlow binary is optimized with oneAPI Deep Neural Network Library (oneDNN) to use the following CPU instructions in performance-critical operations:  SSE4.1 SSE4.2 AVX AVX2 FMA\n",
      "To enable them in other operations, rebuild TensorFlow with the appropriate compiler flags.\n",
      "2023-05-14 11:49:22.428713: I tensorflow/compiler/jit/xla_gpu_device.cc:99] Not creating XLA devices, tf_xla_enable_xla_devices not set\n",
      "2023-05-14 11:49:22.428941: I tensorflow/stream_executor/cuda/cuda_gpu_executor.cc:941] successful NUMA node read from SysFS had negative value (-1), but there must be at least one NUMA node, so returning NUMA node zero\n",
      "2023-05-14 11:49:22.429148: I tensorflow/core/common_runtime/gpu/gpu_device.cc:1720] Found device 0 with properties: \n",
      "pciBusID: 0000:01:00.0 name: NVIDIA GeForce GTX 1650 with Max-Q Design computeCapability: 7.5\n",
      "coreClock: 1.155GHz coreCount: 14 deviceMemorySize: 3.81GiB deviceMemoryBandwidth: 149.04GiB/s\n",
      "2023-05-14 11:49:22.429197: I tensorflow/stream_executor/platform/default/dso_loader.cc:49] Successfully opened dynamic library libcudart.so.10.1\n",
      "2023-05-14 11:49:22.429245: I tensorflow/stream_executor/platform/default/dso_loader.cc:49] Successfully opened dynamic library libcublas.so.10\n",
      "2023-05-14 11:49:22.429256: I tensorflow/stream_executor/platform/default/dso_loader.cc:49] Successfully opened dynamic library libcublasLt.so.10\n",
      "2023-05-14 11:49:22.429266: I tensorflow/stream_executor/platform/default/dso_loader.cc:49] Successfully opened dynamic library libcufft.so.10\n",
      "2023-05-14 11:49:22.429275: I tensorflow/stream_executor/platform/default/dso_loader.cc:49] Successfully opened dynamic library libcurand.so.10\n",
      "2023-05-14 11:49:22.429285: I tensorflow/stream_executor/platform/default/dso_loader.cc:49] Successfully opened dynamic library libcusolver.so.10\n",
      "2023-05-14 11:49:22.429293: I tensorflow/stream_executor/platform/default/dso_loader.cc:49] Successfully opened dynamic library libcusparse.so.10\n",
      "2023-05-14 11:49:22.429316: I tensorflow/stream_executor/platform/default/dso_loader.cc:49] Successfully opened dynamic library libcudnn.so.7\n",
      "2023-05-14 11:49:22.429408: I tensorflow/stream_executor/cuda/cuda_gpu_executor.cc:941] successful NUMA node read from SysFS had negative value (-1), but there must be at least one NUMA node, so returning NUMA node zero\n",
      "2023-05-14 11:49:22.429551: I tensorflow/stream_executor/cuda/cuda_gpu_executor.cc:941] successful NUMA node read from SysFS had negative value (-1), but there must be at least one NUMA node, so returning NUMA node zero\n",
      "2023-05-14 11:49:22.429649: I tensorflow/core/common_runtime/gpu/gpu_device.cc:1862] Adding visible gpu devices: 0\n",
      "2023-05-14 11:49:22.429683: I tensorflow/stream_executor/platform/default/dso_loader.cc:49] Successfully opened dynamic library libcudart.so.10.1\n",
      "2023-05-14 11:49:22.923312: I tensorflow/core/common_runtime/gpu/gpu_device.cc:1261] Device interconnect StreamExecutor with strength 1 edge matrix:\n",
      "2023-05-14 11:49:22.923335: I tensorflow/core/common_runtime/gpu/gpu_device.cc:1267]      0 \n",
      "2023-05-14 11:49:22.923339: I tensorflow/core/common_runtime/gpu/gpu_device.cc:1280] 0:   N \n",
      "2023-05-14 11:49:22.923505: I tensorflow/stream_executor/cuda/cuda_gpu_executor.cc:941] successful NUMA node read from SysFS had negative value (-1), but there must be at least one NUMA node, so returning NUMA node zero\n",
      "2023-05-14 11:49:22.923654: I tensorflow/stream_executor/cuda/cuda_gpu_executor.cc:941] successful NUMA node read from SysFS had negative value (-1), but there must be at least one NUMA node, so returning NUMA node zero\n",
      "2023-05-14 11:49:22.923760: I tensorflow/stream_executor/cuda/cuda_gpu_executor.cc:941] successful NUMA node read from SysFS had negative value (-1), but there must be at least one NUMA node, so returning NUMA node zero\n",
      "2023-05-14 11:49:22.923849: I tensorflow/core/common_runtime/gpu/gpu_device.cc:1406] Created TensorFlow device (/job:localhost/replica:0/task:0/device:GPU:0 with 3400 MB memory) -> physical GPU (device: 0, name: NVIDIA GeForce GTX 1650 with Max-Q Design, pci bus id: 0000:01:00.0, compute capability: 7.5)\n"
     ]
    }
   ],
   "source": [
    "model = tf.keras.Sequential(\n",
    "    [\n",
    "        tf.keras.Input(shape=(28,28,1)),\n",
    "        tf.keras.layers.Conv2D(32, kernel_size=(3, 3), activation=\"relu\"),\n",
    "        tf.keras.layers.MaxPooling2D(pool_size=(2, 2)),\n",
    "        tf.keras.layers.Conv2D(64, kernel_size=(3, 3), activation=\"relu\"),\n",
    "        tf.keras.layers.MaxPooling2D(pool_size=(2, 2)),\n",
    "        tf.keras.layers.Flatten(),\n",
    "        tf.keras.layers.Dropout(0.5),\n",
    "        tf.keras.layers.Dense(10, activation=\"softmax\"),\n",
    "    ]\n",
    ")\n",
    "\n",
    "model.summary()\n"
   ]
  },
  {
   "cell_type": "code",
   "execution_count": 4,
   "id": "b301d746",
   "metadata": {},
   "outputs": [
    {
     "name": "stderr",
     "output_type": "stream",
     "text": [
      "2023-05-14 11:49:23.993670: I tensorflow/compiler/mlir/mlir_graph_optimization_pass.cc:116] None of the MLIR optimization passes are enabled (registered 2)\n",
      "2023-05-14 11:49:23.994571: I tensorflow/core/platform/profile_utils/cpu_utils.cc:112] CPU Frequency: 2499950000 Hz\n"
     ]
    },
    {
     "name": "stdout",
     "output_type": "stream",
     "text": [
      "Epoch 1/15\n"
     ]
    },
    {
     "name": "stderr",
     "output_type": "stream",
     "text": [
      "2023-05-14 11:49:24.335454: I tensorflow/stream_executor/platform/default/dso_loader.cc:49] Successfully opened dynamic library libcublas.so.10\n",
      "2023-05-14 11:49:24.532088: I tensorflow/stream_executor/platform/default/dso_loader.cc:49] Successfully opened dynamic library libcudnn.so.7\n"
     ]
    },
    {
     "name": "stdout",
     "output_type": "stream",
     "text": [
      "422/422 [==============================] - 4s 6ms/step - loss: 0.7803 - accuracy: 0.7527 - val_loss: 0.0805 - val_accuracy: 0.9787\n",
      "Epoch 2/15\n",
      "422/422 [==============================] - 2s 5ms/step - loss: 0.1259 - accuracy: 0.9623 - val_loss: 0.0543 - val_accuracy: 0.9857\n",
      "Epoch 3/15\n",
      "422/422 [==============================] - 2s 5ms/step - loss: 0.0893 - accuracy: 0.9726 - val_loss: 0.0497 - val_accuracy: 0.9872\n",
      "Epoch 4/15\n",
      "422/422 [==============================] - 2s 5ms/step - loss: 0.0742 - accuracy: 0.9778 - val_loss: 0.0421 - val_accuracy: 0.9895\n",
      "Epoch 5/15\n",
      "422/422 [==============================] - 2s 5ms/step - loss: 0.0662 - accuracy: 0.9798 - val_loss: 0.0392 - val_accuracy: 0.9902\n",
      "Epoch 6/15\n",
      "422/422 [==============================] - 2s 5ms/step - loss: 0.0545 - accuracy: 0.9836 - val_loss: 0.0361 - val_accuracy: 0.9902\n",
      "Epoch 7/15\n",
      "422/422 [==============================] - 2s 5ms/step - loss: 0.0524 - accuracy: 0.9840 - val_loss: 0.0351 - val_accuracy: 0.9912\n",
      "Epoch 8/15\n",
      "422/422 [==============================] - 2s 5ms/step - loss: 0.0498 - accuracy: 0.9840 - val_loss: 0.0329 - val_accuracy: 0.9915\n",
      "Epoch 9/15\n",
      "422/422 [==============================] - 2s 5ms/step - loss: 0.0440 - accuracy: 0.9861 - val_loss: 0.0293 - val_accuracy: 0.9923\n",
      "Epoch 10/15\n",
      "422/422 [==============================] - 2s 5ms/step - loss: 0.0425 - accuracy: 0.9869 - val_loss: 0.0319 - val_accuracy: 0.9915\n",
      "Epoch 11/15\n",
      "422/422 [==============================] - 2s 5ms/step - loss: 0.0385 - accuracy: 0.9872 - val_loss: 0.0287 - val_accuracy: 0.9932\n",
      "Epoch 12/15\n",
      "422/422 [==============================] - 2s 5ms/step - loss: 0.0360 - accuracy: 0.9886 - val_loss: 0.0299 - val_accuracy: 0.9920\n",
      "Epoch 13/15\n",
      "422/422 [==============================] - 2s 5ms/step - loss: 0.0366 - accuracy: 0.9884 - val_loss: 0.0301 - val_accuracy: 0.9915\n",
      "Epoch 14/15\n",
      "422/422 [==============================] - 2s 5ms/step - loss: 0.0379 - accuracy: 0.9879 - val_loss: 0.0296 - val_accuracy: 0.9933\n",
      "Epoch 15/15\n",
      "422/422 [==============================] - 2s 5ms/step - loss: 0.0311 - accuracy: 0.9900 - val_loss: 0.0286 - val_accuracy: 0.9930\n"
     ]
    },
    {
     "data": {
      "text/plain": [
       "<tensorflow.python.keras.callbacks.History at 0x7f37b6152b50>"
      ]
     },
     "execution_count": 4,
     "metadata": {},
     "output_type": "execute_result"
    }
   ],
   "source": [
    "batch_size = 128\n",
    "epochs = 15\n",
    "\n",
    "model.compile(loss=\"categorical_crossentropy\", optimizer=\"adam\", metrics=[\"accuracy\"])\n",
    "\n",
    "model.fit(x_train, y_train, batch_size=batch_size, epochs=epochs, validation_split=0.1)\n",
    "\n"
   ]
  },
  {
   "cell_type": "code",
   "execution_count": 5,
   "id": "a822e836",
   "metadata": {},
   "outputs": [
    {
     "name": "stdout",
     "output_type": "stream",
     "text": [
      "Test loss: 0.026792505756020546\n",
      "Test accuracy: 0.9907000064849854\n"
     ]
    }
   ],
   "source": [
    "score = model.evaluate(x_test, y_test, verbose=0)\n",
    "print(\"Test loss:\", score[0])\n",
    "print(\"Test accuracy:\", score[1])\n"
   ]
  },
  {
   "cell_type": "code",
   "execution_count": 17,
   "id": "54792afc",
   "metadata": {},
   "outputs": [
    {
     "data": {
      "text/plain": [
       "(28, 28, 1)"
      ]
     },
     "execution_count": 17,
     "metadata": {},
     "output_type": "execute_result"
    }
   ],
   "source": [
    "x_train[0].shape"
   ]
  },
  {
   "cell_type": "code",
   "execution_count": 19,
   "id": "4d7652ea",
   "metadata": {},
   "outputs": [
    {
     "data": {
      "text/plain": [
       "array([[3.54352203e-12, 1.37031263e-11, 6.31960817e-10, 7.77337118e-04,\n",
       "        6.03681737e-14, 9.99220252e-01, 7.85133352e-13, 6.37651842e-09,\n",
       "        2.22783001e-06, 1.11275874e-07]], dtype=float32)"
      ]
     },
     "execution_count": 19,
     "metadata": {},
     "output_type": "execute_result"
    }
   ],
   "source": [
    "model.predict(x_train[:1,:,:,:])"
   ]
  },
  {
   "cell_type": "code",
   "execution_count": 14,
   "id": "549083b6",
   "metadata": {},
   "outputs": [
    {
     "data": {
      "text/plain": [
       "(28, 28, 1)"
      ]
     },
     "execution_count": 14,
     "metadata": {},
     "output_type": "execute_result"
    }
   ],
   "source": [
    "x_train[1,:,:,:].shape"
   ]
  },
  {
   "cell_type": "code",
   "execution_count": 22,
   "id": "934b262e",
   "metadata": {},
   "outputs": [
    {
     "name": "stdout",
     "output_type": "stream",
     "text": [
      "(1000, 28, 28, 1)\n"
     ]
    }
   ],
   "source": [
    "import numpy as np\n",
    "from PIL import Image\n",
    "\n",
    "# Define the path where the images are stored\n",
    "path = \"/home/matthias/Downloads/images/\"\n",
    "\n",
    "# Create an empty numpy array to store the images\n",
    "images = np.empty((1000, 28, 28, 1))\n",
    "\n",
    "# Load each image and add it to the numpy array\n",
    "for i in range(1000):\n",
    "    img = Image.open(path + str(i) + \".jpg\")\n",
    "    img = img.convert(\"L\")  # Convert to grayscale\n",
    "    img = img.resize((28, 28))  # Resize to (28, 28)\n",
    "    img_arr = np.array(img)  # Convert to numpy array\n",
    "    img_arr = img_arr.reshape((28, 28, 1))  # Add channel dimension\n",
    "    images[i] = img_arr\n",
    "\n",
    "# Print the shape of the numpy array\n",
    "print(images.shape)"
   ]
  },
  {
   "cell_type": "code",
   "execution_count": 26,
   "id": "ddd8dba1",
   "metadata": {},
   "outputs": [],
   "source": [
    "res = model.predict(images)\n",
    "res = res.argmax(axis=1)"
   ]
  },
  {
   "cell_type": "code",
   "execution_count": 41,
   "id": "ba737af4",
   "metadata": {},
   "outputs": [],
   "source": [
    "parity = [x%2 for x in res]"
   ]
  },
  {
   "cell_type": "code",
   "execution_count": 43,
   "id": "44b5ce4e",
   "metadata": {},
   "outputs": [],
   "source": [
    "binary_string = ''.join(str(x) for x in parity)"
   ]
  },
  {
   "cell_type": "code",
   "execution_count": 44,
   "id": "3d7d8c80",
   "metadata": {},
   "outputs": [
    {
     "ename": "OverflowError",
     "evalue": "Python int too large to convert to C int",
     "output_type": "error",
     "traceback": [
      "\u001b[0;31m---------------------------------------------------------------------------\u001b[0m",
      "\u001b[0;31mOverflowError\u001b[0m                             Traceback (most recent call last)",
      "Cell \u001b[0;32mIn[44], line 5\u001b[0m\n\u001b[1;32m      2\u001b[0m int_val \u001b[39m=\u001b[39m \u001b[39mint\u001b[39m(binary_string, \u001b[39m2\u001b[39m)\n\u001b[1;32m      4\u001b[0m \u001b[39m# Convert the integer to text using the chr() function\u001b[39;00m\n\u001b[0;32m----> 5\u001b[0m text_str \u001b[39m=\u001b[39m \u001b[39mchr\u001b[39;49m(int_val)\n\u001b[1;32m      7\u001b[0m \u001b[39m# Print the result\u001b[39;00m\n\u001b[1;32m      8\u001b[0m \u001b[39mprint\u001b[39m(text_str)\n",
      "\u001b[0;31mOverflowError\u001b[0m: Python int too large to convert to C int"
     ]
    }
   ],
   "source": [
    "# Convert the binary string to an integer\n",
    "int_val = int(binary_string, 2)\n",
    "\n",
    "# Convert the integer to text using the chr() function\n",
    "text_str = chr(int_val)\n",
    "\n",
    "# Print the result\n",
    "print(text_str)"
   ]
  }
 ],
 "metadata": {
  "kernelspec": {
   "display_name": "Python 3",
   "language": "python",
   "name": "python3"
  },
  "language_info": {
   "codemirror_mode": {
    "name": "ipython",
    "version": 3
   },
   "file_extension": ".py",
   "mimetype": "text/x-python",
   "name": "python",
   "nbconvert_exporter": "python",
   "pygments_lexer": "ipython3",
   "version": "3.9.16"
  }
 },
 "nbformat": 4,
 "nbformat_minor": 5
}
