{
 "cells": [
  {
   "cell_type": "markdown",
   "id": "acf1395f",
   "metadata": {
    "papermill": {
     "duration": 0.014859,
     "end_time": "2022-12-05T13:41:21.129965",
     "exception": false,
     "start_time": "2022-12-05T13:41:21.115106",
     "status": "completed"
    },
    "tags": []
   },
   "source": [
    "# Welcome to *The Christmas Card Conundrum*! #\n",
    "\n",
    "Each year Kaggle hosts a special Santa-themed optimization challenge. This year you're challenged to optimize the path of a robotic arm over the points of an image, minimizing both the movement of the arm and the change in color from step to step.\n",
    "\n",
    "This notebook introduces the problem and defines a number of convenience functions you might find useful. We also look at the problem's \"configuration space\", which might provide a more natural setting for optimization. Finally, we create a simple baseline submission."
   ]
  },
  {
   "cell_type": "code",
   "execution_count": 1,
   "id": "080abe9e",
   "metadata": {
    "_kg_hide-input": true,
    "execution": {
     "iopub.execute_input": "2022-12-05T13:41:21.162235Z",
     "iopub.status.busy": "2022-12-05T13:41:21.161681Z",
     "iopub.status.idle": "2022-12-05T13:41:21.175231Z",
     "shell.execute_reply": "2022-12-05T13:41:21.174073Z"
    },
    "papermill": {
     "duration": 0.034183,
     "end_time": "2022-12-05T13:41:21.179166",
     "exception": false,
     "start_time": "2022-12-05T13:41:21.144983",
     "status": "completed"
    },
    "tags": []
   },
   "outputs": [],
   "source": [
    "import matplotlib.pyplot as plt\n",
    "import matplotlib.ticker as ticker\n",
    "import numpy as np\n",
    "import pandas as pd\n",
    "from functools import *\n",
    "from itertools import *\n",
    "from pathlib import Path\n",
    "from PIL import Image\n",
    "\n",
    "plt.style.use('seaborn-whitegrid')\n",
    "\n",
    "data_dir = Path('./')"
   ]
  },
  {
   "cell_type": "markdown",
   "id": "4b6f9cd6",
   "metadata": {
    "papermill": {
     "duration": 0.014753,
     "end_time": "2022-12-05T13:41:21.208221",
     "exception": false,
     "start_time": "2022-12-05T13:41:21.193468",
     "status": "completed"
    },
    "tags": []
   },
   "source": [
    "# The Image #\n",
    "\n",
    "The `image.csv` file contains the canonical color values for the image as well as their respective Cartesian coordinates. (Instead of array indicies, we use Cartesian coordinates to refer to points in the image, with the center of the image at `(0, 0)`.) This file is what you should use when computing the score for your solution. It's the same file that the official scoring function uses."
   ]
  },
  {
   "cell_type": "code",
   "execution_count": 2,
   "id": "97eeace3",
   "metadata": {
    "execution": {
     "iopub.execute_input": "2022-12-05T13:41:21.238647Z",
     "iopub.status.busy": "2022-12-05T13:41:21.238203Z",
     "iopub.status.idle": "2022-12-05T13:41:21.456973Z",
     "shell.execute_reply": "2022-12-05T13:41:21.455715Z"
    },
    "papermill": {
     "duration": 0.236393,
     "end_time": "2022-12-05T13:41:21.459573",
     "exception": false,
     "start_time": "2022-12-05T13:41:21.223180",
     "status": "completed"
    },
    "tags": []
   },
   "outputs": [
    {
     "data": {
      "text/html": [
       "<div>\n",
       "<style scoped>\n",
       "    .dataframe tbody tr th:only-of-type {\n",
       "        vertical-align: middle;\n",
       "    }\n",
       "\n",
       "    .dataframe tbody tr th {\n",
       "        vertical-align: top;\n",
       "    }\n",
       "\n",
       "    .dataframe thead th {\n",
       "        text-align: right;\n",
       "    }\n",
       "</style>\n",
       "<table border=\"1\" class=\"dataframe\">\n",
       "  <thead>\n",
       "    <tr style=\"text-align: right;\">\n",
       "      <th></th>\n",
       "      <th>x</th>\n",
       "      <th>y</th>\n",
       "      <th>r</th>\n",
       "      <th>g</th>\n",
       "      <th>b</th>\n",
       "    </tr>\n",
       "  </thead>\n",
       "  <tbody>\n",
       "    <tr>\n",
       "      <th>0</th>\n",
       "      <td>-128</td>\n",
       "      <td>128</td>\n",
       "      <td>0.600000</td>\n",
       "      <td>0.619608</td>\n",
       "      <td>0.654902</td>\n",
       "    </tr>\n",
       "    <tr>\n",
       "      <th>1</th>\n",
       "      <td>-127</td>\n",
       "      <td>128</td>\n",
       "      <td>0.717647</td>\n",
       "      <td>0.741176</td>\n",
       "      <td>0.792157</td>\n",
       "    </tr>\n",
       "    <tr>\n",
       "      <th>2</th>\n",
       "      <td>-126</td>\n",
       "      <td>128</td>\n",
       "      <td>0.709804</td>\n",
       "      <td>0.733333</td>\n",
       "      <td>0.780392</td>\n",
       "    </tr>\n",
       "    <tr>\n",
       "      <th>3</th>\n",
       "      <td>-125</td>\n",
       "      <td>128</td>\n",
       "      <td>0.709804</td>\n",
       "      <td>0.733333</td>\n",
       "      <td>0.780392</td>\n",
       "    </tr>\n",
       "    <tr>\n",
       "      <th>4</th>\n",
       "      <td>-124</td>\n",
       "      <td>128</td>\n",
       "      <td>0.709804</td>\n",
       "      <td>0.737255</td>\n",
       "      <td>0.784314</td>\n",
       "    </tr>\n",
       "    <tr>\n",
       "      <th>...</th>\n",
       "      <td>...</td>\n",
       "      <td>...</td>\n",
       "      <td>...</td>\n",
       "      <td>...</td>\n",
       "      <td>...</td>\n",
       "    </tr>\n",
       "    <tr>\n",
       "      <th>66044</th>\n",
       "      <td>124</td>\n",
       "      <td>-128</td>\n",
       "      <td>0.427451</td>\n",
       "      <td>0.596078</td>\n",
       "      <td>0.870588</td>\n",
       "    </tr>\n",
       "    <tr>\n",
       "      <th>66045</th>\n",
       "      <td>125</td>\n",
       "      <td>-128</td>\n",
       "      <td>0.427451</td>\n",
       "      <td>0.596078</td>\n",
       "      <td>0.870588</td>\n",
       "    </tr>\n",
       "    <tr>\n",
       "      <th>66046</th>\n",
       "      <td>126</td>\n",
       "      <td>-128</td>\n",
       "      <td>0.427451</td>\n",
       "      <td>0.596078</td>\n",
       "      <td>0.870588</td>\n",
       "    </tr>\n",
       "    <tr>\n",
       "      <th>66047</th>\n",
       "      <td>127</td>\n",
       "      <td>-128</td>\n",
       "      <td>0.427451</td>\n",
       "      <td>0.600000</td>\n",
       "      <td>0.878431</td>\n",
       "    </tr>\n",
       "    <tr>\n",
       "      <th>66048</th>\n",
       "      <td>128</td>\n",
       "      <td>-128</td>\n",
       "      <td>0.411765</td>\n",
       "      <td>0.545098</td>\n",
       "      <td>0.764706</td>\n",
       "    </tr>\n",
       "  </tbody>\n",
       "</table>\n",
       "<p>66049 rows × 5 columns</p>\n",
       "</div>"
      ],
      "text/plain": [
       "         x    y         r         g         b\n",
       "0     -128  128  0.600000  0.619608  0.654902\n",
       "1     -127  128  0.717647  0.741176  0.792157\n",
       "2     -126  128  0.709804  0.733333  0.780392\n",
       "3     -125  128  0.709804  0.733333  0.780392\n",
       "4     -124  128  0.709804  0.737255  0.784314\n",
       "...    ...  ...       ...       ...       ...\n",
       "66044  124 -128  0.427451  0.596078  0.870588\n",
       "66045  125 -128  0.427451  0.596078  0.870588\n",
       "66046  126 -128  0.427451  0.596078  0.870588\n",
       "66047  127 -128  0.427451  0.600000  0.878431\n",
       "66048  128 -128  0.411765  0.545098  0.764706\n",
       "\n",
       "[66049 rows x 5 columns]"
      ]
     },
     "execution_count": 2,
     "metadata": {},
     "output_type": "execute_result"
    }
   ],
   "source": [
    "df_image = pd.read_csv(data_dir/'image.csv')\n",
    "\n",
    "df_image"
   ]
  },
  {
   "cell_type": "markdown",
   "id": "755850ca",
   "metadata": {
    "papermill": {
     "duration": 0.014153,
     "end_time": "2022-12-05T13:41:21.488248",
     "exception": false,
     "start_time": "2022-12-05T13:41:21.474095",
     "status": "completed"
    },
    "tags": []
   },
   "source": [
    "Here we'll define some convenience functions to transform the image between various formats and then transform the dataframe into a numpy array."
   ]
  },
  {
   "cell_type": "code",
   "execution_count": 3,
   "id": "421a3c86",
   "metadata": {
    "execution": {
     "iopub.execute_input": "2022-12-05T13:41:21.529926Z",
     "iopub.status.busy": "2022-12-05T13:41:21.529516Z",
     "iopub.status.idle": "2022-12-05T13:41:21.545841Z",
     "shell.execute_reply": "2022-12-05T13:41:21.544837Z"
    },
    "papermill": {
     "duration": 0.044438,
     "end_time": "2022-12-05T13:41:21.548131",
     "exception": false,
     "start_time": "2022-12-05T13:41:21.503693",
     "status": "completed"
    },
    "tags": []
   },
   "outputs": [],
   "source": [
    "# Functions to map between cartesian coordinates and array indexes\n",
    "def cartesian_to_array(x, y, shape):\n",
    "    m, n = shape[:2]\n",
    "    i = (n - 1) // 2 - y\n",
    "    j = (n - 1) // 2 + x\n",
    "    if i < 0 or i >= m or j < 0 or j >= n:\n",
    "        raise ValueError(\"Coordinates not within given dimensions.\")\n",
    "    return i, j\n",
    "\n",
    "\n",
    "def array_to_cartesian(i, j, shape):\n",
    "    m, n = shape[:2]\n",
    "    if i < 0 or i >= m or j < 0 or j >= n:\n",
    "        raise ValueError(\"Coordinates not within given dimensions.\")\n",
    "    y = (n - 1) // 2 - i\n",
    "    x = j - (n - 1) // 2\n",
    "    return x, y\n",
    "\n",
    "\n",
    "point = (1, 8)\n",
    "shape = (9, 9, 3)\n",
    "assert cartesian_to_array(*array_to_cartesian(*point, shape), shape) == point\n",
    "\n",
    "\n",
    "# Functions to map an image between array and record formats\n",
    "def image_to_dict(image):\n",
    "    image = np.atleast_3d(image)\n",
    "    kv_image = {}\n",
    "    for i, j in product(range(len(image)), repeat=2):\n",
    "        kv_image[array_to_cartesian(i, j, image.shape)] = tuple(image[i, j])\n",
    "    return kv_image\n",
    "\n",
    "\n",
    "def image_to_df(image):\n",
    "    return pd.DataFrame(\n",
    "        [(x, y, r, g, b) for (x, y), (r, g, b) in image_to_dict(image).items()],\n",
    "        columns=['x', 'y', 'r', 'g', 'b']\n",
    "    )\n",
    "\n",
    "\n",
    "def df_to_image(df):\n",
    "    side = int(len(df) ** 0.5)  # assumes a square image\n",
    "    return df.set_index(['x', 'y']).to_numpy().reshape(side, side, -1)"
   ]
  },
  {
   "cell_type": "code",
   "execution_count": 5,
   "id": "3fc66765",
   "metadata": {
    "execution": {
     "iopub.execute_input": "2022-12-05T13:41:21.586819Z",
     "iopub.status.busy": "2022-12-05T13:41:21.586389Z",
     "iopub.status.idle": "2022-12-05T13:41:22.421624Z",
     "shell.execute_reply": "2022-12-05T13:41:22.420299Z"
    },
    "papermill": {
     "duration": 0.857153,
     "end_time": "2022-12-05T13:41:22.426475",
     "exception": false,
     "start_time": "2022-12-05T13:41:21.569322",
     "status": "completed"
    },
    "tags": []
   },
   "outputs": [
    {
     "data": {
      "image/png": "[encoded data removed]",
      "text/plain": [
       "<Figure size 360x360 with 1 Axes>"
      ]
     },
     "metadata": {
      "needs_background": "light"
     },
     "output_type": "display_data"
    }
   ],
   "source": [
    "image = df_to_image(df_image)\n",
    "assert image_to_df(image).equals(df_image)  # ensure transforms are inverses\n",
    "\n",
    "radius = 128\n",
    "fig, ax = plt.subplots(figsize=(5, 5))\n",
    "ax.matshow(image, extent=(-radius, radius+1, -radius, radius+1))\n",
    "ax.grid(None);"
   ]
  },
  {
   "cell_type": "markdown",
   "id": "48d78647",
   "metadata": {
    "papermill": {
     "duration": 0.015019,
     "end_time": "2022-12-05T13:41:22.456989",
     "exception": false,
     "start_time": "2022-12-05T13:41:22.441970",
     "status": "completed"
    },
    "tags": []
   },
   "source": [
    "# The Robotic Arm #\n",
    "\n",
    "The robotic arm has eight links of length 64, 32, 16, 8, 4, 2, 1, and 1 connected at joints like so:"
   ]
  },
  {
   "cell_type": "code",
   "execution_count": 7,
   "id": "6de121ac",
   "metadata": {
    "_kg_hide-input": true,
    "execution": {
     "iopub.execute_input": "2022-12-05T13:41:22.492050Z",
     "iopub.status.busy": "2022-12-05T13:41:22.491503Z",
     "iopub.status.idle": "2022-12-05T13:41:22.506012Z",
     "shell.execute_reply": "2022-12-05T13:41:22.504062Z"
    },
    "papermill": {
     "duration": 0.037961,
     "end_time": "2022-12-05T13:41:22.510687",
     "exception": false,
     "start_time": "2022-12-05T13:41:22.472726",
     "status": "completed"
    },
    "tags": []
   },
   "outputs": [],
   "source": [
    "def plot_configuration(config, image=None, ax=None, color='0.25', **figure_args):\n",
    "    def get_position(config):\n",
    "        return reduce(lambda p, q: (p[0] + q[0], p[1] + q[1]), config, (0, 0))\n",
    "\n",
    "    if ax is None:\n",
    "        _, ax = plt.subplots(**figure_args)\n",
    "\n",
    "    k = 2 ** (len(config) - 1) + 1\n",
    "    X, Y = (np.vstack([[(0, 0)], np.asarray(config).cumsum(axis=0)])[:-1].T - 0.5)\n",
    "    U, V = np.asarray(config).T\n",
    "    ax.quiver(\n",
    "        X, Y, U, V,\n",
    "        angles='xy', scale_units='xy', scale=1,\n",
    "        color=color,\n",
    "        width=0.005,\n",
    "        zorder=10,\n",
    "    )\n",
    "    point = get_position(config)\n",
    "    ax.plot(point[0]-0.5, point[1]-0.5, '.', color='k', zorder=11)\n",
    "    if image is not None:\n",
    "        ax.matshow(image, extent=[-k-1, k, -k-1, k])\n",
    "    ax.set_xlim(-k-1, k)\n",
    "    ax.set_ylim(-k-1, k)\n",
    "    ax.set_aspect('equal')\n",
    "    ax.set_xticks(np.arange(-k, k+1))\n",
    "    ax.set_yticks(np.arange(-k, k+1))\n",
    "    return ax"
   ]
  },
  {
   "cell_type": "code",
   "execution_count": 8,
   "id": "02fdc3bd",
   "metadata": {
    "_kg_hide-input": true,
    "execution": {
     "iopub.execute_input": "2022-12-05T13:41:22.552776Z",
     "iopub.status.busy": "2022-12-05T13:41:22.552205Z",
     "iopub.status.idle": "2022-12-05T13:41:24.823143Z",
     "shell.execute_reply": "2022-12-05T13:41:24.821870Z"
    },
    "papermill": {
     "duration": 2.294405,
     "end_time": "2022-12-05T13:41:24.827029",
     "exception": false,
     "start_time": "2022-12-05T13:41:22.532624",
     "status": "completed"
    },
    "tags": []
   },
   "outputs": [
    {
     "data": {
      "image/png": "[encoded data removed]",
      "text/plain": [
       "<Figure size 2520x72 with 1 Axes>"
      ]
     },
     "metadata": {
      "needs_background": "light"
     },
     "output_type": "display_data"
    }
   ],
   "source": [
    "ax = plot_configuration([(64, 0), (32, 0), (16, 0), (8, 0), (4, 0), (2, 0), (1, 0), (1, 0)], figsize=(35, 1))\n",
    "ax.set_xlim(0, radius+1)\n",
    "ax.set_ylim(-1, 0)\n",
    "ax.grid(None)\n",
    "ax.set_aspect('auto')"
   ]
  },
  {
   "cell_type": "markdown",
   "id": "ba1d260e",
   "metadata": {
    "papermill": {
     "duration": 0.015198,
     "end_time": "2022-12-05T13:41:24.860113",
     "exception": false,
     "start_time": "2022-12-05T13:41:24.844915",
     "status": "completed"
    },
    "tags": []
   },
   "source": [
    "We'll use arms with fewer links for most of the examples to simplify the presentation, however. Here's an arm with links of length 2, 1, and 1."
   ]
  },
  {
   "cell_type": "code",
   "execution_count": 7,
   "id": "8e7118c1",
   "metadata": {
    "_kg_hide-input": true,
    "execution": {
     "iopub.execute_input": "2022-12-05T13:41:24.898850Z",
     "iopub.status.busy": "2022-12-05T13:41:24.898365Z",
     "iopub.status.idle": "2022-12-05T13:41:25.027403Z",
     "shell.execute_reply": "2022-12-05T13:41:25.026413Z"
    },
    "jupyter": {
     "source_hidden": true
    },
    "papermill": {
     "duration": 0.153548,
     "end_time": "2022-12-05T13:41:25.030252",
     "exception": false,
     "start_time": "2022-12-05T13:41:24.876704",
     "status": "completed"
    },
    "tags": []
   },
   "outputs": [
    {
     "data": {
      "image/png": "[encoded data removed]",
      "text/plain": [
       "<Figure size 720x72 with 1 Axes>"
      ]
     },
     "metadata": {},
     "output_type": "display_data"
    }
   ],
   "source": [
    "ax = plot_configuration([(2, 0), (1, 0), (1, 0)], figsize=(10, 1))\n",
    "ax.set_xlim(0, 4)\n",
    "ax.set_ylim(-1, 0)\n",
    "ax.grid([])\n",
    "ax.set_aspect('auto')"
   ]
  },
  {
   "cell_type": "markdown",
   "id": "95779bcc",
   "metadata": {
    "papermill": {
     "duration": 0.017288,
     "end_time": "2022-12-05T13:41:25.064395",
     "exception": false,
     "start_time": "2022-12-05T13:41:25.047107",
     "status": "completed"
    },
    "tags": []
   },
   "source": [
    "We describe the **configuration** of the arm by giving the displacement vector of each link oriented at its joint. The first link (the longest one) is oriented at the point $(0, 0)$, so we can get the **position** of the arm by summing up the displacement vectors.\n",
    "\n",
    "Here's an example with a four-link arm."
   ]
  },
  {
   "cell_type": "code",
   "execution_count": 8,
   "id": "363036d8",
   "metadata": {
    "collapsed": false,
    "execution": {
     "iopub.execute_input": "2022-12-05T13:41:25.101031Z",
     "iopub.status.busy": "2022-12-05T13:41:25.099913Z",
     "iopub.status.idle": "2022-12-05T13:41:25.114581Z",
     "shell.execute_reply": "2022-12-05T13:41:25.113245Z"
    },
    "jupyter": {
     "outputs_hidden": false
    },
    "papermill": {
     "duration": 0.038759,
     "end_time": "2022-12-05T13:41:25.119568",
     "exception": false,
     "start_time": "2022-12-05T13:41:25.080809",
     "status": "completed"
    },
    "tags": []
   },
   "outputs": [
    {
     "data": {
      "text/plain": [
       "(0, 3)"
      ]
     },
     "execution_count": 8,
     "metadata": {},
     "output_type": "execute_result"
    }
   ],
   "source": [
    "def get_position(config):\n",
    "    return reduce(lambda p, q: (p[0] + q[0], p[1] + q[1]), config, (0, 0))\n",
    "\n",
    "\n",
    "# The configuration of a 4-link arm descibed by a list of displacement vectors. \n",
    "config = [(4, 0), (-2, 2), (-1, 0), (-1, 1)]\n",
    "\n",
    "get_position(config)"
   ]
  },
  {
   "cell_type": "code",
   "execution_count": 9,
   "id": "fa1a73e7",
   "metadata": {
    "_kg_hide-input": true,
    "execution": {
     "iopub.execute_input": "2022-12-05T13:41:25.166733Z",
     "iopub.status.busy": "2022-12-05T13:41:25.166243Z",
     "iopub.status.idle": "2022-12-05T13:41:25.652803Z",
     "shell.execute_reply": "2022-12-05T13:41:25.651457Z"
    },
    "jupyter": {
     "source_hidden": true
    },
    "papermill": {
     "duration": 0.507852,
     "end_time": "2022-12-05T13:41:25.655475",
     "exception": false,
     "start_time": "2022-12-05T13:41:25.147623",
     "status": "completed"
    },
    "tags": []
   },
   "outputs": [
    {
     "data": {
      "image/png": "[encoded data removed]",
      "text/plain": [
       "<Figure size 540x540 with 1 Axes>"
      ]
     },
     "metadata": {},
     "output_type": "display_data"
    }
   ],
   "source": [
    "ax = plot_configuration(config, figsize=(6, 6), dpi=90)\n",
    "ax.set_title(f\"Configuration {config}\\nPosition {get_position(config)}\");"
   ]
  },
  {
   "cell_type": "markdown",
   "id": "6feb497b",
   "metadata": {
    "papermill": {
     "duration": 0.016482,
     "end_time": "2022-12-05T13:41:25.688729",
     "exception": false,
     "start_time": "2022-12-05T13:41:25.672247",
     "status": "completed"
    },
    "tags": []
   },
   "source": [
    "A link of length $l$ with displacement vector $(x, y)$ must satisfy the condition $\\max\\left(\\mid x \\mid, \\mid y \\mid\\right)=l$. (This condition essentially defines what it means for a link to have length $l$.) The links, in other words, travel around the perimeter of a square with sides of length $2l$."
   ]
  },
  {
   "cell_type": "code",
   "execution_count": 10,
   "id": "38d3e424",
   "metadata": {
    "collapsed": false,
    "execution": {
     "iopub.execute_input": "2022-12-05T13:41:25.725615Z",
     "iopub.status.busy": "2022-12-05T13:41:25.724784Z",
     "iopub.status.idle": "2022-12-05T13:41:25.735445Z",
     "shell.execute_reply": "2022-12-05T13:41:25.734303Z"
    },
    "jupyter": {
     "outputs_hidden": false
    },
    "papermill": {
     "duration": 0.031726,
     "end_time": "2022-12-05T13:41:25.738102",
     "exception": false,
     "start_time": "2022-12-05T13:41:25.706376",
     "status": "completed"
    },
    "tags": []
   },
   "outputs": [],
   "source": [
    "def rotate_link(vector, direction):\n",
    "    x, y = vector\n",
    "    if direction == 1:  # counter-clockwise\n",
    "        if y >= x and y > -x:\n",
    "            x -= 1\n",
    "        elif y > x and y <= -x:\n",
    "            y -= 1\n",
    "        elif y <= x and y < -x:\n",
    "            x += 1\n",
    "        else:\n",
    "            y += 1\n",
    "    elif direction == -1:  # clockwise\n",
    "        if y > x and y >= -x:\n",
    "            x += 1\n",
    "        elif y >= x and y < -x:\n",
    "            y += 1\n",
    "        elif y < x and y <= -x:\n",
    "            x -= 1\n",
    "        else:\n",
    "            y -= 1\n",
    "    return (x, y)\n",
    "\n",
    "\n",
    "def rotate(config, i, direction):\n",
    "    config = config.copy()\n",
    "    config[i] = rotate_link(config[i], direction)\n",
    "    return config\n",
    "\n",
    "\n",
    "def get_square(link_length):\n",
    "    link = (link_length, 0)\n",
    "    coords = [link]\n",
    "    for _ in range(8 * link_length - 1):\n",
    "        link = rotate_link(link, direction=1)\n",
    "        coords.append(link)\n",
    "    return coords"
   ]
  },
  {
   "cell_type": "markdown",
   "id": "e85aaf4a",
   "metadata": {
    "papermill": {
     "duration": 0.016068,
     "end_time": "2022-12-05T13:41:25.772183",
     "exception": false,
     "start_time": "2022-12-05T13:41:25.756115",
     "status": "completed"
    },
    "tags": []
   },
   "source": [
    "In addition, the vectors must be integer valued, so there are $8l$ possible values for a vector of length $l$."
   ]
  },
  {
   "cell_type": "code",
   "execution_count": 11,
   "id": "ffe0dae6",
   "metadata": {
    "_kg_hide-input": true,
    "execution": {
     "iopub.execute_input": "2022-12-05T13:41:25.810023Z",
     "iopub.status.busy": "2022-12-05T13:41:25.809210Z",
     "iopub.status.idle": "2022-12-05T13:41:25.972455Z",
     "shell.execute_reply": "2022-12-05T13:41:25.971597Z"
    },
    "jupyter": {
     "source_hidden": true
    },
    "papermill": {
     "duration": 0.184216,
     "end_time": "2022-12-05T13:41:25.974945",
     "exception": false,
     "start_time": "2022-12-05T13:41:25.790729",
     "status": "completed"
    },
    "tags": []
   },
   "outputs": [
    {
     "data": {
      "image/png": "[encoded data removed]",
      "text/plain": [
       "<Figure size 432x288 with 1 Axes>"
      ]
     },
     "metadata": {},
     "output_type": "display_data"
    }
   ],
   "source": [
    "link_length = 2\n",
    "square = np.asarray(get_square(link_length))\n",
    "fig, ax = plt.subplots()\n",
    "ax.plot(square[:, 0], square[:, 1], 'ok')\n",
    "ax.plot([0], [0], 'xb')\n",
    "ax.set_aspect('equal');"
   ]
  },
  {
   "cell_type": "markdown",
   "id": "49560e66",
   "metadata": {
    "papermill": {
     "duration": 0.018417,
     "end_time": "2022-12-05T13:41:26.010093",
     "exception": false,
     "start_time": "2022-12-05T13:41:25.991676",
     "status": "completed"
    },
    "tags": []
   },
   "source": [
    "Here we can see the second link (with length 2) making a complete rotation around all 16 of its possible directions."
   ]
  },
  {
   "cell_type": "code",
   "execution_count": 12,
   "id": "38919200",
   "metadata": {
    "collapsed": false,
    "execution": {
     "iopub.execute_input": "2022-12-05T13:41:26.046800Z",
     "iopub.status.busy": "2022-12-05T13:41:26.045981Z",
     "iopub.status.idle": "2022-12-05T13:41:26.060800Z",
     "shell.execute_reply": "2022-12-05T13:41:26.058652Z"
    },
    "jupyter": {
     "outputs_hidden": false
    },
    "papermill": {
     "duration": 0.035633,
     "end_time": "2022-12-05T13:41:26.063451",
     "exception": false,
     "start_time": "2022-12-05T13:41:26.027818",
     "status": "completed"
    },
    "tags": []
   },
   "outputs": [
    {
     "name": "stdout",
     "output_type": "stream",
     "text": [
      "[(4, 0), (-2, 2), (-1, 0), (-1, 1)]\n",
      "[(4, 0), (-2, 1), (-1, 0), (-1, 1)]\n",
      "[(4, 0), (-2, 0), (-1, 0), (-1, 1)]\n",
      "[(4, 0), (-2, -1), (-1, 0), (-1, 1)]\n",
      "[(4, 0), (-2, -2), (-1, 0), (-1, 1)]\n",
      "[(4, 0), (-1, -2), (-1, 0), (-1, 1)]\n",
      "[(4, 0), (0, -2), (-1, 0), (-1, 1)]\n",
      "[(4, 0), (1, -2), (-1, 0), (-1, 1)]\n",
      "[(4, 0), (2, -2), (-1, 0), (-1, 1)]\n",
      "[(4, 0), (2, -1), (-1, 0), (-1, 1)]\n",
      "[(4, 0), (2, 0), (-1, 0), (-1, 1)]\n",
      "[(4, 0), (2, 1), (-1, 0), (-1, 1)]\n",
      "[(4, 0), (2, 2), (-1, 0), (-1, 1)]\n",
      "[(4, 0), (1, 2), (-1, 0), (-1, 1)]\n",
      "[(4, 0), (0, 2), (-1, 0), (-1, 1)]\n",
      "[(4, 0), (-1, 2), (-1, 0), (-1, 1)]\n"
     ]
    }
   ],
   "source": [
    "for _ in range(16):\n",
    "    print(config)\n",
    "    config = rotate(config, 1, direction=1)"
   ]
  },
  {
   "cell_type": "markdown",
   "id": "bb32a205",
   "metadata": {
    "papermill": {
     "duration": 0.017174,
     "end_time": "2022-12-05T13:41:26.097193",
     "exception": false,
     "start_time": "2022-12-05T13:41:26.080019",
     "status": "completed"
    },
    "tags": []
   },
   "source": [
    "The design of the arm allows it to reach any position within a $(2L + 1) \\times (2L + 1)$ image, where $L$ is the total length of the arm (the sum of the link lengths). The 8-link arm has a length of 128, so it can reach any position in a $257 \\times 257$ image."
   ]
  },
  {
   "cell_type": "markdown",
   "id": "3f62a0d7",
   "metadata": {
    "papermill": {
     "duration": 0.016937,
     "end_time": "2022-12-05T13:41:26.131515",
     "exception": false,
     "start_time": "2022-12-05T13:41:26.114578",
     "status": "completed"
    },
    "tags": []
   },
   "source": [
    "### Changing the Configuration ###"
   ]
  },
  {
   "cell_type": "markdown",
   "id": "a0a0f0c9",
   "metadata": {
    "papermill": {
     "duration": 0.016051,
     "end_time": "2022-12-05T13:41:26.166162",
     "exception": false,
     "start_time": "2022-12-05T13:41:26.150111",
     "status": "completed"
    },
    "tags": []
   },
   "source": [
    "We can move the position of the arm over the image by changing its configuration step-by-step. At each step, we may rotate each link of the arm either counter-clockwise or clockwise (or keep it the same). The **neighbors** of a configuration are those configurations that can be reached from it in a single step."
   ]
  },
  {
   "cell_type": "code",
   "execution_count": 13,
   "id": "0ef4d34b",
   "metadata": {
    "collapsed": false,
    "execution": {
     "iopub.execute_input": "2022-12-05T13:41:26.205538Z",
     "iopub.status.busy": "2022-12-05T13:41:26.204942Z",
     "iopub.status.idle": "2022-12-05T13:41:26.213597Z",
     "shell.execute_reply": "2022-12-05T13:41:26.212039Z"
    },
    "jupyter": {
     "outputs_hidden": false
    },
    "papermill": {
     "duration": 0.032235,
     "end_time": "2022-12-05T13:41:26.216253",
     "exception": false,
     "start_time": "2022-12-05T13:41:26.184018",
     "status": "completed"
    },
    "tags": []
   },
   "outputs": [],
   "source": [
    "def get_neighbors(config):\n",
    "    nhbrs = (\n",
    "        reduce(lambda x, y: rotate(x, *y), enumerate(directions), config)\n",
    "        for directions in product((-1, 0, 1), repeat=len(config))\n",
    "    )\n",
    "    return list(filter(lambda c: c != config, nhbrs))"
   ]
  },
  {
   "cell_type": "code",
   "execution_count": 14,
   "id": "795a82ad",
   "metadata": {
    "collapsed": false,
    "execution": {
     "iopub.execute_input": "2022-12-05T13:41:26.252998Z",
     "iopub.status.busy": "2022-12-05T13:41:26.252594Z",
     "iopub.status.idle": "2022-12-05T13:41:26.259595Z",
     "shell.execute_reply": "2022-12-05T13:41:26.258742Z"
    },
    "jupyter": {
     "outputs_hidden": false
    },
    "papermill": {
     "duration": 0.027724,
     "end_time": "2022-12-05T13:41:26.261813",
     "exception": false,
     "start_time": "2022-12-05T13:41:26.234089",
     "status": "completed"
    },
    "tags": []
   },
   "outputs": [
    {
     "data": {
      "text/plain": [
       "80"
      ]
     },
     "execution_count": 14,
     "metadata": {},
     "output_type": "execute_result"
    }
   ],
   "source": [
    "neighbors = get_neighbors(config)\n",
    "\n",
    "len(neighbors)"
   ]
  },
  {
   "cell_type": "code",
   "execution_count": 15,
   "id": "041a498e",
   "metadata": {
    "_kg_hide-input": true,
    "execution": {
     "iopub.execute_input": "2022-12-05T13:41:26.301965Z",
     "iopub.status.busy": "2022-12-05T13:41:26.300753Z",
     "iopub.status.idle": "2022-12-05T13:41:27.123014Z",
     "shell.execute_reply": "2022-12-05T13:41:27.121098Z"
    },
    "jupyter": {
     "source_hidden": true
    },
    "papermill": {
     "duration": 0.849222,
     "end_time": "2022-12-05T13:41:27.128717",
     "exception": false,
     "start_time": "2022-12-05T13:41:26.279495",
     "status": "completed"
    },
    "tags": []
   },
   "outputs": [
    {
     "data": {
      "image/png": "[encoded data removed]",
      "text/plain": [
       "<Figure size 720x792 with 1 Axes>"
      ]
     },
     "metadata": {},
     "output_type": "display_data"
    }
   ],
   "source": [
    "point = (0, 0)\n",
    "cs = neighbors\n",
    "k = 2 ** (len(config) - 1) + 1\n",
    "colors = cycle(plt.rcParams[\"axes.prop_cycle\"].by_key()[\"color\"])\n",
    "\n",
    "fig, ax = plt.subplots(figsize=(10, 11))\n",
    "for c in cs:\n",
    "    X, Y = (np.vstack([[(0, 0)], np.asarray(c).cumsum(axis=0)])[:-1].T - 0.5)\n",
    "    U, V = np.asarray(c).T\n",
    "    ax.quiver(\n",
    "        X, Y, U, V,\n",
    "        angles='xy', scale_units='xy', scale=1,\n",
    "        color=next(colors),\n",
    "        width=0.0025,\n",
    "        zorder=10,\n",
    "        alpha=0.25,\n",
    "    )\n",
    "    point = get_position(c)\n",
    "    ax.plot(point[0]-0.5, point[1]-0.5, '.', color='k', zorder=11)\n",
    "point = get_position(config)\n",
    "ax.plot(point[0]-0.5, point[1]-0.5, 'o', color='C3', zorder=11)\n",
    "ax.set_xlim(-k-1, k)\n",
    "ax.set_ylim(-k-1, k)\n",
    "ax.set_aspect('equal')\n",
    "ax.set_xticks(np.arange(-k, k+1))\n",
    "ax.set_yticks(np.arange(-k, k+1))\n",
    "ax.grid(True, color='0.5')\n",
    "ax.set_title(f\"Neighbors of {config}\", fontsize=20);"
   ]
  },
  {
   "cell_type": "markdown",
   "id": "d6d94a5d",
   "metadata": {
    "papermill": {
     "duration": 0.022533,
     "end_time": "2022-12-05T13:41:27.197233",
     "exception": false,
     "start_time": "2022-12-05T13:41:27.174700",
     "status": "completed"
    },
    "tags": []
   },
   "source": [
    "Note that there will typically be many more neighboring *configurations* (lists of vectors) than neighboring *positions* (points in the image, the sum of the vectors), since each position can typically be reached by many configurations.\n",
    "\n",
    "In the figure above, the starting configuration is positioned at the red point. It can reach any of the other indicated positions in a single step (though at varying costs, as we will see)."
   ]
  },
  {
   "cell_type": "markdown",
   "id": "6e6af035",
   "metadata": {
    "papermill": {
     "duration": 0.018637,
     "end_time": "2022-12-05T13:41:27.234459",
     "exception": false,
     "start_time": "2022-12-05T13:41:27.215822",
     "status": "completed"
    },
    "tags": []
   },
   "source": [
    "# The Cost Function #\n",
    "\n",
    "The goal of the competition is to create a sequence of configurations reaching every point in the image while minimizing both a *reconfiguration cost* and a *color cost*. The starting configuration must be `[(64, 0), (-32, 0), (-16, 0), (-8, 0), (-4, 0), (-2, 0), (-1, 0), (-1, 0)]`, which is positioned at the point `(0, 0)` in the image.\n",
    "\n",
    "The **reconfiguration cost** at each step is the square root of the number of links rotated at that step, while the **color cost** is the sum of the absolute change in the color components from the previous step's position to the current position multiplied by a scaling constant. The total cost at each step is the sum of the reconfiguration cost and the color cost."
   ]
  },
  {
   "cell_type": "code",
   "execution_count": 16,
   "id": "be85fb8e",
   "metadata": {
    "collapsed": false,
    "execution": {
     "iopub.execute_input": "2022-12-05T13:41:27.273748Z",
     "iopub.status.busy": "2022-12-05T13:41:27.273008Z",
     "iopub.status.idle": "2022-12-05T13:41:27.281386Z",
     "shell.execute_reply": "2022-12-05T13:41:27.280108Z"
    },
    "jupyter": {
     "outputs_hidden": false
    },
    "papermill": {
     "duration": 0.032117,
     "end_time": "2022-12-05T13:41:27.284484",
     "exception": false,
     "start_time": "2022-12-05T13:41:27.252367",
     "status": "completed"
    },
    "tags": []
   },
   "outputs": [],
   "source": [
    "# Functions to compute the cost function\n",
    "\n",
    "# Cost of reconfiguring the robotic arm: the square root of the number of links rotated\n",
    "def reconfiguration_cost(from_config, to_config):\n",
    "    nlinks = len(from_config)\n",
    "    diffs = np.abs(np.asarray(from_config) - np.asarray(to_config)).sum(axis=1)\n",
    "    return np.sqrt(diffs.sum())\n",
    "\n",
    "\n",
    "# Cost of moving from one color to another: the sum of the absolute change in color components\n",
    "def color_cost(from_position, to_position, image, color_scale=3.0):\n",
    "    return np.abs(image[to_position] - image[from_position]).sum() * color_scale\n",
    "\n",
    "\n",
    "# Total cost of one step: the reconfiguration cost plus the color cost\n",
    "def step_cost(from_config, to_config, image):\n",
    "    from_position = cartesian_to_array(*get_position(from_config), image.shape)\n",
    "    to_position = cartesian_to_array(*get_position(to_config), image.shape)\n",
    "    return (\n",
    "        reconfiguration_cost(from_config, to_config) +\n",
    "        color_cost(from_position, to_position, image)\n",
    "    )"
   ]
  },
  {
   "cell_type": "markdown",
   "id": "e10dac35",
   "metadata": {
    "papermill": {
     "duration": 0.018403,
     "end_time": "2022-12-05T13:41:27.320600",
     "exception": false,
     "start_time": "2022-12-05T13:41:27.302197",
     "status": "completed"
    },
    "tags": []
   },
   "source": [
    "We'll see some examples of computing the cost of a path below."
   ]
  },
  {
   "cell_type": "markdown",
   "id": "1a0c170f",
   "metadata": {
    "papermill": {
     "duration": 0.017663,
     "end_time": "2022-12-05T13:41:27.355664",
     "exception": false,
     "start_time": "2022-12-05T13:41:27.338001",
     "status": "completed"
    },
    "tags": []
   },
   "source": [
    "# The Configuration Space #\n",
    "\n",
    "We can take an alternative view of the optimization problem to make it similar to a traditional Traveling Salesman Problem.\n",
    "\n",
    "In a single step, any of the links in the arm can transition to either of two states by a counter-clockwise rotation or a clockwise rotation. Laying out the transitions for each link along perpendicular axes, we form the **configuration space** of the arm. In general, an arm with $N$ links will create a configuration space with $N$ dimensions. Each unique configuration will occupy a point in a lattice (or grid) in this space. Filling in this lattice gives us a *cubical complex*, a bunch of cubes pasted together on their faces.\n",
    "\n",
    "The configuration space for a 2-link arm is just a grid of squares, as the following figures show."
   ]
  },
  {
   "cell_type": "code",
   "execution_count": 17,
   "id": "214327a0",
   "metadata": {
    "collapsed": false,
    "execution": {
     "iopub.execute_input": "2022-12-05T13:41:27.394657Z",
     "iopub.status.busy": "2022-12-05T13:41:27.392844Z",
     "iopub.status.idle": "2022-12-05T13:41:27.686390Z",
     "shell.execute_reply": "2022-12-05T13:41:27.683785Z"
    },
    "jupyter": {
     "outputs_hidden": false
    },
    "papermill": {
     "duration": 0.317893,
     "end_time": "2022-12-05T13:41:27.691118",
     "exception": false,
     "start_time": "2022-12-05T13:41:27.373225",
     "status": "completed"
    },
    "tags": []
   },
   "outputs": [
    {
     "data": {
      "image/png": "[encoded data removed]",
      "text/plain": [
       "<Figure size 432x288 with 1 Axes>"
      ]
     },
     "metadata": {},
     "output_type": "display_data"
    }
   ],
   "source": [
    "# Create an artificial test image\n",
    "config = [(1, 0), (-1, 0)]\n",
    "neighbors = get_neighbors(config)\n",
    "\n",
    "side = 5\n",
    "image = np.zeros((side, side, 3))\n",
    "image[:, :, 0] = np.linspace(0, 1, side)\n",
    "image[:, :, 1] = np.linspace(0, 1, side).reshape(-1, 1)\n",
    "fig, ax = plt.subplots()\n",
    "ax.matshow(image)\n",
    "ax.grid([]);"
   ]
  },
  {
   "cell_type": "markdown",
   "id": "cc069096",
   "metadata": {
    "papermill": {
     "duration": 0.01879,
     "end_time": "2022-12-05T13:41:27.755519",
     "exception": false,
     "start_time": "2022-12-05T13:41:27.736729",
     "status": "completed"
    },
    "tags": []
   },
   "source": [
    "In the image we created above, each position has a unique color. We map these into the configuration space of the 2-link arm below."
   ]
  },
  {
   "cell_type": "code",
   "execution_count": 18,
   "id": "949afd50",
   "metadata": {
    "_kg_hide-input": true,
    "execution": {
     "iopub.execute_input": "2022-12-05T13:41:27.794532Z",
     "iopub.status.busy": "2022-12-05T13:41:27.793504Z",
     "iopub.status.idle": "2022-12-05T13:41:28.151703Z",
     "shell.execute_reply": "2022-12-05T13:41:28.150565Z"
    },
    "jupyter": {
     "source_hidden": true
    },
    "papermill": {
     "duration": 0.380732,
     "end_time": "2022-12-05T13:41:28.153988",
     "exception": false,
     "start_time": "2022-12-05T13:41:27.773256",
     "status": "completed"
    },
    "tags": []
   },
   "outputs": [
    {
     "data": {
      "image/png": "[encoded data removed]",
      "text/plain": [
       "<Figure size 720x720 with 1 Axes>"
      ]
     },
     "metadata": {},
     "output_type": "display_data"
    }
   ],
   "source": [
    "square = [(1, 0)]\n",
    "for _ in range(7):\n",
    "    square.append(rotate(square, -1, direction=-1)[-1])\n",
    "configurations = list(product(square, repeat=2))\n",
    "\n",
    "fig, ax = plt.subplots(figsize=(8, 8), dpi=90)\n",
    "cspace = np.zeros((len(square), len(square), 3))\n",
    "for i, x in enumerate(square):\n",
    "    for j, y in enumerate(square):\n",
    "        cspace[i, j] = image[cartesian_to_array(*get_position([x, y]), image.shape)]\n",
    "        ax.plot([i], [j], 'o', color=cspace[i, j])\n",
    "ax.set_aspect('equal')\n",
    "ax.set_xlabel('Link 1')\n",
    "ax.set_xticks(range(len(square)))\n",
    "ax.set_xticklabels(square)\n",
    "ax.set_ylabel('Link 0')\n",
    "ax.set_yticks(range(len(square)))\n",
    "ax.set_yticklabels(square)\n",
    "ax.set_title(\"Configuration Space of the 2-Link Arm\");"
   ]
  },
  {
   "cell_type": "markdown",
   "id": "5d4114b7",
   "metadata": {
    "papermill": {
     "duration": 0.018194,
     "end_time": "2022-12-05T13:41:28.190710",
     "exception": false,
     "start_time": "2022-12-05T13:41:28.172516",
     "status": "completed"
    },
    "tags": []
   },
   "source": [
    "A movement in the positive direction (right/up) indicates a counter-clockwise rotation, while a movement in the negative direction (left/down) indicates a clockwise rotation. Moving across the *diagonal* of a square means a rotation of both links in a single step. The reconfiguration cost is simply the ordinary Euclidean distance in this space: $1$ for a step across the edge of a square, $\\sqrt{2}$ for a step across a diagonal. So we could think about the Santa optimization problem as being like a shortest path problem in the configuration space. (Note however that we don't need to visit *every* point in the configuration space, just some set of points corresponding to unique positions in the image.)\n"
   ]
  },
  {
   "cell_type": "markdown",
   "id": "07b83dea",
   "metadata": {
    "papermill": {
     "duration": 0.019714,
     "end_time": "2022-12-05T13:41:28.232583",
     "exception": false,
     "start_time": "2022-12-05T13:41:28.212869",
     "status": "completed"
    },
    "tags": []
   },
   "source": [
    "For more on configuration spaces, you might enjoy this article: [Ghrist, R., & Peterson, V. (2007). The geometry and topology of reconfiguration.](https://scholar.google.com/scholar?cluster=7705042403448786239&hl=en&as_sdt=0,37)."
   ]
  },
  {
   "cell_type": "markdown",
   "id": "7bacc7a2",
   "metadata": {
    "papermill": {
     "duration": 0.018056,
     "end_time": "2022-12-05T13:41:28.270090",
     "exception": false,
     "start_time": "2022-12-05T13:41:28.252034",
     "status": "completed"
    },
    "tags": []
   },
   "source": [
    "# A Simple Solution #\n",
    "\n",
    "Now let's use what we know to create a simple solution to this problem. Our stategy will be to write a function that can create a sequence of configurations with a given initial configuration that terminates at a desired position."
   ]
  },
  {
   "cell_type": "code",
   "execution_count": 19,
   "id": "de1995c7",
   "metadata": {
    "collapsed": false,
    "execution": {
     "iopub.execute_input": "2022-12-05T13:41:28.315727Z",
     "iopub.status.busy": "2022-12-05T13:41:28.314766Z",
     "iopub.status.idle": "2022-12-05T13:41:28.329892Z",
     "shell.execute_reply": "2022-12-05T13:41:28.328929Z"
    },
    "jupyter": {
     "outputs_hidden": false
    },
    "papermill": {
     "duration": 0.039833,
     "end_time": "2022-12-05T13:41:28.332527",
     "exception": false,
     "start_time": "2022-12-05T13:41:28.292694",
     "status": "completed"
    },
    "tags": []
   },
   "outputs": [],
   "source": [
    "def get_direction(u, v):\n",
    "    \"\"\"Returns the sign of the angle from u to v.\"\"\"\n",
    "    direction = np.sign(np.cross(u, v))\n",
    "    if direction == 0 and np.dot(u, v) < 0:\n",
    "        direction = 1\n",
    "    return direction\n",
    "\n",
    "\n",
    "# We don't use this elsewhere, but you might find it useful.\"\"\"\n",
    "def get_angle(u, v):\n",
    "    \"\"\"Returns the angle (in degrees) from u to v.\"\"\"\n",
    "    return np.degrees(np.math.atan2(\n",
    "        np.cross(u, v),\n",
    "        np.dot(u, v),\n",
    "    ))\n",
    "\n",
    "\n",
    "def get_path_to_point(config, point):\n",
    "    \"\"\"Find a path of configurations to `point` starting at `config`.\"\"\"\n",
    "    path = [config]\n",
    "    # Rotate each link, starting with the largest, until the point can\n",
    "    # be reached by the remaining links. The last link must reach the\n",
    "    # point itself.\n",
    "    for i in range(len(config)):\n",
    "        link = config[i]\n",
    "        base = get_position(config[:i])\n",
    "        relbase = (point[0] - base[0], point[1] - base[1])\n",
    "        position = get_position(config[:i+1])\n",
    "        relpos = (point[0] - position[0], point[1] - position[1])\n",
    "        radius = reduce(lambda r, link: r + max(abs(link[0]), abs(link[1])), config[i+1:], 0)\n",
    "        # Special case when next-to-last link lands on point.\n",
    "        if radius == 1 and relpos == (0, 0):\n",
    "            config = rotate(config, i, 1)\n",
    "            if get_position(config) == point:  # Thanks @pgeiger\n",
    "                path.append(config)\n",
    "                break\n",
    "            else:\n",
    "                continue\n",
    "        while np.max(np.abs(relpos)) > radius:\n",
    "            direction = get_direction(link, relbase)\n",
    "            config = rotate(config, i, direction)\n",
    "            path.append(config)\n",
    "            link = config[i]\n",
    "            base = get_position(config[:i])\n",
    "            relbase = (point[0] - base[0], point[1] - base[1])\n",
    "            position = get_position(config[:i+1])\n",
    "            relpos = (point[0] - position[0], point[1] - position[1])\n",
    "            radius = reduce(lambda r, link: r + max(abs(link[0]), abs(link[1])), config[i+1:], 0)\n",
    "    assert get_position(path[-1]) == point\n",
    "    return path"
   ]
  },
  {
   "cell_type": "markdown",
   "id": "7b181a51",
   "metadata": {
    "papermill": {
     "duration": 0.018326,
     "end_time": "2022-12-05T13:41:28.370287",
     "exception": false,
     "start_time": "2022-12-05T13:41:28.351961",
     "status": "completed"
    },
    "tags": []
   },
   "source": [
    "The `get_path_to_point` function only rotates a single link per step and doesn't account for the color cost at all, so it isn't very efficient. You can likely come up with something much better!\n",
    "\n",
    "We'll create a simple solution for a 2-link arm here to illustrate and then apply it to the full image in the next section."
   ]
  },
  {
   "cell_type": "code",
   "execution_count": 20,
   "id": "4164ed07",
   "metadata": {
    "collapsed": false,
    "execution": {
     "iopub.execute_input": "2022-12-05T13:41:28.411614Z",
     "iopub.status.busy": "2022-12-05T13:41:28.410865Z",
     "iopub.status.idle": "2022-12-05T13:41:28.420963Z",
     "shell.execute_reply": "2022-12-05T13:41:28.419462Z"
    },
    "jupyter": {
     "outputs_hidden": false
    },
    "papermill": {
     "duration": 0.03593,
     "end_time": "2022-12-05T13:41:28.424477",
     "exception": false,
     "start_time": "2022-12-05T13:41:28.388547",
     "status": "completed"
    },
    "tags": []
   },
   "outputs": [
    {
     "data": {
      "text/plain": [
       "[[(1, 0), (-1, 0)],\n",
       " [(1, -1), (-1, 0)],\n",
       " [(0, -1), (-1, 0)],\n",
       " [(-1, -1), (-1, 0)],\n",
       " [(-1, -1), (-1, -1)]]"
      ]
     },
     "execution_count": 20,
     "metadata": {},
     "output_type": "execute_result"
    }
   ],
   "source": [
    "config = [(1, 0), (-1, 0)]\n",
    "point = (-2, -2)\n",
    "path = get_path_to_point(config, point)\n",
    "\n",
    "path"
   ]
  },
  {
   "cell_type": "code",
   "execution_count": 21,
   "id": "fefe35b0",
   "metadata": {
    "_kg_hide-input": true,
    "execution": {
     "iopub.execute_input": "2022-12-05T13:41:28.467314Z",
     "iopub.status.busy": "2022-12-05T13:41:28.466040Z",
     "iopub.status.idle": "2022-12-05T13:41:28.807318Z",
     "shell.execute_reply": "2022-12-05T13:41:28.805667Z"
    },
    "jupyter": {
     "source_hidden": true
    },
    "papermill": {
     "duration": 0.368538,
     "end_time": "2022-12-05T13:41:28.813133",
     "exception": false,
     "start_time": "2022-12-05T13:41:28.444595",
     "status": "completed"
    },
    "tags": []
   },
   "outputs": [
    {
     "data": {
      "image/png": "[encoded data removed]",
      "text/plain": [
       "<Figure size 720x720 with 1 Axes>"
      ]
     },
     "metadata": {},
     "output_type": "display_data"
    }
   ],
   "source": [
    "N = len(path)\n",
    "colors = plt.cm.viridis(np.linspace(0, 1, N))\n",
    "fig, ax = plt.subplots(figsize=(10, 10))\n",
    "for i, c in enumerate(path):\n",
    "    plot_configuration(c, color=colors[i], ax=ax)\n",
    "start = get_position(config)\n",
    "# Black X is starting position, red X is target position.\n",
    "ax.plot(start[0]-0.5, start[1]-0.5, 'x', ms=20, color='k', zorder=11)\n",
    "ax.plot(point[0]-0.5, point[1]-0.5, 'x', ms=20, color='C3', zorder=11);"
   ]
  },
  {
   "cell_type": "markdown",
   "id": "6a1af4c4",
   "metadata": {
    "papermill": {
     "duration": 0.024272,
     "end_time": "2022-12-05T13:41:28.887040",
     "exception": false,
     "start_time": "2022-12-05T13:41:28.862768",
     "status": "completed"
    },
    "tags": []
   },
   "source": [
    "(*Exercise:* Try plotting this in the configuration space instead.)"
   ]
  },
  {
   "cell_type": "markdown",
   "id": "d7e669ec",
   "metadata": {
    "papermill": {
     "duration": 0.021579,
     "end_time": "2022-12-05T13:41:28.929329",
     "exception": false,
     "start_time": "2022-12-05T13:41:28.907750",
     "status": "completed"
    },
    "tags": []
   },
   "source": [
    "Let's also write a function that will transition from one configuration to another."
   ]
  },
  {
   "cell_type": "code",
   "execution_count": 22,
   "id": "c19982f9",
   "metadata": {
    "collapsed": false,
    "execution": {
     "iopub.execute_input": "2022-12-05T13:41:28.972182Z",
     "iopub.status.busy": "2022-12-05T13:41:28.971421Z",
     "iopub.status.idle": "2022-12-05T13:41:28.977554Z",
     "shell.execute_reply": "2022-12-05T13:41:28.976617Z"
    },
    "jupyter": {
     "outputs_hidden": false
    },
    "papermill": {
     "duration": 0.0306,
     "end_time": "2022-12-05T13:41:28.980526",
     "exception": false,
     "start_time": "2022-12-05T13:41:28.949926",
     "status": "completed"
    },
    "tags": []
   },
   "outputs": [],
   "source": [
    "def get_path_to_configuration(from_config, to_config):\n",
    "    path = [from_config]\n",
    "    config = from_config.copy()\n",
    "    while config != to_config:\n",
    "        for i in range(len(config)):\n",
    "            config = rotate(config, i, get_direction(config[i], to_config[i]))\n",
    "        path.append(config)\n",
    "    assert path[-1] == to_config\n",
    "    return path"
   ]
  },
  {
   "cell_type": "markdown",
   "id": "0e4d259e",
   "metadata": {
    "papermill": {
     "duration": 0.020522,
     "end_time": "2022-12-05T13:41:29.020906",
     "exception": false,
     "start_time": "2022-12-05T13:41:29.000384",
     "status": "completed"
    },
    "tags": []
   },
   "source": [
    "Now we can get a path through the entire image by just iterating through each point and extending the path created. Here we create a simple solution for a two-link arm."
   ]
  },
  {
   "cell_type": "code",
   "execution_count": 23,
   "id": "26b3aedd",
   "metadata": {
    "collapsed": false,
    "execution": {
     "iopub.execute_input": "2022-12-05T13:41:29.065237Z",
     "iopub.status.busy": "2022-12-05T13:41:29.064535Z",
     "iopub.status.idle": "2022-12-05T13:41:29.076553Z",
     "shell.execute_reply": "2022-12-05T13:41:29.075691Z"
    },
    "jupyter": {
     "outputs_hidden": false
    },
    "papermill": {
     "duration": 0.036973,
     "end_time": "2022-12-05T13:41:29.079155",
     "exception": false,
     "start_time": "2022-12-05T13:41:29.042182",
     "status": "completed"
    },
    "tags": []
   },
   "outputs": [
    {
     "data": {
      "text/plain": [
       "53"
      ]
     },
     "execution_count": 23,
     "metadata": {},
     "output_type": "execute_result"
    }
   ],
   "source": [
    "n = 2\n",
    "origin = [(1, 0), (-1, 0)]\n",
    "points = list(product(range(-n, n + 1), repeat=2))\n",
    "\n",
    "path = [origin]\n",
    "for p in points:\n",
    "    config = path[-1]\n",
    "    path.extend(get_path_to_point(config, p)[1:])\n",
    "\n",
    "# Now make sure we end at the \"origin\" configuration\n",
    "path.extend(get_path_to_configuration(path[-1], origin)[1:])\n",
    "\n",
    "len(path)"
   ]
  },
  {
   "cell_type": "markdown",
   "id": "82c4dfd5",
   "metadata": {
    "papermill": {
     "duration": 0.020194,
     "end_time": "2022-12-05T13:41:29.119293",
     "exception": false,
     "start_time": "2022-12-05T13:41:29.099099",
     "status": "completed"
    },
    "tags": []
   },
   "source": [
    "And indeed we see that our path of configutions was positioned at every point in the image and ends at the origin configuration."
   ]
  },
  {
   "cell_type": "code",
   "execution_count": 24,
   "id": "319958f0",
   "metadata": {
    "_kg_hide-input": true,
    "execution": {
     "iopub.execute_input": "2022-12-05T13:41:29.162552Z",
     "iopub.status.busy": "2022-12-05T13:41:29.161804Z",
     "iopub.status.idle": "2022-12-05T13:41:30.090628Z",
     "shell.execute_reply": "2022-12-05T13:41:30.088849Z"
    },
    "jupyter": {
     "source_hidden": true
    },
    "papermill": {
     "duration": 0.957153,
     "end_time": "2022-12-05T13:41:30.097314",
     "exception": false,
     "start_time": "2022-12-05T13:41:29.140161",
     "status": "completed"
    },
    "tags": []
   },
   "outputs": [
    {
     "data": {
      "image/png": "[encoded data removed]",
      "text/plain": [
       "<Figure size 576x576 with 1 Axes>"
      ]
     },
     "metadata": {},
     "output_type": "display_data"
    }
   ],
   "source": [
    "# Plot path\n",
    "N = len(path)\n",
    "colors = plt.cm.viridis(np.linspace(0, 1, N))\n",
    "fig, ax = plt.subplots(figsize=(8, 8))\n",
    "for i, c in enumerate(path):\n",
    "    plot_configuration(c, color=colors[i], ax=ax)\n",
    "start = get_position(path[0])\n",
    "ax.plot(start[0]-0.5, start[1]-0.5, 'x', ms=20, color='k', zorder=11);"
   ]
  },
  {
   "cell_type": "markdown",
   "id": "86732b48",
   "metadata": {
    "papermill": {
     "duration": 0.020718,
     "end_time": "2022-12-05T13:41:30.163200",
     "exception": false,
     "start_time": "2022-12-05T13:41:30.142482",
     "status": "completed"
    },
    "tags": []
   },
   "source": [
    "We can also compute the total cost of this solution by mapping the `step_cost` function over successive pairs in the path. We'll use the same test image as before."
   ]
  },
  {
   "cell_type": "code",
   "execution_count": 25,
   "id": "5e7ed546",
   "metadata": {
    "collapsed": false,
    "execution": {
     "iopub.execute_input": "2022-12-05T13:41:30.209219Z",
     "iopub.status.busy": "2022-12-05T13:41:30.208098Z",
     "iopub.status.idle": "2022-12-05T13:41:30.220504Z",
     "shell.execute_reply": "2022-12-05T13:41:30.218931Z"
    },
    "jupyter": {
     "outputs_hidden": false
    },
    "papermill": {
     "duration": 0.040306,
     "end_time": "2022-12-05T13:41:30.223956",
     "exception": false,
     "start_time": "2022-12-05T13:41:30.183650",
     "status": "completed"
    },
    "tags": []
   },
   "outputs": [
    {
     "data": {
      "text/plain": [
       "91.82842712474618"
      ]
     },
     "execution_count": 25,
     "metadata": {},
     "output_type": "execute_result"
    }
   ],
   "source": [
    "# Compute total cost of path over image\n",
    "def total_cost(path, image):\n",
    "    return reduce(\n",
    "        lambda cost, pair: cost + step_cost(pair[0], pair[1], image),\n",
    "        zip(path[:-1], path[1:]),\n",
    "        0,\n",
    "    )\n",
    "\n",
    "\n",
    "total_cost(path, image)"
   ]
  },
  {
   "cell_type": "markdown",
   "id": "889bb8ac",
   "metadata": {
    "papermill": {
     "duration": 0.019212,
     "end_time": "2022-12-05T13:41:30.264547",
     "exception": false,
     "start_time": "2022-12-05T13:41:30.245335",
     "status": "completed"
    },
    "tags": []
   },
   "source": [
    "# Create a Submission #\n",
    "\n",
    "Now let's create a simple solution for the full eight-link arm and create save it as a submission file."
   ]
  },
  {
   "cell_type": "code",
   "execution_count": 26,
   "id": "bffe85b5",
   "metadata": {
    "collapsed": false,
    "execution": {
     "iopub.execute_input": "2022-12-05T13:41:30.306667Z",
     "iopub.status.busy": "2022-12-05T13:41:30.305929Z",
     "iopub.status.idle": "2022-12-05T13:41:46.465989Z",
     "shell.execute_reply": "2022-12-05T13:41:46.464250Z"
    },
    "jupyter": {
     "outputs_hidden": false
    },
    "papermill": {
     "duration": 16.184448,
     "end_time": "2022-12-05T13:41:46.468976",
     "exception": false,
     "start_time": "2022-12-05T13:41:30.284528",
     "status": "completed"
    },
    "tags": []
   },
   "outputs": [
    {
     "name": "stderr",
     "output_type": "stream",
     "text": [
      "100%|██████████| 66049/66049 [00:16<00:00, 4103.49it/s]\n"
     ]
    },
    {
     "data": {
      "text/plain": [
       "133604"
      ]
     },
     "execution_count": 26,
     "metadata": {},
     "output_type": "execute_result"
    }
   ],
   "source": [
    "from tqdm import tqdm\n",
    "\n",
    "origin = [(64, 0), (-32, 0), (-16, 0), (-8, 0), (-4, 0), (-2, 0), (-1, 0), (-1, 0)]\n",
    "n = origin[0][0] * 2\n",
    "points = list(product(range(-n, n + 1), repeat=2))\n",
    "\n",
    "path = [origin]\n",
    "for p in tqdm(points):\n",
    "    config = path[-1]\n",
    "    path.extend(get_path_to_point(config, p)[1:])\n",
    "\n",
    "# Now make sure we end at the \"origin\" configuration\n",
    "path.extend(get_path_to_configuration(path[-1], origin)[1:])\n",
    "\n",
    "len(path)"
   ]
  },
  {
   "cell_type": "markdown",
   "id": "e2359241",
   "metadata": {
    "papermill": {
     "duration": 0.032199,
     "end_time": "2022-12-05T13:41:46.534173",
     "exception": false,
     "start_time": "2022-12-05T13:41:46.501974",
     "status": "completed"
    },
    "tags": []
   },
   "source": [
    "And here we compute the total cost of the solution."
   ]
  },
  {
   "cell_type": "code",
   "execution_count": 27,
   "id": "d8d270a0",
   "metadata": {
    "execution": {
     "iopub.execute_input": "2022-12-05T13:41:46.594587Z",
     "iopub.status.busy": "2022-12-05T13:41:46.594143Z",
     "iopub.status.idle": "2022-12-05T13:41:51.027291Z",
     "shell.execute_reply": "2022-12-05T13:41:51.025546Z"
    },
    "papermill": {
     "duration": 4.467323,
     "end_time": "2022-12-05T13:41:51.030435",
     "exception": false,
     "start_time": "2022-12-05T13:41:46.563112",
     "status": "completed"
    },
    "tags": []
   },
   "outputs": [
    {
     "data": {
      "text/plain": [
       "166305.28453774838"
      ]
     },
     "execution_count": 27,
     "metadata": {},
     "output_type": "execute_result"
    }
   ],
   "source": [
    "image = df_to_image(df_image)\n",
    "\n",
    "total_cost(path, image)"
   ]
  },
  {
   "cell_type": "markdown",
   "id": "7c7137d1",
   "metadata": {
    "papermill": {
     "duration": 0.030399,
     "end_time": "2022-12-05T13:41:51.091250",
     "exception": false,
     "start_time": "2022-12-05T13:41:51.060851",
     "status": "completed"
    },
    "tags": []
   },
   "source": [
    "Now let's convert our simple solution into the format expected of a submission file."
   ]
  },
  {
   "cell_type": "code",
   "execution_count": 28,
   "id": "4f0eb8cc",
   "metadata": {
    "collapsed": false,
    "execution": {
     "iopub.execute_input": "2022-12-05T13:41:51.154794Z",
     "iopub.status.busy": "2022-12-05T13:41:51.153584Z",
     "iopub.status.idle": "2022-12-05T13:41:52.128543Z",
     "shell.execute_reply": "2022-12-05T13:41:52.127260Z"
    },
    "jupyter": {
     "outputs_hidden": false
    },
    "papermill": {
     "duration": 1.008178,
     "end_time": "2022-12-05T13:41:52.131074",
     "exception": false,
     "start_time": "2022-12-05T13:41:51.122896",
     "status": "completed"
    },
    "tags": []
   },
   "outputs": [
    {
     "data": {
      "text/plain": [
       "0     64 0;-32 0;-16 0;-8 0;-4 0;-2 0;-1 0;-1 0\n",
       "1    64 -1;-32 0;-16 0;-8 0;-4 0;-2 0;-1 0;-1 0\n",
       "2    64 -2;-32 0;-16 0;-8 0;-4 0;-2 0;-1 0;-1 0\n",
       "3    64 -3;-32 0;-16 0;-8 0;-4 0;-2 0;-1 0;-1 0\n",
       "4    64 -4;-32 0;-16 0;-8 0;-4 0;-2 0;-1 0;-1 0\n",
       "Name: configuration, dtype: object"
      ]
     },
     "execution_count": 28,
     "metadata": {},
     "output_type": "execute_result"
    }
   ],
   "source": [
    "def config_to_string(config):\n",
    "    return ';'.join([' '.join(map(str, vector)) for vector in config])\n",
    "\n",
    "\n",
    "submission = pd.Series(\n",
    "    [config_to_string(config) for config in path],\n",
    "    name=\"configuration\",\n",
    ")\n",
    "\n",
    "submission.head()"
   ]
  },
  {
   "cell_type": "code",
   "execution_count": 29,
   "id": "6d5a53ec",
   "metadata": {
    "collapsed": false,
    "execution": {
     "iopub.execute_input": "2022-12-05T13:41:52.194560Z",
     "iopub.status.busy": "2022-12-05T13:41:52.193512Z",
     "iopub.status.idle": "2022-12-05T13:41:52.433570Z",
     "shell.execute_reply": "2022-12-05T13:41:52.431655Z"
    },
    "jupyter": {
     "outputs_hidden": false
    },
    "papermill": {
     "duration": 0.275256,
     "end_time": "2022-12-05T13:41:52.436447",
     "exception": false,
     "start_time": "2022-12-05T13:41:52.161191",
     "status": "completed"
    },
    "tags": []
   },
   "outputs": [],
   "source": [
    "submission.to_csv('submission.csv', index=False)"
   ]
  },
  {
   "cell_type": "markdown",
   "id": "8258c4fc",
   "metadata": {
    "papermill": {
     "duration": 0.029775,
     "end_time": "2022-12-05T13:41:52.497497",
     "exception": false,
     "start_time": "2022-12-05T13:41:52.467722",
     "status": "completed"
    },
    "tags": []
   },
   "source": [
    "Feel free to copy any of the code in this notebook for your own solutions. We're looking forward to seeing what you come up with!"
   ]
  }
 ],
 "metadata": {
  "kernelspec": {
   "display_name": "tf_gpu",
   "language": "python",
   "name": "python3"
  },
  "language_info": {
   "codemirror_mode": {
    "name": "ipython",
    "version": 3
   },
   "file_extension": ".py",
   "mimetype": "text/x-python",
   "name": "python",
   "nbconvert_exporter": "python",
   "pygments_lexer": "ipython3",
   "version": "3.9.15 (main, Nov  4 2022, 16:13:54) \n[GCC 11.2.0]"
  },
  "papermill": {
   "default_parameters": {},
   "duration": 43.165277,
   "end_time": "2022-12-05T13:41:53.451828",
   "environment_variables": {},
   "exception": null,
   "input_path": "__notebook__.ipynb",
   "output_path": "__notebook__.ipynb",
   "parameters": {},
   "start_time": "2022-12-05T13:41:10.286551",
   "version": "2.3.4"
  },
  "vscode": {
   "interpreter": {
    "hash": "f25b0b250f2438ea34cfd25a8eb3fd71d118a45010e35e50c1272cdf8f09b012"
   }
  }
 },
 "nbformat": 4,
 "nbformat_minor": 5
}
