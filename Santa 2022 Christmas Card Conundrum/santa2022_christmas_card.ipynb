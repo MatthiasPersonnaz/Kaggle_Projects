{
 "cells": [
  {
   "cell_type": "code",
   "execution_count": null,
   "metadata": {},
   "outputs": [],
   "source": []
  }
 ],
 "metadata": {
  "kernelspec": {
   "display_name": "tf_gpu",
   "language": "python",
   "name": "python3"
  },
  "language_info": {
   "name": "python",
   "version": "3.9.15 (main, Nov  4 2022, 16:13:54) \n[GCC 11.2.0]"
  },
  "orig_nbformat": 4,
  "vscode": {
   "interpreter": {
    "hash": "f25b0b250f2438ea34cfd25a8eb3fd71d118a45010e35e50c1272cdf8f09b012"
   }
  }
 },
 "nbformat": 4,
 "nbformat_minor": 2
}
