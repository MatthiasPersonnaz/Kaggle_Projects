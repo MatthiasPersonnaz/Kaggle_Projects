{
 "cells": [
  {
   "cell_type": "markdown",
   "metadata": {},
   "source": [
    "---\n",
    "# [Spaceship Titanic][1]\n",
    "\n",
    "- We are challenged to predict which passengers were transported by the anomaly using records recovered from the spaceship’s damaged computer system.\n",
    "\n",
    "---\n",
    "#### **The aim of this notebook is to...**\n",
    "- **1. Execute exploratory data analysis (EDA) and Feature Engineering. (<a href=\"#3\">Chapter3</a>)**\n",
    "- **2. Learn about [TabNet](https://github.com/google-research/google-research/tree/master/tabnet), and use [PyTorch-TabNet](https://github.com/dreamquark-ai/tabnet) library. (<a href=\"#4\">Chapter4</a>)**\n",
    "- **3. Deepen understanding of TabNet by building the model from scratch. (<a href=\"#5\">Chapter5</a>)**\n",
    "\n",
    "\n",
    "---\n",
    "**References:** Thanks to previous great codes, blogs and notebooks.\n",
    "\n",
    "- I refered to [[TabNet in Tensorflow 2.0][2]] when I built TabNet architecture from scratch, and I modified it in many ways.\n",
    "\n",
    "- If you want to know more details about the TabNet, please refer to the paper: \"[TabNet: Attentive Interpretable Tabular Learning](https://arxiv.org/abs/1908.07442)\".\n",
    "\n",
    "- Japanese tech-blogs.\n",
    " - [【論文解説】TabNetを理解する][3]\n",
    " - [【解説+実装】Sparsemax関数を理解する][4]\n",
    " - [TabNetとは一体何者なのか？][5]\n",
    "\n",
    "---\n",
    "#### **My Previous Notebooks:**\n",
    "Please note that the EDA part in this notebook is same as my previous notebook below. If you have read it, you can skip over chapter 3.\n",
    "- [SpaceshipTitanic: EDA + TabTransformer[TensorFlow]][6]\n",
    "\n",
    "---\n",
    "### **If you find this notebook useful, or when you copy&edit this notebook, please do give me an upvote. It helps me keep up my motivation.**\n",
    "\n",
    "---\n",
    "[1]: https://www.kaggle.com/competitions/spaceship-titanic/overview\n",
    "[2]: https://www.kaggle.com/code/marcusgawronsky/tabnet-in-tensorflow-2-0/notebook\n",
    "[3]: https://data-analytics.fun/2021/09/04/understanding-tabnet/\n",
    "[4]: https://data-analytics.fun/2021/08/17/understanding-sparsemax/\n",
    "[5]: https://zenn.dev/sinchir0/articles/9228eccebfbf579bfdf4\n",
    "[6]: https://www.kaggle.com/code/masatomurakawamm/spaceshiptitanic-eda-tabtransformer-tensorflow"
   ]
  },
  {
   "cell_type": "markdown",
   "metadata": {},
   "source": [
    "<h1 style=\"background:#05445E; border:0; border-radius: 12px; color:#D3D3D3\"><center>0. TABLE OF CONTENTS</center></h1>\n",
    "\n",
    "<ul class=\"list-group\" style=\"list-style-type:none;\">\n",
    "    <li><a href=\"#1\" class=\"list-group-item list-group-item-action\">1. Settings</a></li>\n",
    "    <li><a href=\"#2\" class=\"list-group-item list-group-item-action\">2. Data Loading</a></li>\n",
    "    <li><a href=\"#3\" class=\"list-group-item list-group-item-action\">3. Exploratory Data Analysis</a>\n",
    "        <ul class=\"list-group\" style=\"list-style-type:none;\">\n",
    "            <li><a href=\"#3.1\" class=\"list-group-item list-group-item-action\">3.1 Feature Engineering</a></li>\n",
    "            <li><a href=\"#3.2\" class=\"list-group-item list-group-item-action\">3.2 Target Distribution</a></li>\n",
    "            <li><a href=\"#3.3\" class=\"list-group-item list-group-item-action\">3.3 Numerical Features</a>\n",
    "                <ul class=\"list-group\" style=\"list-style-type:none;\">\n",
    "                    <li><a href=\"#3.3.1\" class=\"list-group-item list-group-item-action\">3.3.1 Statistics of Numerical Features</a></li>\n",
    "                    <li><a href=\"#3.3.2\" class=\"list-group-item list-group-item-action\">3.3.2 Binning for Numerical Features</a></li>\n",
    "                </ul>\n",
    "            </li>\n",
    "            <li><a href=\"#3.4\" class=\"list-group-item list-group-item-action\">3.4 Categorical Feature</a></li>\n",
    "            <li><a href=\"#3.5\" class=\"list-group-item list-group-item-action\">3.5 Data Processing Complete</a></li>\n",
    "            <li><a href=\"#3.6\" class=\"list-group-item list-group-item-action\">3.6 Validation Split</a></li>\n",
    "        </ul>\n",
    "    </li>\n",
    "    <li><a href=\"#4\" class=\"list-group-item list-group-item-action\">4. TabNet</a>\n",
    "        <ul class=\"list-group\" style=\"list-style-type:none;\">\n",
    "            <li><a href=\"#4.1\" class=\"list-group-item list-group-item-action\">4.1 Pytorch_TabNet</a></li>\n",
    "            <li><a href=\"#4.2\" class=\"list-group-item list-group-item-action\">4.2 Pre-training and Fine-tuning</a></li>\n",
    "        </ul>\n",
    "    </li>\n",
    "    <li><a href=\"#5\" class=\"list-group-item list-group-item-action\">5. TabNet from Scratch</a>\n",
    "        <ul class=\"list-group\" style=\"list-style-type:none;\">\n",
    "            <li><a href=\"#5.1\" class=\"list-group-item list-group-item-action\">5.1 Data Preprocessing for TabNet[TensorFlow]</a>\n",
    "                <ul class=\"list-group\" style=\"list-style-type:none;\">\n",
    "                    <li><a href=\"#5.1.1\" class=\"list-group-item list-group-item-action\">5.1.1 Datasets</a></li>\n",
    "                    <li><a href=\"#5.1.2\" class=\"list-group-item list-group-item-action\">5.1.2 Preprocessing Layers</a></li>\n",
    "                    <li><a href=\"#5.1.3\" class=\"list-group-item list-group-item-action\">5.1.3 Embedding Layers</a></li>\n",
    "                </ul>\n",
    "            </li>\n",
    "            <li><a href=\"#5.2\" class=\"list-group-item list-group-item-action\">5.2 TabNet from Scratch[TensorFlow]</a>\n",
    "                <ul class=\"list-group\" style=\"list-style-type:none;\">\n",
    "                    <li><a href=\"#5.2.1\" class=\"list-group-item list-group-item-action\">5.2.1 TabNet Encoder from Scratch</a></li>\n",
    "                    <li><a href=\"#5.2.2\" class=\"list-group-item list-group-item-action\">5.2.2 Training</a></li>\n",
    "                    <li><a href=\"#5.2.3\" class=\"list-group-item list-group-item-action\">5.2.3 Inference</a></li>\n",
    "                </ul>\n",
    "            </li>\n",
    "            <li><a href=\"#5.3\" class=\"list-group-item list-group-item-action\">5.3 Pre-training and Fine-tuning from Scratch</a>\n",
    "                <ul class=\"list-group\" style=\"list-style-type:none;\">\n",
    "                    <li><a href=\"#5.3.1\" class=\"list-group-item list-group-item-action\">5.3.1 TabNet Encoder-Decoder from Scratch</a></li>\n",
    "                    <li><a href=\"#5.3.2\" class=\"list-group-item list-group-item-action\">5.3.2 Pre-Training and Fine-Tuning</a></li>\n",
    "                    <li><a href=\"#5.3.3\" class=\"list-group-item list-group-item-action\">5.3.3 Inference</a></li>\n",
    "                </ul>\n",
    "            </li>\n",
    "        </ul>\n",
    "    </li>\n",
    "</ul>"
   ]
  },
  {
   "cell_type": "markdown",
   "metadata": {},
   "source": [
    "<a id =\"1\"></a><h1 style=\"background:#05445E; border:0; border-radius: 12px; color:#D3D3D3\"><center>1. Settings</center></h1>"
   ]
  },
  {
   "cell_type": "code",
   "execution_count": 12,
   "metadata": {
    "tags": []
   },
   "outputs": [
    {
     "name": "stdout",
     "output_type": "stream",
     "text": [
      "Parameters setted!\n"
     ]
    }
   ],
   "source": [
    "## Parameters\n",
    "data_config = {'train.csv': './train.csv',\n",
    "               'test.csv': './test.csv',\n",
    "               'sample_submission.csv': './sample_submission.csv',\n",
    "              }\n",
    "\n",
    "exp_config = {'competition_name': 'spaceship-titanic',\n",
    "              'n_bins': 10,\n",
    "              'batch_size': 512,\n",
    "              'n_splits': 5,\n",
    "              'num_columns': 13,\n",
    "              'train_epochs': 50,\n",
    "              'pretrain_epochs': 10,\n",
    "              'learning_rate': 2e-2,\n",
    "              'pretrain_lr': 1e-2,\n",
    "              'finetune_lr': 2e-2,\n",
    "              'emb_learning_rate': 5e-3,\n",
    "              'emb_finetune_lr': 5e-3,\n",
    "              'checkpoint_filepath': './tmp/model/exp.ckpt',\n",
    "             }\n",
    "\n",
    "model_config = {'emb_dim': 1,\n",
    "                'input_dims': 13,\n",
    "                'output_dims': 1,\n",
    "                'n_steps': 3,\n",
    "                'feature_dims': 16,\n",
    "                'gamma': 1.3,\n",
    "                'epsilon': 1e-8,\n",
    "                'lambda_sparsity': 1e-3,\n",
    "                'mask_ratio': 0.25,\n",
    "                'label_smoothing': 0.01,\n",
    "               }\n",
    "\n",
    "print('Parameters setted!')"
   ]
  },
  {
   "cell_type": "code",
   "execution_count": 9,
   "metadata": {
    "tags": []
   },
   "outputs": [
    {
     "name": "stdout",
     "output_type": "stream",
     "text": [
      "import done!\n"
     ]
    }
   ],
   "source": [
    "## Import dependencies \n",
    "import numpy as np\n",
    "import pandas as pd\n",
    "import scipy as sp\n",
    "import matplotlib.pyplot as plt \n",
    "%matplotlib inline\n",
    "\n",
    "import seaborn as sns\n",
    "import plotly.express as px\n",
    "import plotly.graph_objects as go\n",
    "from plotly.subplots import make_subplots\n",
    "\n",
    "import os\n",
    "import pathlib\n",
    "import gc\n",
    "import sys\n",
    "import re\n",
    "import math \n",
    "import random\n",
    "import time \n",
    "import datetime as dt\n",
    "from tqdm import tqdm\n",
    "from typing import Optional, Union, Tuple\n",
    "\n",
    "import sklearn\n",
    "from sklearn.model_selection import StratifiedKFold\n",
    "\n",
    "import tensorflow as tf\n",
    "from tensorflow import keras\n",
    "from tensorflow.keras import layers\n",
    "import tensorflow_addons as tfa\n",
    "\n",
    "import warnings\n",
    "warnings.filterwarnings('ignore')\n",
    "\n",
    "print('import done!')"
   ]
  },
  {
   "cell_type": "code",
   "execution_count": 10,
   "metadata": {
    "tags": []
   },
   "outputs": [
    {
     "name": "stdout",
     "output_type": "stream",
     "text": [
      "Seeds setted!\n",
      "PhysicalDevice(name='/physical_device:GPU:0', device_type='GPU') memory growth: True\n"
     ]
    }
   ],
   "source": [
    "## For reproducible results    \n",
    "def seed_all(s):\n",
    "    random.seed(s)\n",
    "    np.random.seed(s)\n",
    "    tf.random.set_seed(s)\n",
    "    os.environ['TF_CUDNN_DETERMINISTIC'] = '1'\n",
    "    os.environ['PYTHONHASHSEED'] = str(s) \n",
    "    print('Seeds setted!')\n",
    "    \n",
    "global_seed = 42\n",
    "seed_all(global_seed)\n",
    "\n",
    "## Limit GPU Memory in TensorFlow\n",
    "## Because TensorFlow, by default, allocates the full amount of available GPU memory when it is launched. \n",
    "physical_devices = tf.config.list_physical_devices('GPU')\n",
    "if len(physical_devices) > 0:\n",
    "    for device in physical_devices:\n",
    "        tf.config.experimental.set_memory_growth(device, True)\n",
    "        print('{} memory growth: {}'.format(device, tf.config.experimental.get_memory_growth(device)))\n",
    "else:\n",
    "    print(\"Not enough GPU hardware devices available\")"
   ]
  },
  {
   "cell_type": "markdown",
   "metadata": {},
   "source": [
    "<a id =\"2\"></a><h1 style=\"background:#05445E; border:0; border-radius: 12px; color:#D3D3D3\"><center>2. Data Loading</center></h1>"
   ]
  },
  {
   "cell_type": "markdown",
   "metadata": {},
   "source": [
    "---\n",
    "### [File and Data Field Descriptions](https://www.kaggle.com/competitions/spaceship-titanic/data)\n",
    "\n",
    "- **train.csv** - Personal records for about two-thirds (~8700) of the passengers, to be used as training data.\n",
    " - `PassengerId` - A unique Id for each passenger. Each Id takes the form `gggg_pp` where `gggg` indicates a group the passenger is travelling with and `pp` is their number within the group. People in a group are often family members, but not always.\n",
    " - `HomePlanet` - The planet the passenger departed from, typically their planet of permanent residence.\n",
    " - `CryoSleep` - Indicates whether the passenger elected to be put into suspended animation for the duration of the voyage. Passengers in cryosleep are confined to their cabins.\n",
    " - `Cabin` - The cabin number where the passenger is staying. Takes the form `deck/num/side`, where `side` can be either `P` for *Port* or `S` for *Starboard*.\n",
    " - `Destination` - The planet the passenger will be debarking to.\n",
    " - `Age` - The age of the passenger.\n",
    " - `VIP` - Whether the passenger has paid for special VIP service during the voyage.\n",
    " - `RoomService`, `FoodCourt`, `ShoppingMall`, `Spa`, `VRDeck` - Amount the passenger has billed at each of the *Spaceship Titanic*'s many luxury amenities.\n",
    " - `Name` - The first and last names of the passenger.\n",
    " - `Transported` - Whether the passenger was transported to another dimension. This is the target, the column you are trying to predict.\n",
    "\n",
    "\n",
    "- **test.csv** - Personal records for the remaining one-third (~4300) of the passengers, to be used as test data. Your task is to predict the value of `Transported` for the passengers in this set.\n",
    "\n",
    "\n",
    "- **sample_submission.csv** - A submission file in the correct format.\n",
    " - `PassengerId` - Id for each passenger in the test set.\n",
    " - `Transported` - The target. For each passenger, predict either *True* or *False*.\n",
    "\n",
    "---\n",
    "### [Submission & Evaluation](https://www.kaggle.com/competitions/spaceship-titanic/overview/evaluation)\n",
    "\n",
    "- Submissions are evaluated based on their classification accuracy, the percentage of predicted labels that are correct.\n",
    "\n",
    "---"
   ]
  },
  {
   "cell_type": "code",
   "execution_count": 13,
   "metadata": {
    "_kg_hide-output": false,
    "tags": []
   },
   "outputs": [
    {
     "name": "stdout",
     "output_type": "stream",
     "text": [
      "train_length: 8693\n",
      "test_lenght: 4277\n",
      "submission_length: 4277\n"
     ]
    }
   ],
   "source": [
    "## Data Loading\n",
    "train_df = pd.read_csv(data_config['train.csv'])\n",
    "test_df = pd.read_csv(data_config['test.csv'])\n",
    "submission_df = pd.read_csv(data_config['sample_submission.csv'])\n",
    "\n",
    "print(f'train_length: {len(train_df)}')\n",
    "print(f'test_lenght: {len(test_df)}')\n",
    "print(f'submission_length: {len(submission_df)}')"
   ]
  },
  {
   "cell_type": "code",
   "execution_count": 14,
   "metadata": {
    "_kg_hide-output": true,
    "tags": []
   },
   "outputs": [
    {
     "name": "stdout",
     "output_type": "stream",
     "text": [
      "train_df.info()\n",
      "<class 'pandas.core.frame.DataFrame'>\n",
      "RangeIndex: 8693 entries, 0 to 8692\n",
      "Data columns (total 14 columns):\n",
      " #   Column        Non-Null Count  Dtype  \n",
      "---  ------        --------------  -----  \n",
      " 0   PassengerId   8693 non-null   object \n",
      " 1   HomePlanet    8492 non-null   object \n",
      " 2   CryoSleep     8476 non-null   object \n",
      " 3   Cabin         8494 non-null   object \n",
      " 4   Destination   8511 non-null   object \n",
      " 5   Age           8514 non-null   float64\n",
      " 6   VIP           8490 non-null   object \n",
      " 7   RoomService   8512 non-null   float64\n",
      " 8   FoodCourt     8510 non-null   float64\n",
      " 9   ShoppingMall  8485 non-null   float64\n",
      " 10  Spa           8510 non-null   float64\n",
      " 11  VRDeck        8505 non-null   float64\n",
      " 12  Name          8493 non-null   object \n",
      " 13  Transported   8693 non-null   bool   \n",
      "dtypes: bool(1), float64(6), object(7)\n",
      "memory usage: 891.5+ KB\n",
      "None \n",
      "\n",
      "test_df.info()\n",
      "<class 'pandas.core.frame.DataFrame'>\n",
      "RangeIndex: 4277 entries, 0 to 4276\n",
      "Data columns (total 13 columns):\n",
      " #   Column        Non-Null Count  Dtype  \n",
      "---  ------        --------------  -----  \n",
      " 0   PassengerId   4277 non-null   object \n",
      " 1   HomePlanet    4190 non-null   object \n",
      " 2   CryoSleep     4184 non-null   object \n",
      " 3   Cabin         4177 non-null   object \n",
      " 4   Destination   4185 non-null   object \n",
      " 5   Age           4186 non-null   float64\n",
      " 6   VIP           4184 non-null   object \n",
      " 7   RoomService   4195 non-null   float64\n",
      " 8   FoodCourt     4171 non-null   float64\n",
      " 9   ShoppingMall  4179 non-null   float64\n",
      " 10  Spa           4176 non-null   float64\n",
      " 11  VRDeck        4197 non-null   float64\n",
      " 12  Name          4183 non-null   object \n",
      "dtypes: float64(6), object(7)\n",
      "memory usage: 434.5+ KB\n",
      "None \n",
      "\n"
     ]
    },
    {
     "data": {
      "text/html": [
       "<div>\n",
       "<style scoped>\n",
       "    .dataframe tbody tr th:only-of-type {\n",
       "        vertical-align: middle;\n",
       "    }\n",
       "\n",
       "    .dataframe tbody tr th {\n",
       "        vertical-align: top;\n",
       "    }\n",
       "\n",
       "    .dataframe thead th {\n",
       "        text-align: right;\n",
       "    }\n",
       "</style>\n",
       "<table border=\"1\" class=\"dataframe\">\n",
       "  <thead>\n",
       "    <tr style=\"text-align: right;\">\n",
       "      <th></th>\n",
       "      <th>PassengerId</th>\n",
       "      <th>HomePlanet</th>\n",
       "      <th>CryoSleep</th>\n",
       "      <th>Cabin</th>\n",
       "      <th>Destination</th>\n",
       "      <th>Age</th>\n",
       "      <th>VIP</th>\n",
       "      <th>RoomService</th>\n",
       "      <th>FoodCourt</th>\n",
       "      <th>ShoppingMall</th>\n",
       "      <th>Spa</th>\n",
       "      <th>VRDeck</th>\n",
       "      <th>Name</th>\n",
       "      <th>Transported</th>\n",
       "    </tr>\n",
       "  </thead>\n",
       "  <tbody>\n",
       "    <tr>\n",
       "      <th>0</th>\n",
       "      <td>0001_01</td>\n",
       "      <td>Europa</td>\n",
       "      <td>False</td>\n",
       "      <td>B/0/P</td>\n",
       "      <td>TRAPPIST-1e</td>\n",
       "      <td>39.0</td>\n",
       "      <td>False</td>\n",
       "      <td>0.0</td>\n",
       "      <td>0.0</td>\n",
       "      <td>0.0</td>\n",
       "      <td>0.0</td>\n",
       "      <td>0.0</td>\n",
       "      <td>Maham Ofracculy</td>\n",
       "      <td>False</td>\n",
       "    </tr>\n",
       "    <tr>\n",
       "      <th>1</th>\n",
       "      <td>0002_01</td>\n",
       "      <td>Earth</td>\n",
       "      <td>False</td>\n",
       "      <td>F/0/S</td>\n",
       "      <td>TRAPPIST-1e</td>\n",
       "      <td>24.0</td>\n",
       "      <td>False</td>\n",
       "      <td>109.0</td>\n",
       "      <td>9.0</td>\n",
       "      <td>25.0</td>\n",
       "      <td>549.0</td>\n",
       "      <td>44.0</td>\n",
       "      <td>Juanna Vines</td>\n",
       "      <td>True</td>\n",
       "    </tr>\n",
       "    <tr>\n",
       "      <th>2</th>\n",
       "      <td>0003_01</td>\n",
       "      <td>Europa</td>\n",
       "      <td>False</td>\n",
       "      <td>A/0/S</td>\n",
       "      <td>TRAPPIST-1e</td>\n",
       "      <td>58.0</td>\n",
       "      <td>True</td>\n",
       "      <td>43.0</td>\n",
       "      <td>3576.0</td>\n",
       "      <td>0.0</td>\n",
       "      <td>6715.0</td>\n",
       "      <td>49.0</td>\n",
       "      <td>Altark Susent</td>\n",
       "      <td>False</td>\n",
       "    </tr>\n",
       "    <tr>\n",
       "      <th>3</th>\n",
       "      <td>0003_02</td>\n",
       "      <td>Europa</td>\n",
       "      <td>False</td>\n",
       "      <td>A/0/S</td>\n",
       "      <td>TRAPPIST-1e</td>\n",
       "      <td>33.0</td>\n",
       "      <td>False</td>\n",
       "      <td>0.0</td>\n",
       "      <td>1283.0</td>\n",
       "      <td>371.0</td>\n",
       "      <td>3329.0</td>\n",
       "      <td>193.0</td>\n",
       "      <td>Solam Susent</td>\n",
       "      <td>False</td>\n",
       "    </tr>\n",
       "    <tr>\n",
       "      <th>4</th>\n",
       "      <td>0004_01</td>\n",
       "      <td>Earth</td>\n",
       "      <td>False</td>\n",
       "      <td>F/1/S</td>\n",
       "      <td>TRAPPIST-1e</td>\n",
       "      <td>16.0</td>\n",
       "      <td>False</td>\n",
       "      <td>303.0</td>\n",
       "      <td>70.0</td>\n",
       "      <td>151.0</td>\n",
       "      <td>565.0</td>\n",
       "      <td>2.0</td>\n",
       "      <td>Willy Santantines</td>\n",
       "      <td>True</td>\n",
       "    </tr>\n",
       "  </tbody>\n",
       "</table>\n",
       "</div>"
      ],
      "text/plain": [
       "  PassengerId HomePlanet CryoSleep  Cabin  Destination   Age    VIP  \\\n",
       "0     0001_01     Europa     False  B/0/P  TRAPPIST-1e  39.0  False   \n",
       "1     0002_01      Earth     False  F/0/S  TRAPPIST-1e  24.0  False   \n",
       "2     0003_01     Europa     False  A/0/S  TRAPPIST-1e  58.0   True   \n",
       "3     0003_02     Europa     False  A/0/S  TRAPPIST-1e  33.0  False   \n",
       "4     0004_01      Earth     False  F/1/S  TRAPPIST-1e  16.0  False   \n",
       "\n",
       "   RoomService  FoodCourt  ShoppingMall     Spa  VRDeck               Name  \\\n",
       "0          0.0        0.0           0.0     0.0     0.0    Maham Ofracculy   \n",
       "1        109.0        9.0          25.0   549.0    44.0       Juanna Vines   \n",
       "2         43.0     3576.0           0.0  6715.0    49.0      Altark Susent   \n",
       "3          0.0     1283.0         371.0  3329.0   193.0       Solam Susent   \n",
       "4        303.0       70.0         151.0   565.0     2.0  Willy Santantines   \n",
       "\n",
       "   Transported  \n",
       "0        False  \n",
       "1         True  \n",
       "2        False  \n",
       "3        False  \n",
       "4         True  "
      ]
     },
     "execution_count": 14,
     "metadata": {},
     "output_type": "execute_result"
    }
   ],
   "source": [
    "## Null Value Check\n",
    "print('train_df.info()'); print(train_df.info(), '\\n')\n",
    "print('test_df.info()'); print(test_df.info(), '\\n')\n",
    "\n",
    "## train_df Check\n",
    "train_df.head()"
   ]
  },
  {
   "cell_type": "markdown",
   "metadata": {},
   "source": [
    "<a id =\"3\"></a><h1 style=\"background:#05445E; border:0; border-radius: 12px; color:#D3D3D3\"><center>3. Exploratory Data Analysis</center></h1>"
   ]
  },
  {
   "cell_type": "markdown",
   "metadata": {},
   "source": [
    "<a id =\"3.1\"></a><h2 style=\"background:#75E6DA; border:0; border-radius: 12px; color:black\"><center>3.1 Feature Engineering</center></h2>"
   ]
  },
  {
   "cell_type": "code",
   "execution_count": 15,
   "metadata": {
    "_kg_hide-output": false,
    "tags": []
   },
   "outputs": [
    {
     "data": {
      "text/plain": [
       "{'PassengerId': 8693,\n",
       " 'HomePlanet': 3,\n",
       " 'CryoSleep': 2,\n",
       " 'Cabin': 6560,\n",
       " 'Destination': 3,\n",
       " 'VIP': 2,\n",
       " 'Name': 8473}"
      ]
     },
     "execution_count": 15,
     "metadata": {},
     "output_type": "execute_result"
    }
   ],
   "source": [
    "## Feature Selection\n",
    "numerical_columns = ['Age', 'RoomService', 'FoodCourt',\n",
    "                     'ShoppingMall', 'Spa', 'VRDeck']\n",
    "categorical_columns = ['PassengerId', 'HomePlanet', 'CryoSleep',\n",
    "                       'Cabin', 'Destination', 'VIP', 'Name']\n",
    "target = 'Transported'\n",
    "\n",
    "## Number of unique values in each categorical features.\n",
    "categorical_n_unique = {cc: train_df[cc].nunique() for cc in categorical_columns}\n",
    "categorical_n_unique"
   ]
  },
  {
   "cell_type": "code",
   "execution_count": 16,
   "metadata": {
    "_kg_hide-output": true,
    "tags": []
   },
   "outputs": [
    {
     "data": {
      "text/html": [
       "<div>\n",
       "<style scoped>\n",
       "    .dataframe tbody tr th:only-of-type {\n",
       "        vertical-align: middle;\n",
       "    }\n",
       "\n",
       "    .dataframe tbody tr th {\n",
       "        vertical-align: top;\n",
       "    }\n",
       "\n",
       "    .dataframe thead th {\n",
       "        text-align: right;\n",
       "    }\n",
       "</style>\n",
       "<table border=\"1\" class=\"dataframe\">\n",
       "  <thead>\n",
       "    <tr style=\"text-align: right;\">\n",
       "      <th></th>\n",
       "      <th>PassengerId</th>\n",
       "      <th>HomePlanet</th>\n",
       "      <th>CryoSleep</th>\n",
       "      <th>Cabin</th>\n",
       "      <th>Destination</th>\n",
       "      <th>Age</th>\n",
       "      <th>VIP</th>\n",
       "      <th>RoomService</th>\n",
       "      <th>FoodCourt</th>\n",
       "      <th>ShoppingMall</th>\n",
       "      <th>Spa</th>\n",
       "      <th>VRDeck</th>\n",
       "      <th>Transported</th>\n",
       "    </tr>\n",
       "  </thead>\n",
       "  <tbody>\n",
       "    <tr>\n",
       "      <th>0</th>\n",
       "      <td>0001_01</td>\n",
       "      <td>Europa</td>\n",
       "      <td>No</td>\n",
       "      <td>B/0/P</td>\n",
       "      <td>TRAPPIST-1e</td>\n",
       "      <td>39.0</td>\n",
       "      <td>No</td>\n",
       "      <td>0.0</td>\n",
       "      <td>0.0</td>\n",
       "      <td>0.0</td>\n",
       "      <td>0.0</td>\n",
       "      <td>0.0</td>\n",
       "      <td>0</td>\n",
       "    </tr>\n",
       "    <tr>\n",
       "      <th>1</th>\n",
       "      <td>0002_01</td>\n",
       "      <td>Earth</td>\n",
       "      <td>No</td>\n",
       "      <td>F/0/S</td>\n",
       "      <td>TRAPPIST-1e</td>\n",
       "      <td>24.0</td>\n",
       "      <td>No</td>\n",
       "      <td>109.0</td>\n",
       "      <td>9.0</td>\n",
       "      <td>25.0</td>\n",
       "      <td>549.0</td>\n",
       "      <td>44.0</td>\n",
       "      <td>1</td>\n",
       "    </tr>\n",
       "    <tr>\n",
       "      <th>2</th>\n",
       "      <td>0003_01</td>\n",
       "      <td>Europa</td>\n",
       "      <td>No</td>\n",
       "      <td>A/0/S</td>\n",
       "      <td>TRAPPIST-1e</td>\n",
       "      <td>58.0</td>\n",
       "      <td>Yes</td>\n",
       "      <td>43.0</td>\n",
       "      <td>3576.0</td>\n",
       "      <td>0.0</td>\n",
       "      <td>6715.0</td>\n",
       "      <td>49.0</td>\n",
       "      <td>0</td>\n",
       "    </tr>\n",
       "    <tr>\n",
       "      <th>3</th>\n",
       "      <td>0003_02</td>\n",
       "      <td>Europa</td>\n",
       "      <td>No</td>\n",
       "      <td>A/0/S</td>\n",
       "      <td>TRAPPIST-1e</td>\n",
       "      <td>33.0</td>\n",
       "      <td>No</td>\n",
       "      <td>0.0</td>\n",
       "      <td>1283.0</td>\n",
       "      <td>371.0</td>\n",
       "      <td>3329.0</td>\n",
       "      <td>193.0</td>\n",
       "      <td>0</td>\n",
       "    </tr>\n",
       "    <tr>\n",
       "      <th>4</th>\n",
       "      <td>0004_01</td>\n",
       "      <td>Earth</td>\n",
       "      <td>No</td>\n",
       "      <td>F/1/S</td>\n",
       "      <td>TRAPPIST-1e</td>\n",
       "      <td>16.0</td>\n",
       "      <td>No</td>\n",
       "      <td>303.0</td>\n",
       "      <td>70.0</td>\n",
       "      <td>151.0</td>\n",
       "      <td>565.0</td>\n",
       "      <td>2.0</td>\n",
       "      <td>1</td>\n",
       "    </tr>\n",
       "  </tbody>\n",
       "</table>\n",
       "</div>"
      ],
      "text/plain": [
       "  PassengerId HomePlanet CryoSleep  Cabin  Destination   Age  VIP  \\\n",
       "0     0001_01     Europa        No  B/0/P  TRAPPIST-1e  39.0   No   \n",
       "1     0002_01      Earth        No  F/0/S  TRAPPIST-1e  24.0   No   \n",
       "2     0003_01     Europa        No  A/0/S  TRAPPIST-1e  58.0  Yes   \n",
       "3     0003_02     Europa        No  A/0/S  TRAPPIST-1e  33.0   No   \n",
       "4     0004_01      Earth        No  F/1/S  TRAPPIST-1e  16.0   No   \n",
       "\n",
       "   RoomService  FoodCourt  ShoppingMall     Spa  VRDeck  Transported  \n",
       "0          0.0        0.0           0.0     0.0     0.0            0  \n",
       "1        109.0        9.0          25.0   549.0    44.0            1  \n",
       "2         43.0     3576.0           0.0  6715.0    49.0            0  \n",
       "3          0.0     1283.0         371.0  3329.0   193.0            0  \n",
       "4        303.0       70.0         151.0   565.0     2.0            1  "
      ]
     },
     "execution_count": 16,
     "metadata": {},
     "output_type": "execute_result"
    }
   ],
   "source": [
    "def preprocess_df(dataframe):\n",
    "    df = dataframe.copy()\n",
    "    \n",
    "    ## Drop 'Name'\n",
    "    df = df.drop(['Name'], axis=1)\n",
    "    \n",
    "    ## Transform 'Transported' column to 0 or 1.\n",
    "    if 'Transported' in df.columns:\n",
    "        df.loc[df['Transported']==True, 'Transported'] = 1.\n",
    "        df.loc[df['Transported']==False, 'Transported'] = 0.\n",
    "        df['Transported'] = df['Transported'].astype('int64')\n",
    "    \n",
    "    ## Transform True-False features (CryoSleep and VIP) to 'Yes' or 'No'.\n",
    "    df.loc[df['CryoSleep']==True, 'CryoSleep'] = 'Yes'\n",
    "    df.loc[df['CryoSleep']==False, 'CryoSleep'] = 'No'\n",
    "    df['CryoSleep'] = df['CryoSleep'].astype(str)\n",
    "    \n",
    "    df.loc[df['VIP']==True, 'VIP'] = 'Yes'\n",
    "    df.loc[df['VIP']==False, 'VIP'] = 'No'\n",
    "    df['VIP'] = df['VIP'].astype(str)\n",
    "    \n",
    "    ## Transform the dtypes of HomePlanet and Destination to str\n",
    "    df['HomePlanet'] = df['HomePlanet'].astype(str)\n",
    "    df['Destination'] = df['Destination'].astype(str)\n",
    "    \n",
    "    return df\n",
    "\n",
    "train = preprocess_df(train_df)\n",
    "train.head()"
   ]
  },
  {
   "cell_type": "markdown",
   "metadata": {},
   "source": [
    "**Note: After `astype(str)`, null values (np.nan) are replaced by the string 'nan'.**"
   ]
  },
  {
   "cell_type": "code",
   "execution_count": 17,
   "metadata": {
    "_kg_hide-output": true,
    "tags": []
   },
   "outputs": [
    {
     "data": {
      "text/html": [
       "<div>\n",
       "<style scoped>\n",
       "    .dataframe tbody tr th:only-of-type {\n",
       "        vertical-align: middle;\n",
       "    }\n",
       "\n",
       "    .dataframe tbody tr th {\n",
       "        vertical-align: top;\n",
       "    }\n",
       "\n",
       "    .dataframe thead th {\n",
       "        text-align: right;\n",
       "    }\n",
       "</style>\n",
       "<table border=\"1\" class=\"dataframe\">\n",
       "  <thead>\n",
       "    <tr style=\"text-align: right;\">\n",
       "      <th></th>\n",
       "      <th>PassengerId</th>\n",
       "      <th>HomePlanet</th>\n",
       "      <th>CryoSleep</th>\n",
       "      <th>Destination</th>\n",
       "      <th>Age</th>\n",
       "      <th>VIP</th>\n",
       "      <th>RoomService</th>\n",
       "      <th>FoodCourt</th>\n",
       "      <th>ShoppingMall</th>\n",
       "      <th>Spa</th>\n",
       "      <th>VRDeck</th>\n",
       "      <th>Transported</th>\n",
       "      <th>Cabin_0</th>\n",
       "      <th>Cabin_1</th>\n",
       "      <th>Cabin_2</th>\n",
       "    </tr>\n",
       "  </thead>\n",
       "  <tbody>\n",
       "    <tr>\n",
       "      <th>0</th>\n",
       "      <td>0001_01</td>\n",
       "      <td>Europa</td>\n",
       "      <td>No</td>\n",
       "      <td>TRAPPIST-1e</td>\n",
       "      <td>39.0</td>\n",
       "      <td>No</td>\n",
       "      <td>0.0</td>\n",
       "      <td>0.0</td>\n",
       "      <td>0.0</td>\n",
       "      <td>0.0</td>\n",
       "      <td>0.0</td>\n",
       "      <td>0</td>\n",
       "      <td>B</td>\n",
       "      <td>0.0</td>\n",
       "      <td>P</td>\n",
       "    </tr>\n",
       "    <tr>\n",
       "      <th>1</th>\n",
       "      <td>0002_01</td>\n",
       "      <td>Earth</td>\n",
       "      <td>No</td>\n",
       "      <td>TRAPPIST-1e</td>\n",
       "      <td>24.0</td>\n",
       "      <td>No</td>\n",
       "      <td>109.0</td>\n",
       "      <td>9.0</td>\n",
       "      <td>25.0</td>\n",
       "      <td>549.0</td>\n",
       "      <td>44.0</td>\n",
       "      <td>1</td>\n",
       "      <td>F</td>\n",
       "      <td>0.0</td>\n",
       "      <td>S</td>\n",
       "    </tr>\n",
       "    <tr>\n",
       "      <th>2</th>\n",
       "      <td>0003_01</td>\n",
       "      <td>Europa</td>\n",
       "      <td>No</td>\n",
       "      <td>TRAPPIST-1e</td>\n",
       "      <td>58.0</td>\n",
       "      <td>Yes</td>\n",
       "      <td>43.0</td>\n",
       "      <td>3576.0</td>\n",
       "      <td>0.0</td>\n",
       "      <td>6715.0</td>\n",
       "      <td>49.0</td>\n",
       "      <td>0</td>\n",
       "      <td>A</td>\n",
       "      <td>0.0</td>\n",
       "      <td>S</td>\n",
       "    </tr>\n",
       "    <tr>\n",
       "      <th>3</th>\n",
       "      <td>0003_02</td>\n",
       "      <td>Europa</td>\n",
       "      <td>No</td>\n",
       "      <td>TRAPPIST-1e</td>\n",
       "      <td>33.0</td>\n",
       "      <td>No</td>\n",
       "      <td>0.0</td>\n",
       "      <td>1283.0</td>\n",
       "      <td>371.0</td>\n",
       "      <td>3329.0</td>\n",
       "      <td>193.0</td>\n",
       "      <td>0</td>\n",
       "      <td>A</td>\n",
       "      <td>0.0</td>\n",
       "      <td>S</td>\n",
       "    </tr>\n",
       "    <tr>\n",
       "      <th>4</th>\n",
       "      <td>0004_01</td>\n",
       "      <td>Earth</td>\n",
       "      <td>No</td>\n",
       "      <td>TRAPPIST-1e</td>\n",
       "      <td>16.0</td>\n",
       "      <td>No</td>\n",
       "      <td>303.0</td>\n",
       "      <td>70.0</td>\n",
       "      <td>151.0</td>\n",
       "      <td>565.0</td>\n",
       "      <td>2.0</td>\n",
       "      <td>1</td>\n",
       "      <td>F</td>\n",
       "      <td>1.0</td>\n",
       "      <td>S</td>\n",
       "    </tr>\n",
       "  </tbody>\n",
       "</table>\n",
       "</div>"
      ],
      "text/plain": [
       "  PassengerId HomePlanet CryoSleep  Destination   Age  VIP  RoomService  \\\n",
       "0     0001_01     Europa        No  TRAPPIST-1e  39.0   No          0.0   \n",
       "1     0002_01      Earth        No  TRAPPIST-1e  24.0   No        109.0   \n",
       "2     0003_01     Europa        No  TRAPPIST-1e  58.0  Yes         43.0   \n",
       "3     0003_02     Europa        No  TRAPPIST-1e  33.0   No          0.0   \n",
       "4     0004_01      Earth        No  TRAPPIST-1e  16.0   No        303.0   \n",
       "\n",
       "   FoodCourt  ShoppingMall     Spa  VRDeck  Transported Cabin_0  Cabin_1  \\\n",
       "0        0.0           0.0     0.0     0.0            0       B      0.0   \n",
       "1        9.0          25.0   549.0    44.0            1       F      0.0   \n",
       "2     3576.0           0.0  6715.0    49.0            0       A      0.0   \n",
       "3     1283.0         371.0  3329.0   193.0            0       A      0.0   \n",
       "4       70.0         151.0   565.0     2.0            1       F      1.0   \n",
       "\n",
       "  Cabin_2  \n",
       "0       P  \n",
       "1       S  \n",
       "2       S  \n",
       "3       S  \n",
       "4       S  "
      ]
     },
     "execution_count": 17,
     "metadata": {},
     "output_type": "execute_result"
    }
   ],
   "source": [
    "## Handle 'Cabin' feature\n",
    "def cabin_split(dataframe):\n",
    "    df = dataframe.copy()\n",
    "    \n",
    "    df['Cabin'] = df['Cabin'].astype(str)\n",
    "    cabins = df['Cabin'].str.split('/', expand=True)\n",
    "    cabins.columns = ['Cabin_0', 'Cabin_1', 'Cabin_2']\n",
    "    \n",
    "    df = pd.concat([df, cabins], axis=1)\n",
    "    df = df.drop(['Cabin'], axis=1)\n",
    "    df['Cabin_0'].astype(str)\n",
    "    df['Cabin_1'] = pd.to_numeric(df['Cabin_1'], errors='coerce')\n",
    "    df['Cabin_2'].astype(str)\n",
    "    df['Cabin_2'] = df['Cabin_2'].map(lambda x: 'nan' if x is None else x)\n",
    "    \n",
    "    return df\n",
    "\n",
    "train = cabin_split(train)\n",
    "train.head()"
   ]
  },
  {
   "cell_type": "markdown",
   "metadata": {},
   "source": [
    "<a id =\"3.2\"></a><h2 style=\"background:#75E6DA; border:0; border-radius: 12px; color:black\"><center>3.2 Target Distribution</center></h2>"
   ]
  },
  {
   "cell_type": "code",
   "execution_count": 18,
   "metadata": {
    "_kg_hide-output": false,
    "tags": []
   },
   "outputs": [
    {
     "name": "stdout",
     "output_type": "stream",
     "text": [
      "positive samples: 4378, negative samples: 4315\n"
     ]
    }
   ],
   "source": [
    "categorical_columns = ['HomePlanet', 'CryoSleep',\n",
    "                       'Destination', 'VIP']\n",
    "\n",
    "train_pos = train.query('Transported==1').reset_index(drop=True)\n",
    "train_neg = train.query('Transported==0').reset_index(drop=True)\n",
    "print(f'positive samples: {len(train_pos)}, negative samples: {len(train_neg)}')"
   ]
  },
  {
   "cell_type": "code",
   "execution_count": 23,
   "metadata": {
    "_kg_hide-output": false,
    "tags": []
   },
   "outputs": [
    {
     "data": {
      "application/vnd.plotly.v1+json": {
       "config": {
        "plotlyServerURL": "https://plot.ly"
       },
       "data": [
        {
         "type": "bar",
         "x": [
          "0",
          "1"
         ],
         "y": [
          4315,
          4378
         ]
        }
       ],
       "layout": {
        "template": {
         "data": {
          "bar": [
           {
            "error_x": {
             "color": "#2a3f5f"
            },
            "error_y": {
             "color": "#2a3f5f"
            },
            "marker": {
             "line": {
              "color": "#E5ECF6",
              "width": 0.5
             },
             "pattern": {
              "fillmode": "overlay",
              "size": 10,
              "solidity": 0.2
             }
            },
            "type": "bar"
           }
          ],
          "barpolar": [
           {
            "marker": {
             "line": {
              "color": "#E5ECF6",
              "width": 0.5
             },
             "pattern": {
              "fillmode": "overlay",
              "size": 10,
              "solidity": 0.2
             }
            },
            "type": "barpolar"
           }
          ],
          "carpet": [
           {
            "aaxis": {
             "endlinecolor": "#2a3f5f",
             "gridcolor": "white",
             "linecolor": "white",
             "minorgridcolor": "white",
             "startlinecolor": "#2a3f5f"
            },
            "baxis": {
             "endlinecolor": "#2a3f5f",
             "gridcolor": "white",
             "linecolor": "white",
             "minorgridcolor": "white",
             "startlinecolor": "#2a3f5f"
            },
            "type": "carpet"
           }
          ],
          "choropleth": [
           {
            "colorbar": {
             "outlinewidth": 0,
             "ticks": ""
            },
            "type": "choropleth"
           }
          ],
          "contour": [
           {
            "colorbar": {
             "outlinewidth": 0,
             "ticks": ""
            },
            "colorscale": [
             [
              0,
              "#0d0887"
             ],
             [
              0.1111111111111111,
              "#46039f"
             ],
             [
              0.2222222222222222,
              "#7201a8"
             ],
             [
              0.3333333333333333,
              "#9c179e"
             ],
             [
              0.4444444444444444,
              "#bd3786"
             ],
             [
              0.5555555555555556,
              "#d8576b"
             ],
             [
              0.6666666666666666,
              "#ed7953"
             ],
             [
              0.7777777777777778,
              "#fb9f3a"
             ],
             [
              0.8888888888888888,
              "#fdca26"
             ],
             [
              1,
              "#f0f921"
             ]
            ],
            "type": "contour"
           }
          ],
          "contourcarpet": [
           {
            "colorbar": {
             "outlinewidth": 0,
             "ticks": ""
            },
            "type": "contourcarpet"
           }
          ],
          "heatmap": [
           {
            "colorbar": {
             "outlinewidth": 0,
             "ticks": ""
            },
            "colorscale": [
             [
              0,
              "#0d0887"
             ],
             [
              0.1111111111111111,
              "#46039f"
             ],
             [
              0.2222222222222222,
              "#7201a8"
             ],
             [
              0.3333333333333333,
              "#9c179e"
             ],
             [
              0.4444444444444444,
              "#bd3786"
             ],
             [
              0.5555555555555556,
              "#d8576b"
             ],
             [
              0.6666666666666666,
              "#ed7953"
             ],
             [
              0.7777777777777778,
              "#fb9f3a"
             ],
             [
              0.8888888888888888,
              "#fdca26"
             ],
             [
              1,
              "#f0f921"
             ]
            ],
            "type": "heatmap"
           }
          ],
          "heatmapgl": [
           {
            "colorbar": {
             "outlinewidth": 0,
             "ticks": ""
            },
            "colorscale": [
             [
              0,
              "#0d0887"
             ],
             [
              0.1111111111111111,
              "#46039f"
             ],
             [
              0.2222222222222222,
              "#7201a8"
             ],
             [
              0.3333333333333333,
              "#9c179e"
             ],
             [
              0.4444444444444444,
              "#bd3786"
             ],
             [
              0.5555555555555556,
              "#d8576b"
             ],
             [
              0.6666666666666666,
              "#ed7953"
             ],
             [
              0.7777777777777778,
              "#fb9f3a"
             ],
             [
              0.8888888888888888,
              "#fdca26"
             ],
             [
              1,
              "#f0f921"
             ]
            ],
            "type": "heatmapgl"
           }
          ],
          "histogram": [
           {
            "marker": {
             "pattern": {
              "fillmode": "overlay",
              "size": 10,
              "solidity": 0.2
             }
            },
            "type": "histogram"
           }
          ],
          "histogram2d": [
           {
            "colorbar": {
             "outlinewidth": 0,
             "ticks": ""
            },
            "colorscale": [
             [
              0,
              "#0d0887"
             ],
             [
              0.1111111111111111,
              "#46039f"
             ],
             [
              0.2222222222222222,
              "#7201a8"
             ],
             [
              0.3333333333333333,
              "#9c179e"
             ],
             [
              0.4444444444444444,
              "#bd3786"
             ],
             [
              0.5555555555555556,
              "#d8576b"
             ],
             [
              0.6666666666666666,
              "#ed7953"
             ],
             [
              0.7777777777777778,
              "#fb9f3a"
             ],
             [
              0.8888888888888888,
              "#fdca26"
             ],
             [
              1,
              "#f0f921"
             ]
            ],
            "type": "histogram2d"
           }
          ],
          "histogram2dcontour": [
           {
            "colorbar": {
             "outlinewidth": 0,
             "ticks": ""
            },
            "colorscale": [
             [
              0,
              "#0d0887"
             ],
             [
              0.1111111111111111,
              "#46039f"
             ],
             [
              0.2222222222222222,
              "#7201a8"
             ],
             [
              0.3333333333333333,
              "#9c179e"
             ],
             [
              0.4444444444444444,
              "#bd3786"
             ],
             [
              0.5555555555555556,
              "#d8576b"
             ],
             [
              0.6666666666666666,
              "#ed7953"
             ],
             [
              0.7777777777777778,
              "#fb9f3a"
             ],
             [
              0.8888888888888888,
              "#fdca26"
             ],
             [
              1,
              "#f0f921"
             ]
            ],
            "type": "histogram2dcontour"
           }
          ],
          "mesh3d": [
           {
            "colorbar": {
             "outlinewidth": 0,
             "ticks": ""
            },
            "type": "mesh3d"
           }
          ],
          "parcoords": [
           {
            "line": {
             "colorbar": {
              "outlinewidth": 0,
              "ticks": ""
             }
            },
            "type": "parcoords"
           }
          ],
          "pie": [
           {
            "automargin": true,
            "type": "pie"
           }
          ],
          "scatter": [
           {
            "fillpattern": {
             "fillmode": "overlay",
             "size": 10,
             "solidity": 0.2
            },
            "type": "scatter"
           }
          ],
          "scatter3d": [
           {
            "line": {
             "colorbar": {
              "outlinewidth": 0,
              "ticks": ""
             }
            },
            "marker": {
             "colorbar": {
              "outlinewidth": 0,
              "ticks": ""
             }
            },
            "type": "scatter3d"
           }
          ],
          "scattercarpet": [
           {
            "marker": {
             "colorbar": {
              "outlinewidth": 0,
              "ticks": ""
             }
            },
            "type": "scattercarpet"
           }
          ],
          "scattergeo": [
           {
            "marker": {
             "colorbar": {
              "outlinewidth": 0,
              "ticks": ""
             }
            },
            "type": "scattergeo"
           }
          ],
          "scattergl": [
           {
            "marker": {
             "colorbar": {
              "outlinewidth": 0,
              "ticks": ""
             }
            },
            "type": "scattergl"
           }
          ],
          "scattermapbox": [
           {
            "marker": {
             "colorbar": {
              "outlinewidth": 0,
              "ticks": ""
             }
            },
            "type": "scattermapbox"
           }
          ],
          "scatterpolar": [
           {
            "marker": {
             "colorbar": {
              "outlinewidth": 0,
              "ticks": ""
             }
            },
            "type": "scatterpolar"
           }
          ],
          "scatterpolargl": [
           {
            "marker": {
             "colorbar": {
              "outlinewidth": 0,
              "ticks": ""
             }
            },
            "type": "scatterpolargl"
           }
          ],
          "scatterternary": [
           {
            "marker": {
             "colorbar": {
              "outlinewidth": 0,
              "ticks": ""
             }
            },
            "type": "scatterternary"
           }
          ],
          "surface": [
           {
            "colorbar": {
             "outlinewidth": 0,
             "ticks": ""
            },
            "colorscale": [
             [
              0,
              "#0d0887"
             ],
             [
              0.1111111111111111,
              "#46039f"
             ],
             [
              0.2222222222222222,
              "#7201a8"
             ],
             [
              0.3333333333333333,
              "#9c179e"
             ],
             [
              0.4444444444444444,
              "#bd3786"
             ],
             [
              0.5555555555555556,
              "#d8576b"
             ],
             [
              0.6666666666666666,
              "#ed7953"
             ],
             [
              0.7777777777777778,
              "#fb9f3a"
             ],
             [
              0.8888888888888888,
              "#fdca26"
             ],
             [
              1,
              "#f0f921"
             ]
            ],
            "type": "surface"
           }
          ],
          "table": [
           {
            "cells": {
             "fill": {
              "color": "#EBF0F8"
             },
             "line": {
              "color": "white"
             }
            },
            "header": {
             "fill": {
              "color": "#C8D4E3"
             },
             "line": {
              "color": "white"
             }
            },
            "type": "table"
           }
          ]
         },
         "layout": {
          "annotationdefaults": {
           "arrowcolor": "#2a3f5f",
           "arrowhead": 0,
           "arrowwidth": 1
          },
          "autotypenumbers": "strict",
          "coloraxis": {
           "colorbar": {
            "outlinewidth": 0,
            "ticks": ""
           }
          },
          "colorscale": {
           "diverging": [
            [
             0,
             "#8e0152"
            ],
            [
             0.1,
             "#c51b7d"
            ],
            [
             0.2,
             "#de77ae"
            ],
            [
             0.3,
             "#f1b6da"
            ],
            [
             0.4,
             "#fde0ef"
            ],
            [
             0.5,
             "#f7f7f7"
            ],
            [
             0.6,
             "#e6f5d0"
            ],
            [
             0.7,
             "#b8e186"
            ],
            [
             0.8,
             "#7fbc41"
            ],
            [
             0.9,
             "#4d9221"
            ],
            [
             1,
             "#276419"
            ]
           ],
           "sequential": [
            [
             0,
             "#0d0887"
            ],
            [
             0.1111111111111111,
             "#46039f"
            ],
            [
             0.2222222222222222,
             "#7201a8"
            ],
            [
             0.3333333333333333,
             "#9c179e"
            ],
            [
             0.4444444444444444,
             "#bd3786"
            ],
            [
             0.5555555555555556,
             "#d8576b"
            ],
            [
             0.6666666666666666,
             "#ed7953"
            ],
            [
             0.7777777777777778,
             "#fb9f3a"
            ],
            [
             0.8888888888888888,
             "#fdca26"
            ],
            [
             1,
             "#f0f921"
            ]
           ],
           "sequentialminus": [
            [
             0,
             "#0d0887"
            ],
            [
             0.1111111111111111,
             "#46039f"
            ],
            [
             0.2222222222222222,
             "#7201a8"
            ],
            [
             0.3333333333333333,
             "#9c179e"
            ],
            [
             0.4444444444444444,
             "#bd3786"
            ],
            [
             0.5555555555555556,
             "#d8576b"
            ],
            [
             0.6666666666666666,
             "#ed7953"
            ],
            [
             0.7777777777777778,
             "#fb9f3a"
            ],
            [
             0.8888888888888888,
             "#fdca26"
            ],
            [
             1,
             "#f0f921"
            ]
           ]
          },
          "colorway": [
           "#636efa",
           "#EF553B",
           "#00cc96",
           "#ab63fa",
           "#FFA15A",
           "#19d3f3",
           "#FF6692",
           "#B6E880",
           "#FF97FF",
           "#FECB52"
          ],
          "font": {
           "color": "#2a3f5f"
          },
          "geo": {
           "bgcolor": "white",
           "lakecolor": "white",
           "landcolor": "#E5ECF6",
           "showlakes": true,
           "showland": true,
           "subunitcolor": "white"
          },
          "hoverlabel": {
           "align": "left"
          },
          "hovermode": "closest",
          "mapbox": {
           "style": "light"
          },
          "paper_bgcolor": "white",
          "plot_bgcolor": "#E5ECF6",
          "polar": {
           "angularaxis": {
            "gridcolor": "white",
            "linecolor": "white",
            "ticks": ""
           },
           "bgcolor": "#E5ECF6",
           "radialaxis": {
            "gridcolor": "white",
            "linecolor": "white",
            "ticks": ""
           }
          },
          "scene": {
           "xaxis": {
            "backgroundcolor": "#E5ECF6",
            "gridcolor": "white",
            "gridwidth": 2,
            "linecolor": "white",
            "showbackground": true,
            "ticks": "",
            "zerolinecolor": "white"
           },
           "yaxis": {
            "backgroundcolor": "#E5ECF6",
            "gridcolor": "white",
            "gridwidth": 2,
            "linecolor": "white",
            "showbackground": true,
            "ticks": "",
            "zerolinecolor": "white"
           },
           "zaxis": {
            "backgroundcolor": "#E5ECF6",
            "gridcolor": "white",
            "gridwidth": 2,
            "linecolor": "white",
            "showbackground": true,
            "ticks": "",
            "zerolinecolor": "white"
           }
          },
          "shapedefaults": {
           "line": {
            "color": "#2a3f5f"
           }
          },
          "ternary": {
           "aaxis": {
            "gridcolor": "white",
            "linecolor": "white",
            "ticks": ""
           },
           "baxis": {
            "gridcolor": "white",
            "linecolor": "white",
            "ticks": ""
           },
           "bgcolor": "#E5ECF6",
           "caxis": {
            "gridcolor": "white",
            "linecolor": "white",
            "ticks": ""
           }
          },
          "title": {
           "x": 0.05
          },
          "xaxis": {
           "automargin": true,
           "gridcolor": "white",
           "linecolor": "white",
           "ticks": "",
           "title": {
            "standoff": 15
           },
           "zerolinecolor": "white",
           "zerolinewidth": 2
          },
          "yaxis": {
           "automargin": true,
           "gridcolor": "white",
           "linecolor": "white",
           "ticks": "",
           "title": {
            "standoff": 15
           },
           "zerolinecolor": "white",
           "zerolinewidth": 2
          }
         }
        },
        "title": {
         "text": "Target distribution"
        },
        "xaxis": {
         "title": {
          "text": "Transported' values"
         }
        },
        "yaxis": {
         "title": {
          "text": "counts"
         }
        }
       }
      },
      "text/html": [
       "<div>                            <div id=\"2f358c8d-4ee3-4bf6-b758-ec0e5f76d210\" class=\"plotly-graph-div\" style=\"height:525px; width:100%;\"></div>            <script type=\"text/javascript\">                require([\"plotly\"], function(Plotly) {                    window.PLOTLYENV=window.PLOTLYENV || {};                                    if (document.getElementById(\"2f358c8d-4ee3-4bf6-b758-ec0e5f76d210\")) {                    Plotly.newPlot(                        \"2f358c8d-4ee3-4bf6-b758-ec0e5f76d210\",                        [{\"x\":[\"0\",\"1\"],\"y\":[4315,4378],\"type\":\"bar\"}],                        {\"template\":{\"data\":{\"histogram2dcontour\":[{\"type\":\"histogram2dcontour\",\"colorbar\":{\"outlinewidth\":0,\"ticks\":\"\"},\"colorscale\":[[0.0,\"#0d0887\"],[0.1111111111111111,\"#46039f\"],[0.2222222222222222,\"#7201a8\"],[0.3333333333333333,\"#9c179e\"],[0.4444444444444444,\"#bd3786\"],[0.5555555555555556,\"#d8576b\"],[0.6666666666666666,\"#ed7953\"],[0.7777777777777778,\"#fb9f3a\"],[0.8888888888888888,\"#fdca26\"],[1.0,\"#f0f921\"]]}],\"choropleth\":[{\"type\":\"choropleth\",\"colorbar\":{\"outlinewidth\":0,\"ticks\":\"\"}}],\"histogram2d\":[{\"type\":\"histogram2d\",\"colorbar\":{\"outlinewidth\":0,\"ticks\":\"\"},\"colorscale\":[[0.0,\"#0d0887\"],[0.1111111111111111,\"#46039f\"],[0.2222222222222222,\"#7201a8\"],[0.3333333333333333,\"#9c179e\"],[0.4444444444444444,\"#bd3786\"],[0.5555555555555556,\"#d8576b\"],[0.6666666666666666,\"#ed7953\"],[0.7777777777777778,\"#fb9f3a\"],[0.8888888888888888,\"#fdca26\"],[1.0,\"#f0f921\"]]}],\"heatmap\":[{\"type\":\"heatmap\",\"colorbar\":{\"outlinewidth\":0,\"ticks\":\"\"},\"colorscale\":[[0.0,\"#0d0887\"],[0.1111111111111111,\"#46039f\"],[0.2222222222222222,\"#7201a8\"],[0.3333333333333333,\"#9c179e\"],[0.4444444444444444,\"#bd3786\"],[0.5555555555555556,\"#d8576b\"],[0.6666666666666666,\"#ed7953\"],[0.7777777777777778,\"#fb9f3a\"],[0.8888888888888888,\"#fdca26\"],[1.0,\"#f0f921\"]]}],\"heatmapgl\":[{\"type\":\"heatmapgl\",\"colorbar\":{\"outlinewidth\":0,\"ticks\":\"\"},\"colorscale\":[[0.0,\"#0d0887\"],[0.1111111111111111,\"#46039f\"],[0.2222222222222222,\"#7201a8\"],[0.3333333333333333,\"#9c179e\"],[0.4444444444444444,\"#bd3786\"],[0.5555555555555556,\"#d8576b\"],[0.6666666666666666,\"#ed7953\"],[0.7777777777777778,\"#fb9f3a\"],[0.8888888888888888,\"#fdca26\"],[1.0,\"#f0f921\"]]}],\"contourcarpet\":[{\"type\":\"contourcarpet\",\"colorbar\":{\"outlinewidth\":0,\"ticks\":\"\"}}],\"contour\":[{\"type\":\"contour\",\"colorbar\":{\"outlinewidth\":0,\"ticks\":\"\"},\"colorscale\":[[0.0,\"#0d0887\"],[0.1111111111111111,\"#46039f\"],[0.2222222222222222,\"#7201a8\"],[0.3333333333333333,\"#9c179e\"],[0.4444444444444444,\"#bd3786\"],[0.5555555555555556,\"#d8576b\"],[0.6666666666666666,\"#ed7953\"],[0.7777777777777778,\"#fb9f3a\"],[0.8888888888888888,\"#fdca26\"],[1.0,\"#f0f921\"]]}],\"surface\":[{\"type\":\"surface\",\"colorbar\":{\"outlinewidth\":0,\"ticks\":\"\"},\"colorscale\":[[0.0,\"#0d0887\"],[0.1111111111111111,\"#46039f\"],[0.2222222222222222,\"#7201a8\"],[0.3333333333333333,\"#9c179e\"],[0.4444444444444444,\"#bd3786\"],[0.5555555555555556,\"#d8576b\"],[0.6666666666666666,\"#ed7953\"],[0.7777777777777778,\"#fb9f3a\"],[0.8888888888888888,\"#fdca26\"],[1.0,\"#f0f921\"]]}],\"mesh3d\":[{\"type\":\"mesh3d\",\"colorbar\":{\"outlinewidth\":0,\"ticks\":\"\"}}],\"scatter\":[{\"fillpattern\":{\"fillmode\":\"overlay\",\"size\":10,\"solidity\":0.2},\"type\":\"scatter\"}],\"parcoords\":[{\"type\":\"parcoords\",\"line\":{\"colorbar\":{\"outlinewidth\":0,\"ticks\":\"\"}}}],\"scatterpolargl\":[{\"type\":\"scatterpolargl\",\"marker\":{\"colorbar\":{\"outlinewidth\":0,\"ticks\":\"\"}}}],\"bar\":[{\"error_x\":{\"color\":\"#2a3f5f\"},\"error_y\":{\"color\":\"#2a3f5f\"},\"marker\":{\"line\":{\"color\":\"#E5ECF6\",\"width\":0.5},\"pattern\":{\"fillmode\":\"overlay\",\"size\":10,\"solidity\":0.2}},\"type\":\"bar\"}],\"scattergeo\":[{\"type\":\"scattergeo\",\"marker\":{\"colorbar\":{\"outlinewidth\":0,\"ticks\":\"\"}}}],\"scatterpolar\":[{\"type\":\"scatterpolar\",\"marker\":{\"colorbar\":{\"outlinewidth\":0,\"ticks\":\"\"}}}],\"histogram\":[{\"marker\":{\"pattern\":{\"fillmode\":\"overlay\",\"size\":10,\"solidity\":0.2}},\"type\":\"histogram\"}],\"scattergl\":[{\"type\":\"scattergl\",\"marker\":{\"colorbar\":{\"outlinewidth\":0,\"ticks\":\"\"}}}],\"scatter3d\":[{\"type\":\"scatter3d\",\"line\":{\"colorbar\":{\"outlinewidth\":0,\"ticks\":\"\"}},\"marker\":{\"colorbar\":{\"outlinewidth\":0,\"ticks\":\"\"}}}],\"scattermapbox\":[{\"type\":\"scattermapbox\",\"marker\":{\"colorbar\":{\"outlinewidth\":0,\"ticks\":\"\"}}}],\"scatterternary\":[{\"type\":\"scatterternary\",\"marker\":{\"colorbar\":{\"outlinewidth\":0,\"ticks\":\"\"}}}],\"scattercarpet\":[{\"type\":\"scattercarpet\",\"marker\":{\"colorbar\":{\"outlinewidth\":0,\"ticks\":\"\"}}}],\"carpet\":[{\"aaxis\":{\"endlinecolor\":\"#2a3f5f\",\"gridcolor\":\"white\",\"linecolor\":\"white\",\"minorgridcolor\":\"white\",\"startlinecolor\":\"#2a3f5f\"},\"baxis\":{\"endlinecolor\":\"#2a3f5f\",\"gridcolor\":\"white\",\"linecolor\":\"white\",\"minorgridcolor\":\"white\",\"startlinecolor\":\"#2a3f5f\"},\"type\":\"carpet\"}],\"table\":[{\"cells\":{\"fill\":{\"color\":\"#EBF0F8\"},\"line\":{\"color\":\"white\"}},\"header\":{\"fill\":{\"color\":\"#C8D4E3\"},\"line\":{\"color\":\"white\"}},\"type\":\"table\"}],\"barpolar\":[{\"marker\":{\"line\":{\"color\":\"#E5ECF6\",\"width\":0.5},\"pattern\":{\"fillmode\":\"overlay\",\"size\":10,\"solidity\":0.2}},\"type\":\"barpolar\"}],\"pie\":[{\"automargin\":true,\"type\":\"pie\"}]},\"layout\":{\"autotypenumbers\":\"strict\",\"colorway\":[\"#636efa\",\"#EF553B\",\"#00cc96\",\"#ab63fa\",\"#FFA15A\",\"#19d3f3\",\"#FF6692\",\"#B6E880\",\"#FF97FF\",\"#FECB52\"],\"font\":{\"color\":\"#2a3f5f\"},\"hovermode\":\"closest\",\"hoverlabel\":{\"align\":\"left\"},\"paper_bgcolor\":\"white\",\"plot_bgcolor\":\"#E5ECF6\",\"polar\":{\"bgcolor\":\"#E5ECF6\",\"angularaxis\":{\"gridcolor\":\"white\",\"linecolor\":\"white\",\"ticks\":\"\"},\"radialaxis\":{\"gridcolor\":\"white\",\"linecolor\":\"white\",\"ticks\":\"\"}},\"ternary\":{\"bgcolor\":\"#E5ECF6\",\"aaxis\":{\"gridcolor\":\"white\",\"linecolor\":\"white\",\"ticks\":\"\"},\"baxis\":{\"gridcolor\":\"white\",\"linecolor\":\"white\",\"ticks\":\"\"},\"caxis\":{\"gridcolor\":\"white\",\"linecolor\":\"white\",\"ticks\":\"\"}},\"coloraxis\":{\"colorbar\":{\"outlinewidth\":0,\"ticks\":\"\"}},\"colorscale\":{\"sequential\":[[0.0,\"#0d0887\"],[0.1111111111111111,\"#46039f\"],[0.2222222222222222,\"#7201a8\"],[0.3333333333333333,\"#9c179e\"],[0.4444444444444444,\"#bd3786\"],[0.5555555555555556,\"#d8576b\"],[0.6666666666666666,\"#ed7953\"],[0.7777777777777778,\"#fb9f3a\"],[0.8888888888888888,\"#fdca26\"],[1.0,\"#f0f921\"]],\"sequentialminus\":[[0.0,\"#0d0887\"],[0.1111111111111111,\"#46039f\"],[0.2222222222222222,\"#7201a8\"],[0.3333333333333333,\"#9c179e\"],[0.4444444444444444,\"#bd3786\"],[0.5555555555555556,\"#d8576b\"],[0.6666666666666666,\"#ed7953\"],[0.7777777777777778,\"#fb9f3a\"],[0.8888888888888888,\"#fdca26\"],[1.0,\"#f0f921\"]],\"diverging\":[[0,\"#8e0152\"],[0.1,\"#c51b7d\"],[0.2,\"#de77ae\"],[0.3,\"#f1b6da\"],[0.4,\"#fde0ef\"],[0.5,\"#f7f7f7\"],[0.6,\"#e6f5d0\"],[0.7,\"#b8e186\"],[0.8,\"#7fbc41\"],[0.9,\"#4d9221\"],[1,\"#276419\"]]},\"xaxis\":{\"gridcolor\":\"white\",\"linecolor\":\"white\",\"ticks\":\"\",\"title\":{\"standoff\":15},\"zerolinecolor\":\"white\",\"automargin\":true,\"zerolinewidth\":2},\"yaxis\":{\"gridcolor\":\"white\",\"linecolor\":\"white\",\"ticks\":\"\",\"title\":{\"standoff\":15},\"zerolinecolor\":\"white\",\"automargin\":true,\"zerolinewidth\":2},\"scene\":{\"xaxis\":{\"backgroundcolor\":\"#E5ECF6\",\"gridcolor\":\"white\",\"linecolor\":\"white\",\"showbackground\":true,\"ticks\":\"\",\"zerolinecolor\":\"white\",\"gridwidth\":2},\"yaxis\":{\"backgroundcolor\":\"#E5ECF6\",\"gridcolor\":\"white\",\"linecolor\":\"white\",\"showbackground\":true,\"ticks\":\"\",\"zerolinecolor\":\"white\",\"gridwidth\":2},\"zaxis\":{\"backgroundcolor\":\"#E5ECF6\",\"gridcolor\":\"white\",\"linecolor\":\"white\",\"showbackground\":true,\"ticks\":\"\",\"zerolinecolor\":\"white\",\"gridwidth\":2}},\"shapedefaults\":{\"line\":{\"color\":\"#2a3f5f\"}},\"annotationdefaults\":{\"arrowcolor\":\"#2a3f5f\",\"arrowhead\":0,\"arrowwidth\":1},\"geo\":{\"bgcolor\":\"white\",\"landcolor\":\"#E5ECF6\",\"subunitcolor\":\"white\",\"showland\":true,\"showlakes\":true,\"lakecolor\":\"white\"},\"title\":{\"x\":0.05},\"mapbox\":{\"style\":\"light\"}}},\"title\":{\"text\":\"Target distribution\"},\"xaxis\":{\"title\":{\"text\":\"Transported' values\"}},\"yaxis\":{\"title\":{\"text\":\"counts\"}}},                        {\"responsive\": true}                    ).then(function(){\n",
       "                            \n",
       "var gd = document.getElementById('2f358c8d-4ee3-4bf6-b758-ec0e5f76d210');\n",
       "var x = new MutationObserver(function (mutations, observer) {{\n",
       "        var display = window.getComputedStyle(gd).display;\n",
       "        if (!display || display === 'none') {{\n",
       "            console.log([gd, 'removed!']);\n",
       "            Plotly.purge(gd);\n",
       "            observer.disconnect();\n",
       "        }}\n",
       "}});\n",
       "\n",
       "// Listen for the removal of the full notebook cells\n",
       "var notebookContainer = gd.closest('#notebook-container');\n",
       "if (notebookContainer) {{\n",
       "    x.observe(notebookContainer, {childList: true});\n",
       "}}\n",
       "\n",
       "// Listen for the clearing of the current output cell\n",
       "var outputEl = gd.closest('.output');\n",
       "if (outputEl) {{\n",
       "    x.observe(outputEl, {childList: true});\n",
       "}}\n",
       "\n",
       "                        })                };                });            </script>        </div>"
      ]
     },
     "metadata": {},
     "output_type": "display_data"
    }
   ],
   "source": [
    "## Target Distribution\n",
    "target_count = train.groupby(['Transported'])['PassengerId'].count()\n",
    "target_percent = target_count / target_count.sum()\n",
    "\n",
    "fig = go.Figure()\n",
    "data = go.Bar(x=target_count.index.astype(str).values, \n",
    "              y=target_count.values)\n",
    "fig.add_trace(data)\n",
    "fig.update_layout(title = dict(text=\"Target distribution\"),\n",
    "                  xaxis = dict(title=\"Transported' values\"),\n",
    "                  yaxis = dict(title='counts'))\n",
    "fig.show()"
   ]
  },
  {
   "cell_type": "markdown",
   "metadata": {},
   "source": [
    "<a id =\"3.3\"></a><h2 style=\"background:#75E6DA; border:0; border-radius: 12px; color:black\"><center>3.3 Numerical Features</center></h2>"
   ]
  },
  {
   "cell_type": "markdown",
   "metadata": {},
   "source": [
    "<a id =\"3.3.1\"></a><h2 style=\"background:#D4F1F4; border:0; border-radius: 12px; color:black\"><center>3.3.1 Statistics of Numerical Features </center></h2>"
   ]
  },
  {
   "cell_type": "code",
   "execution_count": 24,
   "metadata": {
    "_kg_hide-output": true,
    "tags": []
   },
   "outputs": [
    {
     "data": {
      "text/html": [
       "<style type=\"text/css\">\n",
       "#T_09ba5_row0_col1 {\n",
       "  width: 10em;\n",
       "  height: 80%;\n",
       "  background: linear-gradient(90deg,#d65f5f 4.7%, transparent 4.7%);\n",
       "}\n",
       "#T_09ba5_row0_col2 {\n",
       "  background-color: #3d50c3;\n",
       "  color: #f1f1f1;\n",
       "}\n",
       "#T_09ba5_row0_col5 {\n",
       "  background-color: #4e68d8;\n",
       "  color: #f1f1f1;\n",
       "}\n",
       "#T_09ba5_row1_col1 {\n",
       "  width: 10em;\n",
       "  height: 80%;\n",
       "  background: linear-gradient(90deg,#d65f5f 37.4%, transparent 37.4%);\n",
       "}\n",
       "#T_09ba5_row1_col2 {\n",
       "  background-color: #c4d5f3;\n",
       "  color: #000000;\n",
       "}\n",
       "#T_09ba5_row1_col5, #T_09ba5_row2_col5, #T_09ba5_row3_col5, #T_09ba5_row4_col5, #T_09ba5_row5_col5, #T_09ba5_row6_col2, #T_09ba5_row6_col5 {\n",
       "  background-color: #3b4cc0;\n",
       "  color: #f1f1f1;\n",
       "}\n",
       "#T_09ba5_row2_col1 {\n",
       "  width: 10em;\n",
       "  height: 80%;\n",
       "  background: linear-gradient(90deg,#d65f5f 76.3%, transparent 76.3%);\n",
       "}\n",
       "#T_09ba5_row2_col2, #T_09ba5_row7_col5 {\n",
       "  background-color: #b40426;\n",
       "  color: #f1f1f1;\n",
       "}\n",
       "#T_09ba5_row3_col1 {\n",
       "  width: 10em;\n",
       "  height: 80%;\n",
       "  background: linear-gradient(90deg,#d65f5f 28.9%, transparent 28.9%);\n",
       "}\n",
       "#T_09ba5_row3_col2 {\n",
       "  background-color: #b9d0f9;\n",
       "  color: #000000;\n",
       "}\n",
       "#T_09ba5_row4_col1 {\n",
       "  width: 10em;\n",
       "  height: 80%;\n",
       "  background: linear-gradient(90deg,#d65f5f 51.8%, transparent 51.8%);\n",
       "}\n",
       "#T_09ba5_row4_col2 {\n",
       "  background-color: #f7aa8c;\n",
       "  color: #000000;\n",
       "}\n",
       "#T_09ba5_row5_col1 {\n",
       "  width: 10em;\n",
       "  height: 80%;\n",
       "  background: linear-gradient(90deg,#d65f5f 50.7%, transparent 50.7%);\n",
       "}\n",
       "#T_09ba5_row5_col2 {\n",
       "  background-color: #f7a98b;\n",
       "  color: #000000;\n",
       "}\n",
       "#T_09ba5_row6_col1 {\n",
       "  width: 10em;\n",
       "  height: 80%;\n",
       "}\n",
       "#T_09ba5_row7_col1 {\n",
       "  width: 10em;\n",
       "  height: 80%;\n",
       "  background: linear-gradient(90deg,#d65f5f 100.0%, transparent 100.0%);\n",
       "}\n",
       "#T_09ba5_row7_col2 {\n",
       "  background-color: #a5c3fe;\n",
       "  color: #000000;\n",
       "}\n",
       "</style>\n",
       "<table id=\"T_09ba5_\">\n",
       "  <thead>\n",
       "    <tr>\n",
       "      <th class=\"blank level0\" >&nbsp;</th>\n",
       "      <th class=\"col_heading level0 col0\" >count</th>\n",
       "      <th class=\"col_heading level0 col1\" >mean</th>\n",
       "      <th class=\"col_heading level0 col2\" >std</th>\n",
       "      <th class=\"col_heading level0 col3\" >min</th>\n",
       "      <th class=\"col_heading level0 col4\" >25%</th>\n",
       "      <th class=\"col_heading level0 col5\" >50%</th>\n",
       "      <th class=\"col_heading level0 col6\" >75%</th>\n",
       "      <th class=\"col_heading level0 col7\" >max</th>\n",
       "    </tr>\n",
       "  </thead>\n",
       "  <tbody>\n",
       "    <tr>\n",
       "      <th id=\"T_09ba5_level0_row0\" class=\"row_heading level0 row0\" >Age</th>\n",
       "      <td id=\"T_09ba5_row0_col0\" class=\"data row0 col0\" >8514.000000</td>\n",
       "      <td id=\"T_09ba5_row0_col1\" class=\"data row0 col1\" >28.827930</td>\n",
       "      <td id=\"T_09ba5_row0_col2\" class=\"data row0 col2\" >14.489021</td>\n",
       "      <td id=\"T_09ba5_row0_col3\" class=\"data row0 col3\" >0.000000</td>\n",
       "      <td id=\"T_09ba5_row0_col4\" class=\"data row0 col4\" >19.000000</td>\n",
       "      <td id=\"T_09ba5_row0_col5\" class=\"data row0 col5\" >27.000000</td>\n",
       "      <td id=\"T_09ba5_row0_col6\" class=\"data row0 col6\" >38.000000</td>\n",
       "      <td id=\"T_09ba5_row0_col7\" class=\"data row0 col7\" >79.000000</td>\n",
       "    </tr>\n",
       "    <tr>\n",
       "      <th id=\"T_09ba5_level0_row1\" class=\"row_heading level0 row1\" >RoomService</th>\n",
       "      <td id=\"T_09ba5_row1_col0\" class=\"data row1 col0\" >8512.000000</td>\n",
       "      <td id=\"T_09ba5_row1_col1\" class=\"data row1 col1\" >224.687617</td>\n",
       "      <td id=\"T_09ba5_row1_col2\" class=\"data row1 col2\" >666.717663</td>\n",
       "      <td id=\"T_09ba5_row1_col3\" class=\"data row1 col3\" >0.000000</td>\n",
       "      <td id=\"T_09ba5_row1_col4\" class=\"data row1 col4\" >0.000000</td>\n",
       "      <td id=\"T_09ba5_row1_col5\" class=\"data row1 col5\" >0.000000</td>\n",
       "      <td id=\"T_09ba5_row1_col6\" class=\"data row1 col6\" >47.000000</td>\n",
       "      <td id=\"T_09ba5_row1_col7\" class=\"data row1 col7\" >14327.000000</td>\n",
       "    </tr>\n",
       "    <tr>\n",
       "      <th id=\"T_09ba5_level0_row2\" class=\"row_heading level0 row2\" >FoodCourt</th>\n",
       "      <td id=\"T_09ba5_row2_col0\" class=\"data row2 col0\" >8510.000000</td>\n",
       "      <td id=\"T_09ba5_row2_col1\" class=\"data row2 col1\" >458.077203</td>\n",
       "      <td id=\"T_09ba5_row2_col2\" class=\"data row2 col2\" >1611.489240</td>\n",
       "      <td id=\"T_09ba5_row2_col3\" class=\"data row2 col3\" >0.000000</td>\n",
       "      <td id=\"T_09ba5_row2_col4\" class=\"data row2 col4\" >0.000000</td>\n",
       "      <td id=\"T_09ba5_row2_col5\" class=\"data row2 col5\" >0.000000</td>\n",
       "      <td id=\"T_09ba5_row2_col6\" class=\"data row2 col6\" >76.000000</td>\n",
       "      <td id=\"T_09ba5_row2_col7\" class=\"data row2 col7\" >29813.000000</td>\n",
       "    </tr>\n",
       "    <tr>\n",
       "      <th id=\"T_09ba5_level0_row3\" class=\"row_heading level0 row3\" >ShoppingMall</th>\n",
       "      <td id=\"T_09ba5_row3_col0\" class=\"data row3 col0\" >8485.000000</td>\n",
       "      <td id=\"T_09ba5_row3_col1\" class=\"data row3 col1\" >173.729169</td>\n",
       "      <td id=\"T_09ba5_row3_col2\" class=\"data row3 col2\" >604.696458</td>\n",
       "      <td id=\"T_09ba5_row3_col3\" class=\"data row3 col3\" >0.000000</td>\n",
       "      <td id=\"T_09ba5_row3_col4\" class=\"data row3 col4\" >0.000000</td>\n",
       "      <td id=\"T_09ba5_row3_col5\" class=\"data row3 col5\" >0.000000</td>\n",
       "      <td id=\"T_09ba5_row3_col6\" class=\"data row3 col6\" >27.000000</td>\n",
       "      <td id=\"T_09ba5_row3_col7\" class=\"data row3 col7\" >23492.000000</td>\n",
       "    </tr>\n",
       "    <tr>\n",
       "      <th id=\"T_09ba5_level0_row4\" class=\"row_heading level0 row4\" >Spa</th>\n",
       "      <td id=\"T_09ba5_row4_col0\" class=\"data row4 col0\" >8510.000000</td>\n",
       "      <td id=\"T_09ba5_row4_col1\" class=\"data row4 col1\" >311.138778</td>\n",
       "      <td id=\"T_09ba5_row4_col2\" class=\"data row4 col2\" >1136.705535</td>\n",
       "      <td id=\"T_09ba5_row4_col3\" class=\"data row4 col3\" >0.000000</td>\n",
       "      <td id=\"T_09ba5_row4_col4\" class=\"data row4 col4\" >0.000000</td>\n",
       "      <td id=\"T_09ba5_row4_col5\" class=\"data row4 col5\" >0.000000</td>\n",
       "      <td id=\"T_09ba5_row4_col6\" class=\"data row4 col6\" >59.000000</td>\n",
       "      <td id=\"T_09ba5_row4_col7\" class=\"data row4 col7\" >22408.000000</td>\n",
       "    </tr>\n",
       "    <tr>\n",
       "      <th id=\"T_09ba5_level0_row5\" class=\"row_heading level0 row5\" >VRDeck</th>\n",
       "      <td id=\"T_09ba5_row5_col0\" class=\"data row5 col0\" >8505.000000</td>\n",
       "      <td id=\"T_09ba5_row5_col1\" class=\"data row5 col1\" >304.854791</td>\n",
       "      <td id=\"T_09ba5_row5_col2\" class=\"data row5 col2\" >1145.717189</td>\n",
       "      <td id=\"T_09ba5_row5_col3\" class=\"data row5 col3\" >0.000000</td>\n",
       "      <td id=\"T_09ba5_row5_col4\" class=\"data row5 col4\" >0.000000</td>\n",
       "      <td id=\"T_09ba5_row5_col5\" class=\"data row5 col5\" >0.000000</td>\n",
       "      <td id=\"T_09ba5_row5_col6\" class=\"data row5 col6\" >46.000000</td>\n",
       "      <td id=\"T_09ba5_row5_col7\" class=\"data row5 col7\" >24133.000000</td>\n",
       "    </tr>\n",
       "    <tr>\n",
       "      <th id=\"T_09ba5_level0_row6\" class=\"row_heading level0 row6\" >Transported</th>\n",
       "      <td id=\"T_09ba5_row6_col0\" class=\"data row6 col0\" >8693.000000</td>\n",
       "      <td id=\"T_09ba5_row6_col1\" class=\"data row6 col1\" >0.503624</td>\n",
       "      <td id=\"T_09ba5_row6_col2\" class=\"data row6 col2\" >0.500016</td>\n",
       "      <td id=\"T_09ba5_row6_col3\" class=\"data row6 col3\" >0.000000</td>\n",
       "      <td id=\"T_09ba5_row6_col4\" class=\"data row6 col4\" >0.000000</td>\n",
       "      <td id=\"T_09ba5_row6_col5\" class=\"data row6 col5\" >1.000000</td>\n",
       "      <td id=\"T_09ba5_row6_col6\" class=\"data row6 col6\" >1.000000</td>\n",
       "      <td id=\"T_09ba5_row6_col7\" class=\"data row6 col7\" >1.000000</td>\n",
       "    </tr>\n",
       "    <tr>\n",
       "      <th id=\"T_09ba5_level0_row7\" class=\"row_heading level0 row7\" >Cabin_1</th>\n",
       "      <td id=\"T_09ba5_row7_col0\" class=\"data row7 col0\" >8494.000000</td>\n",
       "      <td id=\"T_09ba5_row7_col1\" class=\"data row7 col1\" >600.367671</td>\n",
       "      <td id=\"T_09ba5_row7_col2\" class=\"data row7 col2\" >511.867226</td>\n",
       "      <td id=\"T_09ba5_row7_col3\" class=\"data row7 col3\" >0.000000</td>\n",
       "      <td id=\"T_09ba5_row7_col4\" class=\"data row7 col4\" >167.250000</td>\n",
       "      <td id=\"T_09ba5_row7_col5\" class=\"data row7 col5\" >427.000000</td>\n",
       "      <td id=\"T_09ba5_row7_col6\" class=\"data row7 col6\" >999.000000</td>\n",
       "      <td id=\"T_09ba5_row7_col7\" class=\"data row7 col7\" >1894.000000</td>\n",
       "    </tr>\n",
       "  </tbody>\n",
       "</table>\n"
      ],
      "text/plain": [
       "<pandas.io.formats.style.Styler at 0x2245a5431f0>"
      ]
     },
     "execution_count": 24,
     "metadata": {},
     "output_type": "execute_result"
    }
   ],
   "source": [
    "train.describe().T.style.bar(subset=['mean'],)\\\n",
    "                        .background_gradient(subset=['std'], cmap='coolwarm')\\\n",
    "                        .background_gradient(subset=['50%'], cmap='coolwarm')"
   ]
  },
  {
   "cell_type": "code",
   "execution_count": 25,
   "metadata": {
    "_kg_hide-output": true,
    "tags": []
   },
   "outputs": [
    {
     "data": {
      "text/html": [
       "<div>\n",
       "<style scoped>\n",
       "    .dataframe tbody tr th:only-of-type {\n",
       "        vertical-align: middle;\n",
       "    }\n",
       "\n",
       "    .dataframe tbody tr th {\n",
       "        vertical-align: top;\n",
       "    }\n",
       "\n",
       "    .dataframe thead th {\n",
       "        text-align: right;\n",
       "    }\n",
       "</style>\n",
       "<table border=\"1\" class=\"dataframe\">\n",
       "  <thead>\n",
       "    <tr style=\"text-align: right;\">\n",
       "      <th></th>\n",
       "      <th>Transported</th>\n",
       "      <th>0</th>\n",
       "      <th>1</th>\n",
       "    </tr>\n",
       "  </thead>\n",
       "  <tbody>\n",
       "    <tr>\n",
       "      <th rowspan=\"8\" valign=\"top\">Age</th>\n",
       "      <th>count</th>\n",
       "      <td>4226.000000</td>\n",
       "      <td>4288.000000</td>\n",
       "    </tr>\n",
       "    <tr>\n",
       "      <th>mean</th>\n",
       "      <td>29.922858</td>\n",
       "      <td>27.748834</td>\n",
       "    </tr>\n",
       "    <tr>\n",
       "      <th>std</th>\n",
       "      <td>13.699262</td>\n",
       "      <td>15.151705</td>\n",
       "    </tr>\n",
       "    <tr>\n",
       "      <th>min</th>\n",
       "      <td>0.000000</td>\n",
       "      <td>0.000000</td>\n",
       "    </tr>\n",
       "    <tr>\n",
       "      <th>25%</th>\n",
       "      <td>21.000000</td>\n",
       "      <td>18.000000</td>\n",
       "    </tr>\n",
       "    <tr>\n",
       "      <th>50%</th>\n",
       "      <td>27.000000</td>\n",
       "      <td>26.000000</td>\n",
       "    </tr>\n",
       "    <tr>\n",
       "      <th>75%</th>\n",
       "      <td>38.000000</td>\n",
       "      <td>37.000000</td>\n",
       "    </tr>\n",
       "    <tr>\n",
       "      <th>max</th>\n",
       "      <td>79.000000</td>\n",
       "      <td>78.000000</td>\n",
       "    </tr>\n",
       "    <tr>\n",
       "      <th rowspan=\"8\" valign=\"top\">RoomService</th>\n",
       "      <th>count</th>\n",
       "      <td>4217.000000</td>\n",
       "      <td>4295.000000</td>\n",
       "    </tr>\n",
       "    <tr>\n",
       "      <th>mean</th>\n",
       "      <td>389.266066</td>\n",
       "      <td>63.098021</td>\n",
       "    </tr>\n",
       "    <tr>\n",
       "      <th>std</th>\n",
       "      <td>875.638123</td>\n",
       "      <td>274.812497</td>\n",
       "    </tr>\n",
       "    <tr>\n",
       "      <th>min</th>\n",
       "      <td>0.000000</td>\n",
       "      <td>0.000000</td>\n",
       "    </tr>\n",
       "    <tr>\n",
       "      <th>25%</th>\n",
       "      <td>0.000000</td>\n",
       "      <td>0.000000</td>\n",
       "    </tr>\n",
       "    <tr>\n",
       "      <th>50%</th>\n",
       "      <td>1.000000</td>\n",
       "      <td>0.000000</td>\n",
       "    </tr>\n",
       "    <tr>\n",
       "      <th>75%</th>\n",
       "      <td>473.000000</td>\n",
       "      <td>0.000000</td>\n",
       "    </tr>\n",
       "    <tr>\n",
       "      <th>max</th>\n",
       "      <td>14327.000000</td>\n",
       "      <td>3992.000000</td>\n",
       "    </tr>\n",
       "    <tr>\n",
       "      <th rowspan=\"8\" valign=\"top\">FoodCourt</th>\n",
       "      <th>count</th>\n",
       "      <td>4231.000000</td>\n",
       "      <td>4279.000000</td>\n",
       "    </tr>\n",
       "    <tr>\n",
       "      <th>mean</th>\n",
       "      <td>382.615930</td>\n",
       "      <td>532.691984</td>\n",
       "    </tr>\n",
       "    <tr>\n",
       "      <th>std</th>\n",
       "      <td>1200.115601</td>\n",
       "      <td>1931.306995</td>\n",
       "    </tr>\n",
       "    <tr>\n",
       "      <th>min</th>\n",
       "      <td>0.000000</td>\n",
       "      <td>0.000000</td>\n",
       "    </tr>\n",
       "    <tr>\n",
       "      <th>25%</th>\n",
       "      <td>0.000000</td>\n",
       "      <td>0.000000</td>\n",
       "    </tr>\n",
       "    <tr>\n",
       "      <th>50%</th>\n",
       "      <td>0.000000</td>\n",
       "      <td>0.000000</td>\n",
       "    </tr>\n",
       "    <tr>\n",
       "      <th>75%</th>\n",
       "      <td>179.000000</td>\n",
       "      <td>0.000000</td>\n",
       "    </tr>\n",
       "    <tr>\n",
       "      <th>max</th>\n",
       "      <td>16856.000000</td>\n",
       "      <td>29813.000000</td>\n",
       "    </tr>\n",
       "    <tr>\n",
       "      <th rowspan=\"8\" valign=\"top\">ShoppingMall</th>\n",
       "      <th>count</th>\n",
       "      <td>4221.000000</td>\n",
       "      <td>4264.000000</td>\n",
       "    </tr>\n",
       "    <tr>\n",
       "      <th>mean</th>\n",
       "      <td>167.566217</td>\n",
       "      <td>179.829972</td>\n",
       "    </tr>\n",
       "    <tr>\n",
       "      <th>std</th>\n",
       "      <td>456.528126</td>\n",
       "      <td>722.026714</td>\n",
       "    </tr>\n",
       "    <tr>\n",
       "      <th>min</th>\n",
       "      <td>0.000000</td>\n",
       "      <td>0.000000</td>\n",
       "    </tr>\n",
       "    <tr>\n",
       "      <th>25%</th>\n",
       "      <td>0.000000</td>\n",
       "      <td>0.000000</td>\n",
       "    </tr>\n",
       "    <tr>\n",
       "      <th>50%</th>\n",
       "      <td>0.000000</td>\n",
       "      <td>0.000000</td>\n",
       "    </tr>\n",
       "    <tr>\n",
       "      <th>75%</th>\n",
       "      <td>95.000000</td>\n",
       "      <td>0.000000</td>\n",
       "    </tr>\n",
       "    <tr>\n",
       "      <th>max</th>\n",
       "      <td>10705.000000</td>\n",
       "      <td>23492.000000</td>\n",
       "    </tr>\n",
       "    <tr>\n",
       "      <th rowspan=\"8\" valign=\"top\">Spa</th>\n",
       "      <th>count</th>\n",
       "      <td>4223.000000</td>\n",
       "      <td>4287.000000</td>\n",
       "    </tr>\n",
       "    <tr>\n",
       "      <th>mean</th>\n",
       "      <td>564.382666</td>\n",
       "      <td>61.675531</td>\n",
       "    </tr>\n",
       "    <tr>\n",
       "      <th>std</th>\n",
       "      <td>1551.356047</td>\n",
       "      <td>262.682871</td>\n",
       "    </tr>\n",
       "    <tr>\n",
       "      <th>min</th>\n",
       "      <td>0.000000</td>\n",
       "      <td>0.000000</td>\n",
       "    </tr>\n",
       "    <tr>\n",
       "      <th>25%</th>\n",
       "      <td>0.000000</td>\n",
       "      <td>0.000000</td>\n",
       "    </tr>\n",
       "    <tr>\n",
       "      <th>50%</th>\n",
       "      <td>4.000000</td>\n",
       "      <td>0.000000</td>\n",
       "    </tr>\n",
       "    <tr>\n",
       "      <th>75%</th>\n",
       "      <td>453.500000</td>\n",
       "      <td>0.000000</td>\n",
       "    </tr>\n",
       "    <tr>\n",
       "      <th>max</th>\n",
       "      <td>22408.000000</td>\n",
       "      <td>4103.000000</td>\n",
       "    </tr>\n",
       "    <tr>\n",
       "      <th rowspan=\"8\" valign=\"top\">VRDeck</th>\n",
       "      <th>count</th>\n",
       "      <td>4225.000000</td>\n",
       "      <td>4280.000000</td>\n",
       "    </tr>\n",
       "    <tr>\n",
       "      <th>mean</th>\n",
       "      <td>543.629822</td>\n",
       "      <td>69.148131</td>\n",
       "    </tr>\n",
       "    <tr>\n",
       "      <th>std</th>\n",
       "      <td>1563.088368</td>\n",
       "      <td>291.658171</td>\n",
       "    </tr>\n",
       "    <tr>\n",
       "      <th>min</th>\n",
       "      <td>0.000000</td>\n",
       "      <td>0.000000</td>\n",
       "    </tr>\n",
       "    <tr>\n",
       "      <th>25%</th>\n",
       "      <td>0.000000</td>\n",
       "      <td>0.000000</td>\n",
       "    </tr>\n",
       "    <tr>\n",
       "      <th>50%</th>\n",
       "      <td>1.000000</td>\n",
       "      <td>0.000000</td>\n",
       "    </tr>\n",
       "    <tr>\n",
       "      <th>75%</th>\n",
       "      <td>388.000000</td>\n",
       "      <td>0.000000</td>\n",
       "    </tr>\n",
       "    <tr>\n",
       "      <th>max</th>\n",
       "      <td>24133.000000</td>\n",
       "      <td>5063.000000</td>\n",
       "    </tr>\n",
       "    <tr>\n",
       "      <th rowspan=\"8\" valign=\"top\">Cabin_1</th>\n",
       "      <th>count</th>\n",
       "      <td>4216.000000</td>\n",
       "      <td>4278.000000</td>\n",
       "    </tr>\n",
       "    <tr>\n",
       "      <th>mean</th>\n",
       "      <td>623.619070</td>\n",
       "      <td>577.453249</td>\n",
       "    </tr>\n",
       "    <tr>\n",
       "      <th>std</th>\n",
       "      <td>525.438037</td>\n",
       "      <td>497.129959</td>\n",
       "    </tr>\n",
       "    <tr>\n",
       "      <th>min</th>\n",
       "      <td>0.000000</td>\n",
       "      <td>0.000000</td>\n",
       "    </tr>\n",
       "    <tr>\n",
       "      <th>25%</th>\n",
       "      <td>182.000000</td>\n",
       "      <td>154.000000</td>\n",
       "    </tr>\n",
       "    <tr>\n",
       "      <th>50%</th>\n",
       "      <td>448.500000</td>\n",
       "      <td>385.000000</td>\n",
       "    </tr>\n",
       "    <tr>\n",
       "      <th>75%</th>\n",
       "      <td>1060.000000</td>\n",
       "      <td>964.000000</td>\n",
       "    </tr>\n",
       "    <tr>\n",
       "      <th>max</th>\n",
       "      <td>1894.000000</td>\n",
       "      <td>1893.000000</td>\n",
       "    </tr>\n",
       "  </tbody>\n",
       "</table>\n",
       "</div>"
      ],
      "text/plain": [
       "Transported                    0             1\n",
       "Age          count   4226.000000   4288.000000\n",
       "             mean      29.922858     27.748834\n",
       "             std       13.699262     15.151705\n",
       "             min        0.000000      0.000000\n",
       "             25%       21.000000     18.000000\n",
       "             50%       27.000000     26.000000\n",
       "             75%       38.000000     37.000000\n",
       "             max       79.000000     78.000000\n",
       "RoomService  count   4217.000000   4295.000000\n",
       "             mean     389.266066     63.098021\n",
       "             std      875.638123    274.812497\n",
       "             min        0.000000      0.000000\n",
       "             25%        0.000000      0.000000\n",
       "             50%        1.000000      0.000000\n",
       "             75%      473.000000      0.000000\n",
       "             max    14327.000000   3992.000000\n",
       "FoodCourt    count   4231.000000   4279.000000\n",
       "             mean     382.615930    532.691984\n",
       "             std     1200.115601   1931.306995\n",
       "             min        0.000000      0.000000\n",
       "             25%        0.000000      0.000000\n",
       "             50%        0.000000      0.000000\n",
       "             75%      179.000000      0.000000\n",
       "             max    16856.000000  29813.000000\n",
       "ShoppingMall count   4221.000000   4264.000000\n",
       "             mean     167.566217    179.829972\n",
       "             std      456.528126    722.026714\n",
       "             min        0.000000      0.000000\n",
       "             25%        0.000000      0.000000\n",
       "             50%        0.000000      0.000000\n",
       "             75%       95.000000      0.000000\n",
       "             max    10705.000000  23492.000000\n",
       "Spa          count   4223.000000   4287.000000\n",
       "             mean     564.382666     61.675531\n",
       "             std     1551.356047    262.682871\n",
       "             min        0.000000      0.000000\n",
       "             25%        0.000000      0.000000\n",
       "             50%        4.000000      0.000000\n",
       "             75%      453.500000      0.000000\n",
       "             max    22408.000000   4103.000000\n",
       "VRDeck       count   4225.000000   4280.000000\n",
       "             mean     543.629822     69.148131\n",
       "             std     1563.088368    291.658171\n",
       "             min        0.000000      0.000000\n",
       "             25%        0.000000      0.000000\n",
       "             50%        1.000000      0.000000\n",
       "             75%      388.000000      0.000000\n",
       "             max    24133.000000   5063.000000\n",
       "Cabin_1      count   4216.000000   4278.000000\n",
       "             mean     623.619070    577.453249\n",
       "             std      525.438037    497.129959\n",
       "             min        0.000000      0.000000\n",
       "             25%      182.000000    154.000000\n",
       "             50%      448.500000    385.000000\n",
       "             75%     1060.000000    964.000000\n",
       "             max     1894.000000   1893.000000"
      ]
     },
     "execution_count": 25,
     "metadata": {},
     "output_type": "execute_result"
    }
   ],
   "source": [
    "train.groupby('Transported').describe().T"
   ]
  },
  {
   "cell_type": "code",
   "execution_count": 26,
   "metadata": {
    "_kg_hide-output": true,
    "tags": []
   },
   "outputs": [
    {
     "data": {
      "text/html": [
       "<div>\n",
       "<style scoped>\n",
       "    .dataframe tbody tr th:only-of-type {\n",
       "        vertical-align: middle;\n",
       "    }\n",
       "\n",
       "    .dataframe tbody tr th {\n",
       "        vertical-align: top;\n",
       "    }\n",
       "\n",
       "    .dataframe thead th {\n",
       "        text-align: right;\n",
       "    }\n",
       "</style>\n",
       "<table border=\"1\" class=\"dataframe\">\n",
       "  <thead>\n",
       "    <tr style=\"text-align: right;\">\n",
       "      <th></th>\n",
       "      <th>RoomService</th>\n",
       "      <th>FoodCourt</th>\n",
       "      <th>ShoppingMall</th>\n",
       "      <th>Spa</th>\n",
       "      <th>VRDeck</th>\n",
       "    </tr>\n",
       "  </thead>\n",
       "  <tbody>\n",
       "    <tr>\n",
       "      <th>0.00</th>\n",
       "      <td>0.00</td>\n",
       "      <td>0.00</td>\n",
       "      <td>0.00</td>\n",
       "      <td>0.00</td>\n",
       "      <td>0.00</td>\n",
       "    </tr>\n",
       "    <tr>\n",
       "      <th>0.90</th>\n",
       "      <td>753.00</td>\n",
       "      <td>1026.00</td>\n",
       "      <td>619.60</td>\n",
       "      <td>732.00</td>\n",
       "      <td>732.60</td>\n",
       "    </tr>\n",
       "    <tr>\n",
       "      <th>0.95</th>\n",
       "      <td>1274.25</td>\n",
       "      <td>2748.50</td>\n",
       "      <td>927.80</td>\n",
       "      <td>1607.10</td>\n",
       "      <td>1534.20</td>\n",
       "    </tr>\n",
       "    <tr>\n",
       "      <th>0.98</th>\n",
       "      <td>2213.90</td>\n",
       "      <td>5208.74</td>\n",
       "      <td>1749.32</td>\n",
       "      <td>3731.56</td>\n",
       "      <td>3654.96</td>\n",
       "    </tr>\n",
       "    <tr>\n",
       "      <th>0.99</th>\n",
       "      <td>3096.23</td>\n",
       "      <td>8033.31</td>\n",
       "      <td>2333.44</td>\n",
       "      <td>5390.10</td>\n",
       "      <td>5646.68</td>\n",
       "    </tr>\n",
       "    <tr>\n",
       "      <th>1.00</th>\n",
       "      <td>14327.00</td>\n",
       "      <td>29813.00</td>\n",
       "      <td>23492.00</td>\n",
       "      <td>22408.00</td>\n",
       "      <td>24133.00</td>\n",
       "    </tr>\n",
       "  </tbody>\n",
       "</table>\n",
       "</div>"
      ],
      "text/plain": [
       "      RoomService  FoodCourt  ShoppingMall       Spa    VRDeck\n",
       "0.00         0.00       0.00          0.00      0.00      0.00\n",
       "0.90       753.00    1026.00        619.60    732.00    732.60\n",
       "0.95      1274.25    2748.50        927.80   1607.10   1534.20\n",
       "0.98      2213.90    5208.74       1749.32   3731.56   3654.96\n",
       "0.99      3096.23    8033.31       2333.44   5390.10   5646.68\n",
       "1.00     14327.00   29813.00      23492.00  22408.00  24133.00"
      ]
     },
     "execution_count": 26,
     "metadata": {},
     "output_type": "execute_result"
    }
   ],
   "source": [
    "quantiles = [0, 0.9, 0.95, 0.98, 0.99, 1]\n",
    "train_quantile_values = train[['RoomService', 'FoodCourt', 'ShoppingMall', 'Spa', 'VRDeck']].quantile(quantiles)\n",
    "train_quantile_values"
   ]
  },
  {
   "cell_type": "markdown",
   "metadata": {},
   "source": [
    "---\n",
    "#### There seems to be outliers...\n",
    "\n",
    "---"
   ]
  },
  {
   "cell_type": "code",
   "execution_count": 27,
   "metadata": {
    "_kg_hide-output": true,
    "tags": []
   },
   "outputs": [
    {
     "data": {
      "text/html": [
       "<style type=\"text/css\">\n",
       "#T_4f00e_row0_col1 {\n",
       "  width: 10em;\n",
       "  height: 80%;\n",
       "  background: linear-gradient(90deg,#d65f5f 4.7%, transparent 4.7%);\n",
       "}\n",
       "#T_4f00e_row0_col2 {\n",
       "  background-color: #3d50c3;\n",
       "  color: #f1f1f1;\n",
       "}\n",
       "#T_4f00e_row0_col5 {\n",
       "  background-color: #4e68d8;\n",
       "  color: #f1f1f1;\n",
       "}\n",
       "#T_4f00e_row1_col1 {\n",
       "  width: 10em;\n",
       "  height: 80%;\n",
       "  background: linear-gradient(90deg,#d65f5f 34.5%, transparent 34.5%);\n",
       "}\n",
       "#T_4f00e_row1_col2 {\n",
       "  background-color: #c7d7f0;\n",
       "  color: #000000;\n",
       "}\n",
       "#T_4f00e_row1_col5, #T_4f00e_row2_col5, #T_4f00e_row3_col5, #T_4f00e_row4_col5, #T_4f00e_row5_col5, #T_4f00e_row6_col2, #T_4f00e_row6_col5 {\n",
       "  background-color: #3b4cc0;\n",
       "  color: #f1f1f1;\n",
       "}\n",
       "#T_4f00e_row2_col1 {\n",
       "  width: 10em;\n",
       "  height: 80%;\n",
       "  background: linear-gradient(90deg,#d65f5f 69.1%, transparent 69.1%);\n",
       "}\n",
       "#T_4f00e_row2_col2, #T_4f00e_row7_col5 {\n",
       "  background-color: #b40426;\n",
       "  color: #f1f1f1;\n",
       "}\n",
       "#T_4f00e_row3_col1 {\n",
       "  width: 10em;\n",
       "  height: 80%;\n",
       "  background: linear-gradient(90deg,#d65f5f 25.7%, transparent 25.7%);\n",
       "}\n",
       "#T_4f00e_row3_col2 {\n",
       "  background-color: #a6c4fe;\n",
       "  color: #000000;\n",
       "}\n",
       "#T_4f00e_row4_col1 {\n",
       "  width: 10em;\n",
       "  height: 80%;\n",
       "  background: linear-gradient(90deg,#d65f5f 45.9%, transparent 45.9%);\n",
       "}\n",
       "#T_4f00e_row4_col2 {\n",
       "  background-color: #f7b89c;\n",
       "  color: #000000;\n",
       "}\n",
       "#T_4f00e_row5_col1 {\n",
       "  width: 10em;\n",
       "  height: 80%;\n",
       "  background: linear-gradient(90deg,#d65f5f 44.9%, transparent 44.9%);\n",
       "}\n",
       "#T_4f00e_row5_col2 {\n",
       "  background-color: #f7b79b;\n",
       "  color: #000000;\n",
       "}\n",
       "#T_4f00e_row6_col1 {\n",
       "  width: 10em;\n",
       "  height: 80%;\n",
       "}\n",
       "#T_4f00e_row7_col1 {\n",
       "  width: 10em;\n",
       "  height: 80%;\n",
       "  background: linear-gradient(90deg,#d65f5f 100.0%, transparent 100.0%);\n",
       "}\n",
       "#T_4f00e_row7_col2 {\n",
       "  background-color: #c4d5f3;\n",
       "  color: #000000;\n",
       "}\n",
       "</style>\n",
       "<table id=\"T_4f00e_\">\n",
       "  <thead>\n",
       "    <tr>\n",
       "      <th class=\"blank level0\" >&nbsp;</th>\n",
       "      <th class=\"col_heading level0 col0\" >count</th>\n",
       "      <th class=\"col_heading level0 col1\" >mean</th>\n",
       "      <th class=\"col_heading level0 col2\" >std</th>\n",
       "      <th class=\"col_heading level0 col3\" >min</th>\n",
       "      <th class=\"col_heading level0 col4\" >25%</th>\n",
       "      <th class=\"col_heading level0 col5\" >50%</th>\n",
       "      <th class=\"col_heading level0 col6\" >75%</th>\n",
       "      <th class=\"col_heading level0 col7\" >max</th>\n",
       "    </tr>\n",
       "  </thead>\n",
       "  <tbody>\n",
       "    <tr>\n",
       "      <th id=\"T_4f00e_level0_row0\" class=\"row_heading level0 row0\" >Age</th>\n",
       "      <td id=\"T_4f00e_row0_col0\" class=\"data row0 col0\" >8514.000000</td>\n",
       "      <td id=\"T_4f00e_row0_col1\" class=\"data row0 col1\" >28.827930</td>\n",
       "      <td id=\"T_4f00e_row0_col2\" class=\"data row0 col2\" >14.489021</td>\n",
       "      <td id=\"T_4f00e_row0_col3\" class=\"data row0 col3\" >0.000000</td>\n",
       "      <td id=\"T_4f00e_row0_col4\" class=\"data row0 col4\" >19.000000</td>\n",
       "      <td id=\"T_4f00e_row0_col5\" class=\"data row0 col5\" >27.000000</td>\n",
       "      <td id=\"T_4f00e_row0_col6\" class=\"data row0 col6\" >38.000000</td>\n",
       "      <td id=\"T_4f00e_row0_col7\" class=\"data row0 col7\" >79.000000</td>\n",
       "    </tr>\n",
       "    <tr>\n",
       "      <th id=\"T_4f00e_level0_row1\" class=\"row_heading level0 row1\" >RoomService</th>\n",
       "      <td id=\"T_4f00e_row1_col0\" class=\"data row1 col0\" >8512.000000</td>\n",
       "      <td id=\"T_4f00e_row1_col1\" class=\"data row1 col1\" >207.556248</td>\n",
       "      <td id=\"T_4f00e_row1_col2\" class=\"data row1 col2\" >528.543529</td>\n",
       "      <td id=\"T_4f00e_row1_col3\" class=\"data row1 col3\" >0.000000</td>\n",
       "      <td id=\"T_4f00e_row1_col4\" class=\"data row1 col4\" >0.000000</td>\n",
       "      <td id=\"T_4f00e_row1_col5\" class=\"data row1 col5\" >0.000000</td>\n",
       "      <td id=\"T_4f00e_row1_col6\" class=\"data row1 col6\" >47.000000</td>\n",
       "      <td id=\"T_4f00e_row1_col7\" class=\"data row1 col7\" >3096.230000</td>\n",
       "    </tr>\n",
       "    <tr>\n",
       "      <th id=\"T_4f00e_level0_row2\" class=\"row_heading level0 row2\" >FoodCourt</th>\n",
       "      <td id=\"T_4f00e_row2_col0\" class=\"data row2 col0\" >8510.000000</td>\n",
       "      <td id=\"T_4f00e_row2_col1\" class=\"data row2 col1\" >415.275988</td>\n",
       "      <td id=\"T_4f00e_row2_col2\" class=\"data row2 col2\" >1246.172856</td>\n",
       "      <td id=\"T_4f00e_row2_col3\" class=\"data row2 col3\" >0.000000</td>\n",
       "      <td id=\"T_4f00e_row2_col4\" class=\"data row2 col4\" >0.000000</td>\n",
       "      <td id=\"T_4f00e_row2_col5\" class=\"data row2 col5\" >0.000000</td>\n",
       "      <td id=\"T_4f00e_row2_col6\" class=\"data row2 col6\" >76.000000</td>\n",
       "      <td id=\"T_4f00e_row2_col7\" class=\"data row2 col7\" >8033.310000</td>\n",
       "    </tr>\n",
       "    <tr>\n",
       "      <th id=\"T_4f00e_level0_row3\" class=\"row_heading level0 row3\" >ShoppingMall</th>\n",
       "      <td id=\"T_4f00e_row3_col0\" class=\"data row3 col0\" >8485.000000</td>\n",
       "      <td id=\"T_4f00e_row3_col1\" class=\"data row3 col1\" >154.611597</td>\n",
       "      <td id=\"T_4f00e_row3_col2\" class=\"data row3 col2\" >402.218859</td>\n",
       "      <td id=\"T_4f00e_row3_col3\" class=\"data row3 col3\" >0.000000</td>\n",
       "      <td id=\"T_4f00e_row3_col4\" class=\"data row3 col4\" >0.000000</td>\n",
       "      <td id=\"T_4f00e_row3_col5\" class=\"data row3 col5\" >0.000000</td>\n",
       "      <td id=\"T_4f00e_row3_col6\" class=\"data row3 col6\" >27.000000</td>\n",
       "      <td id=\"T_4f00e_row3_col7\" class=\"data row3 col7\" >2333.440000</td>\n",
       "    </tr>\n",
       "    <tr>\n",
       "      <th id=\"T_4f00e_level0_row4\" class=\"row_heading level0 row4\" >Spa</th>\n",
       "      <td id=\"T_4f00e_row4_col0\" class=\"data row4 col0\" >8510.000000</td>\n",
       "      <td id=\"T_4f00e_row4_col1\" class=\"data row4 col1\" >275.967991</td>\n",
       "      <td id=\"T_4f00e_row4_col2\" class=\"data row4 col2\" >829.249879</td>\n",
       "      <td id=\"T_4f00e_row4_col3\" class=\"data row4 col3\" >0.000000</td>\n",
       "      <td id=\"T_4f00e_row4_col4\" class=\"data row4 col4\" >0.000000</td>\n",
       "      <td id=\"T_4f00e_row4_col5\" class=\"data row4 col5\" >0.000000</td>\n",
       "      <td id=\"T_4f00e_row4_col6\" class=\"data row4 col6\" >59.000000</td>\n",
       "      <td id=\"T_4f00e_row4_col7\" class=\"data row4 col7\" >5390.100000</td>\n",
       "    </tr>\n",
       "    <tr>\n",
       "      <th id=\"T_4f00e_level0_row5\" class=\"row_heading level0 row5\" >VRDeck</th>\n",
       "      <td id=\"T_4f00e_row5_col0\" class=\"data row5 col0\" >8505.000000</td>\n",
       "      <td id=\"T_4f00e_row5_col1\" class=\"data row5 col1\" >269.573249</td>\n",
       "      <td id=\"T_4f00e_row5_col2\" class=\"data row5 col2\" >835.468811</td>\n",
       "      <td id=\"T_4f00e_row5_col3\" class=\"data row5 col3\" >0.000000</td>\n",
       "      <td id=\"T_4f00e_row5_col4\" class=\"data row5 col4\" >0.000000</td>\n",
       "      <td id=\"T_4f00e_row5_col5\" class=\"data row5 col5\" >0.000000</td>\n",
       "      <td id=\"T_4f00e_row5_col6\" class=\"data row5 col6\" >46.000000</td>\n",
       "      <td id=\"T_4f00e_row5_col7\" class=\"data row5 col7\" >5646.680000</td>\n",
       "    </tr>\n",
       "    <tr>\n",
       "      <th id=\"T_4f00e_level0_row6\" class=\"row_heading level0 row6\" >Transported</th>\n",
       "      <td id=\"T_4f00e_row6_col0\" class=\"data row6 col0\" >8693.000000</td>\n",
       "      <td id=\"T_4f00e_row6_col1\" class=\"data row6 col1\" >0.503624</td>\n",
       "      <td id=\"T_4f00e_row6_col2\" class=\"data row6 col2\" >0.500016</td>\n",
       "      <td id=\"T_4f00e_row6_col3\" class=\"data row6 col3\" >0.000000</td>\n",
       "      <td id=\"T_4f00e_row6_col4\" class=\"data row6 col4\" >0.000000</td>\n",
       "      <td id=\"T_4f00e_row6_col5\" class=\"data row6 col5\" >1.000000</td>\n",
       "      <td id=\"T_4f00e_row6_col6\" class=\"data row6 col6\" >1.000000</td>\n",
       "      <td id=\"T_4f00e_row6_col7\" class=\"data row6 col7\" >1.000000</td>\n",
       "    </tr>\n",
       "    <tr>\n",
       "      <th id=\"T_4f00e_level0_row7\" class=\"row_heading level0 row7\" >Cabin_1</th>\n",
       "      <td id=\"T_4f00e_row7_col0\" class=\"data row7 col0\" >8494.000000</td>\n",
       "      <td id=\"T_4f00e_row7_col1\" class=\"data row7 col1\" >600.367671</td>\n",
       "      <td id=\"T_4f00e_row7_col2\" class=\"data row7 col2\" >511.867226</td>\n",
       "      <td id=\"T_4f00e_row7_col3\" class=\"data row7 col3\" >0.000000</td>\n",
       "      <td id=\"T_4f00e_row7_col4\" class=\"data row7 col4\" >167.250000</td>\n",
       "      <td id=\"T_4f00e_row7_col5\" class=\"data row7 col5\" >427.000000</td>\n",
       "      <td id=\"T_4f00e_row7_col6\" class=\"data row7 col6\" >999.000000</td>\n",
       "      <td id=\"T_4f00e_row7_col7\" class=\"data row7 col7\" >1894.000000</td>\n",
       "    </tr>\n",
       "  </tbody>\n",
       "</table>\n"
      ],
      "text/plain": [
       "<pandas.io.formats.style.Styler at 0x2245a592d60>"
      ]
     },
     "execution_count": 27,
     "metadata": {},
     "output_type": "execute_result"
    }
   ],
   "source": [
    "## Clipping outliers on 99% quantile\n",
    "def clipping_quantile(dataframe, quantile_values=None, quantile=0.99):\n",
    "    df = dataframe.copy()\n",
    "    if quantile_values is None:\n",
    "        quantile_values = df[['RoomService', 'FoodCourt', 'ShoppingMall', 'Spa', 'VRDeck']].quantile(quantile)\n",
    "    \n",
    "    for num_column in ['RoomService', 'FoodCourt', 'ShoppingMall', 'Spa', 'VRDeck']:\n",
    "        num_values = df[num_column].values\n",
    "        threshold = quantile_values[num_column]\n",
    "        num_values = np.where(num_values > threshold, threshold, num_values)\n",
    "        df[num_column] = num_values    \n",
    "    return df\n",
    "\n",
    "train = clipping_quantile(train, quantile_values=None, quantile=0.99)\n",
    "\n",
    "train.describe().T.style.bar(subset=['mean'],)\\\n",
    "                        .background_gradient(subset=['std'], cmap='coolwarm')\\\n",
    "                        .background_gradient(subset=['50%'], cmap='coolwarm')"
   ]
  },
  {
   "cell_type": "code",
   "execution_count": 28,
   "metadata": {
    "_kg_hide-output": true,
    "tags": []
   },
   "outputs": [
    {
     "data": {
      "text/html": [
       "<div>\n",
       "<style scoped>\n",
       "    .dataframe tbody tr th:only-of-type {\n",
       "        vertical-align: middle;\n",
       "    }\n",
       "\n",
       "    .dataframe tbody tr th {\n",
       "        vertical-align: top;\n",
       "    }\n",
       "\n",
       "    .dataframe thead th {\n",
       "        text-align: right;\n",
       "    }\n",
       "</style>\n",
       "<table border=\"1\" class=\"dataframe\">\n",
       "  <thead>\n",
       "    <tr style=\"text-align: right;\">\n",
       "      <th></th>\n",
       "      <th>Transported</th>\n",
       "      <th>0</th>\n",
       "      <th>1</th>\n",
       "    </tr>\n",
       "  </thead>\n",
       "  <tbody>\n",
       "    <tr>\n",
       "      <th rowspan=\"8\" valign=\"top\">Age</th>\n",
       "      <th>count</th>\n",
       "      <td>4226.000000</td>\n",
       "      <td>4288.000000</td>\n",
       "    </tr>\n",
       "    <tr>\n",
       "      <th>mean</th>\n",
       "      <td>29.922858</td>\n",
       "      <td>27.748834</td>\n",
       "    </tr>\n",
       "    <tr>\n",
       "      <th>std</th>\n",
       "      <td>13.699262</td>\n",
       "      <td>15.151705</td>\n",
       "    </tr>\n",
       "    <tr>\n",
       "      <th>min</th>\n",
       "      <td>0.000000</td>\n",
       "      <td>0.000000</td>\n",
       "    </tr>\n",
       "    <tr>\n",
       "      <th>25%</th>\n",
       "      <td>21.000000</td>\n",
       "      <td>18.000000</td>\n",
       "    </tr>\n",
       "    <tr>\n",
       "      <th>50%</th>\n",
       "      <td>27.000000</td>\n",
       "      <td>26.000000</td>\n",
       "    </tr>\n",
       "    <tr>\n",
       "      <th>75%</th>\n",
       "      <td>38.000000</td>\n",
       "      <td>37.000000</td>\n",
       "    </tr>\n",
       "    <tr>\n",
       "      <th>max</th>\n",
       "      <td>79.000000</td>\n",
       "      <td>78.000000</td>\n",
       "    </tr>\n",
       "    <tr>\n",
       "      <th rowspan=\"8\" valign=\"top\">RoomService</th>\n",
       "      <th>count</th>\n",
       "      <td>4217.000000</td>\n",
       "      <td>4295.000000</td>\n",
       "    </tr>\n",
       "    <tr>\n",
       "      <th>mean</th>\n",
       "      <td>355.263133</td>\n",
       "      <td>62.531816</td>\n",
       "    </tr>\n",
       "    <tr>\n",
       "      <th>std</th>\n",
       "      <td>669.059108</td>\n",
       "      <td>267.834337</td>\n",
       "    </tr>\n",
       "    <tr>\n",
       "      <th>min</th>\n",
       "      <td>0.000000</td>\n",
       "      <td>0.000000</td>\n",
       "    </tr>\n",
       "    <tr>\n",
       "      <th>25%</th>\n",
       "      <td>0.000000</td>\n",
       "      <td>0.000000</td>\n",
       "    </tr>\n",
       "    <tr>\n",
       "      <th>50%</th>\n",
       "      <td>1.000000</td>\n",
       "      <td>0.000000</td>\n",
       "    </tr>\n",
       "    <tr>\n",
       "      <th>75%</th>\n",
       "      <td>473.000000</td>\n",
       "      <td>0.000000</td>\n",
       "    </tr>\n",
       "    <tr>\n",
       "      <th>max</th>\n",
       "      <td>3096.230000</td>\n",
       "      <td>3096.230000</td>\n",
       "    </tr>\n",
       "    <tr>\n",
       "      <th rowspan=\"8\" valign=\"top\">FoodCourt</th>\n",
       "      <th>count</th>\n",
       "      <td>4231.000000</td>\n",
       "      <td>4279.000000</td>\n",
       "    </tr>\n",
       "    <tr>\n",
       "      <th>mean</th>\n",
       "      <td>366.197677</td>\n",
       "      <td>463.803760</td>\n",
       "    </tr>\n",
       "    <tr>\n",
       "      <th>std</th>\n",
       "      <td>1055.354287</td>\n",
       "      <td>1408.125909</td>\n",
       "    </tr>\n",
       "    <tr>\n",
       "      <th>min</th>\n",
       "      <td>0.000000</td>\n",
       "      <td>0.000000</td>\n",
       "    </tr>\n",
       "    <tr>\n",
       "      <th>25%</th>\n",
       "      <td>0.000000</td>\n",
       "      <td>0.000000</td>\n",
       "    </tr>\n",
       "    <tr>\n",
       "      <th>50%</th>\n",
       "      <td>0.000000</td>\n",
       "      <td>0.000000</td>\n",
       "    </tr>\n",
       "    <tr>\n",
       "      <th>75%</th>\n",
       "      <td>179.000000</td>\n",
       "      <td>0.000000</td>\n",
       "    </tr>\n",
       "    <tr>\n",
       "      <th>max</th>\n",
       "      <td>8033.310000</td>\n",
       "      <td>8033.310000</td>\n",
       "    </tr>\n",
       "    <tr>\n",
       "      <th rowspan=\"8\" valign=\"top\">ShoppingMall</th>\n",
       "      <th>count</th>\n",
       "      <td>4221.000000</td>\n",
       "      <td>4264.000000</td>\n",
       "    </tr>\n",
       "    <tr>\n",
       "      <th>mean</th>\n",
       "      <td>159.067491</td>\n",
       "      <td>150.200638</td>\n",
       "    </tr>\n",
       "    <tr>\n",
       "      <th>std</th>\n",
       "      <td>363.729980</td>\n",
       "      <td>436.991977</td>\n",
       "    </tr>\n",
       "    <tr>\n",
       "      <th>min</th>\n",
       "      <td>0.000000</td>\n",
       "      <td>0.000000</td>\n",
       "    </tr>\n",
       "    <tr>\n",
       "      <th>25%</th>\n",
       "      <td>0.000000</td>\n",
       "      <td>0.000000</td>\n",
       "    </tr>\n",
       "    <tr>\n",
       "      <th>50%</th>\n",
       "      <td>0.000000</td>\n",
       "      <td>0.000000</td>\n",
       "    </tr>\n",
       "    <tr>\n",
       "      <th>75%</th>\n",
       "      <td>95.000000</td>\n",
       "      <td>0.000000</td>\n",
       "    </tr>\n",
       "    <tr>\n",
       "      <th>max</th>\n",
       "      <td>2333.440000</td>\n",
       "      <td>2333.440000</td>\n",
       "    </tr>\n",
       "    <tr>\n",
       "      <th rowspan=\"8\" valign=\"top\">Spa</th>\n",
       "      <th>count</th>\n",
       "      <td>4223.000000</td>\n",
       "      <td>4287.000000</td>\n",
       "    </tr>\n",
       "    <tr>\n",
       "      <th>mean</th>\n",
       "      <td>493.508075</td>\n",
       "      <td>61.675531</td>\n",
       "    </tr>\n",
       "    <tr>\n",
       "      <th>std</th>\n",
       "      <td>1105.389588</td>\n",
       "      <td>262.682871</td>\n",
       "    </tr>\n",
       "    <tr>\n",
       "      <th>min</th>\n",
       "      <td>0.000000</td>\n",
       "      <td>0.000000</td>\n",
       "    </tr>\n",
       "    <tr>\n",
       "      <th>25%</th>\n",
       "      <td>0.000000</td>\n",
       "      <td>0.000000</td>\n",
       "    </tr>\n",
       "    <tr>\n",
       "      <th>50%</th>\n",
       "      <td>4.000000</td>\n",
       "      <td>0.000000</td>\n",
       "    </tr>\n",
       "    <tr>\n",
       "      <th>75%</th>\n",
       "      <td>453.500000</td>\n",
       "      <td>0.000000</td>\n",
       "    </tr>\n",
       "    <tr>\n",
       "      <th>max</th>\n",
       "      <td>5390.100000</td>\n",
       "      <td>4103.000000</td>\n",
       "    </tr>\n",
       "    <tr>\n",
       "      <th rowspan=\"8\" valign=\"top\">VRDeck</th>\n",
       "      <th>count</th>\n",
       "      <td>4225.000000</td>\n",
       "      <td>4280.000000</td>\n",
       "    </tr>\n",
       "    <tr>\n",
       "      <th>mean</th>\n",
       "      <td>472.607451</td>\n",
       "      <td>69.148131</td>\n",
       "    </tr>\n",
       "    <tr>\n",
       "      <th>std</th>\n",
       "      <td>1112.278126</td>\n",
       "      <td>291.658171</td>\n",
       "    </tr>\n",
       "    <tr>\n",
       "      <th>min</th>\n",
       "      <td>0.000000</td>\n",
       "      <td>0.000000</td>\n",
       "    </tr>\n",
       "    <tr>\n",
       "      <th>25%</th>\n",
       "      <td>0.000000</td>\n",
       "      <td>0.000000</td>\n",
       "    </tr>\n",
       "    <tr>\n",
       "      <th>50%</th>\n",
       "      <td>1.000000</td>\n",
       "      <td>0.000000</td>\n",
       "    </tr>\n",
       "    <tr>\n",
       "      <th>75%</th>\n",
       "      <td>388.000000</td>\n",
       "      <td>0.000000</td>\n",
       "    </tr>\n",
       "    <tr>\n",
       "      <th>max</th>\n",
       "      <td>5646.680000</td>\n",
       "      <td>5063.000000</td>\n",
       "    </tr>\n",
       "    <tr>\n",
       "      <th rowspan=\"8\" valign=\"top\">Cabin_1</th>\n",
       "      <th>count</th>\n",
       "      <td>4216.000000</td>\n",
       "      <td>4278.000000</td>\n",
       "    </tr>\n",
       "    <tr>\n",
       "      <th>mean</th>\n",
       "      <td>623.619070</td>\n",
       "      <td>577.453249</td>\n",
       "    </tr>\n",
       "    <tr>\n",
       "      <th>std</th>\n",
       "      <td>525.438037</td>\n",
       "      <td>497.129959</td>\n",
       "    </tr>\n",
       "    <tr>\n",
       "      <th>min</th>\n",
       "      <td>0.000000</td>\n",
       "      <td>0.000000</td>\n",
       "    </tr>\n",
       "    <tr>\n",
       "      <th>25%</th>\n",
       "      <td>182.000000</td>\n",
       "      <td>154.000000</td>\n",
       "    </tr>\n",
       "    <tr>\n",
       "      <th>50%</th>\n",
       "      <td>448.500000</td>\n",
       "      <td>385.000000</td>\n",
       "    </tr>\n",
       "    <tr>\n",
       "      <th>75%</th>\n",
       "      <td>1060.000000</td>\n",
       "      <td>964.000000</td>\n",
       "    </tr>\n",
       "    <tr>\n",
       "      <th>max</th>\n",
       "      <td>1894.000000</td>\n",
       "      <td>1893.000000</td>\n",
       "    </tr>\n",
       "  </tbody>\n",
       "</table>\n",
       "</div>"
      ],
      "text/plain": [
       "Transported                   0            1\n",
       "Age          count  4226.000000  4288.000000\n",
       "             mean     29.922858    27.748834\n",
       "             std      13.699262    15.151705\n",
       "             min       0.000000     0.000000\n",
       "             25%      21.000000    18.000000\n",
       "             50%      27.000000    26.000000\n",
       "             75%      38.000000    37.000000\n",
       "             max      79.000000    78.000000\n",
       "RoomService  count  4217.000000  4295.000000\n",
       "             mean    355.263133    62.531816\n",
       "             std     669.059108   267.834337\n",
       "             min       0.000000     0.000000\n",
       "             25%       0.000000     0.000000\n",
       "             50%       1.000000     0.000000\n",
       "             75%     473.000000     0.000000\n",
       "             max    3096.230000  3096.230000\n",
       "FoodCourt    count  4231.000000  4279.000000\n",
       "             mean    366.197677   463.803760\n",
       "             std    1055.354287  1408.125909\n",
       "             min       0.000000     0.000000\n",
       "             25%       0.000000     0.000000\n",
       "             50%       0.000000     0.000000\n",
       "             75%     179.000000     0.000000\n",
       "             max    8033.310000  8033.310000\n",
       "ShoppingMall count  4221.000000  4264.000000\n",
       "             mean    159.067491   150.200638\n",
       "             std     363.729980   436.991977\n",
       "             min       0.000000     0.000000\n",
       "             25%       0.000000     0.000000\n",
       "             50%       0.000000     0.000000\n",
       "             75%      95.000000     0.000000\n",
       "             max    2333.440000  2333.440000\n",
       "Spa          count  4223.000000  4287.000000\n",
       "             mean    493.508075    61.675531\n",
       "             std    1105.389588   262.682871\n",
       "             min       0.000000     0.000000\n",
       "             25%       0.000000     0.000000\n",
       "             50%       4.000000     0.000000\n",
       "             75%     453.500000     0.000000\n",
       "             max    5390.100000  4103.000000\n",
       "VRDeck       count  4225.000000  4280.000000\n",
       "             mean    472.607451    69.148131\n",
       "             std    1112.278126   291.658171\n",
       "             min       0.000000     0.000000\n",
       "             25%       0.000000     0.000000\n",
       "             50%       1.000000     0.000000\n",
       "             75%     388.000000     0.000000\n",
       "             max    5646.680000  5063.000000\n",
       "Cabin_1      count  4216.000000  4278.000000\n",
       "             mean    623.619070   577.453249\n",
       "             std     525.438037   497.129959\n",
       "             min       0.000000     0.000000\n",
       "             25%     182.000000   154.000000\n",
       "             50%     448.500000   385.000000\n",
       "             75%    1060.000000   964.000000\n",
       "             max    1894.000000  1893.000000"
      ]
     },
     "execution_count": 28,
     "metadata": {},
     "output_type": "execute_result"
    }
   ],
   "source": [
    "## After clipping outliers on 99% quantile\n",
    "train.groupby('Transported').describe().T"
   ]
  },
  {
   "cell_type": "code",
   "execution_count": 29,
   "metadata": {
    "tags": []
   },
   "outputs": [
    {
     "ename": "AttributeError",
     "evalue": "module 'seaborn' has no attribute 'histplot'",
     "output_type": "error",
     "traceback": [
      "\u001b[1;31m---------------------------------------------------------------------------\u001b[0m",
      "\u001b[1;31mAttributeError\u001b[0m                            Traceback (most recent call last)",
      "\u001b[1;32m~\\AppData\\Local\\Temp/ipykernel_10664/2116584182.py\u001b[0m in \u001b[0;36m<module>\u001b[1;34m\u001b[0m\n\u001b[0;32m      8\u001b[0m \u001b[1;32mfor\u001b[0m \u001b[0mi\u001b[0m\u001b[1;33m,\u001b[0m \u001b[0mcolumn\u001b[0m \u001b[1;32min\u001b[0m \u001b[0menumerate\u001b[0m\u001b[1;33m(\u001b[0m\u001b[0mnumerical_columns\u001b[0m\u001b[1;33m)\u001b[0m\u001b[1;33m:\u001b[0m\u001b[1;33m\u001b[0m\u001b[1;33m\u001b[0m\u001b[0m\n\u001b[0;32m      9\u001b[0m     \u001b[0mq\u001b[0m\u001b[1;33m,\u001b[0m \u001b[0mmod\u001b[0m \u001b[1;33m=\u001b[0m \u001b[0mdivmod\u001b[0m\u001b[1;33m(\u001b[0m\u001b[0mi\u001b[0m\u001b[1;33m,\u001b[0m \u001b[0mn_cols\u001b[0m\u001b[1;33m)\u001b[0m\u001b[1;33m\u001b[0m\u001b[1;33m\u001b[0m\u001b[0m\n\u001b[1;32m---> 10\u001b[1;33m     \u001b[0msns\u001b[0m\u001b[1;33m.\u001b[0m\u001b[0mhistplot\u001b[0m\u001b[1;33m(\u001b[0m\u001b[0mx\u001b[0m\u001b[1;33m=\u001b[0m\u001b[0mcolumn\u001b[0m\u001b[1;33m,\u001b[0m \u001b[0mdata\u001b[0m\u001b[1;33m=\u001b[0m\u001b[0mtrain\u001b[0m\u001b[1;33m,\u001b[0m \u001b[0mhue\u001b[0m\u001b[1;33m=\u001b[0m\u001b[1;34m'Transported'\u001b[0m\u001b[1;33m,\u001b[0m \u001b[0max\u001b[0m\u001b[1;33m=\u001b[0m\u001b[0maxes\u001b[0m\u001b[1;33m[\u001b[0m\u001b[0mq\u001b[0m\u001b[1;33m]\u001b[0m\u001b[1;33m[\u001b[0m\u001b[0mmod\u001b[0m\u001b[1;33m]\u001b[0m\u001b[1;33m,\u001b[0m \u001b[0mbins\u001b[0m\u001b[1;33m=\u001b[0m\u001b[0mbins\u001b[0m\u001b[1;33m,\u001b[0m \u001b[0mstat\u001b[0m\u001b[1;33m=\u001b[0m\u001b[1;34m\"percent\"\u001b[0m\u001b[1;33m,\u001b[0m \u001b[0mlegend\u001b[0m\u001b[1;33m=\u001b[0m\u001b[1;32mTrue\u001b[0m\u001b[1;33m)\u001b[0m\u001b[1;33m\u001b[0m\u001b[1;33m\u001b[0m\u001b[0m\n\u001b[0m\u001b[0;32m     11\u001b[0m     \u001b[0maxes\u001b[0m\u001b[1;33m[\u001b[0m\u001b[0mq\u001b[0m\u001b[1;33m]\u001b[0m\u001b[1;33m[\u001b[0m\u001b[0mmod\u001b[0m\u001b[1;33m]\u001b[0m\u001b[1;33m.\u001b[0m\u001b[0mset_title\u001b[0m\u001b[1;33m(\u001b[0m\u001b[1;34mf'Distribution of {numerical_columns[i]}'\u001b[0m\u001b[1;33m,\u001b[0m\u001b[0msize\u001b[0m\u001b[1;33m=\u001b[0m\u001b[1;36m15\u001b[0m\u001b[1;33m)\u001b[0m\u001b[1;33m\u001b[0m\u001b[1;33m\u001b[0m\u001b[0m\n\u001b[0;32m     12\u001b[0m \u001b[1;33m\u001b[0m\u001b[0m\n",
      "\u001b[1;31mAttributeError\u001b[0m: module 'seaborn' has no attribute 'histplot'"
     ]
    },
    {
     "data": {
      "image/png": "[encoded data removed]",
      "text/plain": [
       "<Figure size 1440x1080 with 6 Axes>"
      ]
     },
     "metadata": {
      "needs_background": "light"
     },
     "output_type": "display_data"
    }
   ],
   "source": [
    "## After clipping outliers on 99% quantile\n",
    "n_cols = 2\n",
    "n_rows = int(np.ceil(len(numerical_columns) / n_cols))\n",
    "\n",
    "fig, axes = plt.subplots(nrows=n_rows,ncols=n_cols,figsize=(20,15))\n",
    "\n",
    "bins = 50\n",
    "for i, column in enumerate(numerical_columns):\n",
    "    q, mod = divmod(i, n_cols)\n",
    "    sns.histplot(x=column, data=train, hue='Transported', ax=axes[q][mod], bins=bins, stat=\"percent\", legend=True)\n",
    "    axes[q][mod].set_title(f'Distribution of {numerical_columns[i]}',size=15)\n",
    "    \n",
    "fig.suptitle('Blue: Transported=0, Red: Transported=1', fontsize=20)\n",
    "fig.tight_layout()\n",
    "plt.show()"
   ]
  },
  {
   "cell_type": "code",
   "execution_count": 30,
   "metadata": {
    "tags": []
   },
   "outputs": [
    {
     "data": {
      "application/vnd.plotly.v1+json": {
       "config": {
        "plotlyServerURL": "https://plot.ly"
       },
       "data": [
        {
         "coloraxis": "coloraxis",
         "hovertemplate": "x: %{x}<br>y: %{y}<br>color: %{z}<extra></extra>",
         "name": "0",
         "type": "heatmap",
         "x": [
          "Age",
          "RoomService",
          "FoodCourt",
          "ShoppingMall",
          "Spa",
          "VRDeck",
          "Transported",
          "Cabin_1"
         ],
         "xaxis": "x",
         "y": [
          "Age",
          "RoomService",
          "FoodCourt",
          "ShoppingMall",
          "Spa",
          "VRDeck",
          "Transported",
          "Cabin_1"
         ],
         "yaxis": "y",
         "z": [
          [
           1,
           0.0794104026918404,
           0.15244370917211736,
           0.05127592536916501,
           0.1386979283065681,
           0.11382475780761112,
           -0.07502558362232603,
           -0.13225524758813026
          ],
          [
           0.0794104026918404,
           1,
           -0.02661521259477333,
           0.08725817431591562,
           -0.016640281715496273,
           -0.030393865761672745,
           -0.27692725944383817,
           -0.0036477770950994696
          ],
          [
           0.15244370917211736,
           -0.02661521259477333,
           1,
           -0.027805422631780992,
           0.2639146955331637,
           0.27656665909963785,
           0.0391640155163133,
           -0.20625692785326244
          ],
          [
           0.05127592536916501,
           0.08725817431591562,
           -0.027805422631780992,
           1,
           -0.007102419511780396,
           -0.025574626820725234,
           -0.01102293155050545,
           0.02693357730104593
          ],
          [
           0.1386979283065681,
           -0.016640281715496273,
           0.2639146955331637,
           -0.007102419511780396,
           1,
           0.19766501403602835,
           -0.26038333951592485,
           -0.1442769788676135
          ],
          [
           0.11382475780761112,
           -0.030393865761672745,
           0.27656665909963785,
           -0.025574626820725234,
           0.19766501403602835,
           1,
           -0.24146598841776584,
           -0.15615128224005337
          ],
          [
           -0.07502558362232603,
           -0.27692725944383817,
           0.0391640155163133,
           -0.01102293155050545,
           -0.26038333951592485,
           -0.24146598841776584,
           1,
           -0.045096957319501835
          ],
          [
           -0.13225524758813026,
           -0.0036477770950994696,
           -0.20625692785326244,
           0.02693357730104593,
           -0.1442769788676135,
           -0.15615128224005337,
           -0.045096957319501835,
           1
          ]
         ]
        }
       ],
       "layout": {
        "coloraxis": {
         "cmid": 0,
         "colorscale": [
          [
           0,
           "rgb(5,48,97)"
          ],
          [
           0.1,
           "rgb(33,102,172)"
          ],
          [
           0.2,
           "rgb(67,147,195)"
          ],
          [
           0.3,
           "rgb(146,197,222)"
          ],
          [
           0.4,
           "rgb(209,229,240)"
          ],
          [
           0.5,
           "rgb(247,247,247)"
          ],
          [
           0.6,
           "rgb(253,219,199)"
          ],
          [
           0.7,
           "rgb(244,165,130)"
          ],
          [
           0.8,
           "rgb(214,96,77)"
          ],
          [
           0.9,
           "rgb(178,24,43)"
          ],
          [
           1,
           "rgb(103,0,31)"
          ]
         ]
        },
        "height": 500,
        "margin": {
         "t": 60
        },
        "showlegend": false,
        "template": {
         "data": {
          "bar": [
           {
            "error_x": {
             "color": "#2a3f5f"
            },
            "error_y": {
             "color": "#2a3f5f"
            },
            "marker": {
             "line": {
              "color": "#E5ECF6",
              "width": 0.5
             },
             "pattern": {
              "fillmode": "overlay",
              "size": 10,
              "solidity": 0.2
             }
            },
            "type": "bar"
           }
          ],
          "barpolar": [
           {
            "marker": {
             "line": {
              "color": "#E5ECF6",
              "width": 0.5
             },
             "pattern": {
              "fillmode": "overlay",
              "size": 10,
              "solidity": 0.2
             }
            },
            "type": "barpolar"
           }
          ],
          "carpet": [
           {
            "aaxis": {
             "endlinecolor": "#2a3f5f",
             "gridcolor": "white",
             "linecolor": "white",
             "minorgridcolor": "white",
             "startlinecolor": "#2a3f5f"
            },
            "baxis": {
             "endlinecolor": "#2a3f5f",
             "gridcolor": "white",
             "linecolor": "white",
             "minorgridcolor": "white",
             "startlinecolor": "#2a3f5f"
            },
            "type": "carpet"
           }
          ],
          "choropleth": [
           {
            "colorbar": {
             "outlinewidth": 0,
             "ticks": ""
            },
            "type": "choropleth"
           }
          ],
          "contour": [
           {
            "colorbar": {
             "outlinewidth": 0,
             "ticks": ""
            },
            "colorscale": [
             [
              0,
              "#0d0887"
             ],
             [
              0.1111111111111111,
              "#46039f"
             ],
             [
              0.2222222222222222,
              "#7201a8"
             ],
             [
              0.3333333333333333,
              "#9c179e"
             ],
             [
              0.4444444444444444,
              "#bd3786"
             ],
             [
              0.5555555555555556,
              "#d8576b"
             ],
             [
              0.6666666666666666,
              "#ed7953"
             ],
             [
              0.7777777777777778,
              "#fb9f3a"
             ],
             [
              0.8888888888888888,
              "#fdca26"
             ],
             [
              1,
              "#f0f921"
             ]
            ],
            "type": "contour"
           }
          ],
          "contourcarpet": [
           {
            "colorbar": {
             "outlinewidth": 0,
             "ticks": ""
            },
            "type": "contourcarpet"
           }
          ],
          "heatmap": [
           {
            "colorbar": {
             "outlinewidth": 0,
             "ticks": ""
            },
            "colorscale": [
             [
              0,
              "#0d0887"
             ],
             [
              0.1111111111111111,
              "#46039f"
             ],
             [
              0.2222222222222222,
              "#7201a8"
             ],
             [
              0.3333333333333333,
              "#9c179e"
             ],
             [
              0.4444444444444444,
              "#bd3786"
             ],
             [
              0.5555555555555556,
              "#d8576b"
             ],
             [
              0.6666666666666666,
              "#ed7953"
             ],
             [
              0.7777777777777778,
              "#fb9f3a"
             ],
             [
              0.8888888888888888,
              "#fdca26"
             ],
             [
              1,
              "#f0f921"
             ]
            ],
            "type": "heatmap"
           }
          ],
          "heatmapgl": [
           {
            "colorbar": {
             "outlinewidth": 0,
             "ticks": ""
            },
            "colorscale": [
             [
              0,
              "#0d0887"
             ],
             [
              0.1111111111111111,
              "#46039f"
             ],
             [
              0.2222222222222222,
              "#7201a8"
             ],
             [
              0.3333333333333333,
              "#9c179e"
             ],
             [
              0.4444444444444444,
              "#bd3786"
             ],
             [
              0.5555555555555556,
              "#d8576b"
             ],
             [
              0.6666666666666666,
              "#ed7953"
             ],
             [
              0.7777777777777778,
              "#fb9f3a"
             ],
             [
              0.8888888888888888,
              "#fdca26"
             ],
             [
              1,
              "#f0f921"
             ]
            ],
            "type": "heatmapgl"
           }
          ],
          "histogram": [
           {
            "marker": {
             "pattern": {
              "fillmode": "overlay",
              "size": 10,
              "solidity": 0.2
             }
            },
            "type": "histogram"
           }
          ],
          "histogram2d": [
           {
            "colorbar": {
             "outlinewidth": 0,
             "ticks": ""
            },
            "colorscale": [
             [
              0,
              "#0d0887"
             ],
             [
              0.1111111111111111,
              "#46039f"
             ],
             [
              0.2222222222222222,
              "#7201a8"
             ],
             [
              0.3333333333333333,
              "#9c179e"
             ],
             [
              0.4444444444444444,
              "#bd3786"
             ],
             [
              0.5555555555555556,
              "#d8576b"
             ],
             [
              0.6666666666666666,
              "#ed7953"
             ],
             [
              0.7777777777777778,
              "#fb9f3a"
             ],
             [
              0.8888888888888888,
              "#fdca26"
             ],
             [
              1,
              "#f0f921"
             ]
            ],
            "type": "histogram2d"
           }
          ],
          "histogram2dcontour": [
           {
            "colorbar": {
             "outlinewidth": 0,
             "ticks": ""
            },
            "colorscale": [
             [
              0,
              "#0d0887"
             ],
             [
              0.1111111111111111,
              "#46039f"
             ],
             [
              0.2222222222222222,
              "#7201a8"
             ],
             [
              0.3333333333333333,
              "#9c179e"
             ],
             [
              0.4444444444444444,
              "#bd3786"
             ],
             [
              0.5555555555555556,
              "#d8576b"
             ],
             [
              0.6666666666666666,
              "#ed7953"
             ],
             [
              0.7777777777777778,
              "#fb9f3a"
             ],
             [
              0.8888888888888888,
              "#fdca26"
             ],
             [
              1,
              "#f0f921"
             ]
            ],
            "type": "histogram2dcontour"
           }
          ],
          "mesh3d": [
           {
            "colorbar": {
             "outlinewidth": 0,
             "ticks": ""
            },
            "type": "mesh3d"
           }
          ],
          "parcoords": [
           {
            "line": {
             "colorbar": {
              "outlinewidth": 0,
              "ticks": ""
             }
            },
            "type": "parcoords"
           }
          ],
          "pie": [
           {
            "automargin": true,
            "type": "pie"
           }
          ],
          "scatter": [
           {
            "fillpattern": {
             "fillmode": "overlay",
             "size": 10,
             "solidity": 0.2
            },
            "type": "scatter"
           }
          ],
          "scatter3d": [
           {
            "line": {
             "colorbar": {
              "outlinewidth": 0,
              "ticks": ""
             }
            },
            "marker": {
             "colorbar": {
              "outlinewidth": 0,
              "ticks": ""
             }
            },
            "type": "scatter3d"
           }
          ],
          "scattercarpet": [
           {
            "marker": {
             "colorbar": {
              "outlinewidth": 0,
              "ticks": ""
             }
            },
            "type": "scattercarpet"
           }
          ],
          "scattergeo": [
           {
            "marker": {
             "colorbar": {
              "outlinewidth": 0,
              "ticks": ""
             }
            },
            "type": "scattergeo"
           }
          ],
          "scattergl": [
           {
            "marker": {
             "colorbar": {
              "outlinewidth": 0,
              "ticks": ""
             }
            },
            "type": "scattergl"
           }
          ],
          "scattermapbox": [
           {
            "marker": {
             "colorbar": {
              "outlinewidth": 0,
              "ticks": ""
             }
            },
            "type": "scattermapbox"
           }
          ],
          "scatterpolar": [
           {
            "marker": {
             "colorbar": {
              "outlinewidth": 0,
              "ticks": ""
             }
            },
            "type": "scatterpolar"
           }
          ],
          "scatterpolargl": [
           {
            "marker": {
             "colorbar": {
              "outlinewidth": 0,
              "ticks": ""
             }
            },
            "type": "scatterpolargl"
           }
          ],
          "scatterternary": [
           {
            "marker": {
             "colorbar": {
              "outlinewidth": 0,
              "ticks": ""
             }
            },
            "type": "scatterternary"
           }
          ],
          "surface": [
           {
            "colorbar": {
             "outlinewidth": 0,
             "ticks": ""
            },
            "colorscale": [
             [
              0,
              "#0d0887"
             ],
             [
              0.1111111111111111,
              "#46039f"
             ],
             [
              0.2222222222222222,
              "#7201a8"
             ],
             [
              0.3333333333333333,
              "#9c179e"
             ],
             [
              0.4444444444444444,
              "#bd3786"
             ],
             [
              0.5555555555555556,
              "#d8576b"
             ],
             [
              0.6666666666666666,
              "#ed7953"
             ],
             [
              0.7777777777777778,
              "#fb9f3a"
             ],
             [
              0.8888888888888888,
              "#fdca26"
             ],
             [
              1,
              "#f0f921"
             ]
            ],
            "type": "surface"
           }
          ],
          "table": [
           {
            "cells": {
             "fill": {
              "color": "#EBF0F8"
             },
             "line": {
              "color": "white"
             }
            },
            "header": {
             "fill": {
              "color": "#C8D4E3"
             },
             "line": {
              "color": "white"
             }
            },
            "type": "table"
           }
          ]
         },
         "layout": {
          "annotationdefaults": {
           "arrowcolor": "#2a3f5f",
           "arrowhead": 0,
           "arrowwidth": 1
          },
          "autotypenumbers": "strict",
          "coloraxis": {
           "colorbar": {
            "outlinewidth": 0,
            "ticks": ""
           }
          },
          "colorscale": {
           "diverging": [
            [
             0,
             "#8e0152"
            ],
            [
             0.1,
             "#c51b7d"
            ],
            [
             0.2,
             "#de77ae"
            ],
            [
             0.3,
             "#f1b6da"
            ],
            [
             0.4,
             "#fde0ef"
            ],
            [
             0.5,
             "#f7f7f7"
            ],
            [
             0.6,
             "#e6f5d0"
            ],
            [
             0.7,
             "#b8e186"
            ],
            [
             0.8,
             "#7fbc41"
            ],
            [
             0.9,
             "#4d9221"
            ],
            [
             1,
             "#276419"
            ]
           ],
           "sequential": [
            [
             0,
             "#0d0887"
            ],
            [
             0.1111111111111111,
             "#46039f"
            ],
            [
             0.2222222222222222,
             "#7201a8"
            ],
            [
             0.3333333333333333,
             "#9c179e"
            ],
            [
             0.4444444444444444,
             "#bd3786"
            ],
            [
             0.5555555555555556,
             "#d8576b"
            ],
            [
             0.6666666666666666,
             "#ed7953"
            ],
            [
             0.7777777777777778,
             "#fb9f3a"
            ],
            [
             0.8888888888888888,
             "#fdca26"
            ],
            [
             1,
             "#f0f921"
            ]
           ],
           "sequentialminus": [
            [
             0,
             "#0d0887"
            ],
            [
             0.1111111111111111,
             "#46039f"
            ],
            [
             0.2222222222222222,
             "#7201a8"
            ],
            [
             0.3333333333333333,
             "#9c179e"
            ],
            [
             0.4444444444444444,
             "#bd3786"
            ],
            [
             0.5555555555555556,
             "#d8576b"
            ],
            [
             0.6666666666666666,
             "#ed7953"
            ],
            [
             0.7777777777777778,
             "#fb9f3a"
            ],
            [
             0.8888888888888888,
             "#fdca26"
            ],
            [
             1,
             "#f0f921"
            ]
           ]
          },
          "colorway": [
           "#636efa",
           "#EF553B",
           "#00cc96",
           "#ab63fa",
           "#FFA15A",
           "#19d3f3",
           "#FF6692",
           "#B6E880",
           "#FF97FF",
           "#FECB52"
          ],
          "font": {
           "color": "#2a3f5f"
          },
          "geo": {
           "bgcolor": "white",
           "lakecolor": "white",
           "landcolor": "#E5ECF6",
           "showlakes": true,
           "showland": true,
           "subunitcolor": "white"
          },
          "hoverlabel": {
           "align": "left"
          },
          "hovermode": "closest",
          "mapbox": {
           "style": "light"
          },
          "paper_bgcolor": "white",
          "plot_bgcolor": "#E5ECF6",
          "polar": {
           "angularaxis": {
            "gridcolor": "white",
            "linecolor": "white",
            "ticks": ""
           },
           "bgcolor": "#E5ECF6",
           "radialaxis": {
            "gridcolor": "white",
            "linecolor": "white",
            "ticks": ""
           }
          },
          "scene": {
           "xaxis": {
            "backgroundcolor": "#E5ECF6",
            "gridcolor": "white",
            "gridwidth": 2,
            "linecolor": "white",
            "showbackground": true,
            "ticks": "",
            "zerolinecolor": "white"
           },
           "yaxis": {
            "backgroundcolor": "#E5ECF6",
            "gridcolor": "white",
            "gridwidth": 2,
            "linecolor": "white",
            "showbackground": true,
            "ticks": "",
            "zerolinecolor": "white"
           },
           "zaxis": {
            "backgroundcolor": "#E5ECF6",
            "gridcolor": "white",
            "gridwidth": 2,
            "linecolor": "white",
            "showbackground": true,
            "ticks": "",
            "zerolinecolor": "white"
           }
          },
          "shapedefaults": {
           "line": {
            "color": "#2a3f5f"
           }
          },
          "ternary": {
           "aaxis": {
            "gridcolor": "white",
            "linecolor": "white",
            "ticks": ""
           },
           "baxis": {
            "gridcolor": "white",
            "linecolor": "white",
            "ticks": ""
           },
           "bgcolor": "#E5ECF6",
           "caxis": {
            "gridcolor": "white",
            "linecolor": "white",
            "ticks": ""
           }
          },
          "title": {
           "x": 0.05
          },
          "xaxis": {
           "automargin": true,
           "gridcolor": "white",
           "linecolor": "white",
           "ticks": "",
           "title": {
            "standoff": 15
           },
           "zerolinecolor": "white",
           "zerolinewidth": 2
          },
          "yaxis": {
           "automargin": true,
           "gridcolor": "white",
           "linecolor": "white",
           "ticks": "",
           "title": {
            "standoff": 15
           },
           "zerolinecolor": "white",
           "zerolinewidth": 2
          }
         }
        },
        "title": {
         "text": "Heatmap"
        },
        "width": 500,
        "xaxis": {
         "anchor": "y",
         "domain": [
          0,
          1
         ]
        },
        "yaxis": {
         "anchor": "x",
         "autorange": "reversed",
         "domain": [
          0,
          1
         ]
        }
       }
      },
      "text/html": [
       "<div>                            <div id=\"bb280467-4f94-442a-a06e-77e5f22a7407\" class=\"plotly-graph-div\" style=\"height:500px; width:500px;\"></div>            <script type=\"text/javascript\">                require([\"plotly\"], function(Plotly) {                    window.PLOTLYENV=window.PLOTLYENV || {};                                    if (document.getElementById(\"bb280467-4f94-442a-a06e-77e5f22a7407\")) {                    Plotly.newPlot(                        \"bb280467-4f94-442a-a06e-77e5f22a7407\",                        [{\"coloraxis\":\"coloraxis\",\"name\":\"0\",\"x\":[\"Age\",\"RoomService\",\"FoodCourt\",\"ShoppingMall\",\"Spa\",\"VRDeck\",\"Transported\",\"Cabin_1\"],\"y\":[\"Age\",\"RoomService\",\"FoodCourt\",\"ShoppingMall\",\"Spa\",\"VRDeck\",\"Transported\",\"Cabin_1\"],\"z\":[[1.0,0.0794104026918404,0.15244370917211736,0.05127592536916501,0.1386979283065681,0.11382475780761112,-0.07502558362232603,-0.13225524758813026],[0.0794104026918404,1.0,-0.02661521259477333,0.08725817431591562,-0.016640281715496273,-0.030393865761672745,-0.27692725944383817,-0.0036477770950994696],[0.15244370917211736,-0.02661521259477333,1.0,-0.027805422631780992,0.2639146955331637,0.27656665909963785,0.0391640155163133,-0.20625692785326244],[0.05127592536916501,0.08725817431591562,-0.027805422631780992,1.0,-0.007102419511780396,-0.025574626820725234,-0.01102293155050545,0.02693357730104593],[0.1386979283065681,-0.016640281715496273,0.2639146955331637,-0.007102419511780396,1.0,0.19766501403602835,-0.26038333951592485,-0.1442769788676135],[0.11382475780761112,-0.030393865761672745,0.27656665909963785,-0.025574626820725234,0.19766501403602835,1.0,-0.24146598841776584,-0.15615128224005337],[-0.07502558362232603,-0.27692725944383817,0.0391640155163133,-0.01102293155050545,-0.26038333951592485,-0.24146598841776584,1.0,-0.045096957319501835],[-0.13225524758813026,-0.0036477770950994696,-0.20625692785326244,0.02693357730104593,-0.1442769788676135,-0.15615128224005337,-0.045096957319501835,1.0]],\"type\":\"heatmap\",\"xaxis\":\"x\",\"yaxis\":\"y\",\"hovertemplate\":\"x: %{x}<br>y: %{y}<br>color: %{z}<extra></extra>\"}],                        {\"template\":{\"data\":{\"histogram2dcontour\":[{\"type\":\"histogram2dcontour\",\"colorbar\":{\"outlinewidth\":0,\"ticks\":\"\"},\"colorscale\":[[0.0,\"#0d0887\"],[0.1111111111111111,\"#46039f\"],[0.2222222222222222,\"#7201a8\"],[0.3333333333333333,\"#9c179e\"],[0.4444444444444444,\"#bd3786\"],[0.5555555555555556,\"#d8576b\"],[0.6666666666666666,\"#ed7953\"],[0.7777777777777778,\"#fb9f3a\"],[0.8888888888888888,\"#fdca26\"],[1.0,\"#f0f921\"]]}],\"choropleth\":[{\"type\":\"choropleth\",\"colorbar\":{\"outlinewidth\":0,\"ticks\":\"\"}}],\"histogram2d\":[{\"type\":\"histogram2d\",\"colorbar\":{\"outlinewidth\":0,\"ticks\":\"\"},\"colorscale\":[[0.0,\"#0d0887\"],[0.1111111111111111,\"#46039f\"],[0.2222222222222222,\"#7201a8\"],[0.3333333333333333,\"#9c179e\"],[0.4444444444444444,\"#bd3786\"],[0.5555555555555556,\"#d8576b\"],[0.6666666666666666,\"#ed7953\"],[0.7777777777777778,\"#fb9f3a\"],[0.8888888888888888,\"#fdca26\"],[1.0,\"#f0f921\"]]}],\"heatmap\":[{\"type\":\"heatmap\",\"colorbar\":{\"outlinewidth\":0,\"ticks\":\"\"},\"colorscale\":[[0.0,\"#0d0887\"],[0.1111111111111111,\"#46039f\"],[0.2222222222222222,\"#7201a8\"],[0.3333333333333333,\"#9c179e\"],[0.4444444444444444,\"#bd3786\"],[0.5555555555555556,\"#d8576b\"],[0.6666666666666666,\"#ed7953\"],[0.7777777777777778,\"#fb9f3a\"],[0.8888888888888888,\"#fdca26\"],[1.0,\"#f0f921\"]]}],\"heatmapgl\":[{\"type\":\"heatmapgl\",\"colorbar\":{\"outlinewidth\":0,\"ticks\":\"\"},\"colorscale\":[[0.0,\"#0d0887\"],[0.1111111111111111,\"#46039f\"],[0.2222222222222222,\"#7201a8\"],[0.3333333333333333,\"#9c179e\"],[0.4444444444444444,\"#bd3786\"],[0.5555555555555556,\"#d8576b\"],[0.6666666666666666,\"#ed7953\"],[0.7777777777777778,\"#fb9f3a\"],[0.8888888888888888,\"#fdca26\"],[1.0,\"#f0f921\"]]}],\"contourcarpet\":[{\"type\":\"contourcarpet\",\"colorbar\":{\"outlinewidth\":0,\"ticks\":\"\"}}],\"contour\":[{\"type\":\"contour\",\"colorbar\":{\"outlinewidth\":0,\"ticks\":\"\"},\"colorscale\":[[0.0,\"#0d0887\"],[0.1111111111111111,\"#46039f\"],[0.2222222222222222,\"#7201a8\"],[0.3333333333333333,\"#9c179e\"],[0.4444444444444444,\"#bd3786\"],[0.5555555555555556,\"#d8576b\"],[0.6666666666666666,\"#ed7953\"],[0.7777777777777778,\"#fb9f3a\"],[0.8888888888888888,\"#fdca26\"],[1.0,\"#f0f921\"]]}],\"surface\":[{\"type\":\"surface\",\"colorbar\":{\"outlinewidth\":0,\"ticks\":\"\"},\"colorscale\":[[0.0,\"#0d0887\"],[0.1111111111111111,\"#46039f\"],[0.2222222222222222,\"#7201a8\"],[0.3333333333333333,\"#9c179e\"],[0.4444444444444444,\"#bd3786\"],[0.5555555555555556,\"#d8576b\"],[0.6666666666666666,\"#ed7953\"],[0.7777777777777778,\"#fb9f3a\"],[0.8888888888888888,\"#fdca26\"],[1.0,\"#f0f921\"]]}],\"mesh3d\":[{\"type\":\"mesh3d\",\"colorbar\":{\"outlinewidth\":0,\"ticks\":\"\"}}],\"scatter\":[{\"fillpattern\":{\"fillmode\":\"overlay\",\"size\":10,\"solidity\":0.2},\"type\":\"scatter\"}],\"parcoords\":[{\"type\":\"parcoords\",\"line\":{\"colorbar\":{\"outlinewidth\":0,\"ticks\":\"\"}}}],\"scatterpolargl\":[{\"type\":\"scatterpolargl\",\"marker\":{\"colorbar\":{\"outlinewidth\":0,\"ticks\":\"\"}}}],\"bar\":[{\"error_x\":{\"color\":\"#2a3f5f\"},\"error_y\":{\"color\":\"#2a3f5f\"},\"marker\":{\"line\":{\"color\":\"#E5ECF6\",\"width\":0.5},\"pattern\":{\"fillmode\":\"overlay\",\"size\":10,\"solidity\":0.2}},\"type\":\"bar\"}],\"scattergeo\":[{\"type\":\"scattergeo\",\"marker\":{\"colorbar\":{\"outlinewidth\":0,\"ticks\":\"\"}}}],\"scatterpolar\":[{\"type\":\"scatterpolar\",\"marker\":{\"colorbar\":{\"outlinewidth\":0,\"ticks\":\"\"}}}],\"histogram\":[{\"marker\":{\"pattern\":{\"fillmode\":\"overlay\",\"size\":10,\"solidity\":0.2}},\"type\":\"histogram\"}],\"scattergl\":[{\"type\":\"scattergl\",\"marker\":{\"colorbar\":{\"outlinewidth\":0,\"ticks\":\"\"}}}],\"scatter3d\":[{\"type\":\"scatter3d\",\"line\":{\"colorbar\":{\"outlinewidth\":0,\"ticks\":\"\"}},\"marker\":{\"colorbar\":{\"outlinewidth\":0,\"ticks\":\"\"}}}],\"scattermapbox\":[{\"type\":\"scattermapbox\",\"marker\":{\"colorbar\":{\"outlinewidth\":0,\"ticks\":\"\"}}}],\"scatterternary\":[{\"type\":\"scatterternary\",\"marker\":{\"colorbar\":{\"outlinewidth\":0,\"ticks\":\"\"}}}],\"scattercarpet\":[{\"type\":\"scattercarpet\",\"marker\":{\"colorbar\":{\"outlinewidth\":0,\"ticks\":\"\"}}}],\"carpet\":[{\"aaxis\":{\"endlinecolor\":\"#2a3f5f\",\"gridcolor\":\"white\",\"linecolor\":\"white\",\"minorgridcolor\":\"white\",\"startlinecolor\":\"#2a3f5f\"},\"baxis\":{\"endlinecolor\":\"#2a3f5f\",\"gridcolor\":\"white\",\"linecolor\":\"white\",\"minorgridcolor\":\"white\",\"startlinecolor\":\"#2a3f5f\"},\"type\":\"carpet\"}],\"table\":[{\"cells\":{\"fill\":{\"color\":\"#EBF0F8\"},\"line\":{\"color\":\"white\"}},\"header\":{\"fill\":{\"color\":\"#C8D4E3\"},\"line\":{\"color\":\"white\"}},\"type\":\"table\"}],\"barpolar\":[{\"marker\":{\"line\":{\"color\":\"#E5ECF6\",\"width\":0.5},\"pattern\":{\"fillmode\":\"overlay\",\"size\":10,\"solidity\":0.2}},\"type\":\"barpolar\"}],\"pie\":[{\"automargin\":true,\"type\":\"pie\"}]},\"layout\":{\"autotypenumbers\":\"strict\",\"colorway\":[\"#636efa\",\"#EF553B\",\"#00cc96\",\"#ab63fa\",\"#FFA15A\",\"#19d3f3\",\"#FF6692\",\"#B6E880\",\"#FF97FF\",\"#FECB52\"],\"font\":{\"color\":\"#2a3f5f\"},\"hovermode\":\"closest\",\"hoverlabel\":{\"align\":\"left\"},\"paper_bgcolor\":\"white\",\"plot_bgcolor\":\"#E5ECF6\",\"polar\":{\"bgcolor\":\"#E5ECF6\",\"angularaxis\":{\"gridcolor\":\"white\",\"linecolor\":\"white\",\"ticks\":\"\"},\"radialaxis\":{\"gridcolor\":\"white\",\"linecolor\":\"white\",\"ticks\":\"\"}},\"ternary\":{\"bgcolor\":\"#E5ECF6\",\"aaxis\":{\"gridcolor\":\"white\",\"linecolor\":\"white\",\"ticks\":\"\"},\"baxis\":{\"gridcolor\":\"white\",\"linecolor\":\"white\",\"ticks\":\"\"},\"caxis\":{\"gridcolor\":\"white\",\"linecolor\":\"white\",\"ticks\":\"\"}},\"coloraxis\":{\"colorbar\":{\"outlinewidth\":0,\"ticks\":\"\"}},\"colorscale\":{\"sequential\":[[0.0,\"#0d0887\"],[0.1111111111111111,\"#46039f\"],[0.2222222222222222,\"#7201a8\"],[0.3333333333333333,\"#9c179e\"],[0.4444444444444444,\"#bd3786\"],[0.5555555555555556,\"#d8576b\"],[0.6666666666666666,\"#ed7953\"],[0.7777777777777778,\"#fb9f3a\"],[0.8888888888888888,\"#fdca26\"],[1.0,\"#f0f921\"]],\"sequentialminus\":[[0.0,\"#0d0887\"],[0.1111111111111111,\"#46039f\"],[0.2222222222222222,\"#7201a8\"],[0.3333333333333333,\"#9c179e\"],[0.4444444444444444,\"#bd3786\"],[0.5555555555555556,\"#d8576b\"],[0.6666666666666666,\"#ed7953\"],[0.7777777777777778,\"#fb9f3a\"],[0.8888888888888888,\"#fdca26\"],[1.0,\"#f0f921\"]],\"diverging\":[[0,\"#8e0152\"],[0.1,\"#c51b7d\"],[0.2,\"#de77ae\"],[0.3,\"#f1b6da\"],[0.4,\"#fde0ef\"],[0.5,\"#f7f7f7\"],[0.6,\"#e6f5d0\"],[0.7,\"#b8e186\"],[0.8,\"#7fbc41\"],[0.9,\"#4d9221\"],[1,\"#276419\"]]},\"xaxis\":{\"gridcolor\":\"white\",\"linecolor\":\"white\",\"ticks\":\"\",\"title\":{\"standoff\":15},\"zerolinecolor\":\"white\",\"automargin\":true,\"zerolinewidth\":2},\"yaxis\":{\"gridcolor\":\"white\",\"linecolor\":\"white\",\"ticks\":\"\",\"title\":{\"standoff\":15},\"zerolinecolor\":\"white\",\"automargin\":true,\"zerolinewidth\":2},\"scene\":{\"xaxis\":{\"backgroundcolor\":\"#E5ECF6\",\"gridcolor\":\"white\",\"linecolor\":\"white\",\"showbackground\":true,\"ticks\":\"\",\"zerolinecolor\":\"white\",\"gridwidth\":2},\"yaxis\":{\"backgroundcolor\":\"#E5ECF6\",\"gridcolor\":\"white\",\"linecolor\":\"white\",\"showbackground\":true,\"ticks\":\"\",\"zerolinecolor\":\"white\",\"gridwidth\":2},\"zaxis\":{\"backgroundcolor\":\"#E5ECF6\",\"gridcolor\":\"white\",\"linecolor\":\"white\",\"showbackground\":true,\"ticks\":\"\",\"zerolinecolor\":\"white\",\"gridwidth\":2}},\"shapedefaults\":{\"line\":{\"color\":\"#2a3f5f\"}},\"annotationdefaults\":{\"arrowcolor\":\"#2a3f5f\",\"arrowhead\":0,\"arrowwidth\":1},\"geo\":{\"bgcolor\":\"white\",\"landcolor\":\"#E5ECF6\",\"subunitcolor\":\"white\",\"showland\":true,\"showlakes\":true,\"lakecolor\":\"white\"},\"title\":{\"x\":0.05},\"mapbox\":{\"style\":\"light\"}}},\"xaxis\":{\"anchor\":\"y\",\"domain\":[0.0,1.0]},\"yaxis\":{\"anchor\":\"x\",\"domain\":[0.0,1.0],\"autorange\":\"reversed\"},\"coloraxis\":{\"colorscale\":[[0.0,\"rgb(5,48,97)\"],[0.1,\"rgb(33,102,172)\"],[0.2,\"rgb(67,147,195)\"],[0.3,\"rgb(146,197,222)\"],[0.4,\"rgb(209,229,240)\"],[0.5,\"rgb(247,247,247)\"],[0.6,\"rgb(253,219,199)\"],[0.7,\"rgb(244,165,130)\"],[0.8,\"rgb(214,96,77)\"],[0.9,\"rgb(178,24,43)\"],[1.0,\"rgb(103,0,31)\"]],\"cmid\":0},\"margin\":{\"t\":60},\"height\":500,\"width\":500,\"title\":{\"text\":\"Heatmap\"},\"showlegend\":false},                        {\"responsive\": true}                    ).then(function(){\n",
       "                            \n",
       "var gd = document.getElementById('bb280467-4f94-442a-a06e-77e5f22a7407');\n",
       "var x = new MutationObserver(function (mutations, observer) {{\n",
       "        var display = window.getComputedStyle(gd).display;\n",
       "        if (!display || display === 'none') {{\n",
       "            console.log([gd, 'removed!']);\n",
       "            Plotly.purge(gd);\n",
       "            observer.disconnect();\n",
       "        }}\n",
       "}});\n",
       "\n",
       "// Listen for the removal of the full notebook cells\n",
       "var notebookContainer = gd.closest('#notebook-container');\n",
       "if (notebookContainer) {{\n",
       "    x.observe(notebookContainer, {childList: true});\n",
       "}}\n",
       "\n",
       "// Listen for the clearing of the current output cell\n",
       "var outputEl = gd.closest('.output');\n",
       "if (outputEl) {{\n",
       "    x.observe(outputEl, {childList: true});\n",
       "}}\n",
       "\n",
       "                        })                };                });            </script>        </div>"
      ]
     },
     "metadata": {},
     "output_type": "display_data"
    }
   ],
   "source": [
    "## Heat map of Correlation Matrix\n",
    "fig = px.imshow(train.corr(),\n",
    "                color_continuous_scale='RdBu_r',\n",
    "                color_continuous_midpoint=0, \n",
    "                aspect='auto')\n",
    "fig.update_layout(height=500, \n",
    "                  width=500,\n",
    "                  title = \"Heatmap\",                  \n",
    "                  showlegend=False)\n",
    "fig.show()"
   ]
  },
  {
   "cell_type": "markdown",
   "metadata": {},
   "source": [
    "<a id =\"3.3.2\"></a><h2 style=\"background:#D4F1F4; border:0; border-radius: 12px; color:black\"><center>3.3.2 Binning for Numerical Features </center></h2>"
   ]
  },
  {
   "cell_type": "markdown",
   "metadata": {},
   "source": [
    "### Binning Method\n",
    "- `Age`: 0 to 100 at intervals of 5.\n",
    "\n",
    "- `other numerical features`: Split into 10 bins.\n",
    " - 1. Value=0 is the first bin ( get by (-1, 0] ).\n",
    " - 2. Get quantiles at [ 0, 0.9, 0.95, 0.99, 1 ].\n",
    " - 3. Split between quantiles_0 and quantiles_0.9 into 6 bins.\n",
    " - 4. Use quantiles_0.95, _0.99, _1 for the rest boundary."
   ]
  },
  {
   "cell_type": "code",
   "execution_count": null,
   "metadata": {
    "_kg_hide-output": true,
    "execution": {
     "iopub.execute_input": "2022-07-21T07:25:39.240438Z",
     "iopub.status.busy": "2022-07-21T07:25:39.240089Z",
     "iopub.status.idle": "2022-07-21T07:25:39.27352Z",
     "shell.execute_reply": "2022-07-21T07:25:39.272412Z",
     "shell.execute_reply.started": "2022-07-21T07:25:39.240407Z"
    }
   },
   "outputs": [],
   "source": [
    "def bin_split(dataframe, column, n_bins, thresholds=None):\n",
    "    if thresholds is None:\n",
    "        if column == 'Age':\n",
    "            bins = np.array([i*5 for i in range(21)])\n",
    "        else:\n",
    "            bins = np.array([-1, ])\n",
    "            x = dataframe[column]\n",
    "            x_quantiles = x.quantile([0, 0.9, 0.95, 0.99, 1])\n",
    "            bins = np.append(bins, [i * ((x_quantiles.iloc[1] - x_quantiles.iloc[0]) / (n_bins-4)) for i in range(n_bins-4)])\n",
    "            bins = np.append(bins, [x_quantiles.iloc[1], x_quantiles.iloc[2], x_quantiles.iloc[3], x_quantiles.iloc[4]+1])\n",
    "    else:\n",
    "        bins = thresholds[column]\n",
    "        \n",
    "    splits = pd.cut(dataframe[column], bins=bins, labels=False, right=True)\n",
    "    return splits, bins\n",
    "\n",
    "def binning(dataframe, numerical_columns, n_bins, thresholds=None):\n",
    "    df = dataframe.copy()\n",
    "    df_split_bins = {}\n",
    "    for num_column in numerical_columns:\n",
    "        splits, bins = bin_split(df, num_column, n_bins, thresholds)\n",
    "        df[num_column] = splits\n",
    "        df_split_bins[num_column] = bins    \n",
    "    return df, df_split_bins\n",
    "\n",
    "n_bins = exp_config['n_bins']\n",
    "train, train_split_bins = binning(train, numerical_columns, n_bins, thresholds=None)\n",
    "\n",
    "for key in train_split_bins:\n",
    "    print(f'{key} bins: \\n{train_split_bins[key]}\\n\\n')"
   ]
  },
  {
   "cell_type": "code",
   "execution_count": null,
   "metadata": {
    "execution": {
     "iopub.execute_input": "2022-07-21T07:25:39.277554Z",
     "iopub.status.busy": "2022-07-21T07:25:39.27697Z",
     "iopub.status.idle": "2022-07-21T07:25:41.893478Z",
     "shell.execute_reply": "2022-07-21T07:25:41.891553Z",
     "shell.execute_reply.started": "2022-07-21T07:25:39.277507Z"
    }
   },
   "outputs": [],
   "source": [
    "## After Binning\n",
    "n_cols = 2\n",
    "n_rows = int(np.ceil(len(numerical_columns) / n_cols))\n",
    "\n",
    "fig, axes = plt.subplots(nrows=n_rows,ncols=n_cols,figsize=(20,15))\n",
    "\n",
    "bins = 50\n",
    "for i, column in enumerate(numerical_columns):\n",
    "    q, mod = divmod(i, n_cols)\n",
    "    sns.histplot(x=column, data=train, hue='Transported', ax=axes[q][mod], bins=bins, stat=\"percent\", legend=True)\n",
    "    axes[q][mod].set_title(f'Distribution of {numerical_columns[i]}',size=15)\n",
    "    \n",
    "fig.suptitle('Blue: Transported=0, Red: Transported=1', fontsize=20)\n",
    "fig.tight_layout()\n",
    "plt.show()"
   ]
  },
  {
   "cell_type": "markdown",
   "metadata": {},
   "source": [
    "<a id =\"3.4\"></a><h2 style=\"background:#75E6DA; border:0; border-radius: 12px; color:black\"><center>3.4 Categorical Features</center></h2>"
   ]
  },
  {
   "cell_type": "code",
   "execution_count": null,
   "metadata": {
    "execution": {
     "iopub.execute_input": "2022-07-21T07:25:41.896328Z",
     "iopub.status.busy": "2022-07-21T07:25:41.895899Z",
     "iopub.status.idle": "2022-07-21T07:25:42.164426Z",
     "shell.execute_reply": "2022-07-21T07:25:42.163469Z",
     "shell.execute_reply.started": "2022-07-21T07:25:41.896295Z"
    }
   },
   "outputs": [],
   "source": [
    "## Make Figure object\n",
    "fig = make_subplots(rows=2, cols=2,\n",
    "                    subplot_titles=categorical_columns,\n",
    "                    shared_yaxes='all')\n",
    "\n",
    "for i in range(2):\n",
    "    for j in range(2):\n",
    "        n = i*2 + j\n",
    "        ## Make trace (graph object)\n",
    "        data0 = go.Histogram(x=train_neg[categorical_columns[n]],\n",
    "                             marker = dict(color='#0000FF'), ## Blue\n",
    "                             name='Transporetd=0')\n",
    "        data1 = go.Histogram(x=train_pos[categorical_columns[n]],\n",
    "                             marker = dict(color='#FF0000'), ## Red\n",
    "                             name='Transported=1')\n",
    "        \n",
    "        ## Add the trace to the Figure\n",
    "        fig.add_trace(data0, row=i+1, col=j+1)\n",
    "        fig.add_trace(data1, row=i+1, col=j+1)\n",
    "        \n",
    "        fig.update_traces(opacity=0.75, histnorm='probability')\n",
    "        #fig.update_layout(barmode='overlay')\n",
    "\n",
    "## Setting layouts\n",
    "fig.update_layout(title = dict(text='Blue: Transported=0, Red: Transported=1'),\n",
    "                  showlegend=False,)\n",
    "fig.update_yaxes(title='probability', row=1, col=1)\n",
    "fig.update_yaxes(title='probability', row=2, col=1)\n",
    "\n",
    "## Show the Figure\n",
    "fig.show()"
   ]
  },
  {
   "cell_type": "markdown",
   "metadata": {},
   "source": [
    "### Cabin Features"
   ]
  },
  {
   "cell_type": "code",
   "execution_count": null,
   "metadata": {
    "execution": {
     "iopub.execute_input": "2022-07-21T07:25:42.166358Z",
     "iopub.status.busy": "2022-07-21T07:25:42.165592Z",
     "iopub.status.idle": "2022-07-21T07:25:42.447401Z",
     "shell.execute_reply": "2022-07-21T07:25:42.446159Z",
     "shell.execute_reply.started": "2022-07-21T07:25:42.166318Z"
    }
   },
   "outputs": [],
   "source": [
    "## 'Cabin_0'\n",
    "sns.countplot(x='Cabin_0', data=train, hue='Transported')"
   ]
  },
  {
   "cell_type": "code",
   "execution_count": null,
   "metadata": {
    "execution": {
     "iopub.execute_input": "2022-07-21T07:25:42.449202Z",
     "iopub.status.busy": "2022-07-21T07:25:42.448782Z",
     "iopub.status.idle": "2022-07-21T07:25:42.852469Z",
     "shell.execute_reply": "2022-07-21T07:25:42.851286Z",
     "shell.execute_reply.started": "2022-07-21T07:25:42.449167Z"
    }
   },
   "outputs": [],
   "source": [
    "## 'Cabin_1'\n",
    "sns.histplot(x='Cabin_1', data=train, hue='Transported', kde=True)"
   ]
  },
  {
   "cell_type": "code",
   "execution_count": null,
   "metadata": {
    "execution": {
     "iopub.execute_input": "2022-07-21T07:25:42.85497Z",
     "iopub.status.busy": "2022-07-21T07:25:42.85425Z",
     "iopub.status.idle": "2022-07-21T07:25:43.055805Z",
     "shell.execute_reply": "2022-07-21T07:25:43.054604Z",
     "shell.execute_reply.started": "2022-07-21T07:25:42.854922Z"
    }
   },
   "outputs": [],
   "source": [
    "## 'Cabin_2'\n",
    "sns.countplot(x='Cabin_2', data=train, hue='Transported')"
   ]
  },
  {
   "cell_type": "markdown",
   "metadata": {},
   "source": [
    "### Binning 'Cabin_1'"
   ]
  },
  {
   "cell_type": "code",
   "execution_count": null,
   "metadata": {
    "_kg_hide-output": true,
    "execution": {
     "iopub.execute_input": "2022-07-21T07:25:43.059055Z",
     "iopub.status.busy": "2022-07-21T07:25:43.057542Z",
     "iopub.status.idle": "2022-07-21T07:25:43.079452Z",
     "shell.execute_reply": "2022-07-21T07:25:43.078192Z",
     "shell.execute_reply.started": "2022-07-21T07:25:43.059006Z"
    }
   },
   "outputs": [],
   "source": [
    "## Histogram of 'Cabin_1' by Plotly (interactive)\n",
    "fig = go.Figure()\n",
    "\n",
    "data0 = go.Histogram(x=train_neg['Cabin_1'],\n",
    "                             marker = dict(color='#0000FF'), # Blue\n",
    "                             opacity=0.6,\n",
    "                             name='Transporetd=0')\n",
    "data1 = go.Histogram(x=train_pos['Cabin_1'],\n",
    "                             marker = dict(color='#FF0000'), # Red\n",
    "                             opacity=0.6,\n",
    "                             name='Transported=1')\n",
    "\n",
    "fig.add_trace(data0)\n",
    "fig.add_trace(data1)\n",
    "\n",
    "fig.update_layout(xaxis = dict(title='Cabin_1'),\n",
    "                  yaxis = dict(title='Count'))\n",
    "fig.update_layout(barmode='overlay')\n",
    "\n",
    "fig.show()"
   ]
  },
  {
   "cell_type": "code",
   "execution_count": null,
   "metadata": {
    "execution": {
     "iopub.execute_input": "2022-07-21T07:25:43.081834Z",
     "iopub.status.busy": "2022-07-21T07:25:43.081176Z",
     "iopub.status.idle": "2022-07-21T07:25:43.097724Z",
     "shell.execute_reply": "2022-07-21T07:25:43.096777Z",
     "shell.execute_reply.started": "2022-07-21T07:25:43.081785Z"
    }
   },
   "outputs": [],
   "source": [
    "## Binning 'Cabin_1' based on the above graph\n",
    "cabin_1_bins = np.array([0, 300, 600, 1150, 1500, 1700, 2000])\n",
    "train['Cabin_1'] = pd.cut(train['Cabin_1'], bins=cabin_1_bins, labels=False, right=False)"
   ]
  },
  {
   "cell_type": "code",
   "execution_count": null,
   "metadata": {
    "execution": {
     "iopub.execute_input": "2022-07-21T07:25:43.099492Z",
     "iopub.status.busy": "2022-07-21T07:25:43.098826Z",
     "iopub.status.idle": "2022-07-21T07:25:43.344126Z",
     "shell.execute_reply": "2022-07-21T07:25:43.343327Z",
     "shell.execute_reply.started": "2022-07-21T07:25:43.099459Z"
    }
   },
   "outputs": [],
   "source": [
    "## 'Cabin_1' after binning\n",
    "sns.countplot(x='Cabin_1', data=train, hue='Transported')"
   ]
  },
  {
   "cell_type": "markdown",
   "metadata": {},
   "source": [
    "<a id =\"3.5\"></a><h2 style=\"background:#75E6DA; border:0; border-radius: 12px; color:black\"><center>3.5 Data Processing Complete </center></h2>"
   ]
  },
  {
   "cell_type": "code",
   "execution_count": null,
   "metadata": {
    "execution": {
     "iopub.execute_input": "2022-07-21T07:25:43.345581Z",
     "iopub.status.busy": "2022-07-21T07:25:43.345139Z",
     "iopub.status.idle": "2022-07-21T07:25:43.35085Z",
     "shell.execute_reply": "2022-07-21T07:25:43.34982Z",
     "shell.execute_reply.started": "2022-07-21T07:25:43.345553Z"
    }
   },
   "outputs": [],
   "source": [
    "numerical_columns_0 = ['Age', 'RoomService', 'FoodCourt',\n",
    "                     'ShoppingMall', 'Spa', 'VRDeck']\n",
    "numerical_columns_1 = ['Age', 'RoomService', 'FoodCourt',\n",
    "                     'ShoppingMall', 'Spa', 'VRDeck', 'Cabin_1']\n",
    "categorical_columns_0 = ['PassengerId', 'HomePlanet', 'CryoSleep',\n",
    "                       'Cabin', 'Destination', 'VIP', 'Name']\n",
    "categorical_columns_1 = ['PassengerId', 'HomePlanet', 'CryoSleep',\n",
    "                       'Cabin', 'Destination', 'VIP', 'Name',\n",
    "                       'Cabin_0', 'Cabin_2']"
   ]
  },
  {
   "cell_type": "code",
   "execution_count": null,
   "metadata": {
    "_kg_hide-output": true,
    "execution": {
     "iopub.execute_input": "2022-07-21T07:25:43.35246Z",
     "iopub.status.busy": "2022-07-21T07:25:43.352166Z",
     "iopub.status.idle": "2022-07-21T07:25:43.443115Z",
     "shell.execute_reply": "2022-07-21T07:25:43.441812Z",
     "shell.execute_reply.started": "2022-07-21T07:25:43.35243Z"
    }
   },
   "outputs": [],
   "source": [
    "## Before filling null values,　making the string 'nan' (transformed by astype(str) in preprocess_df() function) back to np.nan.\n",
    "for column in ['CryoSleep', 'VIP', 'HomePlanet', 'Destination', 'Cabin_0', 'Cabin_2']:\n",
    "    train[column] = train[column].map(lambda x: np.nan if x=='nan' else x)\n",
    "\n",
    "\n",
    "## Filling null values with mode\n",
    "train = train.fillna(train.mode().iloc[0])\n",
    "\n",
    "for numerical in numerical_columns_1:\n",
    "    train[numerical] = train[numerical].astype('int64')\n",
    "\n",
    "train.info()"
   ]
  },
  {
   "cell_type": "code",
   "execution_count": null,
   "metadata": {
    "_kg_hide-output": true,
    "execution": {
     "iopub.execute_input": "2022-07-21T07:25:43.445709Z",
     "iopub.status.busy": "2022-07-21T07:25:43.444981Z",
     "iopub.status.idle": "2022-07-21T07:25:43.820665Z",
     "shell.execute_reply": "2022-07-21T07:25:43.819458Z",
     "shell.execute_reply.started": "2022-07-21T07:25:43.445662Z"
    }
   },
   "outputs": [],
   "source": [
    "## Test Data Processing\n",
    "test = preprocess_df(test_df)\n",
    "test = cabin_split(test)\n",
    "\n",
    "test = clipping_quantile(test, quantile_values=train_quantile_values.loc[0.99])\n",
    "test, _ = binning(test, numerical_columns_0, n_bins, thresholds=train_split_bins)\n",
    "test['Cabin_1'] = pd.cut(test['Cabin_1'], bins=cabin_1_bins, labels=False, right=False)\n",
    "\n",
    "for column in ['CryoSleep', 'VIP', 'HomePlanet', 'Destination', 'Cabin_0', 'Cabin_2']:\n",
    "    test[column] = test[column].map(lambda x: np.nan if x=='nan' else x)\n",
    "\n",
    "test = test.fillna(train.mode().iloc[0])\n",
    "\n",
    "for numerical in numerical_columns_1:\n",
    "    test[numerical] = test[numerical].astype('int64')\n",
    "\n",
    "test.info()"
   ]
  },
  {
   "cell_type": "markdown",
   "metadata": {},
   "source": [
    "<a id =\"3.6\"></a><h2 style=\"background:#75E6DA; border:0; border-radius: 12px; color:black\"><center>3.6 Validation Split </center></h2>"
   ]
  },
  {
   "cell_type": "code",
   "execution_count": null,
   "metadata": {
    "_kg_hide-output": true,
    "execution": {
     "iopub.execute_input": "2022-07-21T07:25:43.823038Z",
     "iopub.status.busy": "2022-07-21T07:25:43.822317Z",
     "iopub.status.idle": "2022-07-21T07:25:43.854582Z",
     "shell.execute_reply": "2022-07-21T07:25:43.853223Z",
     "shell.execute_reply.started": "2022-07-21T07:25:43.822994Z"
    }
   },
   "outputs": [],
   "source": [
    "## Split train samples for cross-validation\n",
    "n_splits = exp_config['n_splits']\n",
    "skf = StratifiedKFold(n_splits=n_splits)\n",
    "train['k_folds'] = -1\n",
    "for fold, (train_idx, valid_idx) in enumerate(skf.split(X=train,\n",
    "                                                        y=train['Transported'])):\n",
    "    train['k_folds'][valid_idx] = fold\n",
    "    \n",
    "## Check split samples\n",
    "for i in range(n_splits):\n",
    "    print(f\"fold {i}: {len(train.query('k_folds==@i'))} samples\")"
   ]
  },
  {
   "cell_type": "code",
   "execution_count": null,
   "metadata": {
    "execution": {
     "iopub.execute_input": "2022-07-21T07:25:43.857155Z",
     "iopub.status.busy": "2022-07-21T07:25:43.856017Z",
     "iopub.status.idle": "2022-07-21T07:25:43.875006Z",
     "shell.execute_reply": "2022-07-21T07:25:43.873446Z",
     "shell.execute_reply.started": "2022-07-21T07:25:43.857116Z"
    }
   },
   "outputs": [],
   "source": [
    "## Hold-out validation\n",
    "valid_fold = train.query(f'k_folds == 0').reset_index(drop=True)\n",
    "train_fold = train.query(f'k_folds != 0').reset_index(drop=True)\n",
    "print(len(train_fold), len(valid_fold))"
   ]
  },
  {
   "cell_type": "markdown",
   "metadata": {},
   "source": [
    "<a id =\"4\"></a><h1 style=\"background:#05445E; border:0; border-radius: 12px; color:#D3D3D3\"><center>4. TabNet</center></h1>"
   ]
  },
  {
   "cell_type": "markdown",
   "metadata": {},
   "source": [
    "**[TabNet](https://github.com/google-research/google-research/tree/master/tabnet)** is a deep neural network architecture which adapts the decision tree algorithm, and thereby improves its interpretability and performance on the tabular data.\n",
    "\n",
    "The figure below shows the simple example of how to achieve decision tree-like calculation by neural networks. The features used are selected by masks at each decision steps: $x_1$ is used at the first step, and $x_2$ at the second step.\n",
    "\n",
    "<img src=\"https://data-analytics.fun/wp-content/uploads/2021/08/image-21.png\" width=\"700\"/>\n",
    "\n",
    "In the TabNet model, feature selecting-masks are made for each sample from the input data by the attention mechanism. I will explain details in the following section (<a href=\"#5\">5. TabNet from Scratch</a>), and now let's look at the example of data-processing flow in TabNet.\n",
    "\n",
    "<img src=\"https://data-analytics.fun/wp-content/uploads/2021/09/image-1.png\" width=\"800\"/>\n",
    "\n",
    "There is a commonly used repository, **[pytorch-tabnet](https://github.com/dreamquark-ai/tabnet)**. Let's make use of it!"
   ]
  },
  {
   "cell_type": "markdown",
   "metadata": {},
   "source": [
    "<a id =\"4.1\"></a><h2 style=\"background:#75E6DA; border:0; border-radius: 12px; color:black\"><center>4.1 Pytorch_TabNet</center></h2>"
   ]
  },
  {
   "cell_type": "code",
   "execution_count": null,
   "metadata": {
    "execution": {
     "iopub.execute_input": "2022-07-21T07:25:43.878006Z",
     "iopub.status.busy": "2022-07-21T07:25:43.876694Z",
     "iopub.status.idle": "2022-07-21T07:25:43.960032Z",
     "shell.execute_reply": "2022-07-21T07:25:43.958858Z",
     "shell.execute_reply.started": "2022-07-21T07:25:43.877958Z"
    }
   },
   "outputs": [],
   "source": [
    "## Data Preprocessing for Pytorch_TabNet\n",
    "from sklearn.preprocessing import LabelEncoder\n",
    "\n",
    "numerical_columns = []\n",
    "categorical_columns = ['Age', 'RoomService', 'FoodCourt',\n",
    "                       'ShoppingMall', 'Spa', 'VRDeck',\n",
    "                       'HomePlanet', 'CryoSleep',\n",
    "                       'Destination', 'VIP', \n",
    "                       'Cabin_0', 'Cabin_1', 'Cabin_2']\n",
    "feature_columns = numerical_columns + categorical_columns\n",
    "target_column = 'Transported'\n",
    "\n",
    "\n",
    "## Create Datasets\n",
    "y_train = train_fold[target_column]\n",
    "y_train = y_train.values\n",
    "train_fold_features = train_fold[feature_columns]\n",
    "\n",
    "y_valid = valid_fold[target_column]\n",
    "y_valid = y_valid.values\n",
    "valid_fold_features = valid_fold[feature_columns]\n",
    "\n",
    "test_features = test[feature_columns]\n",
    "\n",
    "categorical_dims = {}\n",
    "for col in categorical_columns:\n",
    "    #print(col, train_fold_features[col].nunique())\n",
    "    l_enc = LabelEncoder()\n",
    "    train_fold_features[col] = train_fold_features[col].fillna(\"VV_likely\")\n",
    "    train_fold_features[col] = l_enc.fit_transform(train_fold_features[col].values)\n",
    "    valid_fold_features[col] = valid_fold_features[col].fillna('VV_likey')\n",
    "    valid_fold_features[col] = l_enc.transform(valid_fold_features[col].values) \n",
    "    test_features[col] = test_features[col].fillna('VV_likey')\n",
    "    test_features[col] = l_enc.transform(test_features[col].values) \n",
    "    categorical_dims[col] = len(l_enc.classes_)\n",
    "    \n",
    "cat_idxs = [ i for i, f in enumerate(train_fold_features.columns) if f in categorical_columns]\n",
    "cat_dims = [ categorical_dims[f] for i, f in enumerate(train_fold_features.columns) if f in categorical_columns]\n",
    "\n",
    "X_train = train_fold_features.values\n",
    "X_valid = valid_fold_features.values\n",
    "X_test = test_features.values"
   ]
  },
  {
   "cell_type": "code",
   "execution_count": null,
   "metadata": {
    "_kg_hide-output": true,
    "execution": {
     "iopub.execute_input": "2022-07-21T07:25:43.962206Z",
     "iopub.status.busy": "2022-07-21T07:25:43.961761Z",
     "iopub.status.idle": "2022-07-21T07:25:58.304788Z",
     "shell.execute_reply": "2022-07-21T07:25:58.303473Z",
     "shell.execute_reply.started": "2022-07-21T07:25:43.962162Z"
    }
   },
   "outputs": [],
   "source": [
    "## Import dependencies \n",
    "!pip install -q -U pytorch_tabnet \n",
    "\n",
    "import torch\n",
    "from pytorch_tabnet.pretraining import TabNetPretrainer\n",
    "from pytorch_tabnet.tab_model import TabNetRegressor\n",
    "from pytorch_tabnet.tab_model import TabNetClassifier"
   ]
  },
  {
   "cell_type": "code",
   "execution_count": null,
   "metadata": {
    "execution": {
     "iopub.execute_input": "2022-07-21T07:25:58.307164Z",
     "iopub.status.busy": "2022-07-21T07:25:58.306695Z",
     "iopub.status.idle": "2022-07-21T07:25:58.320344Z",
     "shell.execute_reply": "2022-07-21T07:25:58.319068Z",
     "shell.execute_reply.started": "2022-07-21T07:25:58.307115Z"
    }
   },
   "outputs": [],
   "source": [
    "## Creating Model\n",
    "tabnet_params = dict(n_d=8, n_a=8, n_steps=3, gamma=1.3,\n",
    "                     n_independent=2, n_shared=2,\n",
    "                     seed=global_seed, lambda_sparse=1e-3,\n",
    "                     optimizer_fn=torch.optim.Adam,\n",
    "                     optimizer_params=dict(lr=exp_config['learning_rate']),\n",
    "                     mask_type='entmax',\n",
    "                     scheduler_params=dict(mode=\"min\",\n",
    "                                           patience=5,\n",
    "                                           min_lr=1e-5,\n",
    "                                           factor=0.5,),\n",
    "                     scheduler_fn=torch.optim.lr_scheduler.ReduceLROnPlateau,\n",
    "                     verbose=10,\n",
    "                     cat_idxs=cat_idxs, # comment out when Unsupervised\n",
    "                     cat_dims=cat_dims, # comment out when Unsupervised\n",
    "                     cat_emb_dim=1 # comment out when Unsupervised\n",
    "                     )\n",
    "\n",
    "model = TabNetClassifier(**tabnet_params)"
   ]
  },
  {
   "cell_type": "code",
   "execution_count": null,
   "metadata": {
    "_kg_hide-output": true,
    "execution": {
     "iopub.execute_input": "2022-07-21T07:25:58.322894Z",
     "iopub.status.busy": "2022-07-21T07:25:58.32178Z",
     "iopub.status.idle": "2022-07-21T07:26:37.834409Z",
     "shell.execute_reply": "2022-07-21T07:26:37.833282Z",
     "shell.execute_reply.started": "2022-07-21T07:25:58.322824Z"
    }
   },
   "outputs": [],
   "source": [
    "## Model Training\n",
    "batch_size = exp_config['batch_size']\n",
    "\n",
    "model.fit(\n",
    "    X_train=X_train,\n",
    "    y_train=y_train,\n",
    "    eval_set=[(X_train, y_train), (X_valid, y_valid)],\n",
    "    eval_name=['train', 'valid'],\n",
    "    eval_metric = ['auc'],\n",
    "    max_epochs=100,\n",
    "    patience=20, batch_size=batch_size,\n",
    "    virtual_batch_size=128,\n",
    "    num_workers=0, drop_last=False)"
   ]
  },
  {
   "cell_type": "code",
   "execution_count": null,
   "metadata": {
    "execution": {
     "iopub.execute_input": "2022-07-21T07:26:37.838207Z",
     "iopub.status.busy": "2022-07-21T07:26:37.83704Z",
     "iopub.status.idle": "2022-07-21T07:26:38.043968Z",
     "shell.execute_reply": "2022-07-21T07:26:38.043134Z",
     "shell.execute_reply.started": "2022-07-21T07:26:37.838159Z"
    }
   },
   "outputs": [],
   "source": [
    "print(model.history.history.keys())\n",
    "\n",
    "## Plot Losses\n",
    "plt.figure(figsize=(7, 5))\n",
    "plt.plot(np.arange(len(model.history['loss'])),\n",
    "         model.history['loss'], label='Train Loss')\n",
    "plt.xlabel('Epoch')\n",
    "plt.ylabel('Loss')\n",
    "plt.legend()\n",
    "plt.title('Loss Plot')\n",
    "plt.show()"
   ]
  },
  {
   "cell_type": "code",
   "execution_count": null,
   "metadata": {
    "execution": {
     "iopub.execute_input": "2022-07-21T07:26:38.045648Z",
     "iopub.status.busy": "2022-07-21T07:26:38.045183Z",
     "iopub.status.idle": "2022-07-21T07:26:38.25342Z",
     "shell.execute_reply": "2022-07-21T07:26:38.25256Z",
     "shell.execute_reply.started": "2022-07-21T07:26:38.045617Z"
    }
   },
   "outputs": [],
   "source": [
    "## Plot AUCs\n",
    "plt.figure(figsize=(7, 5))\n",
    "plt.plot(np.arange(len(model.history['train_auc'])),\n",
    "         model.history['train_auc'], label='Train AUC')\n",
    "plt.plot(np.arange(len(model.history['valid_auc'])),\n",
    "         model.history['valid_auc'], label='Valid AUC')\n",
    "plt.xlabel('Epoch')\n",
    "plt.ylabel('AUC')\n",
    "plt.legend()\n",
    "plt.title('AUC Plot')\n",
    "plt.show()"
   ]
  },
  {
   "cell_type": "code",
   "execution_count": null,
   "metadata": {
    "execution": {
     "iopub.execute_input": "2022-07-21T07:26:38.255203Z",
     "iopub.status.busy": "2022-07-21T07:26:38.254662Z",
     "iopub.status.idle": "2022-07-21T07:26:38.464931Z",
     "shell.execute_reply": "2022-07-21T07:26:38.463773Z",
     "shell.execute_reply.started": "2022-07-21T07:26:38.255166Z"
    }
   },
   "outputs": [],
   "source": [
    "## Plot Learning Rates\n",
    "plt.figure(figsize=(7, 5))\n",
    "plt.plot(np.arange(len(model.history['lr'])),\n",
    "         model.history['lr'])\n",
    "plt.xlabel('Epoch')\n",
    "plt.ylabel('Learning Rate')\n",
    "plt.legend()\n",
    "plt.title('Learning Rate Plot')\n",
    "plt.show()"
   ]
  },
  {
   "cell_type": "code",
   "execution_count": null,
   "metadata": {
    "execution": {
     "iopub.execute_input": "2022-07-21T07:26:38.467869Z",
     "iopub.status.busy": "2022-07-21T07:26:38.467013Z",
     "iopub.status.idle": "2022-07-21T07:26:38.691013Z",
     "shell.execute_reply": "2022-07-21T07:26:38.68991Z",
     "shell.execute_reply.started": "2022-07-21T07:26:38.467791Z"
    }
   },
   "outputs": [],
   "source": [
    "## Plot Feature Importance\n",
    "importance = model.feature_importances_\n",
    "importance_df = pd.DataFrame(importance,\n",
    "                             index=feature_columns,\n",
    "                             columns=['importance'])\n",
    "importance_df.sort_values(by='importance',\n",
    "                          ascending=False,\n",
    "                          inplace=True)\n",
    "top10_importance = np.array(importance_df[:10].values.reshape([-1]))\n",
    "top10_features = importance_df[:10].index\n",
    "\n",
    "#importance_df[:10].plot.bar()\n",
    "\n",
    "plt.figure(figsize=(7, 5))\n",
    "plt.bar(x=np.arange(10),\n",
    "        height=top10_importance)\n",
    "plt.xticks(np.arange(10), top10_features, rotation='vertical')\n",
    "plt.title('Feature Importance')\n",
    "plt.show()"
   ]
  },
  {
   "cell_type": "code",
   "execution_count": null,
   "metadata": {
    "_kg_hide-output": true,
    "execution": {
     "iopub.execute_input": "2022-07-21T07:26:38.692641Z",
     "iopub.status.busy": "2022-07-21T07:26:38.692315Z",
     "iopub.status.idle": "2022-07-21T07:26:38.832862Z",
     "shell.execute_reply": "2022-07-21T07:26:38.831666Z",
     "shell.execute_reply.started": "2022-07-21T07:26:38.692612Z"
    }
   },
   "outputs": [],
   "source": [
    "## Inference and Submission\n",
    "probas = model.predict(X_test)\n",
    "probas = np.squeeze(probas)\n",
    "\n",
    "preds = np.where(probas > 0.5, True, False)\n",
    "\n",
    "submission_df['Transported'] = preds\n",
    "submission_df.to_csv('submission_pt.csv', index=False)\n",
    "submission_df.head()"
   ]
  },
  {
   "cell_type": "markdown",
   "metadata": {},
   "source": [
    "<a id =\"4.2\"></a><h2 style=\"background:#75E6DA; border:0; border-radius: 12px; color:black\"><center>4.2 Pre-training and Fine-tuning</center></h2>"
   ]
  },
  {
   "cell_type": "markdown",
   "metadata": {},
   "source": [
    "TabNet can be pre-trained on the 'self-supervised' (or you can also say 'Unsupervised') tarbular learning. The pre-training task is as follows. Some features in the input data are randomly masked, and encoder-decoder architecture, or autoencoder, model predicts the masked features. Please note that input-mask is different from feature selecting-mask which we saw earlier. Through this task, TabNet encoder learns the relevance between features.\n",
    "\n",
    "<img src=\"https://data-analytics.fun/wp-content/uploads/2021/09/image-4.png\" width=\"500\"/>\n",
    "\n",
    "\n",
    "After the pre-training, TabNet encoder is subsequently fine-tuned on the supervised learning of aimed task. Please note that TabNet decoder is not used for the fine-tuning.\n",
    "\n",
    "<img src=\"https://data-analytics.fun/wp-content/uploads/2021/09/image-5.png\" width=\"500\"/>"
   ]
  },
  {
   "cell_type": "code",
   "execution_count": null,
   "metadata": {
    "execution": {
     "iopub.execute_input": "2022-07-21T07:26:38.843025Z",
     "iopub.status.busy": "2022-07-21T07:26:38.842616Z",
     "iopub.status.idle": "2022-07-21T07:26:38.853489Z",
     "shell.execute_reply": "2022-07-21T07:26:38.852241Z",
     "shell.execute_reply.started": "2022-07-21T07:26:38.842992Z"
    }
   },
   "outputs": [],
   "source": [
    "## Creating Model\n",
    "pretrain_params = dict(n_d=8, n_a=8, n_steps=3, gamma=1.3,\n",
    "                       n_independent=2, n_shared=2,\n",
    "                       seed=global_seed, lambda_sparse=1e-3,\n",
    "                       optimizer_fn=torch.optim.Adam,\n",
    "                       optimizer_params=dict(lr=exp_config['pretrain_lr']),\n",
    "                       mask_type='entmax',\n",
    "                       scheduler_params=dict(mode=\"min\",\n",
    "                                             patience=5,\n",
    "                                             min_lr=1e-5,\n",
    "                                             factor=0.5,),\n",
    "                       scheduler_fn=torch.optim.lr_scheduler.ReduceLROnPlateau,\n",
    "                       verbose=10,\n",
    "                      )\n",
    "\n",
    "pretrainer = TabNetPretrainer(**pretrain_params)"
   ]
  },
  {
   "cell_type": "code",
   "execution_count": null,
   "metadata": {
    "_kg_hide-output": true,
    "execution": {
     "iopub.execute_input": "2022-07-21T07:26:38.85521Z",
     "iopub.status.busy": "2022-07-21T07:26:38.854827Z",
     "iopub.status.idle": "2022-07-21T07:26:59.567938Z",
     "shell.execute_reply": "2022-07-21T07:26:59.566237Z",
     "shell.execute_reply.started": "2022-07-21T07:26:38.85518Z"
    }
   },
   "outputs": [],
   "source": [
    "## Model Pre-Training\n",
    "pretrainer.fit(\n",
    "    X_train=X_train,\n",
    "    eval_set=[X_valid],\n",
    "    max_epochs=200,\n",
    "    patience=20, batch_size=256, virtual_batch_size=128,\n",
    "    num_workers=1, drop_last=True)"
   ]
  },
  {
   "cell_type": "code",
   "execution_count": null,
   "metadata": {
    "_kg_hide-output": true,
    "execution": {
     "iopub.execute_input": "2022-07-21T07:26:59.570882Z",
     "iopub.status.busy": "2022-07-21T07:26:59.570367Z",
     "iopub.status.idle": "2022-07-21T07:27:20.107419Z",
     "shell.execute_reply": "2022-07-21T07:27:20.106279Z",
     "shell.execute_reply.started": "2022-07-21T07:26:59.570799Z"
    }
   },
   "outputs": [],
   "source": [
    "## Create Pre-trained Model\n",
    "pt_model = TabNetClassifier(**tabnet_params)\n",
    "batch_size = exp_config['batch_size']\n",
    "\n",
    "## Model Fine-tuning\n",
    "pt_model.fit(X_train=X_train,\n",
    "             y_train=y_train,\n",
    "             eval_set=[(X_train, y_train), (X_valid, y_valid)],\n",
    "             eval_name=['train', 'valid'],\n",
    "             eval_metric = ['auc'],\n",
    "             max_epochs=100,\n",
    "             patience=20, batch_size=batch_size,\n",
    "             virtual_batch_size=128,\n",
    "             num_workers=0, drop_last=False,\n",
    "             from_unsupervised=pretrainer\n",
    "             )"
   ]
  },
  {
   "cell_type": "code",
   "execution_count": null,
   "metadata": {
    "execution": {
     "iopub.execute_input": "2022-07-21T07:27:20.109628Z",
     "iopub.status.busy": "2022-07-21T07:27:20.109294Z",
     "iopub.status.idle": "2022-07-21T07:27:20.314025Z",
     "shell.execute_reply": "2022-07-21T07:27:20.312855Z",
     "shell.execute_reply.started": "2022-07-21T07:27:20.109597Z"
    }
   },
   "outputs": [],
   "source": [
    "print(pt_model.history.history.keys())\n",
    "\n",
    "## Plot Losses\n",
    "plt.figure(figsize=(7, 5))\n",
    "plt.plot(np.arange(len(pt_model.history['loss'])),\n",
    "         pt_model.history['loss'], label='Train Loss')\n",
    "plt.xlabel('Epoch')\n",
    "plt.ylabel('Loss')\n",
    "plt.legend()\n",
    "plt.title('Loss Plot')\n",
    "plt.show()"
   ]
  },
  {
   "cell_type": "code",
   "execution_count": null,
   "metadata": {
    "execution": {
     "iopub.execute_input": "2022-07-21T07:27:20.316678Z",
     "iopub.status.busy": "2022-07-21T07:27:20.315553Z",
     "iopub.status.idle": "2022-07-21T07:27:20.538974Z",
     "shell.execute_reply": "2022-07-21T07:27:20.537799Z",
     "shell.execute_reply.started": "2022-07-21T07:27:20.316632Z"
    }
   },
   "outputs": [],
   "source": [
    "## Plot AUCs\n",
    "plt.figure(figsize=(7, 5))\n",
    "plt.plot(np.arange(len(pt_model.history['train_auc'])),\n",
    "         pt_model.history['train_auc'], label='Train AUC')\n",
    "plt.plot(np.arange(len(pt_model.history['valid_auc'])),\n",
    "         pt_model.history['valid_auc'], label='Valid AUC')\n",
    "plt.xlabel('Epoch')\n",
    "plt.ylabel('AUC')\n",
    "plt.legend()\n",
    "plt.title('AUC Plot')\n",
    "plt.show()"
   ]
  },
  {
   "cell_type": "code",
   "execution_count": null,
   "metadata": {
    "execution": {
     "iopub.execute_input": "2022-07-21T07:27:20.540818Z",
     "iopub.status.busy": "2022-07-21T07:27:20.540518Z",
     "iopub.status.idle": "2022-07-21T07:27:20.747728Z",
     "shell.execute_reply": "2022-07-21T07:27:20.74678Z",
     "shell.execute_reply.started": "2022-07-21T07:27:20.540791Z"
    }
   },
   "outputs": [],
   "source": [
    "## Plot Learning Rates\n",
    "plt.figure(figsize=(7, 5))\n",
    "plt.plot(np.arange(len(pt_model.history['lr'])),\n",
    "         pt_model.history['lr'])\n",
    "plt.xlabel('Epoch')\n",
    "plt.ylabel('Learning Rate')\n",
    "plt.legend()\n",
    "plt.title('Learning Rate Plot')\n",
    "plt.show()"
   ]
  },
  {
   "cell_type": "code",
   "execution_count": null,
   "metadata": {
    "execution": {
     "iopub.execute_input": "2022-07-21T07:27:20.749794Z",
     "iopub.status.busy": "2022-07-21T07:27:20.749453Z",
     "iopub.status.idle": "2022-07-21T07:27:20.977539Z",
     "shell.execute_reply": "2022-07-21T07:27:20.976394Z",
     "shell.execute_reply.started": "2022-07-21T07:27:20.749764Z"
    }
   },
   "outputs": [],
   "source": [
    "## Plot Feature Importance\n",
    "importance = pt_model.feature_importances_\n",
    "importance_df = pd.DataFrame(importance,\n",
    "                             index=feature_columns,\n",
    "                             columns=['importance'])\n",
    "importance_df.sort_values(by='importance',\n",
    "                          ascending=False,\n",
    "                          inplace=True)\n",
    "top10_importance = np.array(importance_df[:10].values.reshape([-1]))\n",
    "top10_features = importance_df[:10].index\n",
    "\n",
    "#importance_df[:10].plot.bar()\n",
    "\n",
    "plt.figure(figsize=(7, 5))\n",
    "plt.bar(x=np.arange(10),\n",
    "        height=top10_importance)\n",
    "plt.xticks(np.arange(10), top10_features, rotation='vertical')\n",
    "plt.title('Feature Importance')\n",
    "plt.show()"
   ]
  },
  {
   "cell_type": "code",
   "execution_count": null,
   "metadata": {
    "_kg_hide-output": true,
    "execution": {
     "iopub.execute_input": "2022-07-21T07:27:20.979432Z",
     "iopub.status.busy": "2022-07-21T07:27:20.979104Z",
     "iopub.status.idle": "2022-07-21T07:27:21.107403Z",
     "shell.execute_reply": "2022-07-21T07:27:21.106491Z",
     "shell.execute_reply.started": "2022-07-21T07:27:20.979404Z"
    }
   },
   "outputs": [],
   "source": [
    "## Inference and Submission\n",
    "probas = pt_model.predict(X_test)\n",
    "probas = np.squeeze(probas)\n",
    "\n",
    "preds = np.where(probas > 0.5, True, False)\n",
    "\n",
    "submission_df['Transported'] = preds\n",
    "submission_df.to_csv('submission_pt_pretrain.csv', index=False)\n",
    "submission_df.head()"
   ]
  },
  {
   "cell_type": "markdown",
   "metadata": {},
   "source": [
    "<a id =\"5\"></a><h1 style=\"background:#05445E; border:0; border-radius: 12px; color:#D3D3D3\"><center>5. TabNet from Scratch</center></h1>"
   ]
  },
  {
   "cell_type": "markdown",
   "metadata": {},
   "source": [
    "Now let's dive into the details of TabNet's architecture. I will construct TabNet with TensorFlow step by step. First of all, I will prepare the input data for the model: Datasets, Input Layers, Preprocessing Layers, and Embedding Layers. Construction of TabNet will start at <a href=\"#5.2\">5.2 TabNet from Scratch[TensorFlow]</a>."
   ]
  },
  {
   "cell_type": "markdown",
   "metadata": {},
   "source": [
    "<a id =\"5.1\"></a><h2 style=\"background:#75E6DA; border:0; border-radius: 12px; color:black\"><center>5.1 Data Preprocessing for TabNet[TensorFlow]</center></h2>"
   ]
  },
  {
   "cell_type": "markdown",
   "metadata": {},
   "source": [
    "<a id =\"5.1.1\"></a><h2 style=\"background:#D4F1F4; border:0; border-radius: 12px; color:black\"><center>5.1.1 Datasets</center></h2>"
   ]
  },
  {
   "cell_type": "code",
   "execution_count": null,
   "metadata": {
    "execution": {
     "iopub.execute_input": "2022-07-21T07:27:21.109184Z",
     "iopub.status.busy": "2022-07-21T07:27:21.108646Z",
     "iopub.status.idle": "2022-07-21T07:27:21.119227Z",
     "shell.execute_reply": "2022-07-21T07:27:21.118036Z",
     "shell.execute_reply.started": "2022-07-21T07:27:21.109149Z"
    }
   },
   "outputs": [],
   "source": [
    "def df_to_dataset(dataframe, num_columns, target=None,\n",
    "                  shuffle=False, repeat=False,\n",
    "                  batch_size=5, drop_remainder=False):\n",
    "    df = dataframe.copy()\n",
    "    if target is not None:\n",
    "        labels = df.pop(target)\n",
    "        data = {key: value[:, tf.newaxis] for key, value in df.items()}\n",
    "        data = dict(data)\n",
    "        ds = tf.data.Dataset.from_tensor_slices((data, labels))\n",
    "    else:\n",
    "        data = {key: value[:, tf.newaxis] for key, value in df.items()}\n",
    "        data = dict(data)\n",
    "        ds = tf.data.Dataset.from_tensor_slices(data)\n",
    "    \n",
    "    if shuffle:\n",
    "        ds = ds.shuffle(buffer_size=len(df))\n",
    "    if repeat:\n",
    "        ds = ds.repeat()\n",
    "    ds = ds.batch(batch_size, drop_remainder=drop_remainder)\n",
    "    ds = ds.prefetch(batch_size)\n",
    "    return ds"
   ]
  },
  {
   "cell_type": "code",
   "execution_count": null,
   "metadata": {
    "_kg_hide-output": true,
    "execution": {
     "iopub.execute_input": "2022-07-21T07:27:21.121216Z",
     "iopub.status.busy": "2022-07-21T07:27:21.120855Z",
     "iopub.status.idle": "2022-07-21T07:27:21.337536Z",
     "shell.execute_reply": "2022-07-21T07:27:21.336273Z",
     "shell.execute_reply.started": "2022-07-21T07:27:21.121186Z"
    }
   },
   "outputs": [],
   "source": [
    "## Create datasets\n",
    "num_columns = exp_config['num_columns']\n",
    "batch_size = exp_config['batch_size']\n",
    "\n",
    "train_ds = df_to_dataset(train_fold, num_columns,\n",
    "                         target='Transported',\n",
    "                         shuffle=True,\n",
    "                         repeat=False,\n",
    "                         batch_size=batch_size,\n",
    "                         drop_remainder=False)\n",
    "\n",
    "valid_ds = df_to_dataset(valid_fold, num_columns,\n",
    "                         target='Transported',\n",
    "                         shuffle=False,\n",
    "                         repeat=False,\n",
    "                         batch_size=batch_size,\n",
    "                         drop_remainder=False)\n",
    "\n",
    "## Display a batch sample\n",
    "example = next(iter(train_ds))[0]\n",
    "input_dtypes = {}\n",
    "for key in example:\n",
    "    input_dtypes[key] = example[key].dtype\n",
    "    print(f'{key}, shape:{example[key].shape}, {example[key].dtype}')"
   ]
  },
  {
   "cell_type": "markdown",
   "metadata": {},
   "source": [
    "<a id =\"5.1.2\"></a><h2 style=\"background:#D4F1F4; border:0; border-radius: 12px; color:black\"><center>5.1.2 Preprocessing Layers</center></h2>"
   ]
  },
  {
   "cell_type": "code",
   "execution_count": null,
   "metadata": {
    "execution": {
     "iopub.execute_input": "2022-07-21T07:27:21.341196Z",
     "iopub.status.busy": "2022-07-21T07:27:21.33937Z",
     "iopub.status.idle": "2022-07-21T07:27:21.347349Z",
     "shell.execute_reply": "2022-07-21T07:27:21.346495Z",
     "shell.execute_reply.started": "2022-07-21T07:27:21.341138Z"
    }
   },
   "outputs": [],
   "source": [
    "## After binning, all features are categorical.\n",
    "numerical_columns = []\n",
    "categorical_columns = ['Age', 'RoomService', 'FoodCourt',\n",
    "                       'ShoppingMall', 'Spa', 'VRDeck',\n",
    "                       'HomePlanet', 'CryoSleep',\n",
    "                       'Destination', 'VIP', \n",
    "                       'Cabin_0', 'Cabin_1', 'Cabin_2']"
   ]
  },
  {
   "cell_type": "code",
   "execution_count": null,
   "metadata": {
    "_kg_hide-output": true,
    "execution": {
     "iopub.execute_input": "2022-07-21T07:27:21.349209Z",
     "iopub.status.busy": "2022-07-21T07:27:21.348507Z",
     "iopub.status.idle": "2022-07-21T07:27:21.401395Z",
     "shell.execute_reply": "2022-07-21T07:27:21.400024Z",
     "shell.execute_reply.started": "2022-07-21T07:27:21.349177Z"
    }
   },
   "outputs": [],
   "source": [
    "## Preprocessing model inputs\n",
    "def create_preprocess_inputs(numerical, categorical, num_columns, input_dtypes):\n",
    "    preprocess_inputs = {}\n",
    "    numerical_inputs = {key: layers.Input(shape=(1,),\n",
    "                                          dtype=input_dtypes[key]) for key in numerical}\n",
    "    categorical_inputs = {key: layers.Input(shape=(1,), \n",
    "                                            dtype=input_dtypes[key]) for key in categorical}\n",
    "    preprocess_inputs.update(**numerical_inputs, **categorical_inputs)\n",
    "    return preprocess_inputs\n",
    "\n",
    "\n",
    "preprocess_inputs = create_preprocess_inputs(numerical_columns,\n",
    "                                             categorical_columns,\n",
    "                                             num_columns,\n",
    "                                             input_dtypes)\n",
    "preprocess_inputs"
   ]
  },
  {
   "cell_type": "code",
   "execution_count": null,
   "metadata": {
    "execution": {
     "iopub.execute_input": "2022-07-21T07:27:21.40336Z",
     "iopub.status.busy": "2022-07-21T07:27:21.403032Z",
     "iopub.status.idle": "2022-07-21T07:27:21.534259Z",
     "shell.execute_reply": "2022-07-21T07:27:21.5331Z",
     "shell.execute_reply.started": "2022-07-21T07:27:21.403331Z"
    }
   },
   "outputs": [],
   "source": [
    "## Create Preprocessing Model\n",
    "def create_preprocessing_model(numerical, categorical,\n",
    "                               num_columns, input_dtypes, df):\n",
    "    \n",
    "    ## Create inputs\n",
    "    preprocess_inputs = create_preprocess_inputs(numerical,\n",
    "                                                 categorical,\n",
    "                                                 num_columns,\n",
    "                                                 input_dtypes)\n",
    "    \n",
    "    ## Preprocessing layers for numerical_features\n",
    "    normalize_layers = {}\n",
    "    for nc in numerical:\n",
    "        normalize_layer = layers.Normalization(mean=df[nc].mean(),\n",
    "                                               variance=df[nc].var())\n",
    "        normalize_layers[nc] = normalize_layer\n",
    "        \n",
    "    ## Preprocessing layers for categorical_features\n",
    "    lookup_layers = {}\n",
    "    for cc in categorical:\n",
    "        if input_dtypes[cc] is tf.string:\n",
    "            lookup_layer = layers.StringLookup(vocabulary=df[cc].unique(),\n",
    "                                               output_mode='int')\n",
    "        elif input_dtypes[cc] is tf.int64:\n",
    "            lookup_layer = layers.IntegerLookup(vocabulary=df[cc].unique(),\n",
    "                                                output_mode='int')\n",
    "        lookup_layers[cc] = lookup_layer\n",
    "    \n",
    "    ## Create outputs\n",
    "    preprocess_outputs = {}\n",
    "    for key in preprocess_inputs:\n",
    "        if key in normalize_layers:\n",
    "            output = normalize_layers[key](preprocess_intputs[key])\n",
    "            preprocess_outputs[key] = output\n",
    "        elif key in lookup_layers:\n",
    "            output = lookup_layers[key](preprocess_inputs[key])\n",
    "            preprocess_outputs[key] = output\n",
    "            \n",
    "    ## Create model\n",
    "    preprocessing_model = tf.keras.Model(preprocess_inputs,\n",
    "                                         preprocess_outputs)\n",
    "    \n",
    "    return preprocessing_model, lookup_layers\n",
    "\n",
    "\n",
    "preprocessing_model, lookup_layers = create_preprocessing_model(numerical_columns,\n",
    "                                                             categorical_columns,\n",
    "                                                             num_columns,\n",
    "                                                             input_dtypes,\n",
    "                                                             train_fold)"
   ]
  },
  {
   "cell_type": "code",
   "execution_count": null,
   "metadata": {
    "_kg_hide-output": true,
    "execution": {
     "iopub.execute_input": "2022-07-21T07:27:21.53623Z",
     "iopub.status.busy": "2022-07-21T07:27:21.535652Z",
     "iopub.status.idle": "2022-07-21T07:27:21.93848Z",
     "shell.execute_reply": "2022-07-21T07:27:21.937178Z",
     "shell.execute_reply.started": "2022-07-21T07:27:21.536196Z"
    }
   },
   "outputs": [],
   "source": [
    "## Apply the preprocessing model in tf.data.Dataset.map\n",
    "train_ds = train_ds.map(lambda x, y: (preprocessing_model(x), y),\n",
    "                        num_parallel_calls=tf.data.AUTOTUNE)\n",
    "valid_ds = valid_ds.map(lambda x, y: (preprocessing_model(x), y),\n",
    "                        num_parallel_calls=tf.data.AUTOTUNE)\n",
    "\n",
    "## Display a preprocessed input sample\n",
    "example = next(train_ds.take(1).as_numpy_iterator())[0]\n",
    "for key in example:\n",
    "    print(f'{key}, shape:{example[key].shape}, {example[key].dtype}')"
   ]
  },
  {
   "cell_type": "markdown",
   "metadata": {},
   "source": [
    "<a id =\"5.1.3\"></a><h2 style=\"background:#D4F1F4; border:0; border-radius: 12px; color:black\"><center>5.1.3 Embedding Layers</center></h2>"
   ]
  },
  {
   "cell_type": "code",
   "execution_count": null,
   "metadata": {
    "_kg_hide-output": true,
    "execution": {
     "iopub.execute_input": "2022-07-21T07:27:21.942011Z",
     "iopub.status.busy": "2022-07-21T07:27:21.94117Z",
     "iopub.status.idle": "2022-07-21T07:27:21.975944Z",
     "shell.execute_reply": "2022-07-21T07:27:21.974827Z",
     "shell.execute_reply.started": "2022-07-21T07:27:21.941963Z"
    }
   },
   "outputs": [],
   "source": [
    "## Training Model Inputs\n",
    "def create_model_inputs(numerical, categorical, input_dtypes):\n",
    "    model_inputs = {}\n",
    "    \n",
    "    normalized_inputs = {key: layers.Input(shape=(1,),\n",
    "                                           dtype=input_dtypes[key]) for key in numerical}\n",
    "    lookup_inputs = {key: layers.Input(shape=(1,),\n",
    "                                       dtype='int64') for key in categorical}\n",
    "    model_inputs.update(**normalized_inputs, **lookup_inputs)\n",
    "    return model_inputs\n",
    "\n",
    "model_inputs = create_model_inputs(numerical_columns,\n",
    "                                   categorical_columns,\n",
    "                                   input_dtypes)\n",
    "model_inputs"
   ]
  },
  {
   "cell_type": "code",
   "execution_count": null,
   "metadata": {
    "_kg_hide-output": true,
    "execution": {
     "iopub.execute_input": "2022-07-21T07:27:21.97799Z",
     "iopub.status.busy": "2022-07-21T07:27:21.977342Z",
     "iopub.status.idle": "2022-07-21T07:27:22.088079Z",
     "shell.execute_reply": "2022-07-21T07:27:22.086874Z",
     "shell.execute_reply.started": "2022-07-21T07:27:21.977956Z"
    }
   },
   "outputs": [],
   "source": [
    "## Create Embedding Layers\n",
    "def create_embedding_layers(model_inputs, numerical, categorical,\n",
    "                            lookup_layers, emb_dim):\n",
    "    numerical_feature_list = []\n",
    "    encoded_categorical_feature_list = []\n",
    "    \n",
    "    for key in model_inputs:\n",
    "        if key in numerical:\n",
    "            numerical_feature_list.append(model_inputs[key])\n",
    "        elif key in categorical:\n",
    "            ## Create Embeddings for categorical features\n",
    "            embedding = layers.Embedding(input_dim=lookup_layers[key].vocabulary_size(),\n",
    "                                         output_dim=emb_dim)\n",
    "            encoded_categorical_feature = embedding(model_inputs[key])\n",
    "            encoded_categorical_feature_list.append(encoded_categorical_feature)\n",
    "    \n",
    "    if len(numerical_feature_list) != 0:\n",
    "        numerical_features = tf.concat(numerical_feature_list, axis=1)\n",
    "    else:\n",
    "        numerical_features = tf.stack(numerical_feature_list)\n",
    "    \n",
    "    encoded_categorical_features = tf.concat(encoded_categorical_feature_list, axis=1)\n",
    "    return numerical_features, encoded_categorical_features\n",
    "\n",
    "emb_dim = model_config['emb_dim']\n",
    "numerical_features, encoded_categorical_features = create_embedding_layers(model_inputs,\n",
    "                                                                           numerical_columns,\n",
    "                                                                           categorical_columns,\n",
    "                                                                           lookup_layers,\n",
    "                                                                           emb_dim)\n",
    "numerical_features.shape, encoded_categorical_features.shape"
   ]
  },
  {
   "cell_type": "markdown",
   "metadata": {},
   "source": [
    "<a id =\"5.2\"></a><h2 style=\"background:#75E6DA; border:0; border-radius: 12px; color:black\"><center>5.2 TabNet from Scratch[TensorFlow]</center></h2>"
   ]
  },
  {
   "cell_type": "markdown",
   "metadata": {},
   "source": [
    "As we saw earlier, TabNet consists of encoder and decoder. However, when we don't execute pre-training, we only need the encoder structure to make predictions. So at first, I will construct TabNet Encoder at section <a href=\"#5.2\">5.2 TabNet from Scratch[TensorFlow]</a>. Then, TabNet Decoder would be explained at section <a href=\"#5.3\">5.3 Pre-training and Fine-tuning from Scratch</a>."
   ]
  },
  {
   "cell_type": "markdown",
   "metadata": {},
   "source": [
    "<a id =\"5.2.1\"></a><h2 style=\"background:#D4F1F4; border:0; border-radius: 12px; color:black\"><center>5.2.1 TabNet Encoder from Scratch</center></h2>"
   ]
  },
  {
   "cell_type": "markdown",
   "metadata": {},
   "source": [
    "The figure below shows the data-processing flows in TabNet Encoder. Each steps are called decision steps.\n",
    "\n",
    "<img src=\"https://data-analytics.fun/wp-content/uploads/2021/08/image-23.png\" width=\"700\"/>\n",
    "\n",
    "Please remember that tree-based calculation is executed by the multiplyng masks by features. And the architecture shows that masks are made by Attentive transformer block. The inside of Attentive transformer block is as follows.\n",
    "\n",
    "<img src=\"https://data-analytics.fun/wp-content/uploads/2021/08/image-26.png\" width=\"300\"/>\n",
    "\n",
    "In Attentive transformer block, features are transformed by Fully Connected Layer, and normalized by Batch Normalization Layer. Then, the results are clipped from zero to one by sparsemax function. Sparsemax is like sigmoid or softmax function, but a big difference is that sparsemax outputs zero, whereas sigmoid and softmax output above zero (please look at the figure below). Thus, features become sparse and are used as masks.\n",
    "\n",
    "<img src=\"https://miro.medium.com/max/748/1*EK55_sEqmQDSXcIV2CGLKg.png\" width=\"300\"/>\n",
    "\n",
    "The masks represent the importance of features at each decision steps. If a feature is considered important for the first decision step, then other features should be selected at the following decision steps. Such adjustment is executed by Prior scales. Prior scales are calculated as follows:\n",
    "\n",
    "$$\n",
    "P[i]=\\prod^{i-1}_{j=1}\\left(\\gamma -M[j]\\right).\n",
    "$$\n",
    "\n",
    "$P[i]$ is Prior scales at the $i$th decision step. $M[j]$ is mask at the $j$th decision step. $\\gamma\\ge 1$ is called relaxation parameter. The Prior scales at the first decision step are all ones, and are updated at each steps.\n",
    "\n",
    "Now, we have understood the architecture of Attentive transformer block, so let's create it."
   ]
  },
  {
   "cell_type": "code",
   "execution_count": null,
   "metadata": {
    "execution": {
     "iopub.execute_input": "2022-07-21T07:27:22.090542Z",
     "iopub.status.busy": "2022-07-21T07:27:22.08955Z",
     "iopub.status.idle": "2022-07-21T07:27:22.101991Z",
     "shell.execute_reply": "2022-07-21T07:27:22.100588Z",
     "shell.execute_reply.started": "2022-07-21T07:27:22.090506Z"
    }
   },
   "outputs": [],
   "source": [
    "class AttentiveTransformer(layers.Layer):\n",
    "    def __init__(self,\n",
    "                 units: Optional[int]=None):\n",
    "        super().__init__()\n",
    "        self.units = units\n",
    "        \n",
    "    def build(self,\n",
    "              input_shape: tf.TensorShape):\n",
    "        if self.units is None:\n",
    "            self.units = input_shape[-1]\n",
    "            \n",
    "        self.fc = layers.Dense(self.units,\n",
    "                               use_bias=False)\n",
    "        self.bn = layers.BatchNormalization()\n",
    "        \n",
    "    def call(self,\n",
    "             inputs: Union[tf.Tensor, np.ndarray],\n",
    "             priors: Optional[Union[tf.Tensor, np.ndarray]]=None,\n",
    "             training: Optional[bool]=None) -> tf.Tensor:\n",
    "        x = self.fc(inputs, training=training)\n",
    "        x = self.bn(x, training=training)\n",
    "        \n",
    "        if priors is None:\n",
    "            outputs = x\n",
    "        else:\n",
    "            outputs = x * priors\n",
    "            \n",
    "        return tfa.activations.sparsemax(outputs)"
   ]
  },
  {
   "cell_type": "markdown",
   "metadata": {},
   "source": [
    "The results of multiplying the normalized inputs by the mask made with Attentive transformer block is successively going to be the input of Feature transformer block. Next, let's look at the structure of Feature transformer block.\n",
    "\n",
    "<img src=\"https://data-analytics.fun/wp-content/uploads/2021/08/image-25.png\" width=\"700\"/>\n",
    "\n",
    "Feature transformer block consists of Fully Connected Layers, Batch Normalization Layers, and GLU Layers. GLU means \"Gated Linear Unit\", and calculates the following formula:\n",
    "\n",
    "$$\n",
    "(X*W+b)\\otimes \\sigma(X*V+c)\n",
    "$$\n",
    "\n",
    "$X$ is input, and $(X*W+b)$ is a linear transformation. Because $\\sigma(\\cdot)$ is sigmoid function, $\\sigma(X*V+c)$ works as an information gate: The result of $(X*V+c)$ is clipped from 0 to 1, and indicates the percentage of passing the corresponding value of $(X*W+b)$. You can also find skip (residual) connections.\n",
    "\n",
    "As the above figure shows, the parameters of first half of Feature transformer block is shared across decision steps, and the second half of it is not. Then, let's define GLU Layer and Feature transformer block."
   ]
  },
  {
   "cell_type": "code",
   "execution_count": null,
   "metadata": {
    "execution": {
     "iopub.execute_input": "2022-07-21T07:27:22.104293Z",
     "iopub.status.busy": "2022-07-21T07:27:22.103809Z",
     "iopub.status.idle": "2022-07-21T07:27:22.128187Z",
     "shell.execute_reply": "2022-07-21T07:27:22.126962Z",
     "shell.execute_reply.started": "2022-07-21T07:27:22.104249Z"
    }
   },
   "outputs": [],
   "source": [
    "class GLULayer(layers.Layer):\n",
    "    def __init__(self,\n",
    "                 units: Optional[int]=None):\n",
    "        super().__init__()\n",
    "        self.units = units\n",
    "        \n",
    "    def build(self,\n",
    "              input_shape: tf.TensorShape):\n",
    "        if self.units is None:\n",
    "            self.units = input_shape[-1]\n",
    "        self.fc_output = layers.Dense(self.units)\n",
    "        self.fc_gate = layers.Dense(self.units)\n",
    "        \n",
    "    def call(self, \n",
    "             inputs: Union[tf.Tensor, np.ndarray],\n",
    "             training: Optional[bool]=None):\n",
    "        output = self.fc_output(inputs, training=training)\n",
    "        gate = self.fc_gate(inputs, training=training)\n",
    "        return output * tf.keras.activations.sigmoid(gate)\n",
    "\n",
    "    \n",
    "class FCBNGLUBlock(layers.Layer):\n",
    "    def __init__(self,\n",
    "                 units: Optional[int]=None):\n",
    "        super().__init__()\n",
    "        self.units = units\n",
    "        \n",
    "    def build(self,\n",
    "              input_shape: tf.TensorShape):\n",
    "        if self.units is None:\n",
    "            self.units = input_shape[-1]\n",
    "        self.fc = layers.Dense(self.units)\n",
    "        self.bn = layers.BatchNormalization()\n",
    "        self.glu = GLULayer(self.units)\n",
    "        \n",
    "    def call(self,\n",
    "             inputs: Union[tf.Tensor, np.ndarray],\n",
    "             training: Optional[bool]=None):\n",
    "        x = self.fc(inputs, training=training)\n",
    "        x = self.bn(x, training=training)\n",
    "        outputs = self.glu(x, training=training)\n",
    "        return outputs\n",
    "\n",
    "\n",
    "class FeatureTransformerBlock(layers.Layer):\n",
    "    def __init__(self, \n",
    "                 units: Optional[int]=None,\n",
    "                 skip: bool=False):\n",
    "        super().__init__()\n",
    "        self.units = units\n",
    "        self.skip = skip\n",
    "        \n",
    "    def build(self,\n",
    "              input_shape: tf.TensorShape):\n",
    "        if self.units is None:\n",
    "            self.units = input_shape[-1]\n",
    "            \n",
    "        self.initial = FCBNGLUBlock(units=self.units)\n",
    "        self.residual = FCBNGLUBlock(units=self.units)\n",
    "        \n",
    "    def call(self,\n",
    "             inputs: Union[tf.Tensor, np.ndarray],\n",
    "             training: Optional[bool]=None):\n",
    "        initial = self.initial(inputs, training=training)\n",
    "        \n",
    "        if self.skip == True:\n",
    "            initial = (initial + inputs) * np.sqrt(0.5)\n",
    "            \n",
    "        residual = self.residual(initial, training=training)\n",
    "        outputs = (initial + residual) * np.sqrt(0.5)\n",
    "        return outputs"
   ]
  },
  {
   "cell_type": "markdown",
   "metadata": {},
   "source": [
    "Finally, we have reached the stage of constructing the whole TabNet encoder. Let's see again the architecture.\n",
    "\n",
    "<img src=\"https://data-analytics.fun/wp-content/uploads/2021/08/image-23.png\" width=\"700\"/>\n",
    "\n",
    "Split layer in $i$th decision step divides the result of Feature transformer block into $a[i]\\in \\mathbb{R}^{B\\times N_a}$ and $d[i]\\in\\mathbb{R}^{B\\times N_d}$. $a[i]$ is the input of Attentive transformer block in the next step. $d[i]$ is used for two purposes. One is to calculate the final output of the encoder model, called \"decision embedding\". Decision embedding $d_{out}$, which is used for the final prediciton of TabNet model, is calculated as follows:\n",
    "\n",
    "$$\n",
    "d_{out}=\\sum^{N_{steps}}_{i=1}\\text{ReLU}(d[i])\n",
    "$$\n",
    "\n",
    "Another purpose is to calculate the importance of features (Feature attributes). Mask in the $i$th step $M[i]\\in \\mathbb{R}^{B\\times N_d}$ simply represents the feature importances in the $i$th decision step. To calculate the feature importances over the whole decision steps $M_{agg}\\in \\mathbb{R}^{B\\times N_d}$, the importance of each decision steps itself $\\eta[i]$ should be considered.  $\\eta[i]$ is calculated as follows:\n",
    "\n",
    "$$\n",
    "\\eta_{b}[i]=\\sum_{c=1}^{N_d}\\text{ReLU}(d_{b, c}[i])\n",
    "$$\n",
    "\n",
    "Then, Feature attributes $M_{agg}$, which is the weighted average of $M[i]$, is calculated as follows:\n",
    "\n",
    "$$\n",
    "M_{agg-b,j}=\\frac{\\sum^{N_{steps}}_{i=1}\\eta_b[i]M_{b,j}[i]}{\\sum^D_{j=1}\\sum^{N_{steps}}_{i=1}\\eta_b[i]M_{b,j}[i]}\n",
    "$$\n",
    "\n",
    "---\n",
    "In addition, there are some points that you can't see in the architecture figure.\n",
    "\n",
    "- **The sparsity loss:** For the loss calculation, the sparsity of the mask is considered like this.\n",
    "\n",
    " $$\n",
    " Loss + \\lambda_{sparse} L_{sparse}\n",
    " $$\n",
    "\n",
    " $\\lambda_{sparse}$ is a hyperparameter that controls the impact of sparsity loss, $L_{sparse}$, which is calculated as follows:\n",
    "\n",
    " $$\n",
    " L_{sparse}=\\sum^{N_{step}}_{i=1}\\sum^{B}_{b=1}\\sum^{D}_{j=1}\\frac{-{\\bf{M}}_{b, j}[i]\\log\\left({\\bf{M}}_{b, j}[i]+\\epsilon\\right)}{N_{steps}\\cdot B}\n",
    " $$\n",
    "\n",
    " The graph of $-x\\log x$ looks like the figure below. It means that when the mask values greatly differ from 0 or 1, the sparsity loss increases. Intermediate values would be the penalty.\n",
    "\n",
    " <img src=\"https://data-analytics.fun/wp-content/uploads/2021/08/image-50.png\" width=\"500\"/>\n",
    "\n",
    " \n",
    "- **Ghost Batch Normalization:** In the original implementation, batch normalization in Feature transformer block is executed on the ghost batch units, which size is smaller than mini batch. However, in this TabNet model from scratch, I used normal Batch Normalization Layer.\n",
    "\n",
    "Now, let's complete building TabNet encoder model!"
   ]
  },
  {
   "cell_type": "code",
   "execution_count": null,
   "metadata": {
    "execution": {
     "iopub.execute_input": "2022-07-21T07:27:22.130146Z",
     "iopub.status.busy": "2022-07-21T07:27:22.129675Z",
     "iopub.status.idle": "2022-07-21T07:27:22.153509Z",
     "shell.execute_reply": "2022-07-21T07:27:22.152351Z",
     "shell.execute_reply.started": "2022-07-21T07:27:22.130098Z"
    }
   },
   "outputs": [],
   "source": [
    "class TabNetEncoder(layers.Layer):\n",
    "    def __init__(self,\n",
    "                 output_dims: int=1,\n",
    "                 n_steps: int=3,\n",
    "                 feature_dims: int=16,\n",
    "                 gamma: float=1.3,\n",
    "                 epsilon: float=1e-8,\n",
    "                 lambda_sparsity: float=1e-4):\n",
    "        super().__init__()\n",
    "        self.output_dims = output_dims\n",
    "        self.n_steps = n_steps\n",
    "        self.feature_dims = feature_dims\n",
    "        self.gamma = gamma\n",
    "        self.epsilon = epsilon\n",
    "        self.lambda_sparsity = lambda_sparsity\n",
    "        \n",
    "    def build(self,\n",
    "              input_shape: tf.TensorShape):\n",
    "        self.bn_initial = layers.BatchNormalization()\n",
    "        self.shared_ft = FeatureTransformerBlock(units=self.feature_dims*2)\n",
    "        self.final_decision = layers.Dense(self.output_dims)\n",
    "        \n",
    "        self.ft_initial = FeatureTransformerBlock(units=self.feature_dims*2, skip=True)\n",
    "        self.attentives = [AttentiveTransformer(units=input_shape[-1]) for _ in range(self.n_steps)]\n",
    "        self.unique_fts = [FeatureTransformerBlock(units=self.feature_dims*2,\n",
    "                                                   skip=True) for _ in range(self.n_steps)]\n",
    "        \n",
    "    def call(self, \n",
    "             X: Union[tf.Tensor, np.ndarray],\n",
    "             training: Optional[bool]=None) -> Tuple[tf.Tensor]:\n",
    "        sparse_loss = 0.\n",
    "        encoded = []\n",
    "        final_decision_inputs = 0.\n",
    "        attributes = tf.zeros_like(X)\n",
    "        priors = tf.ones_like(X)\n",
    "        \n",
    "        B = self.bn_initial(X, training=training)\n",
    "        shared = self.shared_ft(B, training=training)\n",
    "        initial_split = self.ft_initial(shared, training=training)\n",
    "        attn_inputs = initial_split[:, :self.feature_dims]\n",
    "        \n",
    "        for i in range(self.n_steps):\n",
    "            mask = self.attentives[i](attn_inputs, priors, training=training)\n",
    "            shared = self.shared_ft(mask * B, training=training)\n",
    "            split = self.unique_fts[i](shared, training=training)\n",
    "            attn_inputs = split[:, :self.feature_dims]\n",
    "            encoded_repr = split[:, self.feature_dims:]\n",
    "            encoded.append(encoded_repr)\n",
    "            \n",
    "            step_outputs = tf.keras.activations.relu(encoded_repr)\n",
    "            final_decision_inputs += step_outputs\n",
    "            \n",
    "            step_importance = tf.reduce_sum(step_outputs, axis=1, keepdims=True)\n",
    "            attributes += step_importance * mask\n",
    "            \n",
    "            sparse_loss += tf.reduce_mean(tf.reduce_sum(-mask * tf.math.log(mask + self.epsilon), axis=-1)) / tf.cast(self.n_steps, tf.float32)\n",
    "            priors *= tf.cast(self.gamma, tf.float32) - mask\n",
    "            \n",
    "        self.add_loss(self.lambda_sparsity * sparse_loss)\n",
    "        outputs = self.final_decision(final_decision_inputs, training=training)\n",
    "        attr_sum = tf.reduce_sum(attributes, axis=-1, keepdims=True)\n",
    "        importance = attributes / attr_sum\n",
    "        encoded = tf.stack(encoded)\n",
    "        \n",
    "        return outputs, importance, encoded"
   ]
  },
  {
   "cell_type": "code",
   "execution_count": null,
   "metadata": {
    "execution": {
     "iopub.execute_input": "2022-07-21T07:27:22.155679Z",
     "iopub.status.busy": "2022-07-21T07:27:22.155136Z",
     "iopub.status.idle": "2022-07-21T07:27:22.175032Z",
     "shell.execute_reply": "2022-07-21T07:27:22.173864Z",
     "shell.execute_reply.started": "2022-07-21T07:27:22.155646Z"
    }
   },
   "outputs": [],
   "source": [
    "class TabNet(tf.keras.Model):\n",
    "    def __init__(self,\n",
    "                 output_dims: int=1,\n",
    "                 n_steps: int=3,\n",
    "                 feature_dims: int=16,\n",
    "                 gamma: float=1.3,\n",
    "                 epsilon: float=1e-8,\n",
    "                 lambda_sparsity: float=1e-4,\n",
    "                 pretrained_encoder: Optional[layers.Layer]=None):\n",
    "        \n",
    "        super().__init__()\n",
    "        self.output_dims = output_dims\n",
    "        self.n_steps = n_steps\n",
    "        self.feature_dims = feature_dims\n",
    "        self.gamma = gamma\n",
    "        self.epsilon = epsilon\n",
    "        self.lambda_sparsity = lambda_sparsity\n",
    "        self.pretrained_encoder = pretrained_encoder\n",
    "        \n",
    "        if self.pretrained_encoder is None:\n",
    "            self.encoder = TabNetEncoder(output_dims=output_dims,\n",
    "                                         n_steps=n_steps,\n",
    "                                         feature_dims=feature_dims,\n",
    "                                         gamma=gamma,\n",
    "                                         epsilon=epsilon,\n",
    "                                         lambda_sparsity=lambda_sparsity)\n",
    "        else:\n",
    "            self.encoder = pretrained_encoder\n",
    "            \n",
    "    def forward(self,\n",
    "                X: Union[tf.Tensor, np.ndarray],\n",
    "                training: Optional[bool]=None) -> Tuple[tf.Tensor]:\n",
    "        outputs, importance, encoded = self.encoder(X, training=training)\n",
    "        return outputs, importance, encoded\n",
    "    \n",
    "    def call(self,\n",
    "             X: Union[tf.Tensor, np.ndarray],\n",
    "             training: Optional[bool]=None) -> tf.Tensor:\n",
    "        outputs, importance, _ = self.forward(X, training=training)\n",
    "        return outputs, importance\n",
    "    \n",
    "    def explain(self,\n",
    "                X: Union[tf.Tensor, np.ndarray],\n",
    "                training: Optional[bool]=None) -> tf.Tensor:\n",
    "        _, importance, _ = self.forward(X, training=training)\n",
    "        return importance\n",
    "    \n",
    "    def transform(self,\n",
    "                  X: Union[tf.Tensor, np.ndarray],\n",
    "                  training: Optional[bool]=None) -> tf.Tensor:\n",
    "        _, _, encoded = self.forward(X, training=training)\n",
    "        return encoded"
   ]
  },
  {
   "cell_type": "code",
   "execution_count": null,
   "metadata": {
    "execution": {
     "iopub.execute_input": "2022-07-21T07:27:22.177244Z",
     "iopub.status.busy": "2022-07-21T07:27:22.176337Z",
     "iopub.status.idle": "2022-07-21T07:27:24.447677Z",
     "shell.execute_reply": "2022-07-21T07:27:24.446629Z",
     "shell.execute_reply.started": "2022-07-21T07:27:22.177211Z"
    }
   },
   "outputs": [],
   "source": [
    "## Create TabNet model\n",
    "def create_tabnet(emb_dim,\n",
    "                  numerical_columns,\n",
    "                  categorical_columns,\n",
    "                  num_columns,\n",
    "                  input_dtypes,\n",
    "                  lookup_layers,\n",
    "                  output_dims,\n",
    "                  n_steps,\n",
    "                  feature_dims,\n",
    "                  gamma,\n",
    "                  epsilon,\n",
    "                  lambda_sparsity,\n",
    "                  pretrained_encoder=None):\n",
    "    \n",
    "    model_inputs = create_model_inputs(numerical_columns,\n",
    "                                       categorical_columns,\n",
    "                                       input_dtypes)\n",
    "    \n",
    "    numerical_features, encoded_categorical_features = create_embedding_layers(model_inputs,\n",
    "                                                                           numerical_columns,\n",
    "                                                                           categorical_columns,\n",
    "                                                                           lookup_layers,\n",
    "                                                                           emb_dim)\n",
    "    \n",
    "    encoded_categorical_features = layers.Flatten(\n",
    "    )(encoded_categorical_features)\n",
    "    \n",
    "    \n",
    "    ## Numerical features\n",
    "    if len(numerical_columns) > 0:\n",
    "        numerical_features = layers.LayerNormalization(\n",
    "            name=f'numerical_norm', \n",
    "            epsilon=1e-6\n",
    "        )(numerical_features)\n",
    "        \n",
    "        ## Concatenate categorical features with numerical features\n",
    "        features = layers.Concatenate()([\n",
    "            encoded_categorical_features,\n",
    "            numerical_features\n",
    "        ])\n",
    "    else:\n",
    "        features = encoded_categorical_features\n",
    "        \n",
    "    tabnet = TabNet(output_dims=output_dims,\n",
    "                    n_steps=n_steps,\n",
    "                    feature_dims=feature_dims,\n",
    "                    gamma=gamma,\n",
    "                    epsilon=epsilon,\n",
    "                    lambda_sparsity=lambda_sparsity,\n",
    "                    pretrained_encoder=pretrained_encoder)\n",
    "    \n",
    "    tab_outputs, tab_importance = tabnet(features)\n",
    "    model_outputs = tf.keras.activations.sigmoid(tab_outputs)\n",
    "    \n",
    "    ## Create model\n",
    "    training_model = keras.Model(inputs=model_inputs,\n",
    "                                 outputs=model_outputs)\n",
    "    \n",
    "    return training_model\n",
    "    \n",
    "## Settings for TabNet\n",
    "emb_dim = model_config['emb_dim']\n",
    "input_dims = model_config['input_dims']\n",
    "output_dims = model_config['output_dims']\n",
    "n_steps = model_config['n_steps']\n",
    "feature_dims = model_config['feature_dims']\n",
    "gamma = model_config['gamma']\n",
    "epsilon = model_config['epsilon']\n",
    "lambda_sparsity = model_config['lambda_sparsity']\n",
    "\n",
    "## Create TabNet\n",
    "training_model = create_tabnet(emb_dim,\n",
    "                               numerical_columns,\n",
    "                               categorical_columns,\n",
    "                               num_columns,\n",
    "                               input_dtypes,\n",
    "                               lookup_layers,\n",
    "                               output_dims=output_dims,\n",
    "                               n_steps=n_steps,\n",
    "                               feature_dims=feature_dims,\n",
    "                               gamma=gamma,\n",
    "                               epsilon=epsilon,\n",
    "                               lambda_sparsity=lambda_sparsity)"
   ]
  },
  {
   "cell_type": "code",
   "execution_count": null,
   "metadata": {
    "_kg_hide-output": true,
    "execution": {
     "iopub.execute_input": "2022-07-21T07:27:24.449642Z",
     "iopub.status.busy": "2022-07-21T07:27:24.449323Z",
     "iopub.status.idle": "2022-07-21T07:27:24.493147Z",
     "shell.execute_reply": "2022-07-21T07:27:24.491993Z",
     "shell.execute_reply.started": "2022-07-21T07:27:24.449614Z"
    }
   },
   "outputs": [],
   "source": [
    "## Model Compile and Build\n",
    "batch_size = exp_config['batch_size']\n",
    "learning_rate = exp_config['learning_rate']\n",
    "train_epochs = exp_config['train_epochs']\n",
    "steps_per_epoch = len(train_fold) // batch_size\n",
    "\n",
    "learning_schedule = tf.keras.optimizers.schedules.CosineDecay(\n",
    "    initial_learning_rate=learning_rate,\n",
    "    decay_steps=train_epochs * steps_per_epoch, \n",
    "    alpha=0.0)\n",
    "\n",
    "optimizer = keras.optimizers.Adam(learning_rate=learning_schedule)\n",
    "\n",
    "loss_fn = keras.losses.BinaryCrossentropy(\n",
    "    from_logits=False, \n",
    "    label_smoothing=model_config['label_smoothing'])\n",
    "\n",
    "training_model.compile(optimizer=optimizer,\n",
    "                       loss=loss_fn,\n",
    "                       metrics=['accuracy', keras.metrics.AUC()])\n",
    "\n",
    "#training_model.build(input_shape=(None, input_dims))\n",
    "training_model.summary()"
   ]
  },
  {
   "cell_type": "markdown",
   "metadata": {},
   "source": [
    "<a id =\"5.2.2\"></a><h2 style=\"background:#D4F1F4; border:0; border-radius: 12px; color:black\"><center>5.2.2 Training</center></h2>"
   ]
  },
  {
   "cell_type": "code",
   "execution_count": null,
   "metadata": {
    "execution": {
     "iopub.execute_input": "2022-07-21T07:27:24.495473Z",
     "iopub.status.busy": "2022-07-21T07:27:24.494775Z",
     "iopub.status.idle": "2022-07-21T07:27:24.505398Z",
     "shell.execute_reply": "2022-07-21T07:27:24.504386Z",
     "shell.execute_reply.started": "2022-07-21T07:27:24.49544Z"
    }
   },
   "outputs": [],
   "source": [
    "## Learning Rate Finder\n",
    "class LRFind(tf.keras.callbacks.Callback):\n",
    "    def __init__(self, min_lr, max_lr, n_rounds):\n",
    "        self.min_lr = min_lr\n",
    "        self.max_lr = max_lr\n",
    "        self.step_up = tf.constant((max_lr / min_lr) ** (1 / n_rounds))\n",
    "        self.lrs = []\n",
    "        self.losses = []\n",
    "        \n",
    "    def on_train_begin(self, logs=None):\n",
    "        self.weights = self.model.get_weights()\n",
    "        self.model.optimizer.lr = self.min_lr\n",
    "        \n",
    "    def on_train_batch_end(self, batch, logs=None):\n",
    "        self.lrs.append(self.model.optimizer.lr.numpy())\n",
    "        self.losses.append(logs['loss'])\n",
    "        self.model.optimizer.lr = self.model.optimizer.lr * self.step_up\n",
    "        if self.model.optimizer.lr > self.max_lr:\n",
    "            self.model.stop_training = True \n",
    "    \n",
    "    def on_train_end(self, logs=None):\n",
    "        self.model.set_weights(self.weights)"
   ]
  },
  {
   "cell_type": "code",
   "execution_count": null,
   "metadata": {
    "execution": {
     "iopub.execute_input": "2022-07-21T07:27:24.507555Z",
     "iopub.status.busy": "2022-07-21T07:27:24.506927Z",
     "iopub.status.idle": "2022-07-21T07:27:41.979689Z",
     "shell.execute_reply": "2022-07-21T07:27:41.978439Z",
     "shell.execute_reply.started": "2022-07-21T07:27:24.507523Z"
    }
   },
   "outputs": [],
   "source": [
    "## Execute LR Finding\n",
    "min_lr = 1e-6\n",
    "max_lr = 1e-0\n",
    "lr_find_epochs = 1\n",
    "lr_find_steps = 100\n",
    "lr_find_batch_size = 512\n",
    "\n",
    "lr_find = LRFind(min_lr, max_lr, lr_find_steps)\n",
    "lr_find_ds = df_to_dataset(train_fold, num_columns,\n",
    "                           target='Transported',\n",
    "                           repeat=True,\n",
    "                           batch_size=lr_find_batch_size)\n",
    "lr_find_ds = lr_find_ds.map(lambda x, y: (preprocessing_model(x), y),\n",
    "                            num_parallel_calls=tf.data.AUTOTUNE)\n",
    "\n",
    "training_model.fit(lr_find_ds,\n",
    "                   steps_per_epoch=lr_find_steps,\n",
    "                   epochs=lr_find_epochs,\n",
    "                   callbacks=[lr_find])\n",
    "\n",
    "plt.plot(lr_find.lrs, lr_find.losses)\n",
    "plt.xscale('log')\n",
    "plt.show()"
   ]
  },
  {
   "cell_type": "code",
   "execution_count": null,
   "metadata": {
    "execution": {
     "iopub.execute_input": "2022-07-21T07:27:41.982475Z",
     "iopub.status.busy": "2022-07-21T07:27:41.981735Z",
     "iopub.status.idle": "2022-07-21T07:27:43.124595Z",
     "shell.execute_reply": "2022-07-21T07:27:43.12344Z",
     "shell.execute_reply.started": "2022-07-21T07:27:41.98243Z"
    }
   },
   "outputs": [],
   "source": [
    "## Re-construct the model\n",
    "training_model = create_tabnet(emb_dim,\n",
    "                               numerical_columns,\n",
    "                               categorical_columns,\n",
    "                               num_columns,\n",
    "                               input_dtypes,\n",
    "                               lookup_layers,\n",
    "                               output_dims=output_dims,\n",
    "                               n_steps=n_steps,\n",
    "                               feature_dims=feature_dims,\n",
    "                               gamma=gamma,\n",
    "                               epsilon=epsilon,\n",
    "                               lambda_sparsity=lambda_sparsity)\n",
    "\n",
    "## Model Compile and Build\n",
    "emb_learning_rate = exp_config['emb_learning_rate']\n",
    "learning_rate = exp_config['learning_rate']\n",
    "batch_size = exp_config['batch_size']\n",
    "train_epochs = exp_config['train_epochs']\n",
    "steps_per_epoch = len(train_fold) // batch_size\n",
    "\n",
    "learning_schedule_1 = tf.keras.optimizers.schedules.CosineDecay(\n",
    "    initial_learning_rate=emb_learning_rate,\n",
    "    decay_steps=train_epochs * steps_per_epoch, \n",
    "    alpha=0.0)\n",
    "\n",
    "learning_schedule_2 = tf.keras.optimizers.schedules.CosineDecay(\n",
    "    initial_learning_rate=learning_rate,\n",
    "    decay_steps=train_epochs * steps_per_epoch, \n",
    "    alpha=0.0)\n",
    "\n",
    "optimizers = [\n",
    "    tf.keras.optimizers.Adam(learning_rate=learning_schedule_1),\n",
    "    tf.keras.optimizers.Adam(learning_rate=learning_schedule_2)\n",
    "]\n",
    "optimizers_and_layers = [(optimizers[0], training_model.layers[:26]),\n",
    "                         (optimizers[1], training_model.layers[26:])]\n",
    "optimizer = tfa.optimizers.MultiOptimizer(optimizers_and_layers)\n",
    "\n",
    "loss_fn = keras.losses.BinaryCrossentropy(\n",
    "    from_logits=False, \n",
    "    label_smoothing=model_config['label_smoothing'])\n",
    "\n",
    "training_model.compile(optimizer=optimizer,\n",
    "                       loss=loss_fn,\n",
    "                       metrics=['accuracy', keras.metrics.AUC()])"
   ]
  },
  {
   "cell_type": "code",
   "execution_count": null,
   "metadata": {
    "_kg_hide-output": true,
    "execution": {
     "iopub.execute_input": "2022-07-21T07:27:43.126679Z",
     "iopub.status.busy": "2022-07-21T07:27:43.126216Z",
     "iopub.status.idle": "2022-07-21T07:28:54.604001Z",
     "shell.execute_reply": "2022-07-21T07:28:54.602773Z",
     "shell.execute_reply.started": "2022-07-21T07:27:43.126634Z"
    }
   },
   "outputs": [],
   "source": [
    "## Checkpoint Callback\n",
    "checkpoint_filepath = exp_config['checkpoint_filepath']\n",
    "model_checkpoint_callback = tf.keras.callbacks.ModelCheckpoint(\n",
    "    filepath=checkpoint_filepath, \n",
    "    save_weights_only=True, \n",
    "    monitor='val_loss', \n",
    "    mode='min', \n",
    "    save_best_only=True)\n",
    "\n",
    "## Model Training\n",
    "history = training_model.fit(train_ds,\n",
    "                  epochs=train_epochs,\n",
    "                  shuffle=True,\n",
    "                  validation_data=valid_ds,\n",
    "                  callbacks=[model_checkpoint_callback])\n",
    "\n",
    "## Load the Best Parameters\n",
    "training_model.load_weights(checkpoint_filepath)"
   ]
  },
  {
   "cell_type": "code",
   "execution_count": null,
   "metadata": {
    "execution": {
     "iopub.execute_input": "2022-07-21T07:28:54.606496Z",
     "iopub.status.busy": "2022-07-21T07:28:54.605728Z",
     "iopub.status.idle": "2022-07-21T07:28:54.833149Z",
     "shell.execute_reply": "2022-07-21T07:28:54.831915Z",
     "shell.execute_reply.started": "2022-07-21T07:28:54.606448Z"
    }
   },
   "outputs": [],
   "source": [
    "## Plot Losses\n",
    "def plot_history(hist, title=None, valid=True):\n",
    "    plt.figure(figsize=(7, 5))\n",
    "    plt.plot(np.array(hist.index), hist['loss'], label='Train Loss')\n",
    "    if valid:\n",
    "        plt.plot(np.array(hist.index), hist['val_loss'], label='Valid Loss')\n",
    "    plt.xlabel('Epoch')\n",
    "    plt.ylabel('Loss')\n",
    "    plt.legend()\n",
    "    plt.title(title)\n",
    "    plt.show()\n",
    "    \n",
    "hist = pd.DataFrame(history.history)\n",
    "plot_history(hist)"
   ]
  },
  {
   "cell_type": "code",
   "execution_count": null,
   "metadata": {
    "execution": {
     "iopub.execute_input": "2022-07-21T07:28:54.834733Z",
     "iopub.status.busy": "2022-07-21T07:28:54.834425Z",
     "iopub.status.idle": "2022-07-21T07:28:56.445985Z",
     "shell.execute_reply": "2022-07-21T07:28:56.445156Z",
     "shell.execute_reply.started": "2022-07-21T07:28:54.834706Z"
    }
   },
   "outputs": [],
   "source": [
    "## Plot Feature Importance\n",
    "layer_names = [l.name for l in training_model.layers]\n",
    "name = layer_names[-2]\n",
    "\n",
    "importance_model = tf.keras.Model(inputs=training_model.input,\n",
    "                                  outputs=training_model.get_layer(name).output[1])\n",
    "\n",
    "importance_list = []\n",
    "for data, label in iter(train_ds):\n",
    "    importance = importance_model(data)\n",
    "    importance = importance.numpy()\n",
    "    importance_list.append(importance)\n",
    "    \n",
    "importance = np.concatenate(importance_list, axis=0)\n",
    "importance = np.mean(importance, axis=0)\n",
    "importance_df = pd.DataFrame(importance,\n",
    "                             index=list(training_model.input.keys()),\n",
    "                             columns=['importance'])\n",
    "importance_df.sort_values(by='importance',\n",
    "                          ascending=False,\n",
    "                          inplace=True)\n",
    "top10_importance = np.array(importance_df[:10].values.reshape([-1]))\n",
    "top10_features = importance_df[:10].index\n",
    "\n",
    "#importance_df[:10].plot.bar()\n",
    "\n",
    "plt.figure(figsize=(7, 5))\n",
    "plt.bar(x=np.arange(10),\n",
    "        height=top10_importance)\n",
    "plt.xticks(np.arange(10), top10_features, rotation='vertical')\n",
    "plt.title('Feature Importance')\n",
    "plt.show()"
   ]
  },
  {
   "cell_type": "markdown",
   "metadata": {},
   "source": [
    "<a id =\"5.2.3\"></a><h2 style=\"background:#D4F1F4; border:0; border-radius: 12px; color:black\"><center>5.2.3 Inference</center></h2>"
   ]
  },
  {
   "cell_type": "code",
   "execution_count": null,
   "metadata": {
    "execution": {
     "iopub.execute_input": "2022-07-21T07:28:56.447916Z",
     "iopub.status.busy": "2022-07-21T07:28:56.447101Z",
     "iopub.status.idle": "2022-07-21T07:28:57.003462Z",
     "shell.execute_reply": "2022-07-21T07:28:57.002235Z",
     "shell.execute_reply.started": "2022-07-21T07:28:56.447884Z"
    }
   },
   "outputs": [],
   "source": [
    "## Inference_model = preprocessing_model + training_model\n",
    "inference_inputs = preprocessing_model.input\n",
    "inference_outputs = training_model(preprocessing_model(inference_inputs))\n",
    "inference_model = tf.keras.Model(inputs=inference_inputs,\n",
    "                                 outputs=inference_outputs)"
   ]
  },
  {
   "cell_type": "code",
   "execution_count": null,
   "metadata": {
    "execution": {
     "iopub.execute_input": "2022-07-21T07:28:57.005249Z",
     "iopub.status.busy": "2022-07-21T07:28:57.004898Z",
     "iopub.status.idle": "2022-07-21T07:28:57.01838Z",
     "shell.execute_reply": "2022-07-21T07:28:57.017028Z",
     "shell.execute_reply.started": "2022-07-21T07:28:57.00521Z"
    }
   },
   "outputs": [],
   "source": [
    "## Test Dataset\n",
    "test_ds = df_to_dataset(test, num_columns,\n",
    "                        target=None,\n",
    "                        shuffle=False,\n",
    "                        repeat=False,\n",
    "                        batch_size=batch_size,\n",
    "                        drop_remainder=False)"
   ]
  },
  {
   "cell_type": "code",
   "execution_count": null,
   "metadata": {
    "_kg_hide-output": true,
    "execution": {
     "iopub.execute_input": "2022-07-21T07:28:57.02095Z",
     "iopub.status.busy": "2022-07-21T07:28:57.020422Z",
     "iopub.status.idle": "2022-07-21T07:28:58.682257Z",
     "shell.execute_reply": "2022-07-21T07:28:58.680929Z",
     "shell.execute_reply.started": "2022-07-21T07:28:57.020914Z"
    }
   },
   "outputs": [],
   "source": [
    "## Inference and Submission\n",
    "probas = inference_model.predict(test_ds)\n",
    "probas = np.squeeze(probas)\n",
    "\n",
    "preds = np.where(probas > 0.5, True, False)\n",
    "\n",
    "submission_df['Transported'] = preds\n",
    "submission_df.to_csv('submission_tf.csv', index=False)\n",
    "submission_df.head()"
   ]
  },
  {
   "cell_type": "markdown",
   "metadata": {},
   "source": [
    "<a id =\"5.3\"></a><h2 style=\"background:#75E6DA; border:0; border-radius: 12px; color:black\"><center>5.3 Pre-training and Fine-tuning from Scratch</center></h2>"
   ]
  },
  {
   "cell_type": "markdown",
   "metadata": {},
   "source": [
    "In this section, I'm going to build TabNet encoder-decoder (autoencoder) model for the pre-training and fine-tuning as we saw in <a href=\"#4.2\">chapter 4.2</a>."
   ]
  },
  {
   "cell_type": "markdown",
   "metadata": {},
   "source": [
    "<a id =\"5.3.1\"></a><h2 style=\"background:#D4F1F4; border:0; border-radius: 12px; color:black\"><center>5.3.1 TabNet Encoder-Decoder from Scratch</center></h2>"
   ]
  },
  {
   "cell_type": "markdown",
   "metadata": {},
   "source": [
    "The figure below shows the architecture of TabNet decoder.\n",
    "\n",
    "<img src=\"https://data-analytics.fun/wp-content/uploads/2021/08/image-24.png\" width=\"600\"/>\n",
    "\n",
    "TabNet decoder receives the output of the encoder, which is dimensionally reduced, and reconstructs the input features of the encoder. TabNet decoder consists of Feature transformer blocks and Fully Connected Layers. They have same structures as we saw earlier. So, let's create the decoder."
   ]
  },
  {
   "cell_type": "code",
   "execution_count": null,
   "metadata": {
    "execution": {
     "iopub.execute_input": "2022-07-21T07:28:58.684477Z",
     "iopub.status.busy": "2022-07-21T07:28:58.684005Z",
     "iopub.status.idle": "2022-07-21T07:28:58.698513Z",
     "shell.execute_reply": "2022-07-21T07:28:58.697324Z",
     "shell.execute_reply.started": "2022-07-21T07:28:58.68443Z"
    }
   },
   "outputs": [],
   "source": [
    "class TabNetDecoder(layers.Layer):\n",
    "    def __init__(self,\n",
    "                 output_dims: int=1,\n",
    "                 n_steps: int=3,\n",
    "                 feature_dims: int=16):\n",
    "        super().__init__()\n",
    "        self.output_dims = output_dims\n",
    "        self.n_steps = n_steps\n",
    "        self.feature_dims = feature_dims\n",
    "        \n",
    "    def build(self,\n",
    "              input_shape: tf.TensorShape):\n",
    "        self.shared_block = FeatureTransformerBlock(units=self.feature_dims)\n",
    "        self.unique_fts = [FeatureTransformerBlock(units=self.feature_dims,\n",
    "                                                   skip=True) for _ in range(self.n_steps)]\n",
    "        self.fcs = [layers.Dense(self.output_dims) for _ in range(self.n_steps)]\n",
    "        \n",
    "    def call(self,\n",
    "             encoded: Union[tf.Tensor, np.ndarray],\n",
    "             training: Optional[bool]=None) -> tf.Tensor:\n",
    "        decoded = 0.\n",
    "        \n",
    "        for i in range(self.n_steps):\n",
    "            shared = self.shared_block(encoded[i], training=training)\n",
    "            feature = self.unique_fts[i](shared, training=training)\n",
    "            outputs = self.fcs[i](feature, training=training)\n",
    "            decoded += outputs\n",
    "            \n",
    "        return decoded"
   ]
  },
  {
   "cell_type": "markdown",
   "metadata": {},
   "source": [
    "Reconstruction error for the pre-training of TabNet autoencoder is defined by the following formula:\n",
    "\n",
    "$$\n",
    "L_{reconstruct}=\\sum^B_{b=1}\\sum^D_{d=1}\\left|\\frac{\\left(\\hat{f}_{b,j}-f_{b,j}\\right)\\cdot S_{b,j}}{\\sqrt{\\sum^B_{b=1}\\left(f_{b,j}-1/B\\sum^{B}_{b=1}f_{b,j}\\right)^2}}\\right|\n",
    "$$\n",
    "\n",
    "$𝑓\\in\\mathbb{R}^{B\\times D}$ is input feature, and $\\hat{f}\\in\\mathbb{R}^{B\\times D}$ is decoder's prediction. $S\\in \\{0, 1\\}^{B\\times D}$ is input-mask. When $S_{b, j}=1$, corresponding input feature is masked ($f_{b, j}$ becomes 0). Conversely, the prediction error $|\\hat{f}_{b,j}-f_{b,j}|$ is added to the reconstruction loss only when $S_{b, j}=1$. Please note that input-mask $S$ is different from the mask inside the TabNet encoder $M$. The denominator of the loss is a kind of normalization term. That's the original reconstruction error, but in this TabNet model from scratch, I will use mean squared error as the reconstruction loss.\n",
    "\n",
    "Finally, we will build the autoencoder model structure with connecting our TabNet encoder and TabNet decoder. "
   ]
  },
  {
   "cell_type": "code",
   "execution_count": null,
   "metadata": {
    "execution": {
     "iopub.execute_input": "2022-07-21T07:28:58.701173Z",
     "iopub.status.busy": "2022-07-21T07:28:58.700741Z",
     "iopub.status.idle": "2022-07-21T07:28:58.718287Z",
     "shell.execute_reply": "2022-07-21T07:28:58.717347Z",
     "shell.execute_reply.started": "2022-07-21T07:28:58.70114Z"
    }
   },
   "outputs": [],
   "source": [
    "class TabNetEncoderDecoder(layers.Layer):\n",
    "    def __init__(self,\n",
    "                 output_dims: int=1,\n",
    "                 input_dims: int=12,\n",
    "                 n_steps: int=3,\n",
    "                 feature_dims: int=16,\n",
    "                 gamma: float=1.3,\n",
    "                 epsilon: float=1e-8,\n",
    "                 lambda_sparsity: float=1e-4,\n",
    "                 mask_ratio: float=0.25):\n",
    "        super().__init__()\n",
    "        self.output_dims = output_dims\n",
    "        self.input_dims = input_dims\n",
    "        self.n_steps = n_steps\n",
    "        self.feature_dims = feature_dims\n",
    "        self.gamma = gamma\n",
    "        self.epsilon = epsilon\n",
    "        self.lambda_sparsity = lambda_sparsity\n",
    "        self.mask_ratio = mask_ratio\n",
    "        \n",
    "    def build(self,\n",
    "              input_shape: tf.TensorShape):\n",
    "        self.encoder = TabNetEncoder(\n",
    "            output_dims=self.output_dims,\n",
    "            n_steps=self.n_steps,\n",
    "            feature_dims=self.feature_dims,\n",
    "            gamma=self.gamma,\n",
    "            epsilon=self.epsilon,\n",
    "            lambda_sparsity=self.lambda_sparsity)\n",
    "        self.decoder = TabNetDecoder(\n",
    "            output_dims=self.input_dims,\n",
    "            n_steps=self.n_steps,\n",
    "            feature_dims=self.feature_dims)\n",
    "        self.mask_creator = layers.Dropout(self.mask_ratio)\n",
    "        \n",
    "    def call(self,\n",
    "             X: Union[tf.Tensor, np.ndarray],\n",
    "             training: Optional[bool]=None) -> tf.Tensor:\n",
    "        ## training mask\n",
    "        input_mask = self.mask_creator(tf.ones_like(X), training=training)\n",
    "        M = tf.where(input_mask != 0., tf.ones_like(X), tf.zeros_like(X))\n",
    "        S = tf.where(input_mask ==0., tf.ones_like(X), tf.zeros_like(X))\n",
    "        \n",
    "        ## encoding\n",
    "        X_M = X * M\n",
    "        encoder_outputs, importance, encoded = self.encoder(X_M, training=training)\n",
    "        #labels = tf.where(mask == 0., X, tf.zeros_like(X))\n",
    "        \n",
    "        ## decoding\n",
    "        decoder_outputs = self.decoder(encoded, training=training)\n",
    "        \n",
    "        ## reconstruction-loss\n",
    "        yt = X * S\n",
    "        preds = decoder_outputs * S\n",
    "        mse = tf.keras.losses.MeanSquaredError()\n",
    "        self.add_loss(mse(yt, preds))\n",
    "        \n",
    "        return encoder_outputs, importance, encoded"
   ]
  },
  {
   "cell_type": "code",
   "execution_count": null,
   "metadata": {
    "execution": {
     "iopub.execute_input": "2022-07-21T07:28:58.720751Z",
     "iopub.status.busy": "2022-07-21T07:28:58.719737Z",
     "iopub.status.idle": "2022-07-21T07:28:58.738244Z",
     "shell.execute_reply": "2022-07-21T07:28:58.737052Z",
     "shell.execute_reply.started": "2022-07-21T07:28:58.720705Z"
    }
   },
   "outputs": [],
   "source": [
    "class TabNetAutoencoder(tf.keras.Model):\n",
    "    def __init__(self,\n",
    "                 output_dims: int=1,\n",
    "                 input_dims: int=12,\n",
    "                 n_steps: int=3,\n",
    "                 feature_dims: int=16,\n",
    "                 gamma: float=1.3,\n",
    "                 epsilon: float=1e-8,\n",
    "                 lambda_sparsity: float=1e-4,\n",
    "                 mask_ratio: float=0.25):\n",
    "        super().__init__()\n",
    "        self.output_dims = output_dims\n",
    "        self.input_dims = input_dims\n",
    "        self.n_steps = n_steps\n",
    "        self.feature_dims = feature_dims\n",
    "        self.gamma = gamma\n",
    "        self.epsilon = epsilon\n",
    "        self.lambda_sparsity = lambda_sparsity\n",
    "        self.mask_ratio = mask_ratio\n",
    "        \n",
    "        self.ae = TabNetEncoderDecoder(output_dims=output_dims,\n",
    "                                       input_dims=input_dims,\n",
    "                                       n_steps=n_steps,\n",
    "                                       feature_dims=feature_dims,\n",
    "                                       gamma=gamma,\n",
    "                                       epsilon=epsilon,\n",
    "                                       lambda_sparsity=lambda_sparsity,\n",
    "                                       mask_ratio=mask_ratio)\n",
    "        \n",
    "    def forward(self,\n",
    "                X: Union[tf.Tensor, np.ndarray],\n",
    "                training: Optional[bool]=None) -> Tuple[tf.Tensor]:\n",
    "        encoder_outputs, importance, encoded = self.ae(X, training=training)\n",
    "        \n",
    "        return encoder_outputs, importance, encoded\n",
    "        \n",
    "    def call(self,\n",
    "             X: Union[tf.Tensor, np.ndarray],\n",
    "             training: Optional[bool]=None) -> tf.Tensor:\n",
    "        encoder_outputs, importance, encoded = self.forward(X)\n",
    "        \n",
    "        return encoder_outputs\n",
    "    \n",
    "    def explain(self,\n",
    "                X: Union[tf.Tensor, np.ndarray],\n",
    "                training: Optional[bool]=None) -> tf.Tensor:\n",
    "        _, importance, _ = self.forward(X)\n",
    "        return importance\n",
    "    \n",
    "    def transform(self,\n",
    "                  X: Union[tf.Tensor, np.ndarray],\n",
    "                  training: Optional[bool]=None) -> tf.Tensor:\n",
    "        _, _, encoded = self.forward(X)\n",
    "        return encoded"
   ]
  },
  {
   "cell_type": "code",
   "execution_count": null,
   "metadata": {
    "execution": {
     "iopub.execute_input": "2022-07-21T07:28:58.740755Z",
     "iopub.status.busy": "2022-07-21T07:28:58.740016Z",
     "iopub.status.idle": "2022-07-21T07:28:58.755754Z",
     "shell.execute_reply": "2022-07-21T07:28:58.754698Z",
     "shell.execute_reply.started": "2022-07-21T07:28:58.74071Z"
    }
   },
   "outputs": [],
   "source": [
    "def create_tabnet_ae(emb_dim,\n",
    "                     numerical_columns,\n",
    "                     categorical_columns,\n",
    "                     num_columns,\n",
    "                     input_dtypes,\n",
    "                     lookup_layers,\n",
    "                     output_dims,\n",
    "                     n_steps,\n",
    "                     feature_dims,\n",
    "                     gamma,\n",
    "                     epsilon,\n",
    "                     lambda_sparsity,\n",
    "                     mask_ratio):\n",
    "    \n",
    "    model_inputs = create_model_inputs(numerical_columns,\n",
    "                                       categorical_columns,\n",
    "                                       input_dtypes)\n",
    "    \n",
    "    numerical_features, encoded_categorical_features = create_embedding_layers(model_inputs,\n",
    "                                                                           numerical_columns,\n",
    "                                                                           categorical_columns,\n",
    "                                                                           lookup_layers,\n",
    "                                                                           emb_dim)\n",
    "    \n",
    "    encoded_categorical_features = layers.Flatten(\n",
    "    )(encoded_categorical_features)\n",
    "    \n",
    "    \n",
    "    ## Numerical features\n",
    "    if len(numerical_columns) > 0:\n",
    "        numerical_features = layers.LayerNormalization(\n",
    "            name=f'numerical_norm', \n",
    "            epsilon=1e-6\n",
    "        )(numerical_features)\n",
    "        \n",
    "        ## Concatenate categorical features with numerical features\n",
    "        features = layers.Concatenate()([\n",
    "            encoded_categorical_features,\n",
    "            numerical_features\n",
    "        ])\n",
    "    else:\n",
    "        features = encoded_categorical_features\n",
    "        \n",
    "    tabnet_ae = TabNetAutoencoder(\n",
    "        output_dims=output_dims,\n",
    "        input_dims=input_dims,\n",
    "        n_steps=n_steps,\n",
    "        feature_dims=feature_dims,\n",
    "        gamma=gamma,\n",
    "        epsilon=epsilon,\n",
    "        lambda_sparsity=lambda_sparsity,\n",
    "        mask_ratio=mask_ratio)\n",
    "    \n",
    "    model_outputs = tabnet_ae(features)\n",
    "    \n",
    "    ## Create model\n",
    "    training_model = keras.Model(inputs=model_inputs,\n",
    "                                 outputs=model_outputs)\n",
    "    \n",
    "    return training_model"
   ]
  },
  {
   "cell_type": "code",
   "execution_count": null,
   "metadata": {
    "_kg_hide-output": true,
    "execution": {
     "iopub.execute_input": "2022-07-21T07:28:58.758152Z",
     "iopub.status.busy": "2022-07-21T07:28:58.75767Z",
     "iopub.status.idle": "2022-07-21T07:29:00.335394Z",
     "shell.execute_reply": "2022-07-21T07:29:00.33404Z",
     "shell.execute_reply.started": "2022-07-21T07:28:58.758112Z"
    }
   },
   "outputs": [],
   "source": [
    "## Settings for TabNet Encoder-Decoder\n",
    "input_dims = model_config['input_dims']\n",
    "output_dims = model_config['output_dims']\n",
    "n_steps = model_config['n_steps']\n",
    "feature_dims = model_config['feature_dims']\n",
    "lambda_sparsity = model_config['lambda_sparsity']\n",
    "gamma = model_config['gamma']\n",
    "epsilon = model_config['epsilon']\n",
    "lambda_sparsity = model_config['lambda_sparsity']\n",
    "mask_ratio = model_config['mask_ratio']\n",
    "\n",
    "## Create TabNet Encoder-Decoder\n",
    "tabnet_ae = create_tabnet_ae(\n",
    "    emb_dim,\n",
    "    numerical_columns,\n",
    "    categorical_columns,\n",
    "    num_columns,\n",
    "    input_dtypes,\n",
    "    lookup_layers,\n",
    "    output_dims=output_dims,\n",
    "    n_steps=n_steps,\n",
    "    feature_dims=feature_dims,\n",
    "    gamma=gamma,\n",
    "    epsilon=epsilon,\n",
    "    lambda_sparsity=lambda_sparsity,\n",
    "    mask_ratio=mask_ratio)\n",
    "\n",
    "## Model Compile and Build\n",
    "lr = exp_config['pretrain_lr']\n",
    "optimizer = keras.optimizers.Adam(learning_rate=lr)\n",
    "\n",
    "@tf.function\n",
    "def dummy_loss(y, t):\n",
    "    return 0.\n",
    "\n",
    "tabnet_ae.compile(optimizer=optimizer,\n",
    "                  loss=dummy_loss)\n",
    "\n",
    "#tabnet_ae.build(input_shape=(None, input_dims))\n",
    "tabnet_ae.summary()"
   ]
  },
  {
   "cell_type": "markdown",
   "metadata": {},
   "source": [
    "<a id =\"5.3.2\"></a><h2 style=\"background:#D4F1F4; border:0; border-radius: 12px; color:black\"><center>5.3.2 Pre-Training and Fine-Tuning</center></h2>"
   ]
  },
  {
   "cell_type": "code",
   "execution_count": null,
   "metadata": {
    "_kg_hide-output": true,
    "execution": {
     "iopub.execute_input": "2022-07-21T07:29:00.338314Z",
     "iopub.status.busy": "2022-07-21T07:29:00.337492Z",
     "iopub.status.idle": "2022-07-21T07:29:27.512303Z",
     "shell.execute_reply": "2022-07-21T07:29:27.511098Z",
     "shell.execute_reply.started": "2022-07-21T07:29:00.338261Z"
    }
   },
   "outputs": [],
   "source": [
    "## Model Pre-training\n",
    "epochs = exp_config['pretrain_epochs']\n",
    "\n",
    "tabnet_ae.fit(train_ds,\n",
    "              epochs=epochs)"
   ]
  },
  {
   "cell_type": "code",
   "execution_count": null,
   "metadata": {
    "_kg_hide-output": true,
    "execution": {
     "iopub.execute_input": "2022-07-21T07:29:27.514242Z",
     "iopub.status.busy": "2022-07-21T07:29:27.513877Z",
     "iopub.status.idle": "2022-07-21T07:29:28.145745Z",
     "shell.execute_reply": "2022-07-21T07:29:28.144559Z",
     "shell.execute_reply.started": "2022-07-21T07:29:27.514209Z"
    }
   },
   "outputs": [],
   "source": [
    "## Creating Pre-trained Model\n",
    "pretrained_model = create_tabnet(\n",
    "    emb_dim,\n",
    "    numerical_columns,\n",
    "    categorical_columns,\n",
    "    num_columns,\n",
    "    input_dtypes,\n",
    "    lookup_layers,\n",
    "    output_dims=output_dims,\n",
    "    n_steps=n_steps,\n",
    "    feature_dims=feature_dims,\n",
    "    gamma=gamma,\n",
    "    epsilon=epsilon,\n",
    "    lambda_sparsity=lambda_sparsity,\n",
    "    pretrained_encoder=tabnet_ae.layers[-1].ae.encoder)\n",
    "\n",
    "\n",
    "## Pre-trained Model Compile and Build\n",
    "emb_learning_rate = exp_config['emb_finetune_lr']\n",
    "learning_rate = exp_config['finetune_lr']\n",
    "batch_size = exp_config['batch_size']\n",
    "train_epochs = exp_config['train_epochs']\n",
    "steps_per_epoch = len(train_fold) // batch_size\n",
    "\n",
    "learning_schedule_1 = tf.keras.optimizers.schedules.CosineDecay(\n",
    "    initial_learning_rate=emb_learning_rate,\n",
    "    decay_steps=train_epochs * steps_per_epoch, \n",
    "    alpha=0.0)\n",
    "\n",
    "learning_schedule_2 = tf.keras.optimizers.schedules.CosineDecay(\n",
    "    initial_learning_rate=learning_rate,\n",
    "    decay_steps=train_epochs * steps_per_epoch, \n",
    "    alpha=0.0)\n",
    "\n",
    "optimizers = [\n",
    "    tf.keras.optimizers.Adam(learning_rate=learning_schedule_1),\n",
    "    tf.keras.optimizers.Adam(learning_rate=learning_schedule_2)\n",
    "]\n",
    "optimizers_and_layers = [(optimizers[0], pretrained_model.layers[:26]),\n",
    "                         (optimizers[1], pretrained_model.layers[26:])]\n",
    "optimizer = tfa.optimizers.MultiOptimizer(optimizers_and_layers)\n",
    "\n",
    "loss_fn = keras.losses.BinaryCrossentropy(\n",
    "    from_logits=False, \n",
    "    label_smoothing=model_config['label_smoothing'])\n",
    "\n",
    "pretrained_model.compile(optimizer=optimizer,\n",
    "                         loss=loss_fn,\n",
    "                         metrics=['accuracy', keras.metrics.AUC()])\n",
    "\n",
    "#pretrained_model.build(input_shape=(None, input_dims))\n",
    "pretrained_model.summary()"
   ]
  },
  {
   "cell_type": "code",
   "execution_count": null,
   "metadata": {
    "_kg_hide-output": true,
    "execution": {
     "iopub.execute_input": "2022-07-21T07:29:28.148297Z",
     "iopub.status.busy": "2022-07-21T07:29:28.147933Z",
     "iopub.status.idle": "2022-07-21T07:30:38.353074Z",
     "shell.execute_reply": "2022-07-21T07:30:38.351776Z",
     "shell.execute_reply.started": "2022-07-21T07:29:28.148264Z"
    }
   },
   "outputs": [],
   "source": [
    "## Checkpoint Callback\n",
    "checkpoint_filepath = exp_config['checkpoint_filepath']\n",
    "model_checkpoint_callback = tf.keras.callbacks.ModelCheckpoint(\n",
    "    filepath=checkpoint_filepath, \n",
    "    save_weights_only=True, \n",
    "    monitor='val_loss', \n",
    "    mode='min', \n",
    "    save_best_only=True)\n",
    "\n",
    "## Model Fine-tuning\n",
    "history = pretrained_model.fit(\n",
    "    train_ds,\n",
    "    epochs=train_epochs,\n",
    "    shuffle=True,\n",
    "    validation_data=valid_ds,\n",
    "    callbacks=[model_checkpoint_callback])\n",
    "\n",
    "## Load the Best Parameters\n",
    "pretrained_model.load_weights(checkpoint_filepath)"
   ]
  },
  {
   "cell_type": "code",
   "execution_count": null,
   "metadata": {
    "execution": {
     "iopub.execute_input": "2022-07-21T07:30:38.354944Z",
     "iopub.status.busy": "2022-07-21T07:30:38.354484Z",
     "iopub.status.idle": "2022-07-21T07:30:38.571221Z",
     "shell.execute_reply": "2022-07-21T07:30:38.569892Z",
     "shell.execute_reply.started": "2022-07-21T07:30:38.354912Z"
    }
   },
   "outputs": [],
   "source": [
    "## Plot Losses   \n",
    "hist = pd.DataFrame(history.history)\n",
    "plot_history(hist)"
   ]
  },
  {
   "cell_type": "code",
   "execution_count": null,
   "metadata": {
    "execution": {
     "iopub.execute_input": "2022-07-21T07:30:38.572808Z",
     "iopub.status.busy": "2022-07-21T07:30:38.572486Z",
     "iopub.status.idle": "2022-07-21T07:30:39.755359Z",
     "shell.execute_reply": "2022-07-21T07:30:39.754164Z",
     "shell.execute_reply.started": "2022-07-21T07:30:38.572779Z"
    }
   },
   "outputs": [],
   "source": [
    "## Plot Feature Importance\n",
    "layer_names = [l.name for l in pretrained_model.layers]\n",
    "name = layer_names[-2]\n",
    "\n",
    "importance_model = tf.keras.Model(inputs=pretrained_model.input,\n",
    "                                  outputs=pretrained_model.get_layer(name).output[1])\n",
    "\n",
    "importance_list = []\n",
    "for data, label in iter(train_ds):\n",
    "    importance = importance_model(data)\n",
    "    importance = importance.numpy()\n",
    "    importance_list.append(importance)\n",
    "    \n",
    "importance = np.concatenate(importance_list, axis=0)\n",
    "importance = np.mean(importance, axis=0)\n",
    "importance_df = pd.DataFrame(importance,\n",
    "                             index=list(pretrained_model.input.keys()),\n",
    "                             columns=['importance'])\n",
    "importance_df.sort_values(by='importance',\n",
    "                          ascending=False,\n",
    "                          inplace=True)\n",
    "top10_importance = np.array(importance_df[:10].values.reshape([-1]))\n",
    "top10_features = importance_df[:10].index\n",
    "\n",
    "#importance_df[:10].plot.bar()\n",
    "\n",
    "plt.figure(figsize=(7, 5))\n",
    "plt.bar(x=np.arange(10),\n",
    "        height=top10_importance)\n",
    "plt.xticks(np.arange(10), top10_features, rotation='vertical')\n",
    "plt.title('Feature Importance')\n",
    "plt.show()"
   ]
  },
  {
   "cell_type": "markdown",
   "metadata": {},
   "source": [
    "---\n",
    "## Work in Progress...\n",
    "\n",
    "### I will update this notebook in soon. Please come again and checkout the progress. Thank you!\n",
    "\n",
    "---"
   ]
  }
 ],
 "metadata": {
  "kernelspec": {
   "display_name": "Python 3 (ipykernel)",
   "language": "python",
   "name": "python3"
  },
  "language_info": {
   "codemirror_mode": {
    "name": "ipython",
    "version": 3
   },
   "file_extension": ".py",
   "mimetype": "text/x-python",
   "name": "python",
   "nbconvert_exporter": "python",
   "pygments_lexer": "ipython3",
   "version": "3.9.9"
  }
 },
 "nbformat": 4,
 "nbformat_minor": 4
}
