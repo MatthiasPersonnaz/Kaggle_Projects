{
 "cells": [
  {
   "cell_type": "code",
   "execution_count": 1,
   "id": "b03372d6-6eb0-41c8-a501-5f30b4978ee8",
   "metadata": {},
   "outputs": [
    {
     "name": "stderr",
     "output_type": "stream",
     "text": [
      "/home/matthias/anaconda3/envs/tf_gpu/lib/python3.9/site-packages/scipy/__init__.py:146: UserWarning: A NumPy version >=1.16.5 and <1.23.0 is required for this version of SciPy (detected version 1.23.1\n",
      "  warnings.warn(f\"A NumPy version >={np_minversion} and <{np_maxversion}\"\n"
     ]
    },
    {
     "name": "stdout",
     "output_type": "stream",
     "text": [
      "TensorFlow version: 2.4.1\n",
      "# GPUs Available:  1\n"
     ]
    }
   ],
   "source": [
    "import tensorflow as tf\n",
    "print(\"TensorFlow version:\", tf.__version__)\n",
    "print(\"# GPUs Available: \", len(tf.config.experimental.list_physical_devices('GPU')))"
   ]
  },
  {
   "cell_type": "code",
   "execution_count": 2,
   "id": "cb3e3762-92c8-4563-a42f-7b4b4acfe8a6",
   "metadata": {},
   "outputs": [],
   "source": [
    "mnist = tf.keras.datasets.mnist\n",
    "\n",
    "(x_train, y_train), (x_test, y_test) = mnist.load_data()\n",
    "x_train, x_test = x_train / 255.0, x_test / 255.0\n"
   ]
  },
  {
   "cell_type": "code",
   "execution_count": 3,
   "id": "155e6039-356b-40c8-8cb9-11e3fa67118f",
   "metadata": {},
   "outputs": [],
   "source": [
    "model = tf.keras.models.Sequential([\n",
    "  tf.keras.layers.Flatten(input_shape=(28, 28)),\n",
    "  tf.keras.layers.Dense(128, activation='relu'),\n",
    "  tf.keras.layers.Dropout(0.2),\n",
    "  tf.keras.layers.Dense(10)\n",
    "])"
   ]
  },
  {
   "cell_type": "code",
   "execution_count": 4,
   "id": "49c1dcde-3386-461f-9145-31d1c0f26447",
   "metadata": {},
   "outputs": [
    {
     "data": {
      "text/plain": [
       "array([[-2.53777266e-01,  2.13737302e-02,  1.07392001e+00,\n",
       "        -2.49884322e-01, -1.23080194e-01,  9.02190804e-04,\n",
       "         7.85195827e-02, -2.53509611e-01, -4.36043382e-01,\n",
       "        -1.24532700e+00]], dtype=float32)"
      ]
     },
     "execution_count": 4,
     "metadata": {},
     "output_type": "execute_result"
    }
   ],
   "source": [
    "predictions = model(x_train[:1]).numpy()\n",
    "predictions"
   ]
  },
  {
   "cell_type": "code",
   "execution_count": 5,
   "id": "8a85b83a",
   "metadata": {},
   "outputs": [
    {
     "data": {
      "text/plain": [
       "array([[0.07621103, 0.10034931, 0.28749442, 0.07650829, 0.08685179,\n",
       "        0.09831588, 0.10625087, 0.07623143, 0.06351271, 0.02827439]],\n",
       "      dtype=float32)"
      ]
     },
     "execution_count": 5,
     "metadata": {},
     "output_type": "execute_result"
    }
   ],
   "source": [
    "tf.nn.softmax(predictions).numpy()"
   ]
  },
  {
   "cell_type": "code",
   "execution_count": 6,
   "id": "f89e3720-6e42-4bc7-9d74-267725f3b667",
   "metadata": {},
   "outputs": [
    {
     "name": "stdout",
     "output_type": "stream",
     "text": [
      "Epoch 1/5\n",
      "1875/1875 [==============================] - 2s 769us/step - loss: 0.4859 - accuracy: 0.8573\n",
      "Epoch 2/5\n",
      "1875/1875 [==============================] - 1s 762us/step - loss: 0.1564 - accuracy: 0.9539\n",
      "Epoch 3/5\n",
      "1875/1875 [==============================] - 1s 763us/step - loss: 0.1113 - accuracy: 0.9658\n",
      "Epoch 4/5\n",
      "1875/1875 [==============================] - 1s 785us/step - loss: 0.0876 - accuracy: 0.9729\n",
      "Epoch 5/5\n",
      "1875/1875 [==============================] - 2s 852us/step - loss: 0.0734 - accuracy: 0.9779\n"
     ]
    },
    {
     "data": {
      "text/plain": [
       "<tensorflow.python.keras.callbacks.History at 0x7f841640af10>"
      ]
     },
     "execution_count": 6,
     "metadata": {},
     "output_type": "execute_result"
    }
   ],
   "source": [
    "\n",
    "loss_fn = tf.keras.losses.SparseCategoricalCrossentropy(from_logits=True)\n",
    "loss_fn(y_train[:1], predictions).numpy()\n",
    "model.compile(optimizer='adam',\n",
    "              loss=loss_fn,\n",
    "              metrics=['accuracy'])\n",
    "model.fit(x_train, y_train, epochs=5)"
   ]
  },
  {
   "cell_type": "code",
   "execution_count": 7,
   "id": "f33cf06c-b3fe-4c32-bc59-851a7972478f",
   "metadata": {},
   "outputs": [
    {
     "name": "stdout",
     "output_type": "stream",
     "text": [
      "313/313 - 0s - loss: 0.0745 - accuracy: 0.9768\n"
     ]
    },
    {
     "data": {
      "text/plain": [
       "[0.07450930029153824, 0.9768000245094299]"
      ]
     },
     "execution_count": 7,
     "metadata": {},
     "output_type": "execute_result"
    }
   ],
   "source": [
    "model.evaluate(x_test,  y_test, verbose=2)"
   ]
  },
  {
   "cell_type": "code",
   "execution_count": 8,
   "id": "78ed0849-5523-4067-89e9-ddf1a25618ea",
   "metadata": {},
   "outputs": [
    {
     "data": {
      "text/plain": [
       "<tf.Tensor: shape=(5, 10), dtype=float32, numpy=\n",
       "array([[1.08266008e-07, 2.55743515e-07, 2.38486045e-05, 1.63842815e-05,\n",
       "        3.58299189e-11, 8.46933688e-08, 4.23075610e-13, 9.99951124e-01,\n",
       "        1.38429968e-07, 7.92019273e-06],\n",
       "       [4.96345232e-09, 2.07789533e-04, 9.99708235e-01, 6.24430177e-05,\n",
       "        1.59483944e-13, 2.10291328e-05, 4.82278111e-08, 5.67979865e-11,\n",
       "        3.85935635e-07, 7.86077312e-13],\n",
       "       [5.31914033e-08, 9.99063551e-01, 9.78171229e-05, 5.82795974e-06,\n",
       "        3.39331855e-05, 8.66968367e-06, 1.52160892e-05, 4.72568616e-04,\n",
       "        2.97583349e-04, 4.88281694e-06],\n",
       "       [9.99809206e-01, 1.27974542e-09, 6.19569473e-05, 6.06051117e-07,\n",
       "        3.38358291e-07, 3.24167268e-05, 5.86971510e-05, 1.18444295e-05,\n",
       "        6.97481752e-08, 2.47991757e-05],\n",
       "       [4.05275932e-06, 9.97285721e-09, 3.93583468e-06, 2.55035264e-08,\n",
       "        9.90423858e-01, 4.80793290e-07, 9.62560171e-06, 2.90881508e-05,\n",
       "        1.37899508e-06, 9.52750538e-03]], dtype=float32)>"
      ]
     },
     "execution_count": 8,
     "metadata": {},
     "output_type": "execute_result"
    }
   ],
   "source": [
    "probability_model = tf.keras.Sequential([\n",
    "  model,\n",
    "  tf.keras.layers.Softmax()\n",
    "])\n",
    "probability_model(x_test[:5])\n"
   ]
  },
  {
   "cell_type": "code",
   "execution_count": null,
   "id": "dd91cf00",
   "metadata": {},
   "outputs": [],
   "source": []
  }
 ],
 "metadata": {
  "kernelspec": {
   "display_name": "tf_gpu",
   "language": "python",
   "name": "python3"
  },
  "language_info": {
   "codemirror_mode": {
    "name": "ipython",
    "version": 3
   },
   "file_extension": ".py",
   "mimetype": "text/x-python",
   "name": "python",
   "nbconvert_exporter": "python",
   "pygments_lexer": "ipython3",
   "version": "3.9.15 (main, Nov  4 2022, 16:13:54) \n[GCC 11.2.0]"
  },
  "vscode": {
   "interpreter": {
    "hash": "f25b0b250f2438ea34cfd25a8eb3fd71d118a45010e35e50c1272cdf8f09b012"
   }
  }
 },
 "nbformat": 4,
 "nbformat_minor": 5
}
