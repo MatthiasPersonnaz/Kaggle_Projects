{
 "cells": [
  {
   "cell_type": "code",
   "execution_count": 1,
   "id": "b03372d6-6eb0-41c8-a501-5f30b4978ee8",
   "metadata": {
    "execution": {
     "iopub.execute_input": "2023-02-03T16:17:21.743182Z",
     "iopub.status.busy": "2023-02-03T16:17:21.742225Z",
     "iopub.status.idle": "2023-02-03T16:17:24.587356Z",
     "shell.execute_reply": "2023-02-03T16:17:24.586954Z",
     "shell.execute_reply.started": "2023-02-03T16:17:21.742995Z"
    }
   },
   "outputs": [
    {
     "name": "stdout",
     "output_type": "stream",
     "text": [
      "TensorFlow version: 2.4.1\n",
      "# GPUs Available:  1\n"
     ]
    }
   ],
   "source": [
    "import tensorflow as tf\n",
    "print(\"TensorFlow version:\", tf.__version__)\n",
    "print(\"# GPUs Available: \", len(tf.config.experimental.list_physical_devices('GPU')))"
   ]
  },
  {
   "cell_type": "code",
   "execution_count": 3,
   "id": "cb3e3762-92c8-4563-a42f-7b4b4acfe8a6",
   "metadata": {
    "execution": {
     "iopub.execute_input": "2023-02-03T16:17:32.856289Z",
     "iopub.status.busy": "2023-02-03T16:17:32.855975Z",
     "iopub.status.idle": "2023-02-03T16:17:33.135441Z",
     "shell.execute_reply": "2023-02-03T16:17:33.134960Z",
     "shell.execute_reply.started": "2023-02-03T16:17:32.856264Z"
    },
    "tags": []
   },
   "outputs": [],
   "source": [
    "mnist = tf.keras.datasets.mnist\n",
    "\n",
    "(x_train, y_train), (x_test, y_test) = mnist.load_data()\n",
    "x_train, x_test = x_train / 255.0, x_test / 255.0\n"
   ]
  },
  {
   "cell_type": "code",
   "execution_count": 4,
   "id": "155e6039-356b-40c8-8cb9-11e3fa67118f",
   "metadata": {
    "execution": {
     "iopub.execute_input": "2023-02-03T16:17:33.398563Z",
     "iopub.status.busy": "2023-02-03T16:17:33.397679Z",
     "iopub.status.idle": "2023-02-03T16:17:34.658242Z",
     "shell.execute_reply": "2023-02-03T16:17:34.657834Z",
     "shell.execute_reply.started": "2023-02-03T16:17:33.398460Z"
    }
   },
   "outputs": [],
   "source": [
    "model = tf.keras.models.Sequential([\n",
    "  tf.keras.layers.Flatten(input_shape=(28, 28)),\n",
    "  tf.keras.layers.Dense(128, activation='relu'),\n",
    "  tf.keras.layers.Dropout(0.2),\n",
    "  tf.keras.layers.Dense(10)\n",
    "])"
   ]
  },
  {
   "cell_type": "code",
   "execution_count": 5,
   "id": "49c1dcde-3386-461f-9145-31d1c0f26447",
   "metadata": {
    "execution": {
     "iopub.execute_input": "2023-02-03T16:17:37.901483Z",
     "iopub.status.busy": "2023-02-03T16:17:37.901213Z",
     "iopub.status.idle": "2023-02-03T16:17:38.293612Z",
     "shell.execute_reply": "2023-02-03T16:17:38.293151Z",
     "shell.execute_reply.started": "2023-02-03T16:17:37.901459Z"
    }
   },
   "outputs": [
    {
     "data": {
      "text/plain": [
       "array([[ 0.38525608,  0.5564548 ,  0.2224456 , -0.47924384,  0.45285183,\n",
       "        -0.04097714,  0.0190098 , -0.21853194,  1.0644913 ,  0.057607  ]],\n",
       "      dtype=float32)"
      ]
     },
     "execution_count": 5,
     "metadata": {},
     "output_type": "execute_result"
    }
   ],
   "source": [
    "predictions = model(x_train[:1]).numpy()\n",
    "predictions"
   ]
  },
  {
   "cell_type": "code",
   "execution_count": 6,
   "id": "8a85b83a",
   "metadata": {
    "execution": {
     "iopub.execute_input": "2023-02-03T16:17:39.216539Z",
     "iopub.status.busy": "2023-02-03T16:17:39.215679Z",
     "iopub.status.idle": "2023-02-03T16:17:39.226378Z",
     "shell.execute_reply": "2023-02-03T16:17:39.225746Z",
     "shell.execute_reply.started": "2023-02-03T16:17:39.216461Z"
    }
   },
   "outputs": [
    {
     "data": {
      "text/plain": [
       "array([[0.10972504, 0.1302136 , 0.0932391 , 0.04622301, 0.11739842,\n",
       "        0.0716465 , 0.07607589, 0.0599907 , 0.21641824, 0.07906961]],\n",
       "      dtype=float32)"
      ]
     },
     "execution_count": 6,
     "metadata": {},
     "output_type": "execute_result"
    }
   ],
   "source": [
    "tf.nn.softmax(predictions).numpy()"
   ]
  },
  {
   "cell_type": "code",
   "execution_count": 7,
   "id": "f89e3720-6e42-4bc7-9d74-267725f3b667",
   "metadata": {
    "execution": {
     "iopub.execute_input": "2023-02-03T16:17:44.506853Z",
     "iopub.status.busy": "2023-02-03T16:17:44.506545Z",
     "iopub.status.idle": "2023-02-03T16:17:51.611430Z",
     "shell.execute_reply": "2023-02-03T16:17:51.610908Z",
     "shell.execute_reply.started": "2023-02-03T16:17:44.506830Z"
    }
   },
   "outputs": [
    {
     "name": "stdout",
     "output_type": "stream",
     "text": [
      "Epoch 1/5\n",
      "1875/1875 [==============================] - 2s 707us/step - loss: 0.4871 - accuracy: 0.8540\n",
      "Epoch 2/5\n",
      "1875/1875 [==============================] - 1s 692us/step - loss: 0.1529 - accuracy: 0.9546\n",
      "Epoch 3/5\n",
      "1875/1875 [==============================] - 1s 688us/step - loss: 0.1092 - accuracy: 0.9676\n",
      "Epoch 4/5\n",
      "1875/1875 [==============================] - 1s 678us/step - loss: 0.0841 - accuracy: 0.9751\n",
      "Epoch 5/5\n",
      "1875/1875 [==============================] - 1s 776us/step - loss: 0.0709 - accuracy: 0.9774\n"
     ]
    },
    {
     "data": {
      "text/plain": [
       "<tensorflow.python.keras.callbacks.History at 0x7f2b2d910190>"
      ]
     },
     "execution_count": 7,
     "metadata": {},
     "output_type": "execute_result"
    }
   ],
   "source": [
    "\n",
    "loss_fn = tf.keras.losses.SparseCategoricalCrossentropy(from_logits=True)\n",
    "loss_fn(y_train[:1], predictions).numpy()\n",
    "model.compile(optimizer='adam',\n",
    "              loss=loss_fn,\n",
    "              metrics=['accuracy'])\n",
    "model.fit(x_train, y_train, epochs=5)"
   ]
  },
  {
   "cell_type": "code",
   "execution_count": 8,
   "id": "f33cf06c-b3fe-4c32-bc59-851a7972478f",
   "metadata": {
    "execution": {
     "iopub.execute_input": "2023-02-03T16:17:58.735456Z",
     "iopub.status.busy": "2023-02-03T16:17:58.735075Z",
     "iopub.status.idle": "2023-02-03T16:17:59.070325Z",
     "shell.execute_reply": "2023-02-03T16:17:59.069863Z",
     "shell.execute_reply.started": "2023-02-03T16:17:58.735425Z"
    }
   },
   "outputs": [
    {
     "name": "stdout",
     "output_type": "stream",
     "text": [
      "313/313 - 0s - loss: 0.0692 - accuracy: 0.9787\n"
     ]
    },
    {
     "data": {
      "text/plain": [
       "[0.06917382031679153, 0.9786999821662903]"
      ]
     },
     "execution_count": 8,
     "metadata": {},
     "output_type": "execute_result"
    }
   ],
   "source": [
    "model.evaluate(x_test,  y_test, verbose=2)"
   ]
  },
  {
   "cell_type": "code",
   "execution_count": 9,
   "id": "78ed0849-5523-4067-89e9-ddf1a25618ea",
   "metadata": {
    "execution": {
     "iopub.execute_input": "2023-02-03T16:18:00.658764Z",
     "iopub.status.busy": "2023-02-03T16:18:00.657844Z",
     "iopub.status.idle": "2023-02-03T16:18:00.685133Z",
     "shell.execute_reply": "2023-02-03T16:18:00.684647Z",
     "shell.execute_reply.started": "2023-02-03T16:18:00.658683Z"
    }
   },
   "outputs": [
    {
     "data": {
      "text/plain": [
       "<tf.Tensor: shape=(5, 10), dtype=float32, numpy=\n",
       "array([[1.49623042e-06, 3.87818453e-08, 5.06454580e-06, 2.57211505e-04,\n",
       "        7.39805231e-11, 9.69983603e-07, 8.35028932e-13, 9.99721348e-01,\n",
       "        2.26171423e-07, 1.36563149e-05],\n",
       "       [9.95072358e-10, 7.50101244e-05, 9.99913335e-01, 1.12148855e-05,\n",
       "        1.41790496e-13, 3.51072487e-07, 1.65940889e-07, 1.77396465e-14,\n",
       "        7.87158516e-09, 1.49411542e-11],\n",
       "       [1.34599205e-07, 9.99558151e-01, 1.60192663e-04, 3.64727239e-05,\n",
       "        4.35690936e-06, 3.92696120e-06, 4.15960349e-05, 1.55259477e-04,\n",
       "        3.98402881e-05, 9.70680745e-08],\n",
       "       [9.99588072e-01, 6.20768237e-09, 1.81307943e-04, 2.65010442e-07,\n",
       "        6.98173892e-08, 1.23844495e-06, 2.25318927e-05, 1.03976686e-06,\n",
       "        1.30719358e-09, 2.05401418e-04],\n",
       "       [6.58553199e-06, 5.56943114e-09, 1.93222490e-06, 1.25008324e-08,\n",
       "        9.95889604e-01, 8.30614908e-07, 2.00159570e-06, 7.34767991e-06,\n",
       "        1.49775406e-06, 4.09016013e-03]], dtype=float32)>"
      ]
     },
     "execution_count": 9,
     "metadata": {},
     "output_type": "execute_result"
    }
   ],
   "source": [
    "probability_model = tf.keras.Sequential([\n",
    "  model,\n",
    "  tf.keras.layers.Softmax()\n",
    "])\n",
    "probability_model(x_test[:5])\n"
   ]
  },
  {
   "cell_type": "code",
   "execution_count": null,
   "id": "dd91cf00",
   "metadata": {},
   "outputs": [],
   "source": []
  },
  {
   "cell_type": "code",
   "execution_count": null,
   "id": "617333b8-2b14-4370-bc0a-8599425e60a9",
   "metadata": {},
   "outputs": [],
   "source": []
  }
 ],
 "metadata": {
  "kernelspec": {
   "display_name": "Python 3",
   "language": "python",
   "name": "python3"
  },
  "language_info": {
   "codemirror_mode": {
    "name": "ipython",
    "version": 3
   },
   "file_extension": ".py",
   "mimetype": "text/x-python",
   "name": "python",
   "nbconvert_exporter": "python",
   "pygments_lexer": "ipython3",
   "version": "3.9.15"
  },
  "vscode": {
   "interpreter": {
    "hash": "f25b0b250f2438ea34cfd25a8eb3fd71d118a45010e35e50c1272cdf8f09b012"
   }
  }
 },
 "nbformat": 4,
 "nbformat_minor": 5
}
